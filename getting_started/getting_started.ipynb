{
  "cells": [
    {
      "cell_type": "markdown",
      "source": [
        "# Getting Started\n",
        "This is a very simple notebook to get you started with using notebooks in the Azure Machine Learning Studio.\n",
        "Before you can execute any code here, you need to start up a compute instance by clicking the \"play\" button in the toolbar above, in the section labelled \"Compute\".\n"
      ],
      "metadata": {
        "nteract": {
          "transient": {
            "deleting": false
          }
        }
      }
    },
    {
      "cell_type": "code",
      "source": [
        "# Let's simply print some system information to get started\n",
        "import sys\n",
        "print(\"You are using Python version\", sys.version)"
      ],
      "outputs": [],
      "execution_count": null,
      "metadata": {
        "collapsed": true,
        "jupyter": {
          "source_hidden": false,
          "outputs_hidden": false
        },
        "nteract": {
          "transient": {
            "deleting": false
          }
        },
        "gather": {
          "logged": 1625230329538
        }
      }
    },
    {
      "cell_type": "markdown",
      "source": [
        "The version of Python that is running is also displayed in the top right of the notebook view. This should match the version printed above.\n",
        "You shoudn't need to change the version of Python used, but this can be done by choosing a different version from the drop-down list at the right of the notebook toolbar.\n",
        "When a new Python version is selected, it will take a few minutes to restart the kernel.\n",
        "\n",
        "You should be able to import common Python packages for computation such as Numpy, Scipy, Matplotlib, and Pandas as usual.\n"
      ],
      "metadata": {
        "nteract": {
          "transient": {
            "deleting": false
          }
        }
      }
    },
    {
      "cell_type": "code",
      "source": [
        "import numpy as np\n",
        "import scipy as sp\n",
        "import matplotlib\n",
        "import matplotlib.pyplot as plt\n",
        "import pandas as pd\n",
        "\n",
        "print(\"Numpy version:\", np.__version__)\n",
        "print(\"Scipy version:\", sp.__version__)\n",
        "print(\"Matplotlib version:\", matplotlib.__version__)\n",
        "print(\"Pandas version:\", pd.__version__)"
      ],
      "outputs": [],
      "execution_count": null,
      "metadata": {
        "collapsed": true,
        "jupyter": {
          "source_hidden": false,
          "outputs_hidden": false
        },
        "nteract": {
          "transient": {
            "deleting": false
          }
        },
        "gather": {
          "logged": 1625231147865
        }
      }
    },
    {
      "cell_type": "code",
      "source": [
        "x = np.linspace(-5, 5)\n",
        "y = x**2\n",
        "fig, ax = plt.subplots()\n",
        "ax.plot(x, y)\n",
        "ax.set_xlabel(\"x\")\n",
        "ax.set_ylabel(\"y\")\n",
        "ax.set_title(\"Plot of y=x**2\")\n",
        "plt.show()"
      ],
      "outputs": [],
      "execution_count": null,
      "metadata": {
        "collapsed": true,
        "jupyter": {
          "source_hidden": false,
          "outputs_hidden": false
        },
        "nteract": {
          "transient": {
            "deleting": false
          }
        },
        "gather": {
          "logged": 1625231323556
        }
      }
    },
    {
      "cell_type": "markdown",
      "source": [
        "When you're finished with the notebook, you should shut down the compute instance you started. To do this, click the \"stop\" button in the compute section of the notebook toolbar."
      ],
      "metadata": {
        "nteract": {
          "transient": {
            "deleting": false
          }
        }
      }
    }
  ],
  "metadata": {
    "kernelspec": {
      "name": "python3-azureml",
      "language": "python",
      "display_name": "Python 3.6 - AzureML"
    },
    "language_info": {
      "name": "python",
      "version": "3.6.9",
      "mimetype": "text/x-python",
      "codemirror_mode": {
        "name": "ipython",
        "version": 3
      },
      "pygments_lexer": "ipython3",
      "nbconvert_exporter": "python",
      "file_extension": ".py"
    },
    "kernel_info": {
      "name": "python3-azureml"
    },
    "nteract": {
      "version": "nteract-front-end@1.0.0"
    },
    "microsoft": {
      "host": {
        "AzureML": {
          "notebookHasBeenCompleted": true
        }
      }
    }
  },
  "nbformat": 4,
  "nbformat_minor": 2
}