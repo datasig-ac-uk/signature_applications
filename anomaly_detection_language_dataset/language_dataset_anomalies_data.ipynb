{
 "cells": [
  {
   "cell_type": "code",
   "execution_count": 1,
   "metadata": {},
   "outputs": [],
   "source": [
    "import os\n",
    "import math\n",
    "import pandas as pd\n",
    "import random\n",
    "\n",
    "data_folder = \"data\"\n",
    "seed = 2023"
   ]
  },
  {
   "cell_type": "code",
   "execution_count": 2,
   "metadata": {},
   "outputs": [],
   "source": [
    "# load in the wordlists for each language\n",
    "wordlist_files = [\n",
    "    f\"{data_folder}/wordlist_de.txt\",\n",
    "    f\"{data_folder}/wordlist_en.txt\",\n",
    "    f\"{data_folder}/wordlist_fr.txt\",\n",
    "    f\"{data_folder}/wordlist_it.txt\",\n",
    "    f\"{data_folder}/wordlist_pl.txt\",\n",
    "    f\"{data_folder}/wordlist_sv.txt\",\n",
    "]"
   ]
  },
  {
   "cell_type": "code",
   "execution_count": 3,
   "metadata": {},
   "outputs": [],
   "source": [
    "wordlist_dfs = []\n",
    "for filename in wordlist_files:\n",
    "    with open(filename, \"r\") as f:\n",
    "        words = f.read().splitlines()\n",
    "        words_df = pd.DataFrame({\"word\": words})\n",
    "        words_df[\"language\"] = filename.split(\"_\")[-1][0:2]\n",
    "        wordlist_dfs.append(words_df)"
   ]
  },
  {
   "cell_type": "code",
   "execution_count": 4,
   "metadata": {},
   "outputs": [],
   "source": [
    "# concatenate all wordlists into one dataframe\n",
    "corpus_df = pd.concat(wordlist_dfs).reset_index(drop=True)"
   ]
  },
  {
   "cell_type": "code",
   "execution_count": 5,
   "metadata": {},
   "outputs": [
    {
     "data": {
      "text/html": [
       "<div>\n",
       "<style scoped>\n",
       "    .dataframe tbody tr th:only-of-type {\n",
       "        vertical-align: middle;\n",
       "    }\n",
       "\n",
       "    .dataframe tbody tr th {\n",
       "        vertical-align: top;\n",
       "    }\n",
       "\n",
       "    .dataframe thead th {\n",
       "        text-align: right;\n",
       "    }\n",
       "</style>\n",
       "<table border=\"1\" class=\"dataframe\">\n",
       "  <thead>\n",
       "    <tr style=\"text-align: right;\">\n",
       "      <th></th>\n",
       "      <th>word</th>\n",
       "      <th>language</th>\n",
       "    </tr>\n",
       "  </thead>\n",
       "  <tbody>\n",
       "    <tr>\n",
       "      <th>0</th>\n",
       "      <td>a</td>\n",
       "      <td>de</td>\n",
       "    </tr>\n",
       "    <tr>\n",
       "      <th>1</th>\n",
       "      <td>aal</td>\n",
       "      <td>de</td>\n",
       "    </tr>\n",
       "    <tr>\n",
       "      <th>2</th>\n",
       "      <td>aale</td>\n",
       "      <td>de</td>\n",
       "    </tr>\n",
       "    <tr>\n",
       "      <th>3</th>\n",
       "      <td>aalen</td>\n",
       "      <td>de</td>\n",
       "    </tr>\n",
       "    <tr>\n",
       "      <th>4</th>\n",
       "      <td>aalend</td>\n",
       "      <td>de</td>\n",
       "    </tr>\n",
       "    <tr>\n",
       "      <th>...</th>\n",
       "      <td>...</td>\n",
       "      <td>...</td>\n",
       "    </tr>\n",
       "    <tr>\n",
       "      <th>3922530</th>\n",
       "      <td>zons</td>\n",
       "      <td>sv</td>\n",
       "    </tr>\n",
       "    <tr>\n",
       "      <th>3922531</th>\n",
       "      <td>zoo</td>\n",
       "      <td>sv</td>\n",
       "    </tr>\n",
       "    <tr>\n",
       "      <th>3922532</th>\n",
       "      <td>zoologisk</td>\n",
       "      <td>sv</td>\n",
       "    </tr>\n",
       "    <tr>\n",
       "      <th>3922533</th>\n",
       "      <td>zoologiska</td>\n",
       "      <td>sv</td>\n",
       "    </tr>\n",
       "    <tr>\n",
       "      <th>3922534</th>\n",
       "      <td>zoologiskt</td>\n",
       "      <td>sv</td>\n",
       "    </tr>\n",
       "  </tbody>\n",
       "</table>\n",
       "<p>3922535 rows × 2 columns</p>\n",
       "</div>"
      ],
      "text/plain": [
       "               word language\n",
       "0                 a       de\n",
       "1               aal       de\n",
       "2              aale       de\n",
       "3             aalen       de\n",
       "4            aalend       de\n",
       "...             ...      ...\n",
       "3922530        zons       sv\n",
       "3922531         zoo       sv\n",
       "3922532   zoologisk       sv\n",
       "3922533  zoologiska       sv\n",
       "3922534  zoologiskt       sv\n",
       "\n",
       "[3922535 rows x 2 columns]"
      ]
     },
     "execution_count": 5,
     "metadata": {},
     "output_type": "execute_result"
    }
   ],
   "source": [
    "corpus_df"
   ]
  },
  {
   "cell_type": "code",
   "execution_count": 6,
   "metadata": {},
   "outputs": [],
   "source": [
    "# remove any words that are only one character long\n",
    "corpus_df = corpus_df[corpus_df[\"word\"].apply(lambda x: len(x) > 1)].reset_index(\n",
    "    drop=True\n",
    ")"
   ]
  },
  {
   "cell_type": "code",
   "execution_count": 7,
   "metadata": {},
   "outputs": [
    {
     "data": {
      "text/plain": [
       "80615"
      ]
     },
     "execution_count": 7,
     "metadata": {},
     "output_type": "execute_result"
    }
   ],
   "source": [
    "len(corpus_df[corpus_df[\"language\"] == \"en\"])"
   ]
  },
  {
   "cell_type": "code",
   "execution_count": 8,
   "metadata": {},
   "outputs": [
    {
     "name": "stdout",
     "output_type": "stream",
     "text": [
      "loading in english_train from data/english_train.pkl\n"
     ]
    }
   ],
   "source": [
    "# obtain the training data for the language model (large sample of the english words)\n",
    "english_train_pickle_file = f\"{data_folder}/english_train.pkl\"\n",
    "if os.path.isfile(english_train_pickle_file):\n",
    "    print(f\"loading in english_train from {english_train_pickle_file}\")\n",
    "    english_train = pd.read_pickle(english_train_pickle_file)\n",
    "else:\n",
    "    print(f\"creating english_train dataframe with seed {seed}\")\n",
    "    # set seed for sampling\n",
    "    random.seed(seed)\n",
    "    n_words = len(corpus_df[corpus_df[\"language\"] == \"en\"]) - 10000\n",
    "\n",
    "    # sample english words from the corpus\n",
    "    english_train = corpus_df[corpus_df[\"language\"] == \"en\"].sample(\n",
    "        n_words, random_state=seed\n",
    "    )\n",
    "    english_train = english_train.reset_index(drop=True)\n",
    "\n",
    "    print(f\"saving english_train to {english_train_pickle_file}\")\n",
    "    # save data for later\n",
    "    english_train.to_pickle(english_train_pickle_file)"
   ]
  },
  {
   "cell_type": "code",
   "execution_count": 9,
   "metadata": {},
   "outputs": [
    {
     "data": {
      "text/html": [
       "<div>\n",
       "<style scoped>\n",
       "    .dataframe tbody tr th:only-of-type {\n",
       "        vertical-align: middle;\n",
       "    }\n",
       "\n",
       "    .dataframe tbody tr th {\n",
       "        vertical-align: top;\n",
       "    }\n",
       "\n",
       "    .dataframe thead th {\n",
       "        text-align: right;\n",
       "    }\n",
       "</style>\n",
       "<table border=\"1\" class=\"dataframe\">\n",
       "  <thead>\n",
       "    <tr style=\"text-align: right;\">\n",
       "      <th></th>\n",
       "      <th>word</th>\n",
       "      <th>language</th>\n",
       "    </tr>\n",
       "  </thead>\n",
       "  <tbody>\n",
       "    <tr>\n",
       "      <th>0</th>\n",
       "      <td>knots</td>\n",
       "      <td>en</td>\n",
       "    </tr>\n",
       "    <tr>\n",
       "      <th>1</th>\n",
       "      <td>stalemating</td>\n",
       "      <td>en</td>\n",
       "    </tr>\n",
       "    <tr>\n",
       "      <th>2</th>\n",
       "      <td>whoops</td>\n",
       "      <td>en</td>\n",
       "    </tr>\n",
       "    <tr>\n",
       "      <th>3</th>\n",
       "      <td>implantation</td>\n",
       "      <td>en</td>\n",
       "    </tr>\n",
       "    <tr>\n",
       "      <th>4</th>\n",
       "      <td>levers</td>\n",
       "      <td>en</td>\n",
       "    </tr>\n",
       "    <tr>\n",
       "      <th>...</th>\n",
       "      <td>...</td>\n",
       "      <td>...</td>\n",
       "    </tr>\n",
       "    <tr>\n",
       "      <th>70610</th>\n",
       "      <td>forcefulness</td>\n",
       "      <td>en</td>\n",
       "    </tr>\n",
       "    <tr>\n",
       "      <th>70611</th>\n",
       "      <td>fat</td>\n",
       "      <td>en</td>\n",
       "    </tr>\n",
       "    <tr>\n",
       "      <th>70612</th>\n",
       "      <td>creakier</td>\n",
       "      <td>en</td>\n",
       "    </tr>\n",
       "    <tr>\n",
       "      <th>70613</th>\n",
       "      <td>ramming</td>\n",
       "      <td>en</td>\n",
       "    </tr>\n",
       "    <tr>\n",
       "      <th>70614</th>\n",
       "      <td>facsimiles</td>\n",
       "      <td>en</td>\n",
       "    </tr>\n",
       "  </tbody>\n",
       "</table>\n",
       "<p>70615 rows × 2 columns</p>\n",
       "</div>"
      ],
      "text/plain": [
       "               word language\n",
       "0             knots       en\n",
       "1       stalemating       en\n",
       "2            whoops       en\n",
       "3      implantation       en\n",
       "4            levers       en\n",
       "...             ...      ...\n",
       "70610  forcefulness       en\n",
       "70611           fat       en\n",
       "70612      creakier       en\n",
       "70613       ramming       en\n",
       "70614    facsimiles       en\n",
       "\n",
       "[70615 rows x 2 columns]"
      ]
     },
     "execution_count": 9,
     "metadata": {},
     "output_type": "execute_result"
    }
   ],
   "source": [
    "english_train"
   ]
  },
  {
   "cell_type": "code",
   "execution_count": 10,
   "metadata": {},
   "outputs": [
    {
     "data": {
      "text/plain": [
       "language\n",
       "it    1860115\n",
       "pl    1513862\n",
       "fr     190643\n",
       "de     185253\n",
       "sv      74944\n",
       "en      10000\n",
       "Name: count, dtype: int64"
      ]
     },
     "execution_count": 10,
     "metadata": {},
     "output_type": "execute_result"
    }
   ],
   "source": [
    "# remove the words that we use to train language model from the corpus\n",
    "cond = corpus_df[\"word\"].isin(english_train[\"word\"])\n",
    "corpus_df = corpus_df.drop(corpus_df[cond].index)\n",
    "corpus_df = corpus_df.reset_index(drop=True)\n",
    "corpus_df[\"language\"].value_counts()"
   ]
  },
  {
   "cell_type": "code",
   "execution_count": 11,
   "metadata": {},
   "outputs": [
    {
     "name": "stdout",
     "output_type": "stream",
     "text": [
      "loading in corpus_sample_df from data/corpus_sample.pkl\n"
     ]
    }
   ],
   "source": [
    "# obtain the sample of words for the anomaly detection task (10000 english words, 10000 non-english words)\n",
    "corpus_sample_pickle_file = f\"{data_folder}/corpus_sample.pkl\"\n",
    "if os.path.isfile(corpus_sample_pickle_file):\n",
    "    print(f\"loading in corpus_sample_df from {corpus_sample_pickle_file}\")\n",
    "    corpus_sample_df = pd.read_pickle(corpus_sample_pickle_file)\n",
    "else:\n",
    "    print(f\"creating corpus_sample_df dataframe with seed {seed}\")\n",
    "    # set seed for sampling\n",
    "    random.seed(seed)\n",
    "    n_english = 10000\n",
    "    n_remaining = 10000\n",
    "    # sampling non-english words\n",
    "    languages = corpus_df[\"language\"].unique()\n",
    "    words_per_language = math.floor(n_remaining / (len(languages) - 1))\n",
    "    non_english_df = pd.concat(\n",
    "        [\n",
    "            corpus_df[corpus_df[\"language\"] == lang].sample(\n",
    "                words_per_language, random_state=seed\n",
    "            )\n",
    "            for lang in languages\n",
    "            if lang != \"en\"\n",
    "        ]\n",
    "    )\n",
    "    # take the remaining english words\n",
    "    english_df = corpus_df[corpus_df[\"language\"] == \"en\"]\n",
    "    corpus_sample_df = pd.concat([non_english_df, english_df]).reset_index(drop=True)\n",
    "\n",
    "    print(f\"saving corpus_sample_df to {corpus_sample_pickle_file}\")\n",
    "    # save data for later\n",
    "    corpus_sample_df.to_pickle(corpus_sample_pickle_file)"
   ]
  },
  {
   "cell_type": "code",
   "execution_count": 12,
   "metadata": {},
   "outputs": [
    {
     "data": {
      "text/html": [
       "<div>\n",
       "<style scoped>\n",
       "    .dataframe tbody tr th:only-of-type {\n",
       "        vertical-align: middle;\n",
       "    }\n",
       "\n",
       "    .dataframe tbody tr th {\n",
       "        vertical-align: top;\n",
       "    }\n",
       "\n",
       "    .dataframe thead th {\n",
       "        text-align: right;\n",
       "    }\n",
       "</style>\n",
       "<table border=\"1\" class=\"dataframe\">\n",
       "  <thead>\n",
       "    <tr style=\"text-align: right;\">\n",
       "      <th></th>\n",
       "      <th>word</th>\n",
       "      <th>language</th>\n",
       "    </tr>\n",
       "  </thead>\n",
       "  <tbody>\n",
       "    <tr>\n",
       "      <th>0</th>\n",
       "      <td>abblendet</td>\n",
       "      <td>de</td>\n",
       "    </tr>\n",
       "    <tr>\n",
       "      <th>1</th>\n",
       "      <td>bestechendes</td>\n",
       "      <td>de</td>\n",
       "    </tr>\n",
       "    <tr>\n",
       "      <th>2</th>\n",
       "      <td>narrensicheren</td>\n",
       "      <td>de</td>\n",
       "    </tr>\n",
       "    <tr>\n",
       "      <th>3</th>\n",
       "      <td>inakzeptable</td>\n",
       "      <td>de</td>\n",
       "    </tr>\n",
       "    <tr>\n",
       "      <th>4</th>\n",
       "      <td>abbestelle</td>\n",
       "      <td>de</td>\n",
       "    </tr>\n",
       "    <tr>\n",
       "      <th>...</th>\n",
       "      <td>...</td>\n",
       "      <td>...</td>\n",
       "    </tr>\n",
       "    <tr>\n",
       "      <th>19995</th>\n",
       "      <td>zillion</td>\n",
       "      <td>en</td>\n",
       "    </tr>\n",
       "    <tr>\n",
       "      <th>19996</th>\n",
       "      <td>zincked</td>\n",
       "      <td>en</td>\n",
       "    </tr>\n",
       "    <tr>\n",
       "      <th>19997</th>\n",
       "      <td>zines</td>\n",
       "      <td>en</td>\n",
       "    </tr>\n",
       "    <tr>\n",
       "      <th>19998</th>\n",
       "      <td>zingers</td>\n",
       "      <td>en</td>\n",
       "    </tr>\n",
       "    <tr>\n",
       "      <th>19999</th>\n",
       "      <td>zymurgy</td>\n",
       "      <td>en</td>\n",
       "    </tr>\n",
       "  </tbody>\n",
       "</table>\n",
       "<p>20000 rows × 2 columns</p>\n",
       "</div>"
      ],
      "text/plain": [
       "                 word language\n",
       "0           abblendet       de\n",
       "1        bestechendes       de\n",
       "2      narrensicheren       de\n",
       "3        inakzeptable       de\n",
       "4          abbestelle       de\n",
       "...               ...      ...\n",
       "19995         zillion       en\n",
       "19996         zincked       en\n",
       "19997           zines       en\n",
       "19998         zingers       en\n",
       "19999         zymurgy       en\n",
       "\n",
       "[20000 rows x 2 columns]"
      ]
     },
     "execution_count": 12,
     "metadata": {},
     "output_type": "execute_result"
    }
   ],
   "source": [
    "corpus_sample_df"
   ]
  },
  {
   "cell_type": "code",
   "execution_count": 13,
   "metadata": {},
   "outputs": [
    {
     "data": {
      "text/plain": [
       "language\n",
       "en    10000\n",
       "de     2000\n",
       "fr     2000\n",
       "it     2000\n",
       "pl     2000\n",
       "sv     2000\n",
       "Name: count, dtype: int64"
      ]
     },
     "execution_count": 13,
     "metadata": {},
     "output_type": "execute_result"
    }
   ],
   "source": [
    "corpus_sample_df[\"language\"].value_counts()"
   ]
  }
 ],
 "metadata": {
  "kernelspec": {
   "display_name": "anomaly-detection-paper",
   "language": "python",
   "name": "python3"
  },
  "language_info": {
   "codemirror_mode": {
    "name": "ipython",
    "version": 3
   },
   "file_extension": ".py",
   "mimetype": "text/x-python",
   "name": "python",
   "nbconvert_exporter": "python",
   "pygments_lexer": "ipython3",
   "version": "3.10.13"
  }
 },
 "nbformat": 4,
 "nbformat_minor": 2
}
