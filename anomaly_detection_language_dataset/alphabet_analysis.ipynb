{
 "cells": [
  {
   "cell_type": "code",
   "execution_count": 1,
   "id": "2c43e605",
   "metadata": {},
   "outputs": [
    {
     "name": "stdout",
     "output_type": "stream",
     "text": [
      "loading in english_train from data/english_train.pkl\n",
      "loading in corpus_sample_df from data/corpus_sample.pkl\n"
     ]
    }
   ],
   "source": [
    "import numpy as np\n",
    "import pickle\n",
    "from tqdm.notebook import tqdm\n",
    "\n",
    "from transformers import pipeline, RobertaForMaskedLM\n",
    "\n",
    "import nlpsig\n",
    "\n",
    "from signax import signature\n",
    "from signature_mahalanobis_knn import SignatureMahalanobisKNN\n",
    "\n",
    "from sklearn.ensemble import IsolationForest\n",
    "\n",
    "from load_data import seed, english_train, corpus_sample_df\n",
    "\n",
    "import time\n",
    "from signature_mahalanobis_knn import SignatureMahalanobisKNN\n",
    "from signature_mahalanobis_knn.utils import (\n",
    "    compute_auc_given_dists,\n",
    "    plot_cdf_given_dists,\n",
    ")"
   ]
  },
  {
   "cell_type": "markdown",
   "id": "3e481f7d-7228-49a5-81a4-c9ccd5b2795a",
   "metadata": {
    "jp-MarkdownHeadingCollapsed": true,
    "tags": []
   },
   "source": [
    "# Anomaly Detection task\n",
    "\n",
    "In natural language processing (NLP) tasks, we often are dealing with high dimensional streams of data. Neural network architectures known as Transformers have been shown to be very effective in NLP tasks, and we can use these to obtain high dimensional streams of embeddings for words/tokenised text. In this notebook, we will look at how we can use path signature techniques to analyse these high dimensional streams of embeddings. In particular, we will look at how we can perform outlier detection on the path signatures of the embeddings obtained from a pre-trained Transformer. \n",
    "\n",
    "In particular, in this notebook, we consider the task of determining whether a word is an english word or not by using the path signature of the stream of _character_ embeddings of the word. That is, each word is represented as a stream of character embeddings. We do this by training a Transformer model (from scratch) on a _masked language modelling_ task (or _Cloze_ task) as described in [[1]](https://arxiv.org/abs/1810.04805) using a corpus of english words, and then use this model to obtain a stream of (character) embeddings for a sample of (english and non-english) words. Path signature techniques are applied to analyse the streams of embeddings and finally we attempt to detect the non-english words as outliers in the space of path signatures.\n",
    "\n",
    "Since we are dealing with high dimensional streams of data, we will use a dimension reduction technique to reduce the dimension of the embeddings before computing the path signature. We will look at how we can perform outlier detection on the path signatures of the dimension-reduced embeddings.\n",
    "\n",
    "The pipeline for this task is as follows:\n",
    "1. Train a Transformer model on a masked language modelling task using a corpus of english words.\n",
    "2. Obtain a stream of character embeddings for a sample of english and non-english words using the trained model (note that we ensure that the english words in this sample are not in the training corpus to pre-train the Transforemr).\n",
    "    - The english words in this sample are our _inlier_ class while the non-english words are our _outlier_ class in this example.\n",
    "3. Perform dimension reduction on the streams of embeddings.\n",
    "4. Compute the path signature of the dimension-reduced embeddings.\n",
    "5. Perform outlier detection on the path signatures to detect the non-english words.\n",
    "\n",
    "In this notebook, we illustrate how we can use the [`nlpsig`](https://github.com/datasig-ac-uk/nlpsig) package to utilise transformers in order to obtain streams of high dimensional embeddings, which can then be analysed using path signature techniques.\n",
    "\n",
    "Furthermore, we utilise the [`signature_mahalanobis_knn`](https://github.com/datasig-ac-uk/signature_mahalanobis_knn) library to perform outlier detection on the path signatures."
   ]
  },
  {
   "cell_type": "markdown",
   "id": "b15d3859",
   "metadata": {},
   "source": [
    "## Language dataset\n",
    "\n",
    "In the `data/` folder, we have several text folders of words from different languages:\n",
    "- `wordlist_de.txt`: German words\n",
    "- `wordlist_en.txt`: English words\n",
    "- `wordlist_fr.txt`: French words\n",
    "- `wordlist_it.txt`: Italian words\n",
    "- `wordlist_pl.txt`: Polish words\n",
    "- `wordlist_sv.txt`: Swedish words\n",
    "\n",
    "We additionally have a `alphabet.txt` file which just stores the alphabet characters ('a', 'b', 'c', ...).\n",
    "\n",
    "The task is to split the words into its individual characters and to obtain an embedding for each of them. We can represent a word by a path of its character embeddings and compute its path signature to use as features in predicting the language for which the word belongs.\n",
    "\n",
    "Here we look at obtaining embeddings using a Transformer model."
   ]
  },
  {
   "cell_type": "markdown",
   "id": "2aed597b",
   "metadata": {},
   "source": [
    "## Prepare training data and test data\n",
    "\n",
    "We prepare our data in the `load_data.py` script, so look in there for more details.\n",
    "\n",
    "Our test data will consist a sample of 10000 english words and 10000 non-english words (2000 from each of the remaining languages). We will use the remaining english words as our training data to train the Transformer model. We can see that in the original full corpus there are relatively fewer English words than the other languages..."
   ]
  },
  {
   "cell_type": "markdown",
   "id": "b3f4c498",
   "metadata": {},
   "source": [
    "We are going to train our language model on the English words, so taking out a sample of English words from the corpus..."
   ]
  },
  {
   "cell_type": "code",
   "execution_count": 2,
   "id": "739f58df",
   "metadata": {},
   "outputs": [
    {
     "data": {
      "text/html": [
       "<div>\n",
       "<style scoped>\n",
       "    .dataframe tbody tr th:only-of-type {\n",
       "        vertical-align: middle;\n",
       "    }\n",
       "\n",
       "    .dataframe tbody tr th {\n",
       "        vertical-align: top;\n",
       "    }\n",
       "\n",
       "    .dataframe thead th {\n",
       "        text-align: right;\n",
       "    }\n",
       "</style>\n",
       "<table border=\"1\" class=\"dataframe\">\n",
       "  <thead>\n",
       "    <tr style=\"text-align: right;\">\n",
       "      <th></th>\n",
       "      <th>word</th>\n",
       "      <th>language</th>\n",
       "    </tr>\n",
       "  </thead>\n",
       "  <tbody>\n",
       "    <tr>\n",
       "      <th>0</th>\n",
       "      <td>confounds</td>\n",
       "      <td>en</td>\n",
       "    </tr>\n",
       "    <tr>\n",
       "      <th>1</th>\n",
       "      <td>raglan</td>\n",
       "      <td>en</td>\n",
       "    </tr>\n",
       "    <tr>\n",
       "      <th>2</th>\n",
       "      <td>commit</td>\n",
       "      <td>en</td>\n",
       "    </tr>\n",
       "    <tr>\n",
       "      <th>3</th>\n",
       "      <td>reattains</td>\n",
       "      <td>en</td>\n",
       "    </tr>\n",
       "    <tr>\n",
       "      <th>4</th>\n",
       "      <td>curviest</td>\n",
       "      <td>en</td>\n",
       "    </tr>\n",
       "    <tr>\n",
       "      <th>...</th>\n",
       "      <td>...</td>\n",
       "      <td>...</td>\n",
       "    </tr>\n",
       "    <tr>\n",
       "      <th>70636</th>\n",
       "      <td>ague</td>\n",
       "      <td>en</td>\n",
       "    </tr>\n",
       "    <tr>\n",
       "      <th>70637</th>\n",
       "      <td>peremptory</td>\n",
       "      <td>en</td>\n",
       "    </tr>\n",
       "    <tr>\n",
       "      <th>70638</th>\n",
       "      <td>trapezoid</td>\n",
       "      <td>en</td>\n",
       "    </tr>\n",
       "    <tr>\n",
       "      <th>70639</th>\n",
       "      <td>adagios</td>\n",
       "      <td>en</td>\n",
       "    </tr>\n",
       "    <tr>\n",
       "      <th>70640</th>\n",
       "      <td>gabby</td>\n",
       "      <td>en</td>\n",
       "    </tr>\n",
       "  </tbody>\n",
       "</table>\n",
       "<p>70641 rows × 2 columns</p>\n",
       "</div>"
      ],
      "text/plain": [
       "             word language\n",
       "0       confounds       en\n",
       "1          raglan       en\n",
       "2          commit       en\n",
       "3       reattains       en\n",
       "4        curviest       en\n",
       "...           ...      ...\n",
       "70636        ague       en\n",
       "70637  peremptory       en\n",
       "70638   trapezoid       en\n",
       "70639     adagios       en\n",
       "70640       gabby       en\n",
       "\n",
       "[70641 rows x 2 columns]"
      ]
     },
     "execution_count": 2,
     "metadata": {},
     "output_type": "execute_result"
    }
   ],
   "source": [
    "english_train"
   ]
  },
  {
   "cell_type": "markdown",
   "id": "09b0681e",
   "metadata": {},
   "source": [
    "To make the dataset bit more manageable, I'll just take a sample of each of the languages. In our resulting corpus, we have an equal amount of english (inliers) and non-english words (outliers):"
   ]
  },
  {
   "cell_type": "code",
   "execution_count": 3,
   "id": "d9e53354",
   "metadata": {
    "scrolled": true
   },
   "outputs": [
    {
     "data": {
      "text/plain": [
       "language\n",
       "en    10000\n",
       "de     2000\n",
       "fr     2000\n",
       "it     2000\n",
       "pl     2000\n",
       "sv     2000\n",
       "Name: count, dtype: int64"
      ]
     },
     "execution_count": 3,
     "metadata": {},
     "output_type": "execute_result"
    }
   ],
   "source": [
    "corpus_sample_df[\"language\"].value_counts()"
   ]
  },
  {
   "cell_type": "code",
   "execution_count": 4,
   "id": "b80c6a0f-cdee-41dc-9c25-467a1cda7344",
   "metadata": {},
   "outputs": [
    {
     "data": {
      "text/html": [
       "<div>\n",
       "<style scoped>\n",
       "    .dataframe tbody tr th:only-of-type {\n",
       "        vertical-align: middle;\n",
       "    }\n",
       "\n",
       "    .dataframe tbody tr th {\n",
       "        vertical-align: top;\n",
       "    }\n",
       "\n",
       "    .dataframe thead th {\n",
       "        text-align: right;\n",
       "    }\n",
       "</style>\n",
       "<table border=\"1\" class=\"dataframe\">\n",
       "  <thead>\n",
       "    <tr style=\"text-align: right;\">\n",
       "      <th></th>\n",
       "      <th>word</th>\n",
       "      <th>language</th>\n",
       "    </tr>\n",
       "  </thead>\n",
       "  <tbody>\n",
       "    <tr>\n",
       "      <th>0</th>\n",
       "      <td>abblendet</td>\n",
       "      <td>de</td>\n",
       "    </tr>\n",
       "    <tr>\n",
       "      <th>1</th>\n",
       "      <td>nachinstallierte</td>\n",
       "      <td>de</td>\n",
       "    </tr>\n",
       "    <tr>\n",
       "      <th>2</th>\n",
       "      <td>klatschendes</td>\n",
       "      <td>de</td>\n",
       "    </tr>\n",
       "    <tr>\n",
       "      <th>3</th>\n",
       "      <td>energiesparendere</td>\n",
       "      <td>de</td>\n",
       "    </tr>\n",
       "    <tr>\n",
       "      <th>4</th>\n",
       "      <td>abbestelle</td>\n",
       "      <td>de</td>\n",
       "    </tr>\n",
       "  </tbody>\n",
       "</table>\n",
       "</div>"
      ],
      "text/plain": [
       "                word language\n",
       "0          abblendet       de\n",
       "1   nachinstallierte       de\n",
       "2       klatschendes       de\n",
       "3  energiesparendere       de\n",
       "4         abbestelle       de"
      ]
     },
     "execution_count": 4,
     "metadata": {},
     "output_type": "execute_result"
    }
   ],
   "source": [
    "corpus_sample_df.head()"
   ]
  },
  {
   "cell_type": "markdown",
   "id": "4cdcaf11",
   "metadata": {},
   "source": [
    "## Training a language model\n",
    "\n",
    "We want to train a masked language model for our corpus of English words. In particular, we mask out particular letters and ask our model to try predict the masked letter.\n",
    "We do this using the `nlpsig.TextEncoder` class which provides a wrapper around the `transformers` library, and have done this in a separate notebook."
   ]
  },
  {
   "cell_type": "markdown",
   "id": "a6978236",
   "metadata": {},
   "source": [
    "## Evaluating trained model\n",
    "\n",
    "Evaluating the performance on predicting the masked letter for the test dataset. To do this, for each word in our test dataset, we will mask each letter on its own and ask the model to predict the masked letter. So for a 5 letter word, we have 5 predictions to make - one for each letter given the other letters.\n",
    "\n",
    "For our tokenizer, we see that `<mask>` is used as the mask token:"
   ]
  },
  {
   "cell_type": "code",
   "execution_count": 5,
   "id": "e46427e0",
   "metadata": {},
   "outputs": [],
   "source": [
    "model_name = \"rchan26/english-char-roberta\""
   ]
  },
  {
   "cell_type": "code",
   "execution_count": 6,
   "id": "416c87ea",
   "metadata": {},
   "outputs": [],
   "source": [
    "english_train_encoder = nlpsig.TextEncoder(\n",
    "    df=english_train,\n",
    "    feature_name=\"word\",\n",
    "    model_name=model_name,\n",
    ")"
   ]
  },
  {
   "cell_type": "code",
   "execution_count": 7,
   "id": "3e29d131",
   "metadata": {},
   "outputs": [
    {
     "name": "stdout",
     "output_type": "stream",
     "text": [
      "[INFO] By default, `.load_pretrained_model()` uses `AutoModel` to load in the model. If you want to load the model for a specific task, reset the `.model` attribute.\n"
     ]
    },
    {
     "name": "stderr",
     "output_type": "stream",
     "text": [
      "Special tokens have been added in the vocabulary, make sure the associated word embeddings are fine-tuned or trained.\n",
      "Some weights of RobertaModel were not initialized from the model checkpoint at rchan26/english-char-roberta and are newly initialized: ['roberta.pooler.dense.bias', 'roberta.pooler.dense.weight']\n",
      "You should probably TRAIN this model on a down-stream task to be able to use it for predictions and inference.\n"
     ]
    }
   ],
   "source": [
    "english_train_encoder.load_pretrained_model()"
   ]
  },
  {
   "cell_type": "code",
   "execution_count": 8,
   "id": "7f13cbe6",
   "metadata": {},
   "outputs": [
    {
     "data": {
      "text/plain": [
       "RobertaModel(\n",
       "  (embeddings): RobertaEmbeddings(\n",
       "    (word_embeddings): Embedding(57, 768, padding_idx=1)\n",
       "    (position_embeddings): Embedding(52, 768, padding_idx=1)\n",
       "    (token_type_embeddings): Embedding(1, 768)\n",
       "    (LayerNorm): LayerNorm((768,), eps=1e-12, elementwise_affine=True)\n",
       "    (dropout): Dropout(p=0.1, inplace=False)\n",
       "  )\n",
       "  (encoder): RobertaEncoder(\n",
       "    (layer): ModuleList(\n",
       "      (0-5): 6 x RobertaLayer(\n",
       "        (attention): RobertaAttention(\n",
       "          (self): RobertaSelfAttention(\n",
       "            (query): Linear(in_features=768, out_features=768, bias=True)\n",
       "            (key): Linear(in_features=768, out_features=768, bias=True)\n",
       "            (value): Linear(in_features=768, out_features=768, bias=True)\n",
       "            (dropout): Dropout(p=0.1, inplace=False)\n",
       "          )\n",
       "          (output): RobertaSelfOutput(\n",
       "            (dense): Linear(in_features=768, out_features=768, bias=True)\n",
       "            (LayerNorm): LayerNorm((768,), eps=1e-12, elementwise_affine=True)\n",
       "            (dropout): Dropout(p=0.1, inplace=False)\n",
       "          )\n",
       "        )\n",
       "        (intermediate): RobertaIntermediate(\n",
       "          (dense): Linear(in_features=768, out_features=3072, bias=True)\n",
       "          (intermediate_act_fn): GELUActivation()\n",
       "        )\n",
       "        (output): RobertaOutput(\n",
       "          (dense): Linear(in_features=3072, out_features=768, bias=True)\n",
       "          (LayerNorm): LayerNorm((768,), eps=1e-12, elementwise_affine=True)\n",
       "          (dropout): Dropout(p=0.1, inplace=False)\n",
       "        )\n",
       "      )\n",
       "    )\n",
       "  )\n",
       "  (pooler): RobertaPooler(\n",
       "    (dense): Linear(in_features=768, out_features=768, bias=True)\n",
       "    (activation): Tanh()\n",
       "  )\n",
       ")"
      ]
     },
     "execution_count": 8,
     "metadata": {},
     "output_type": "execute_result"
    }
   ],
   "source": [
    "english_train_encoder.model"
   ]
  },
  {
   "cell_type": "code",
   "execution_count": 9,
   "id": "14186065",
   "metadata": {},
   "outputs": [],
   "source": [
    "english_train_encoder.model = RobertaForMaskedLM.from_pretrained(model_name)"
   ]
  },
  {
   "cell_type": "code",
   "execution_count": 10,
   "id": "bca8c4bd",
   "metadata": {},
   "outputs": [
    {
     "data": {
      "text/plain": [
       "RobertaForMaskedLM(\n",
       "  (roberta): RobertaModel(\n",
       "    (embeddings): RobertaEmbeddings(\n",
       "      (word_embeddings): Embedding(57, 768, padding_idx=1)\n",
       "      (position_embeddings): Embedding(52, 768, padding_idx=1)\n",
       "      (token_type_embeddings): Embedding(1, 768)\n",
       "      (LayerNorm): LayerNorm((768,), eps=1e-12, elementwise_affine=True)\n",
       "      (dropout): Dropout(p=0.1, inplace=False)\n",
       "    )\n",
       "    (encoder): RobertaEncoder(\n",
       "      (layer): ModuleList(\n",
       "        (0-5): 6 x RobertaLayer(\n",
       "          (attention): RobertaAttention(\n",
       "            (self): RobertaSelfAttention(\n",
       "              (query): Linear(in_features=768, out_features=768, bias=True)\n",
       "              (key): Linear(in_features=768, out_features=768, bias=True)\n",
       "              (value): Linear(in_features=768, out_features=768, bias=True)\n",
       "              (dropout): Dropout(p=0.1, inplace=False)\n",
       "            )\n",
       "            (output): RobertaSelfOutput(\n",
       "              (dense): Linear(in_features=768, out_features=768, bias=True)\n",
       "              (LayerNorm): LayerNorm((768,), eps=1e-12, elementwise_affine=True)\n",
       "              (dropout): Dropout(p=0.1, inplace=False)\n",
       "            )\n",
       "          )\n",
       "          (intermediate): RobertaIntermediate(\n",
       "            (dense): Linear(in_features=768, out_features=3072, bias=True)\n",
       "            (intermediate_act_fn): GELUActivation()\n",
       "          )\n",
       "          (output): RobertaOutput(\n",
       "            (dense): Linear(in_features=3072, out_features=768, bias=True)\n",
       "            (LayerNorm): LayerNorm((768,), eps=1e-12, elementwise_affine=True)\n",
       "            (dropout): Dropout(p=0.1, inplace=False)\n",
       "          )\n",
       "        )\n",
       "      )\n",
       "    )\n",
       "  )\n",
       "  (lm_head): RobertaLMHead(\n",
       "    (dense): Linear(in_features=768, out_features=768, bias=True)\n",
       "    (layer_norm): LayerNorm((768,), eps=1e-12, elementwise_affine=True)\n",
       "    (decoder): Linear(in_features=768, out_features=57, bias=True)\n",
       "  )\n",
       ")"
      ]
     },
     "execution_count": 10,
     "metadata": {},
     "output_type": "execute_result"
    }
   ],
   "source": [
    "english_train_encoder.model"
   ]
  },
  {
   "cell_type": "code",
   "execution_count": 11,
   "id": "0ccfacdb",
   "metadata": {},
   "outputs": [
    {
     "data": {
      "text/plain": [
       "{'bos_token': '<s>',\n",
       " 'eos_token': '</s>',\n",
       " 'unk_token': '<unk>',\n",
       " 'sep_token': '</s>',\n",
       " 'pad_token': '<pad>',\n",
       " 'cls_token': '<s>',\n",
       " 'mask_token': '<mask>',\n",
       " 'additional_special_tokens': ['<s>', '</s>', '<unk>', '<pad>', '<mask>']}"
      ]
     },
     "execution_count": 11,
     "metadata": {},
     "output_type": "execute_result"
    }
   ],
   "source": [
    "english_train_encoder.tokenizer.special_tokens_map"
   ]
  },
  {
   "cell_type": "code",
   "execution_count": 12,
   "id": "6fdb04bc",
   "metadata": {
    "tags": []
   },
   "outputs": [],
   "source": [
    "def compute_masked_character_accuracy(fill_mask, words):\n",
    "    was_correct = []\n",
    "    print(f\"Evaluating with {len(words)} words\")\n",
    "    for word in tqdm(words):\n",
    "        masked_strings = [word[:i] + '<mask>' + word[i+1:] for i in range(len(word))]\n",
    "        predictions = [fill_mask(word)[0]['sequence'] for word in masked_strings]\n",
    "        was_correct += [pred == word for pred in predictions]\n",
    "    \n",
    "    acc = np.sum(was_correct) / len(was_correct)\n",
    "    print(f\"Accuracy: {acc}\")\n",
    "    return acc"
   ]
  },
  {
   "cell_type": "code",
   "execution_count": 13,
   "id": "25c7aecb",
   "metadata": {},
   "outputs": [],
   "source": [
    "# download data split from Huggingface hub\n",
    "from datasets import load_dataset\n",
    "\n",
    "english_train_encoder.dataset_split = load_dataset(\"rchan26/english_char_split\")"
   ]
  },
  {
   "cell_type": "code",
   "execution_count": 14,
   "id": "77928381",
   "metadata": {},
   "outputs": [
    {
     "data": {
      "text/plain": [
       "datasets.dataset_dict.DatasetDict"
      ]
     },
     "execution_count": 14,
     "metadata": {},
     "output_type": "execute_result"
    }
   ],
   "source": [
    "type(english_train_encoder.dataset_split)"
   ]
  },
  {
   "cell_type": "code",
   "execution_count": 15,
   "id": "ba734ae4-fa4e-4eb6-824f-ba732139eb8a",
   "metadata": {
    "tags": []
   },
   "outputs": [
    {
     "name": "stderr",
     "output_type": "stream",
     "text": [
      "Special tokens have been added in the vocabulary, make sure the associated word embeddings are fine-tuned or trained.\n"
     ]
    },
    {
     "name": "stdout",
     "output_type": "stream",
     "text": [
      "Evaluating with 14129 words\n"
     ]
    },
    {
     "data": {
      "application/vnd.jupyter.widget-view+json": {
       "model_id": "74cb864de84e46169e99fb8b344884de",
       "version_major": 2,
       "version_minor": 0
      },
      "text/plain": [
       "  0%|          | 0/14129 [00:00<?, ?it/s]"
      ]
     },
     "metadata": {},
     "output_type": "display_data"
    },
    {
     "name": "stdout",
     "output_type": "stream",
     "text": [
      "Accuracy: 0.799940114281912\n"
     ]
    },
    {
     "data": {
      "text/plain": [
       "0.799940114281912"
      ]
     },
     "execution_count": 15,
     "metadata": {},
     "output_type": "execute_result"
    }
   ],
   "source": [
    "fill_mask = pipeline(\n",
    "    \"fill-mask\",\n",
    "    model=model_name,\n",
    "    tokenizer=model_name,\n",
    "    device=\"mps\",\n",
    ")\n",
    "\n",
    "compute_masked_character_accuracy(fill_mask, english_train_encoder.dataset_split[\"test\"][\"word\"])"
   ]
  },
  {
   "cell_type": "markdown",
   "id": "b279fd46-e3ff-4add-a23b-e082aa9ba6d4",
   "metadata": {},
   "source": [
    "We can see that we have about 80% accuracy on the masked language modelling task for the test set!"
   ]
  },
  {
   "cell_type": "markdown",
   "id": "5646433f",
   "metadata": {},
   "source": [
    "## Obtaining token and word embeddings\n",
    "\n",
    "There are many ways in which one can get embeddings from the transformer network, as the output is the layers for the full network. A few ways are:\n",
    "\n",
    "- Returning the output of a particular hidden layer\n",
    "    - use `.obtain_embeddings(method = \"hidden_layer\", layers = l)` where `l` is the layer you want\n",
    "    - If no layer is requested, it will just give you the second-to-last hidden layer of the transformer network.\n",
    "- Concatenate the output of several hidden layers\n",
    "    - use `.obtain_embeddings(method = \"concatenate\", layers = [l_1, l_2, ...])` where `[l_1, l_2, ...]` is a list of layers you want to concatenate\n",
    "- Element-wise sum the output of several hidden layers\n",
    "    - use `.obtain_embeddings(method = \"sum\" , layers = [l_1, l_2, ...])` where `[l_1, l_2, ...]` is a list of layers you want to sum\n",
    "- Mean the output of several hidden layers\n",
    "    - use `.obtain_embeddings(method = \"mean\" , layers = [l_1, l_2, ...])` where `[l_1, l_2, ...]` is a list of layers you want to mean\n",
    "\n",
    "Each of these methods will return a 2-dimensional array with dimensions `[token, embedding]`.\n",
    "\n",
    "If a more custom way to obtain embeddings from the hidden layers, you can specify what layers you want, and it will return them (i.e. using `.obtain_embeddings(method = \"hidden_layer\", layers = [l_1, l_2, ...])` where `[l_1, l_2, ...]` is a list of hidden layers you want) and so the output will be a 3-dimensional array with dimensions `[layer, token, embedding]` for which you would need to combine in such a way that you would have an embedding for each token. The above methods would return a 2-dimensional array with dimensions `[token, embedding]`.\n",
    "\n",
    "Note that if we had passed in a pre-trained model (remember above, we just initialised one with a config and so have random weight), we could've directly obtain token embeddings by the `.obtain_embeddings()` method without the need to train our model first. We will do this later when obtaining embeddings for the words in `corpus_sample_df`.\n",
    "\n",
    "In the below, we just obtain the last hidden layer of the network (the 6th one in this case)."
   ]
  },
  {
   "cell_type": "code",
   "execution_count": 16,
   "id": "ad57446b",
   "metadata": {},
   "outputs": [
    {
     "name": "stdout",
     "output_type": "stream",
     "text": [
      "[INFO] Setting return_special_tokens_mask=True\n",
      "[INFO] Tokenizing the dataset...\n"
     ]
    },
    {
     "data": {
      "application/vnd.jupyter.widget-view+json": {
       "model_id": "996cb0d40b384f838161d96dea454277",
       "version_major": 2,
       "version_minor": 0
      },
      "text/plain": [
       "Map:   0%|          | 0/70641 [00:00<?, ? examples/s]"
      ]
     },
     "metadata": {},
     "output_type": "display_data"
    },
    {
     "name": "stdout",
     "output_type": "stream",
     "text": [
      "[INFO] Saving the tokenized text for each sentence into `.df['tokens']`...\n"
     ]
    },
    {
     "data": {
      "application/vnd.jupyter.widget-view+json": {
       "model_id": "1923eb50bc474d8dbf966cf194345c8c",
       "version_major": 2,
       "version_minor": 0
      },
      "text/plain": [
       "Map:   0%|          | 0/70641 [00:00<?, ? examples/s]"
      ]
     },
     "metadata": {},
     "output_type": "display_data"
    },
    {
     "name": "stdout",
     "output_type": "stream",
     "text": [
      "[INFO] Creating tokenized dataframe and setting in `.tokenized_df` attribute...\n",
      "[INFO] Note: 'text_id' is the column name for denoting the corresponding text id\n"
     ]
    },
    {
     "data": {
      "text/plain": [
       "Dataset({\n",
       "    features: ['word', 'language', 'input_ids', 'attention_mask', 'special_tokens_mask', 'tokens'],\n",
       "    num_rows: 70641\n",
       "})"
      ]
     },
     "execution_count": 16,
     "metadata": {},
     "output_type": "execute_result"
    }
   ],
   "source": [
    "english_train_encoder.tokenize_text()"
   ]
  },
  {
   "cell_type": "code",
   "execution_count": 17,
   "id": "06e80725-925f-4ada-a58a-02e0b71ff023",
   "metadata": {},
   "outputs": [
    {
     "data": {
      "application/vnd.jupyter.widget-view+json": {
       "model_id": "e2fbede03375413dabdd71155705ca44",
       "version_major": 2,
       "version_minor": 0
      },
      "text/plain": [
       "  0%|          | 0/707 [00:00<?, ?it/s]"
      ]
     },
     "metadata": {},
     "output_type": "display_data"
    },
    {
     "name": "stderr",
     "output_type": "stream",
     "text": [
      "You're using a RobertaTokenizerFast tokenizer. Please note that with a fast tokenizer, using the `__call__` method is faster than using a method to encode the text followed by a call to the `pad` method to get a padded encoding.\n"
     ]
    }
   ],
   "source": [
    "# setting the model to use the CPU\n",
    "english_train_encoder.model.to(\"cpu\")\n",
    "english_token_embeddings = english_train_encoder.obtain_embeddings(method=\"hidden_layer\", layers=6)"
   ]
  },
  {
   "cell_type": "markdown",
   "id": "73afe43d-26f8-437b-9a32-ceee73fb88d1",
   "metadata": {},
   "source": [
    "By inspecting the shape of this, we can see that we have a 2-dimensional array with dimensions `[token, embedding]` where the embeddings are 768 dimensional in this network."
   ]
  },
  {
   "cell_type": "code",
   "execution_count": 18,
   "id": "282d5b45",
   "metadata": {},
   "outputs": [
    {
     "data": {
      "text/plain": [
       "(601998, 768)"
      ]
     },
     "execution_count": 18,
     "metadata": {},
     "output_type": "execute_result"
    }
   ],
   "source": [
    "english_token_embeddings.shape"
   ]
  },
  {
   "cell_type": "markdown",
   "id": "29f09e23",
   "metadata": {},
   "source": [
    "Now that we have token embeddings for each text, it is possible to pool these embeddings to obtain an embedding for the full text (for this case, this embedding would represent the word itself. We can use the `.pool_token_embeddings()` method for doing this.\n",
    "\n",
    "Again, there are several methods and full details can be found in the documentation, but a few are:\n",
    "\n",
    "- Taking the mean of the token embeddings\n",
    "    - use `.pool_token_embeddings(method = \"mean\")`\n",
    "- Taking the element-wise max of the token embeddings\n",
    "    - use `.pool_token_embeddings(method = \"max\")`\n",
    "- Taking the element-wise sum of the token embeddings\n",
    "    - use `.pool_token_embeddings(method = \"sum\")`\n",
    "- Taking the token-embedding for the CLS token (a special token that is used in some transformers like BERT and RoBERTa)\n",
    "    - but this is only available to us if we set `skip_special_tokens=False` when tokenizing the text with `.tokenize_text()` method (note by default, this is set to `True` and so we don't have access to this method here)\n",
    "    - use `.pool_token_embeddings(method = \"cls\")`\n",
    "        - note this will produce an error if the CLS token is not available...\n",
    "\n",
    "For example, to pool the character embeddings by taking the mean of the token embeddings:"
   ]
  },
  {
   "cell_type": "code",
   "execution_count": 19,
   "id": "fcfd84d6",
   "metadata": {
    "tags": []
   },
   "outputs": [
    {
     "data": {
      "application/vnd.jupyter.widget-view+json": {
       "model_id": "afaaa8e8aded46f5ae7bc1e50b627ff6",
       "version_major": 2,
       "version_minor": 0
      },
      "text/plain": [
       "  0%|          | 0/70641 [00:00<?, ?it/s]"
      ]
     },
     "metadata": {},
     "output_type": "display_data"
    }
   ],
   "source": [
    "pooled_english_mean = english_train_encoder.pool_token_embeddings()"
   ]
  },
  {
   "cell_type": "markdown",
   "id": "f2b491dc",
   "metadata": {},
   "source": [
    "Again, we can inspect the shape and we can see that we have embeddings for each of our words:"
   ]
  },
  {
   "cell_type": "code",
   "execution_count": 20,
   "id": "c876954d",
   "metadata": {},
   "outputs": [
    {
     "data": {
      "text/plain": [
       "(70641, 768)"
      ]
     },
     "execution_count": 20,
     "metadata": {},
     "output_type": "execute_result"
    }
   ],
   "source": [
    "pooled_english_mean.shape"
   ]
  },
  {
   "cell_type": "markdown",
   "id": "84c0fffd",
   "metadata": {
    "tags": []
   },
   "source": [
    "## Dimension reduction\n",
    "\n",
    "We can perform dimension reduction with `nlpsig` using the `DimReduce` class. Here, we will use Gaussian Random Projections (implemented using [`scikit-learn`](https://scikit-learn.org/stable/modules/random_projection.html)) by setting `method=\"gaussian_random_projection\"`, but there are other standard methods available:\n",
    "- UMAP [[3]](https://arxiv.org/abs/1802.03426) (implemented using the [`umap-learn`](https://umap-learn.readthedocs.io/en/latest/api.html))\n",
    "    - `method=\"umap\"`\n",
    "- PCA [[4]](http://www.miketipping.com/papers/met-mppca.pdf) (implemented using [`scikit-learn`](https://scikit-learn.org/stable/modules/generated/sklearn.decomposition.PCA.html))\n",
    "    - `method=\"pca\"`\n",
    "- TSNE [[5]](https://www.jmlr.org/papers/volume9/vandermaaten08a/vandermaaten08a.pdf) (implemented using [`scikit-learn`](https://scikit-learn.org/stable/modules/generated/sklearn.manifold.TSNE.html))\n",
    "    - `method=\"tsne\"`\n",
    "- Post Processing Algorithm (PPA) with PCA (PPA-PCA) [[6]](https://arxiv.org/abs/1702.01417)\n",
    "    - `method=\"ppapca\"`\n",
    "- PPA-PCA-PPA [[7]](https://aclanthology.org/W19-4328/)\n",
    "    - `method=\"ppapacppa\"`"
   ]
  },
  {
   "cell_type": "code",
   "execution_count": 21,
   "id": "981f1c9d",
   "metadata": {},
   "outputs": [],
   "source": [
    "reduction = nlpsig.DimReduce(\n",
    "    method=\"gaussian_random_projection\",\n",
    "    n_components=25,\n",
    ")\n",
    "\n",
    "english_token_embeddings_reduced = reduction.fit_transform(english_token_embeddings, random_state=seed)"
   ]
  },
  {
   "cell_type": "code",
   "execution_count": 22,
   "id": "5b21f27a-2133-4cf1-a693-98b08407216d",
   "metadata": {},
   "outputs": [
    {
     "data": {
      "text/plain": [
       "(601998, 25)"
      ]
     },
     "execution_count": 22,
     "metadata": {},
     "output_type": "execute_result"
    }
   ],
   "source": [
    "english_token_embeddings_reduced.shape"
   ]
  },
  {
   "cell_type": "markdown",
   "id": "fe1aaa4c-f9b9-4c50-b8b0-b8add1923e08",
   "metadata": {},
   "source": [
    "We can save these embeddings for later use:"
   ]
  },
  {
   "cell_type": "code",
   "execution_count": 23,
   "id": "e6c279ac-2184-4ac2-802a-1d044caee6d7",
   "metadata": {},
   "outputs": [],
   "source": [
    "with open(f\"english_token_embeddings.pkl\",'wb') as f:\n",
    "    pickle.dump(english_token_embeddings, f)\n",
    "with open(f\"english_reduced_token_embeddings.pkl\",'wb') as f:\n",
    "    pickle.dump(english_token_embeddings_reduced, f)"
   ]
  },
  {
   "cell_type": "markdown",
   "id": "81af6467",
   "metadata": {},
   "source": [
    "As we have embeddings for each token, we can obtain a path for each word by constructing a path of the token embeddings. To do this, we can use the `PrepareData` class and pass in our tokenized dataframe (the dataframe where we have each token in our data and we also have the corresponding id for each word which is saved in the `text_id` column of the tokenized dataframe.\n",
    "\n",
    "We pass in the column which defines the ids, `text_id`, the column which defines the labels, `language`, the token embeddings and the dimension-reduced embeddings."
   ]
  },
  {
   "cell_type": "code",
   "execution_count": 24,
   "id": "3b2d8c08",
   "metadata": {},
   "outputs": [
    {
     "name": "stdout",
     "output_type": "stream",
     "text": [
      "[INFO] Concatenating the embeddings to the dataframe...\n",
      "[INFO] - columns beginning with 'e' denote the full embddings.\n",
      "[INFO] - columns beginning with 'd' denote the dimension reduced embeddings.\n",
      "[INFO] Adding time feature columns into dataframe in `.df`.\n",
      "[INFO] Note 'datetime' is not a column in `.df`, so only 'timeline_index' is added.\n",
      "[INFO] As 'datetime' is not a column in `.df`, we assume that the data is ordered by time with respect to the id.\n",
      "[INFO] Adding 'timeline_index' feature...\n"
     ]
    }
   ],
   "source": [
    "english_dataset = nlpsig.PrepareData(\n",
    "    original_df=english_train_encoder.tokenized_df,\n",
    "    id_column=\"text_id\",\n",
    "    embeddings=english_token_embeddings,\n",
    "    embeddings_reduced=english_token_embeddings_reduced\n",
    ")"
   ]
  },
  {
   "cell_type": "markdown",
   "id": "ef3a0e3c-288a-4a23-8851-a68aa6956b61",
   "metadata": {},
   "source": [
    "The class concatenates the embeddings and the dimension-reduced embeddings that are passed into to the class initalisation and stores it in the `.df` attribute of `english_dataset`.\n",
    "\n",
    "Here, the columns beginning with `d` denote the dimensions of the dimension reduced transformer embeddings, whereas the columns beginning with `e` denote the dimensions of embeddings obtained from the transformer.\n",
    "\n",
    "Furthermore, we can see from the printed out information that a `timeline_index` column was added to the dataframe, which is the last column here:"
   ]
  },
  {
   "cell_type": "code",
   "execution_count": 25,
   "id": "05b0bd97-3e75-4b64-9454-91ba79f0c610",
   "metadata": {},
   "outputs": [
    {
     "data": {
      "text/html": [
       "<div>\n",
       "<style scoped>\n",
       "    .dataframe tbody tr th:only-of-type {\n",
       "        vertical-align: middle;\n",
       "    }\n",
       "\n",
       "    .dataframe tbody tr th {\n",
       "        vertical-align: top;\n",
       "    }\n",
       "\n",
       "    .dataframe thead th {\n",
       "        text-align: right;\n",
       "    }\n",
       "</style>\n",
       "<table border=\"1\" class=\"dataframe\">\n",
       "  <thead>\n",
       "    <tr style=\"text-align: right;\">\n",
       "      <th></th>\n",
       "      <th>text_id</th>\n",
       "      <th>language</th>\n",
       "      <th>tokens</th>\n",
       "      <th>d1</th>\n",
       "      <th>d2</th>\n",
       "      <th>d3</th>\n",
       "      <th>d4</th>\n",
       "      <th>d5</th>\n",
       "      <th>d6</th>\n",
       "      <th>d7</th>\n",
       "      <th>...</th>\n",
       "      <th>e760</th>\n",
       "      <th>e761</th>\n",
       "      <th>e762</th>\n",
       "      <th>e763</th>\n",
       "      <th>e764</th>\n",
       "      <th>e765</th>\n",
       "      <th>e766</th>\n",
       "      <th>e767</th>\n",
       "      <th>e768</th>\n",
       "      <th>timeline_index</th>\n",
       "    </tr>\n",
       "  </thead>\n",
       "  <tbody>\n",
       "    <tr>\n",
       "      <th>0</th>\n",
       "      <td>0</td>\n",
       "      <td>en</td>\n",
       "      <td>c</td>\n",
       "      <td>-8.184407</td>\n",
       "      <td>0.357605</td>\n",
       "      <td>0.566598</td>\n",
       "      <td>-1.351197</td>\n",
       "      <td>-9.683786</td>\n",
       "      <td>-6.931541</td>\n",
       "      <td>1.650490</td>\n",
       "      <td>...</td>\n",
       "      <td>1.081749</td>\n",
       "      <td>-0.452972</td>\n",
       "      <td>-1.369438</td>\n",
       "      <td>-1.038585</td>\n",
       "      <td>1.160878</td>\n",
       "      <td>-0.251966</td>\n",
       "      <td>-0.455353</td>\n",
       "      <td>0.482450</td>\n",
       "      <td>-0.864402</td>\n",
       "      <td>1</td>\n",
       "    </tr>\n",
       "    <tr>\n",
       "      <th>1</th>\n",
       "      <td>0</td>\n",
       "      <td>en</td>\n",
       "      <td>o</td>\n",
       "      <td>-2.904356</td>\n",
       "      <td>5.884636</td>\n",
       "      <td>2.931294</td>\n",
       "      <td>5.438816</td>\n",
       "      <td>0.411570</td>\n",
       "      <td>-3.261564</td>\n",
       "      <td>2.507926</td>\n",
       "      <td>...</td>\n",
       "      <td>0.295689</td>\n",
       "      <td>0.630011</td>\n",
       "      <td>0.165493</td>\n",
       "      <td>0.758942</td>\n",
       "      <td>-0.184484</td>\n",
       "      <td>-0.269349</td>\n",
       "      <td>-0.866791</td>\n",
       "      <td>-0.903651</td>\n",
       "      <td>-0.094252</td>\n",
       "      <td>2</td>\n",
       "    </tr>\n",
       "    <tr>\n",
       "      <th>2</th>\n",
       "      <td>0</td>\n",
       "      <td>en</td>\n",
       "      <td>n</td>\n",
       "      <td>-1.376977</td>\n",
       "      <td>0.640244</td>\n",
       "      <td>2.392643</td>\n",
       "      <td>0.825427</td>\n",
       "      <td>-3.413183</td>\n",
       "      <td>0.034750</td>\n",
       "      <td>1.000106</td>\n",
       "      <td>...</td>\n",
       "      <td>1.127183</td>\n",
       "      <td>-0.112210</td>\n",
       "      <td>-0.317282</td>\n",
       "      <td>0.018593</td>\n",
       "      <td>-0.391474</td>\n",
       "      <td>0.858826</td>\n",
       "      <td>1.285545</td>\n",
       "      <td>-1.077005</td>\n",
       "      <td>1.036890</td>\n",
       "      <td>3</td>\n",
       "    </tr>\n",
       "    <tr>\n",
       "      <th>3</th>\n",
       "      <td>0</td>\n",
       "      <td>en</td>\n",
       "      <td>f</td>\n",
       "      <td>3.498998</td>\n",
       "      <td>-5.266631</td>\n",
       "      <td>0.886186</td>\n",
       "      <td>-4.562673</td>\n",
       "      <td>-6.357450</td>\n",
       "      <td>-6.688447</td>\n",
       "      <td>-1.382969</td>\n",
       "      <td>...</td>\n",
       "      <td>0.582284</td>\n",
       "      <td>-0.295230</td>\n",
       "      <td>-0.781113</td>\n",
       "      <td>-0.363003</td>\n",
       "      <td>-0.260525</td>\n",
       "      <td>-0.677989</td>\n",
       "      <td>-0.877382</td>\n",
       "      <td>-0.927466</td>\n",
       "      <td>0.670601</td>\n",
       "      <td>4</td>\n",
       "    </tr>\n",
       "    <tr>\n",
       "      <th>4</th>\n",
       "      <td>0</td>\n",
       "      <td>en</td>\n",
       "      <td>o</td>\n",
       "      <td>-7.310086</td>\n",
       "      <td>-5.549340</td>\n",
       "      <td>-0.425963</td>\n",
       "      <td>13.593971</td>\n",
       "      <td>-4.254689</td>\n",
       "      <td>-0.822410</td>\n",
       "      <td>1.523418</td>\n",
       "      <td>...</td>\n",
       "      <td>-1.542663</td>\n",
       "      <td>-0.587402</td>\n",
       "      <td>-2.034017</td>\n",
       "      <td>0.832035</td>\n",
       "      <td>0.159446</td>\n",
       "      <td>-0.995423</td>\n",
       "      <td>0.762163</td>\n",
       "      <td>0.839894</td>\n",
       "      <td>-0.461906</td>\n",
       "      <td>5</td>\n",
       "    </tr>\n",
       "    <tr>\n",
       "      <th>...</th>\n",
       "      <td>...</td>\n",
       "      <td>...</td>\n",
       "      <td>...</td>\n",
       "      <td>...</td>\n",
       "      <td>...</td>\n",
       "      <td>...</td>\n",
       "      <td>...</td>\n",
       "      <td>...</td>\n",
       "      <td>...</td>\n",
       "      <td>...</td>\n",
       "      <td>...</td>\n",
       "      <td>...</td>\n",
       "      <td>...</td>\n",
       "      <td>...</td>\n",
       "      <td>...</td>\n",
       "      <td>...</td>\n",
       "      <td>...</td>\n",
       "      <td>...</td>\n",
       "      <td>...</td>\n",
       "      <td>...</td>\n",
       "      <td>...</td>\n",
       "    </tr>\n",
       "    <tr>\n",
       "      <th>601993</th>\n",
       "      <td>70640</td>\n",
       "      <td>en</td>\n",
       "      <td>g</td>\n",
       "      <td>6.741522</td>\n",
       "      <td>-6.577055</td>\n",
       "      <td>1.024885</td>\n",
       "      <td>-5.313489</td>\n",
       "      <td>-3.408520</td>\n",
       "      <td>0.759007</td>\n",
       "      <td>-6.395688</td>\n",
       "      <td>...</td>\n",
       "      <td>-1.027639</td>\n",
       "      <td>-2.168224</td>\n",
       "      <td>0.059701</td>\n",
       "      <td>-0.784712</td>\n",
       "      <td>0.374181</td>\n",
       "      <td>0.942041</td>\n",
       "      <td>-2.122244</td>\n",
       "      <td>1.041687</td>\n",
       "      <td>0.888198</td>\n",
       "      <td>1</td>\n",
       "    </tr>\n",
       "    <tr>\n",
       "      <th>601994</th>\n",
       "      <td>70640</td>\n",
       "      <td>en</td>\n",
       "      <td>a</td>\n",
       "      <td>-8.393781</td>\n",
       "      <td>4.067750</td>\n",
       "      <td>-0.462628</td>\n",
       "      <td>-1.514486</td>\n",
       "      <td>-2.179213</td>\n",
       "      <td>-11.098642</td>\n",
       "      <td>-6.046124</td>\n",
       "      <td>...</td>\n",
       "      <td>-1.778223</td>\n",
       "      <td>-0.812309</td>\n",
       "      <td>-1.291115</td>\n",
       "      <td>-1.516914</td>\n",
       "      <td>0.501427</td>\n",
       "      <td>0.716751</td>\n",
       "      <td>-0.694237</td>\n",
       "      <td>0.546035</td>\n",
       "      <td>0.853855</td>\n",
       "      <td>2</td>\n",
       "    </tr>\n",
       "    <tr>\n",
       "      <th>601995</th>\n",
       "      <td>70640</td>\n",
       "      <td>en</td>\n",
       "      <td>b</td>\n",
       "      <td>14.316033</td>\n",
       "      <td>0.462099</td>\n",
       "      <td>-6.122456</td>\n",
       "      <td>1.815382</td>\n",
       "      <td>-0.775353</td>\n",
       "      <td>-6.114363</td>\n",
       "      <td>4.178592</td>\n",
       "      <td>...</td>\n",
       "      <td>0.178864</td>\n",
       "      <td>-0.980548</td>\n",
       "      <td>-1.560885</td>\n",
       "      <td>-2.018649</td>\n",
       "      <td>-0.505327</td>\n",
       "      <td>0.223460</td>\n",
       "      <td>-1.539956</td>\n",
       "      <td>-0.021985</td>\n",
       "      <td>-0.030829</td>\n",
       "      <td>3</td>\n",
       "    </tr>\n",
       "    <tr>\n",
       "      <th>601996</th>\n",
       "      <td>70640</td>\n",
       "      <td>en</td>\n",
       "      <td>b</td>\n",
       "      <td>14.921940</td>\n",
       "      <td>-4.751097</td>\n",
       "      <td>-6.267366</td>\n",
       "      <td>-4.825240</td>\n",
       "      <td>-15.119120</td>\n",
       "      <td>-10.217778</td>\n",
       "      <td>3.519827</td>\n",
       "      <td>...</td>\n",
       "      <td>0.491836</td>\n",
       "      <td>-0.118171</td>\n",
       "      <td>-2.248484</td>\n",
       "      <td>-1.809063</td>\n",
       "      <td>0.529961</td>\n",
       "      <td>0.132647</td>\n",
       "      <td>0.498771</td>\n",
       "      <td>0.354066</td>\n",
       "      <td>-0.665234</td>\n",
       "      <td>4</td>\n",
       "    </tr>\n",
       "    <tr>\n",
       "      <th>601997</th>\n",
       "      <td>70640</td>\n",
       "      <td>en</td>\n",
       "      <td>y</td>\n",
       "      <td>-6.812494</td>\n",
       "      <td>8.002891</td>\n",
       "      <td>9.602572</td>\n",
       "      <td>-0.574444</td>\n",
       "      <td>1.329924</td>\n",
       "      <td>-4.582327</td>\n",
       "      <td>-4.022842</td>\n",
       "      <td>...</td>\n",
       "      <td>-1.608258</td>\n",
       "      <td>-0.167263</td>\n",
       "      <td>-0.604196</td>\n",
       "      <td>-0.904296</td>\n",
       "      <td>0.737459</td>\n",
       "      <td>-0.007654</td>\n",
       "      <td>-0.406060</td>\n",
       "      <td>1.803599</td>\n",
       "      <td>0.496352</td>\n",
       "      <td>5</td>\n",
       "    </tr>\n",
       "  </tbody>\n",
       "</table>\n",
       "<p>601998 rows × 797 columns</p>\n",
       "</div>"
      ],
      "text/plain": [
       "        text_id language tokens         d1        d2        d3         d4  \\\n",
       "0             0       en      c  -8.184407  0.357605  0.566598  -1.351197   \n",
       "1             0       en      o  -2.904356  5.884636  2.931294   5.438816   \n",
       "2             0       en      n  -1.376977  0.640244  2.392643   0.825427   \n",
       "3             0       en      f   3.498998 -5.266631  0.886186  -4.562673   \n",
       "4             0       en      o  -7.310086 -5.549340 -0.425963  13.593971   \n",
       "...         ...      ...    ...        ...       ...       ...        ...   \n",
       "601993    70640       en      g   6.741522 -6.577055  1.024885  -5.313489   \n",
       "601994    70640       en      a  -8.393781  4.067750 -0.462628  -1.514486   \n",
       "601995    70640       en      b  14.316033  0.462099 -6.122456   1.815382   \n",
       "601996    70640       en      b  14.921940 -4.751097 -6.267366  -4.825240   \n",
       "601997    70640       en      y  -6.812494  8.002891  9.602572  -0.574444   \n",
       "\n",
       "               d5         d6        d7  ...      e760      e761      e762  \\\n",
       "0       -9.683786  -6.931541  1.650490  ...  1.081749 -0.452972 -1.369438   \n",
       "1        0.411570  -3.261564  2.507926  ...  0.295689  0.630011  0.165493   \n",
       "2       -3.413183   0.034750  1.000106  ...  1.127183 -0.112210 -0.317282   \n",
       "3       -6.357450  -6.688447 -1.382969  ...  0.582284 -0.295230 -0.781113   \n",
       "4       -4.254689  -0.822410  1.523418  ... -1.542663 -0.587402 -2.034017   \n",
       "...           ...        ...       ...  ...       ...       ...       ...   \n",
       "601993  -3.408520   0.759007 -6.395688  ... -1.027639 -2.168224  0.059701   \n",
       "601994  -2.179213 -11.098642 -6.046124  ... -1.778223 -0.812309 -1.291115   \n",
       "601995  -0.775353  -6.114363  4.178592  ...  0.178864 -0.980548 -1.560885   \n",
       "601996 -15.119120 -10.217778  3.519827  ...  0.491836 -0.118171 -2.248484   \n",
       "601997   1.329924  -4.582327 -4.022842  ... -1.608258 -0.167263 -0.604196   \n",
       "\n",
       "            e763      e764      e765      e766      e767      e768  \\\n",
       "0      -1.038585  1.160878 -0.251966 -0.455353  0.482450 -0.864402   \n",
       "1       0.758942 -0.184484 -0.269349 -0.866791 -0.903651 -0.094252   \n",
       "2       0.018593 -0.391474  0.858826  1.285545 -1.077005  1.036890   \n",
       "3      -0.363003 -0.260525 -0.677989 -0.877382 -0.927466  0.670601   \n",
       "4       0.832035  0.159446 -0.995423  0.762163  0.839894 -0.461906   \n",
       "...          ...       ...       ...       ...       ...       ...   \n",
       "601993 -0.784712  0.374181  0.942041 -2.122244  1.041687  0.888198   \n",
       "601994 -1.516914  0.501427  0.716751 -0.694237  0.546035  0.853855   \n",
       "601995 -2.018649 -0.505327  0.223460 -1.539956 -0.021985 -0.030829   \n",
       "601996 -1.809063  0.529961  0.132647  0.498771  0.354066 -0.665234   \n",
       "601997 -0.904296  0.737459 -0.007654 -0.406060  1.803599  0.496352   \n",
       "\n",
       "        timeline_index  \n",
       "0                    1  \n",
       "1                    2  \n",
       "2                    3  \n",
       "3                    4  \n",
       "4                    5  \n",
       "...                ...  \n",
       "601993               1  \n",
       "601994               2  \n",
       "601995               3  \n",
       "601996               4  \n",
       "601997               5  \n",
       "\n",
       "[601998 rows x 797 columns]"
      ]
     },
     "execution_count": 25,
     "metadata": {},
     "output_type": "execute_result"
    }
   ],
   "source": [
    "english_dataset.df"
   ]
  },
  {
   "cell_type": "markdown",
   "id": "ceb187e7",
   "metadata": {},
   "source": [
    "We can construct a path by using the `.pad()` method, and result of this is a multi-dimensional array or tensor (in particular a numpy array or PyTorch tensor) which can be then used in some downstream task. It is called \"pad\" because arrays and tensors are rectangular and if there are cases where there isn't enough data (e.g. if a word only has 3 letters/tokens and we want to make paths of length 4), we \"pad\" with either the last token embedding (if we set `zero_padding=False`) or with a vector of zeros (if we set `zero_padding=True`).\n",
    "\n",
    "Here, we construct paths by setting a length of the paths (we call this method `k_last` in the code and we have to specify the length with `k=50` - the maximum sequence length that we used when defining the transformer model).\n",
    "\n",
    "We alternatively can construct to the longest word possible (by setting `method=\"max\"`). The `time_feature` argument allows us to specify what time features we want to keep. Here we don't have any besides the index in which the word is, which is given by `timeline_index` and we choose not to standardise that by specifying `standardise_time_feature=False`.\n",
    "\n",
    "The `pad_by` argument specifies that we are padding for each word (as each word is given a particular `text_id` in the tokenized dataframe above). There is an alternative option to construct a path by looking at the history of a particular embedding (i.e. the stream embeddings that occurred before), but this is not useful here and we will cover that in another notebook."
   ]
  },
  {
   "cell_type": "code",
   "execution_count": 26,
   "id": "b6ca0623",
   "metadata": {},
   "outputs": [],
   "source": [
    "path_specifics = {\n",
    "    \"pad_by\": \"id\",\n",
    "    \"zero_padding\": True,\n",
    "    \"method\": \"k_last\",\n",
    "    \"k\": 50,\n",
    "    \"features\": [\"timeline_index\"],\n",
    "    \"standardise_method\": [None],\n",
    "    \"embeddings\": \"dim_reduced\",\n",
    "    \"pad_from_below\": True\n",
    "}"
   ]
  },
  {
   "cell_type": "code",
   "execution_count": 27,
   "id": "19583e9f-f4b9-450e-998c-7416fece349e",
   "metadata": {
    "tags": []
   },
   "outputs": [
    {
     "name": "stdout",
     "output_type": "stream",
     "text": [
      "[INFO] Padding ids and storing in `.df_padded` and `.array_padded` attributes.\n"
     ]
    },
    {
     "data": {
      "application/vnd.jupyter.widget-view+json": {
       "model_id": "c41f20a2315649fcbb25c10ff90285a8",
       "version_major": 2,
       "version_minor": 0
      },
      "text/plain": [
       "  0%|          | 0/70641 [00:00<?, ?it/s]"
      ]
     },
     "metadata": {},
     "output_type": "display_data"
    }
   ],
   "source": [
    "english_word_path = english_dataset.pad(**path_specifics)"
   ]
  },
  {
   "cell_type": "code",
   "execution_count": 28,
   "id": "ccd79294",
   "metadata": {},
   "outputs": [
    {
     "data": {
      "text/plain": [
       "(70641, 50, 27)"
      ]
     },
     "execution_count": 28,
     "metadata": {},
     "output_type": "execute_result"
    }
   ],
   "source": [
    "english_word_path.shape"
   ]
  },
  {
   "cell_type": "code",
   "execution_count": 29,
   "id": "292fbdd7",
   "metadata": {},
   "outputs": [
    {
     "data": {
      "text/plain": [
       "70641"
      ]
     },
     "execution_count": 29,
     "metadata": {},
     "output_type": "execute_result"
    }
   ],
   "source": [
    "len(english_dataset.df[\"text_id\"].unique())"
   ]
  },
  {
   "cell_type": "markdown",
   "id": "7febd295",
   "metadata": {},
   "source": [
    "We also store this array as a dataframe in `.df_padded` so that you can see what the columns correspond to, where columns beginning with `e` denote the dimensions of embeddings obtained from the transformer (here we have none as we only requested to keep the dimension reduced embeddings), and columns beginning with `d` denote the dimensions of the dimension reduced transformer embeddings.\n",
    "\n",
    "We can see for the first word in the dataset (with `text_id==0`), this is a word with 10 letters and we can see how we have padded the word to length 50."
   ]
  },
  {
   "cell_type": "code",
   "execution_count": 30,
   "id": "3217c3e8",
   "metadata": {},
   "outputs": [
    {
     "data": {
      "text/html": [
       "<div>\n",
       "<style scoped>\n",
       "    .dataframe tbody tr th:only-of-type {\n",
       "        vertical-align: middle;\n",
       "    }\n",
       "\n",
       "    .dataframe tbody tr th {\n",
       "        vertical-align: top;\n",
       "    }\n",
       "\n",
       "    .dataframe thead th {\n",
       "        text-align: right;\n",
       "    }\n",
       "</style>\n",
       "<table border=\"1\" class=\"dataframe\">\n",
       "  <thead>\n",
       "    <tr style=\"text-align: right;\">\n",
       "      <th></th>\n",
       "      <th>timeline_index</th>\n",
       "      <th>d1</th>\n",
       "      <th>d2</th>\n",
       "      <th>d3</th>\n",
       "      <th>d4</th>\n",
       "      <th>d5</th>\n",
       "      <th>d6</th>\n",
       "      <th>d7</th>\n",
       "      <th>d8</th>\n",
       "      <th>d9</th>\n",
       "      <th>...</th>\n",
       "      <th>d17</th>\n",
       "      <th>d18</th>\n",
       "      <th>d19</th>\n",
       "      <th>d20</th>\n",
       "      <th>d21</th>\n",
       "      <th>d22</th>\n",
       "      <th>d23</th>\n",
       "      <th>d24</th>\n",
       "      <th>d25</th>\n",
       "      <th>text_id</th>\n",
       "    </tr>\n",
       "  </thead>\n",
       "  <tbody>\n",
       "    <tr>\n",
       "      <th>0</th>\n",
       "      <td>1</td>\n",
       "      <td>-8.184407</td>\n",
       "      <td>0.357605</td>\n",
       "      <td>0.566598</td>\n",
       "      <td>-1.351197</td>\n",
       "      <td>-9.683786</td>\n",
       "      <td>-6.931541</td>\n",
       "      <td>1.650490</td>\n",
       "      <td>-11.222075</td>\n",
       "      <td>-1.924996</td>\n",
       "      <td>...</td>\n",
       "      <td>7.192530</td>\n",
       "      <td>4.291727</td>\n",
       "      <td>4.865719</td>\n",
       "      <td>-3.590005</td>\n",
       "      <td>-2.639724</td>\n",
       "      <td>0.824082</td>\n",
       "      <td>9.098892</td>\n",
       "      <td>-8.540661</td>\n",
       "      <td>4.400712</td>\n",
       "      <td>0</td>\n",
       "    </tr>\n",
       "    <tr>\n",
       "      <th>1</th>\n",
       "      <td>2</td>\n",
       "      <td>-2.904356</td>\n",
       "      <td>5.884636</td>\n",
       "      <td>2.931294</td>\n",
       "      <td>5.438816</td>\n",
       "      <td>0.411570</td>\n",
       "      <td>-3.261564</td>\n",
       "      <td>2.507926</td>\n",
       "      <td>-11.685226</td>\n",
       "      <td>-1.094608</td>\n",
       "      <td>...</td>\n",
       "      <td>3.100971</td>\n",
       "      <td>1.974189</td>\n",
       "      <td>8.288576</td>\n",
       "      <td>-0.170562</td>\n",
       "      <td>-6.121720</td>\n",
       "      <td>-1.274745</td>\n",
       "      <td>1.703130</td>\n",
       "      <td>-6.595260</td>\n",
       "      <td>-2.422338</td>\n",
       "      <td>0</td>\n",
       "    </tr>\n",
       "    <tr>\n",
       "      <th>2</th>\n",
       "      <td>3</td>\n",
       "      <td>-1.376977</td>\n",
       "      <td>0.640244</td>\n",
       "      <td>2.392643</td>\n",
       "      <td>0.825427</td>\n",
       "      <td>-3.413183</td>\n",
       "      <td>0.034750</td>\n",
       "      <td>1.000106</td>\n",
       "      <td>-8.113235</td>\n",
       "      <td>9.835896</td>\n",
       "      <td>...</td>\n",
       "      <td>2.606649</td>\n",
       "      <td>-3.961726</td>\n",
       "      <td>7.180635</td>\n",
       "      <td>-3.143429</td>\n",
       "      <td>4.694233</td>\n",
       "      <td>2.917291</td>\n",
       "      <td>-0.070891</td>\n",
       "      <td>-3.026617</td>\n",
       "      <td>-0.102067</td>\n",
       "      <td>0</td>\n",
       "    </tr>\n",
       "    <tr>\n",
       "      <th>3</th>\n",
       "      <td>4</td>\n",
       "      <td>3.498998</td>\n",
       "      <td>-5.266631</td>\n",
       "      <td>0.886186</td>\n",
       "      <td>-4.562673</td>\n",
       "      <td>-6.357450</td>\n",
       "      <td>-6.688447</td>\n",
       "      <td>-1.382969</td>\n",
       "      <td>1.244140</td>\n",
       "      <td>8.755057</td>\n",
       "      <td>...</td>\n",
       "      <td>-0.415532</td>\n",
       "      <td>2.268054</td>\n",
       "      <td>2.662268</td>\n",
       "      <td>-0.447599</td>\n",
       "      <td>-4.183741</td>\n",
       "      <td>1.182800</td>\n",
       "      <td>-8.942212</td>\n",
       "      <td>-6.181649</td>\n",
       "      <td>-3.264953</td>\n",
       "      <td>0</td>\n",
       "    </tr>\n",
       "    <tr>\n",
       "      <th>4</th>\n",
       "      <td>5</td>\n",
       "      <td>-7.310086</td>\n",
       "      <td>-5.549340</td>\n",
       "      <td>-0.425963</td>\n",
       "      <td>13.593971</td>\n",
       "      <td>-4.254689</td>\n",
       "      <td>-0.822410</td>\n",
       "      <td>1.523418</td>\n",
       "      <td>-1.043126</td>\n",
       "      <td>5.992587</td>\n",
       "      <td>...</td>\n",
       "      <td>3.082348</td>\n",
       "      <td>5.958674</td>\n",
       "      <td>14.357894</td>\n",
       "      <td>0.738164</td>\n",
       "      <td>1.745513</td>\n",
       "      <td>-0.977818</td>\n",
       "      <td>1.948113</td>\n",
       "      <td>9.205460</td>\n",
       "      <td>0.895346</td>\n",
       "      <td>0</td>\n",
       "    </tr>\n",
       "    <tr>\n",
       "      <th>5</th>\n",
       "      <td>6</td>\n",
       "      <td>-3.975669</td>\n",
       "      <td>3.179887</td>\n",
       "      <td>7.472161</td>\n",
       "      <td>-0.649809</td>\n",
       "      <td>-6.216656</td>\n",
       "      <td>-5.734218</td>\n",
       "      <td>2.052460</td>\n",
       "      <td>-9.384834</td>\n",
       "      <td>7.383495</td>\n",
       "      <td>...</td>\n",
       "      <td>-10.229475</td>\n",
       "      <td>2.354359</td>\n",
       "      <td>-1.716216</td>\n",
       "      <td>3.917720</td>\n",
       "      <td>2.473520</td>\n",
       "      <td>5.013416</td>\n",
       "      <td>13.761066</td>\n",
       "      <td>-1.078138</td>\n",
       "      <td>-0.338295</td>\n",
       "      <td>0</td>\n",
       "    </tr>\n",
       "    <tr>\n",
       "      <th>6</th>\n",
       "      <td>7</td>\n",
       "      <td>-0.349186</td>\n",
       "      <td>2.597502</td>\n",
       "      <td>0.853750</td>\n",
       "      <td>-4.370289</td>\n",
       "      <td>-6.380077</td>\n",
       "      <td>-4.736427</td>\n",
       "      <td>-11.622005</td>\n",
       "      <td>5.676067</td>\n",
       "      <td>0.921194</td>\n",
       "      <td>...</td>\n",
       "      <td>-3.706427</td>\n",
       "      <td>-0.166759</td>\n",
       "      <td>3.991535</td>\n",
       "      <td>5.970876</td>\n",
       "      <td>-4.975106</td>\n",
       "      <td>1.382497</td>\n",
       "      <td>2.154727</td>\n",
       "      <td>1.070546</td>\n",
       "      <td>3.317766</td>\n",
       "      <td>0</td>\n",
       "    </tr>\n",
       "    <tr>\n",
       "      <th>7</th>\n",
       "      <td>8</td>\n",
       "      <td>-0.159664</td>\n",
       "      <td>3.315958</td>\n",
       "      <td>-0.221650</td>\n",
       "      <td>0.136687</td>\n",
       "      <td>4.232004</td>\n",
       "      <td>-4.723308</td>\n",
       "      <td>-2.238593</td>\n",
       "      <td>-10.119272</td>\n",
       "      <td>3.124954</td>\n",
       "      <td>...</td>\n",
       "      <td>-10.549425</td>\n",
       "      <td>-1.162344</td>\n",
       "      <td>-0.899930</td>\n",
       "      <td>8.717914</td>\n",
       "      <td>2.322280</td>\n",
       "      <td>-2.536336</td>\n",
       "      <td>2.563050</td>\n",
       "      <td>-12.116966</td>\n",
       "      <td>5.703554</td>\n",
       "      <td>0</td>\n",
       "    </tr>\n",
       "    <tr>\n",
       "      <th>8</th>\n",
       "      <td>9</td>\n",
       "      <td>-9.811738</td>\n",
       "      <td>2.751759</td>\n",
       "      <td>0.231230</td>\n",
       "      <td>-0.543667</td>\n",
       "      <td>-6.092617</td>\n",
       "      <td>-2.493757</td>\n",
       "      <td>-4.286288</td>\n",
       "      <td>-0.102742</td>\n",
       "      <td>2.937260</td>\n",
       "      <td>...</td>\n",
       "      <td>6.907743</td>\n",
       "      <td>-3.869002</td>\n",
       "      <td>7.378634</td>\n",
       "      <td>1.409845</td>\n",
       "      <td>8.107550</td>\n",
       "      <td>-4.837181</td>\n",
       "      <td>2.894693</td>\n",
       "      <td>-2.424176</td>\n",
       "      <td>-2.469648</td>\n",
       "      <td>0</td>\n",
       "    </tr>\n",
       "    <tr>\n",
       "      <th>9</th>\n",
       "      <td>0</td>\n",
       "      <td>0.000000</td>\n",
       "      <td>0.000000</td>\n",
       "      <td>0.000000</td>\n",
       "      <td>0.000000</td>\n",
       "      <td>0.000000</td>\n",
       "      <td>0.000000</td>\n",
       "      <td>0.000000</td>\n",
       "      <td>0.000000</td>\n",
       "      <td>0.000000</td>\n",
       "      <td>...</td>\n",
       "      <td>0.000000</td>\n",
       "      <td>0.000000</td>\n",
       "      <td>0.000000</td>\n",
       "      <td>0.000000</td>\n",
       "      <td>0.000000</td>\n",
       "      <td>0.000000</td>\n",
       "      <td>0.000000</td>\n",
       "      <td>0.000000</td>\n",
       "      <td>0.000000</td>\n",
       "      <td>0</td>\n",
       "    </tr>\n",
       "    <tr>\n",
       "      <th>10</th>\n",
       "      <td>0</td>\n",
       "      <td>0.000000</td>\n",
       "      <td>0.000000</td>\n",
       "      <td>0.000000</td>\n",
       "      <td>0.000000</td>\n",
       "      <td>0.000000</td>\n",
       "      <td>0.000000</td>\n",
       "      <td>0.000000</td>\n",
       "      <td>0.000000</td>\n",
       "      <td>0.000000</td>\n",
       "      <td>...</td>\n",
       "      <td>0.000000</td>\n",
       "      <td>0.000000</td>\n",
       "      <td>0.000000</td>\n",
       "      <td>0.000000</td>\n",
       "      <td>0.000000</td>\n",
       "      <td>0.000000</td>\n",
       "      <td>0.000000</td>\n",
       "      <td>0.000000</td>\n",
       "      <td>0.000000</td>\n",
       "      <td>0</td>\n",
       "    </tr>\n",
       "    <tr>\n",
       "      <th>11</th>\n",
       "      <td>0</td>\n",
       "      <td>0.000000</td>\n",
       "      <td>0.000000</td>\n",
       "      <td>0.000000</td>\n",
       "      <td>0.000000</td>\n",
       "      <td>0.000000</td>\n",
       "      <td>0.000000</td>\n",
       "      <td>0.000000</td>\n",
       "      <td>0.000000</td>\n",
       "      <td>0.000000</td>\n",
       "      <td>...</td>\n",
       "      <td>0.000000</td>\n",
       "      <td>0.000000</td>\n",
       "      <td>0.000000</td>\n",
       "      <td>0.000000</td>\n",
       "      <td>0.000000</td>\n",
       "      <td>0.000000</td>\n",
       "      <td>0.000000</td>\n",
       "      <td>0.000000</td>\n",
       "      <td>0.000000</td>\n",
       "      <td>0</td>\n",
       "    </tr>\n",
       "    <tr>\n",
       "      <th>12</th>\n",
       "      <td>0</td>\n",
       "      <td>0.000000</td>\n",
       "      <td>0.000000</td>\n",
       "      <td>0.000000</td>\n",
       "      <td>0.000000</td>\n",
       "      <td>0.000000</td>\n",
       "      <td>0.000000</td>\n",
       "      <td>0.000000</td>\n",
       "      <td>0.000000</td>\n",
       "      <td>0.000000</td>\n",
       "      <td>...</td>\n",
       "      <td>0.000000</td>\n",
       "      <td>0.000000</td>\n",
       "      <td>0.000000</td>\n",
       "      <td>0.000000</td>\n",
       "      <td>0.000000</td>\n",
       "      <td>0.000000</td>\n",
       "      <td>0.000000</td>\n",
       "      <td>0.000000</td>\n",
       "      <td>0.000000</td>\n",
       "      <td>0</td>\n",
       "    </tr>\n",
       "    <tr>\n",
       "      <th>13</th>\n",
       "      <td>0</td>\n",
       "      <td>0.000000</td>\n",
       "      <td>0.000000</td>\n",
       "      <td>0.000000</td>\n",
       "      <td>0.000000</td>\n",
       "      <td>0.000000</td>\n",
       "      <td>0.000000</td>\n",
       "      <td>0.000000</td>\n",
       "      <td>0.000000</td>\n",
       "      <td>0.000000</td>\n",
       "      <td>...</td>\n",
       "      <td>0.000000</td>\n",
       "      <td>0.000000</td>\n",
       "      <td>0.000000</td>\n",
       "      <td>0.000000</td>\n",
       "      <td>0.000000</td>\n",
       "      <td>0.000000</td>\n",
       "      <td>0.000000</td>\n",
       "      <td>0.000000</td>\n",
       "      <td>0.000000</td>\n",
       "      <td>0</td>\n",
       "    </tr>\n",
       "    <tr>\n",
       "      <th>14</th>\n",
       "      <td>0</td>\n",
       "      <td>0.000000</td>\n",
       "      <td>0.000000</td>\n",
       "      <td>0.000000</td>\n",
       "      <td>0.000000</td>\n",
       "      <td>0.000000</td>\n",
       "      <td>0.000000</td>\n",
       "      <td>0.000000</td>\n",
       "      <td>0.000000</td>\n",
       "      <td>0.000000</td>\n",
       "      <td>...</td>\n",
       "      <td>0.000000</td>\n",
       "      <td>0.000000</td>\n",
       "      <td>0.000000</td>\n",
       "      <td>0.000000</td>\n",
       "      <td>0.000000</td>\n",
       "      <td>0.000000</td>\n",
       "      <td>0.000000</td>\n",
       "      <td>0.000000</td>\n",
       "      <td>0.000000</td>\n",
       "      <td>0</td>\n",
       "    </tr>\n",
       "    <tr>\n",
       "      <th>15</th>\n",
       "      <td>0</td>\n",
       "      <td>0.000000</td>\n",
       "      <td>0.000000</td>\n",
       "      <td>0.000000</td>\n",
       "      <td>0.000000</td>\n",
       "      <td>0.000000</td>\n",
       "      <td>0.000000</td>\n",
       "      <td>0.000000</td>\n",
       "      <td>0.000000</td>\n",
       "      <td>0.000000</td>\n",
       "      <td>...</td>\n",
       "      <td>0.000000</td>\n",
       "      <td>0.000000</td>\n",
       "      <td>0.000000</td>\n",
       "      <td>0.000000</td>\n",
       "      <td>0.000000</td>\n",
       "      <td>0.000000</td>\n",
       "      <td>0.000000</td>\n",
       "      <td>0.000000</td>\n",
       "      <td>0.000000</td>\n",
       "      <td>0</td>\n",
       "    </tr>\n",
       "    <tr>\n",
       "      <th>16</th>\n",
       "      <td>0</td>\n",
       "      <td>0.000000</td>\n",
       "      <td>0.000000</td>\n",
       "      <td>0.000000</td>\n",
       "      <td>0.000000</td>\n",
       "      <td>0.000000</td>\n",
       "      <td>0.000000</td>\n",
       "      <td>0.000000</td>\n",
       "      <td>0.000000</td>\n",
       "      <td>0.000000</td>\n",
       "      <td>...</td>\n",
       "      <td>0.000000</td>\n",
       "      <td>0.000000</td>\n",
       "      <td>0.000000</td>\n",
       "      <td>0.000000</td>\n",
       "      <td>0.000000</td>\n",
       "      <td>0.000000</td>\n",
       "      <td>0.000000</td>\n",
       "      <td>0.000000</td>\n",
       "      <td>0.000000</td>\n",
       "      <td>0</td>\n",
       "    </tr>\n",
       "    <tr>\n",
       "      <th>17</th>\n",
       "      <td>0</td>\n",
       "      <td>0.000000</td>\n",
       "      <td>0.000000</td>\n",
       "      <td>0.000000</td>\n",
       "      <td>0.000000</td>\n",
       "      <td>0.000000</td>\n",
       "      <td>0.000000</td>\n",
       "      <td>0.000000</td>\n",
       "      <td>0.000000</td>\n",
       "      <td>0.000000</td>\n",
       "      <td>...</td>\n",
       "      <td>0.000000</td>\n",
       "      <td>0.000000</td>\n",
       "      <td>0.000000</td>\n",
       "      <td>0.000000</td>\n",
       "      <td>0.000000</td>\n",
       "      <td>0.000000</td>\n",
       "      <td>0.000000</td>\n",
       "      <td>0.000000</td>\n",
       "      <td>0.000000</td>\n",
       "      <td>0</td>\n",
       "    </tr>\n",
       "    <tr>\n",
       "      <th>18</th>\n",
       "      <td>0</td>\n",
       "      <td>0.000000</td>\n",
       "      <td>0.000000</td>\n",
       "      <td>0.000000</td>\n",
       "      <td>0.000000</td>\n",
       "      <td>0.000000</td>\n",
       "      <td>0.000000</td>\n",
       "      <td>0.000000</td>\n",
       "      <td>0.000000</td>\n",
       "      <td>0.000000</td>\n",
       "      <td>...</td>\n",
       "      <td>0.000000</td>\n",
       "      <td>0.000000</td>\n",
       "      <td>0.000000</td>\n",
       "      <td>0.000000</td>\n",
       "      <td>0.000000</td>\n",
       "      <td>0.000000</td>\n",
       "      <td>0.000000</td>\n",
       "      <td>0.000000</td>\n",
       "      <td>0.000000</td>\n",
       "      <td>0</td>\n",
       "    </tr>\n",
       "    <tr>\n",
       "      <th>19</th>\n",
       "      <td>0</td>\n",
       "      <td>0.000000</td>\n",
       "      <td>0.000000</td>\n",
       "      <td>0.000000</td>\n",
       "      <td>0.000000</td>\n",
       "      <td>0.000000</td>\n",
       "      <td>0.000000</td>\n",
       "      <td>0.000000</td>\n",
       "      <td>0.000000</td>\n",
       "      <td>0.000000</td>\n",
       "      <td>...</td>\n",
       "      <td>0.000000</td>\n",
       "      <td>0.000000</td>\n",
       "      <td>0.000000</td>\n",
       "      <td>0.000000</td>\n",
       "      <td>0.000000</td>\n",
       "      <td>0.000000</td>\n",
       "      <td>0.000000</td>\n",
       "      <td>0.000000</td>\n",
       "      <td>0.000000</td>\n",
       "      <td>0</td>\n",
       "    </tr>\n",
       "    <tr>\n",
       "      <th>20</th>\n",
       "      <td>0</td>\n",
       "      <td>0.000000</td>\n",
       "      <td>0.000000</td>\n",
       "      <td>0.000000</td>\n",
       "      <td>0.000000</td>\n",
       "      <td>0.000000</td>\n",
       "      <td>0.000000</td>\n",
       "      <td>0.000000</td>\n",
       "      <td>0.000000</td>\n",
       "      <td>0.000000</td>\n",
       "      <td>...</td>\n",
       "      <td>0.000000</td>\n",
       "      <td>0.000000</td>\n",
       "      <td>0.000000</td>\n",
       "      <td>0.000000</td>\n",
       "      <td>0.000000</td>\n",
       "      <td>0.000000</td>\n",
       "      <td>0.000000</td>\n",
       "      <td>0.000000</td>\n",
       "      <td>0.000000</td>\n",
       "      <td>0</td>\n",
       "    </tr>\n",
       "    <tr>\n",
       "      <th>21</th>\n",
       "      <td>0</td>\n",
       "      <td>0.000000</td>\n",
       "      <td>0.000000</td>\n",
       "      <td>0.000000</td>\n",
       "      <td>0.000000</td>\n",
       "      <td>0.000000</td>\n",
       "      <td>0.000000</td>\n",
       "      <td>0.000000</td>\n",
       "      <td>0.000000</td>\n",
       "      <td>0.000000</td>\n",
       "      <td>...</td>\n",
       "      <td>0.000000</td>\n",
       "      <td>0.000000</td>\n",
       "      <td>0.000000</td>\n",
       "      <td>0.000000</td>\n",
       "      <td>0.000000</td>\n",
       "      <td>0.000000</td>\n",
       "      <td>0.000000</td>\n",
       "      <td>0.000000</td>\n",
       "      <td>0.000000</td>\n",
       "      <td>0</td>\n",
       "    </tr>\n",
       "    <tr>\n",
       "      <th>22</th>\n",
       "      <td>0</td>\n",
       "      <td>0.000000</td>\n",
       "      <td>0.000000</td>\n",
       "      <td>0.000000</td>\n",
       "      <td>0.000000</td>\n",
       "      <td>0.000000</td>\n",
       "      <td>0.000000</td>\n",
       "      <td>0.000000</td>\n",
       "      <td>0.000000</td>\n",
       "      <td>0.000000</td>\n",
       "      <td>...</td>\n",
       "      <td>0.000000</td>\n",
       "      <td>0.000000</td>\n",
       "      <td>0.000000</td>\n",
       "      <td>0.000000</td>\n",
       "      <td>0.000000</td>\n",
       "      <td>0.000000</td>\n",
       "      <td>0.000000</td>\n",
       "      <td>0.000000</td>\n",
       "      <td>0.000000</td>\n",
       "      <td>0</td>\n",
       "    </tr>\n",
       "    <tr>\n",
       "      <th>23</th>\n",
       "      <td>0</td>\n",
       "      <td>0.000000</td>\n",
       "      <td>0.000000</td>\n",
       "      <td>0.000000</td>\n",
       "      <td>0.000000</td>\n",
       "      <td>0.000000</td>\n",
       "      <td>0.000000</td>\n",
       "      <td>0.000000</td>\n",
       "      <td>0.000000</td>\n",
       "      <td>0.000000</td>\n",
       "      <td>...</td>\n",
       "      <td>0.000000</td>\n",
       "      <td>0.000000</td>\n",
       "      <td>0.000000</td>\n",
       "      <td>0.000000</td>\n",
       "      <td>0.000000</td>\n",
       "      <td>0.000000</td>\n",
       "      <td>0.000000</td>\n",
       "      <td>0.000000</td>\n",
       "      <td>0.000000</td>\n",
       "      <td>0</td>\n",
       "    </tr>\n",
       "    <tr>\n",
       "      <th>24</th>\n",
       "      <td>0</td>\n",
       "      <td>0.000000</td>\n",
       "      <td>0.000000</td>\n",
       "      <td>0.000000</td>\n",
       "      <td>0.000000</td>\n",
       "      <td>0.000000</td>\n",
       "      <td>0.000000</td>\n",
       "      <td>0.000000</td>\n",
       "      <td>0.000000</td>\n",
       "      <td>0.000000</td>\n",
       "      <td>...</td>\n",
       "      <td>0.000000</td>\n",
       "      <td>0.000000</td>\n",
       "      <td>0.000000</td>\n",
       "      <td>0.000000</td>\n",
       "      <td>0.000000</td>\n",
       "      <td>0.000000</td>\n",
       "      <td>0.000000</td>\n",
       "      <td>0.000000</td>\n",
       "      <td>0.000000</td>\n",
       "      <td>0</td>\n",
       "    </tr>\n",
       "    <tr>\n",
       "      <th>25</th>\n",
       "      <td>0</td>\n",
       "      <td>0.000000</td>\n",
       "      <td>0.000000</td>\n",
       "      <td>0.000000</td>\n",
       "      <td>0.000000</td>\n",
       "      <td>0.000000</td>\n",
       "      <td>0.000000</td>\n",
       "      <td>0.000000</td>\n",
       "      <td>0.000000</td>\n",
       "      <td>0.000000</td>\n",
       "      <td>...</td>\n",
       "      <td>0.000000</td>\n",
       "      <td>0.000000</td>\n",
       "      <td>0.000000</td>\n",
       "      <td>0.000000</td>\n",
       "      <td>0.000000</td>\n",
       "      <td>0.000000</td>\n",
       "      <td>0.000000</td>\n",
       "      <td>0.000000</td>\n",
       "      <td>0.000000</td>\n",
       "      <td>0</td>\n",
       "    </tr>\n",
       "    <tr>\n",
       "      <th>26</th>\n",
       "      <td>0</td>\n",
       "      <td>0.000000</td>\n",
       "      <td>0.000000</td>\n",
       "      <td>0.000000</td>\n",
       "      <td>0.000000</td>\n",
       "      <td>0.000000</td>\n",
       "      <td>0.000000</td>\n",
       "      <td>0.000000</td>\n",
       "      <td>0.000000</td>\n",
       "      <td>0.000000</td>\n",
       "      <td>...</td>\n",
       "      <td>0.000000</td>\n",
       "      <td>0.000000</td>\n",
       "      <td>0.000000</td>\n",
       "      <td>0.000000</td>\n",
       "      <td>0.000000</td>\n",
       "      <td>0.000000</td>\n",
       "      <td>0.000000</td>\n",
       "      <td>0.000000</td>\n",
       "      <td>0.000000</td>\n",
       "      <td>0</td>\n",
       "    </tr>\n",
       "    <tr>\n",
       "      <th>27</th>\n",
       "      <td>0</td>\n",
       "      <td>0.000000</td>\n",
       "      <td>0.000000</td>\n",
       "      <td>0.000000</td>\n",
       "      <td>0.000000</td>\n",
       "      <td>0.000000</td>\n",
       "      <td>0.000000</td>\n",
       "      <td>0.000000</td>\n",
       "      <td>0.000000</td>\n",
       "      <td>0.000000</td>\n",
       "      <td>...</td>\n",
       "      <td>0.000000</td>\n",
       "      <td>0.000000</td>\n",
       "      <td>0.000000</td>\n",
       "      <td>0.000000</td>\n",
       "      <td>0.000000</td>\n",
       "      <td>0.000000</td>\n",
       "      <td>0.000000</td>\n",
       "      <td>0.000000</td>\n",
       "      <td>0.000000</td>\n",
       "      <td>0</td>\n",
       "    </tr>\n",
       "    <tr>\n",
       "      <th>28</th>\n",
       "      <td>0</td>\n",
       "      <td>0.000000</td>\n",
       "      <td>0.000000</td>\n",
       "      <td>0.000000</td>\n",
       "      <td>0.000000</td>\n",
       "      <td>0.000000</td>\n",
       "      <td>0.000000</td>\n",
       "      <td>0.000000</td>\n",
       "      <td>0.000000</td>\n",
       "      <td>0.000000</td>\n",
       "      <td>...</td>\n",
       "      <td>0.000000</td>\n",
       "      <td>0.000000</td>\n",
       "      <td>0.000000</td>\n",
       "      <td>0.000000</td>\n",
       "      <td>0.000000</td>\n",
       "      <td>0.000000</td>\n",
       "      <td>0.000000</td>\n",
       "      <td>0.000000</td>\n",
       "      <td>0.000000</td>\n",
       "      <td>0</td>\n",
       "    </tr>\n",
       "    <tr>\n",
       "      <th>29</th>\n",
       "      <td>0</td>\n",
       "      <td>0.000000</td>\n",
       "      <td>0.000000</td>\n",
       "      <td>0.000000</td>\n",
       "      <td>0.000000</td>\n",
       "      <td>0.000000</td>\n",
       "      <td>0.000000</td>\n",
       "      <td>0.000000</td>\n",
       "      <td>0.000000</td>\n",
       "      <td>0.000000</td>\n",
       "      <td>...</td>\n",
       "      <td>0.000000</td>\n",
       "      <td>0.000000</td>\n",
       "      <td>0.000000</td>\n",
       "      <td>0.000000</td>\n",
       "      <td>0.000000</td>\n",
       "      <td>0.000000</td>\n",
       "      <td>0.000000</td>\n",
       "      <td>0.000000</td>\n",
       "      <td>0.000000</td>\n",
       "      <td>0</td>\n",
       "    </tr>\n",
       "    <tr>\n",
       "      <th>30</th>\n",
       "      <td>0</td>\n",
       "      <td>0.000000</td>\n",
       "      <td>0.000000</td>\n",
       "      <td>0.000000</td>\n",
       "      <td>0.000000</td>\n",
       "      <td>0.000000</td>\n",
       "      <td>0.000000</td>\n",
       "      <td>0.000000</td>\n",
       "      <td>0.000000</td>\n",
       "      <td>0.000000</td>\n",
       "      <td>...</td>\n",
       "      <td>0.000000</td>\n",
       "      <td>0.000000</td>\n",
       "      <td>0.000000</td>\n",
       "      <td>0.000000</td>\n",
       "      <td>0.000000</td>\n",
       "      <td>0.000000</td>\n",
       "      <td>0.000000</td>\n",
       "      <td>0.000000</td>\n",
       "      <td>0.000000</td>\n",
       "      <td>0</td>\n",
       "    </tr>\n",
       "    <tr>\n",
       "      <th>31</th>\n",
       "      <td>0</td>\n",
       "      <td>0.000000</td>\n",
       "      <td>0.000000</td>\n",
       "      <td>0.000000</td>\n",
       "      <td>0.000000</td>\n",
       "      <td>0.000000</td>\n",
       "      <td>0.000000</td>\n",
       "      <td>0.000000</td>\n",
       "      <td>0.000000</td>\n",
       "      <td>0.000000</td>\n",
       "      <td>...</td>\n",
       "      <td>0.000000</td>\n",
       "      <td>0.000000</td>\n",
       "      <td>0.000000</td>\n",
       "      <td>0.000000</td>\n",
       "      <td>0.000000</td>\n",
       "      <td>0.000000</td>\n",
       "      <td>0.000000</td>\n",
       "      <td>0.000000</td>\n",
       "      <td>0.000000</td>\n",
       "      <td>0</td>\n",
       "    </tr>\n",
       "    <tr>\n",
       "      <th>32</th>\n",
       "      <td>0</td>\n",
       "      <td>0.000000</td>\n",
       "      <td>0.000000</td>\n",
       "      <td>0.000000</td>\n",
       "      <td>0.000000</td>\n",
       "      <td>0.000000</td>\n",
       "      <td>0.000000</td>\n",
       "      <td>0.000000</td>\n",
       "      <td>0.000000</td>\n",
       "      <td>0.000000</td>\n",
       "      <td>...</td>\n",
       "      <td>0.000000</td>\n",
       "      <td>0.000000</td>\n",
       "      <td>0.000000</td>\n",
       "      <td>0.000000</td>\n",
       "      <td>0.000000</td>\n",
       "      <td>0.000000</td>\n",
       "      <td>0.000000</td>\n",
       "      <td>0.000000</td>\n",
       "      <td>0.000000</td>\n",
       "      <td>0</td>\n",
       "    </tr>\n",
       "    <tr>\n",
       "      <th>33</th>\n",
       "      <td>0</td>\n",
       "      <td>0.000000</td>\n",
       "      <td>0.000000</td>\n",
       "      <td>0.000000</td>\n",
       "      <td>0.000000</td>\n",
       "      <td>0.000000</td>\n",
       "      <td>0.000000</td>\n",
       "      <td>0.000000</td>\n",
       "      <td>0.000000</td>\n",
       "      <td>0.000000</td>\n",
       "      <td>...</td>\n",
       "      <td>0.000000</td>\n",
       "      <td>0.000000</td>\n",
       "      <td>0.000000</td>\n",
       "      <td>0.000000</td>\n",
       "      <td>0.000000</td>\n",
       "      <td>0.000000</td>\n",
       "      <td>0.000000</td>\n",
       "      <td>0.000000</td>\n",
       "      <td>0.000000</td>\n",
       "      <td>0</td>\n",
       "    </tr>\n",
       "    <tr>\n",
       "      <th>34</th>\n",
       "      <td>0</td>\n",
       "      <td>0.000000</td>\n",
       "      <td>0.000000</td>\n",
       "      <td>0.000000</td>\n",
       "      <td>0.000000</td>\n",
       "      <td>0.000000</td>\n",
       "      <td>0.000000</td>\n",
       "      <td>0.000000</td>\n",
       "      <td>0.000000</td>\n",
       "      <td>0.000000</td>\n",
       "      <td>...</td>\n",
       "      <td>0.000000</td>\n",
       "      <td>0.000000</td>\n",
       "      <td>0.000000</td>\n",
       "      <td>0.000000</td>\n",
       "      <td>0.000000</td>\n",
       "      <td>0.000000</td>\n",
       "      <td>0.000000</td>\n",
       "      <td>0.000000</td>\n",
       "      <td>0.000000</td>\n",
       "      <td>0</td>\n",
       "    </tr>\n",
       "    <tr>\n",
       "      <th>35</th>\n",
       "      <td>0</td>\n",
       "      <td>0.000000</td>\n",
       "      <td>0.000000</td>\n",
       "      <td>0.000000</td>\n",
       "      <td>0.000000</td>\n",
       "      <td>0.000000</td>\n",
       "      <td>0.000000</td>\n",
       "      <td>0.000000</td>\n",
       "      <td>0.000000</td>\n",
       "      <td>0.000000</td>\n",
       "      <td>...</td>\n",
       "      <td>0.000000</td>\n",
       "      <td>0.000000</td>\n",
       "      <td>0.000000</td>\n",
       "      <td>0.000000</td>\n",
       "      <td>0.000000</td>\n",
       "      <td>0.000000</td>\n",
       "      <td>0.000000</td>\n",
       "      <td>0.000000</td>\n",
       "      <td>0.000000</td>\n",
       "      <td>0</td>\n",
       "    </tr>\n",
       "    <tr>\n",
       "      <th>36</th>\n",
       "      <td>0</td>\n",
       "      <td>0.000000</td>\n",
       "      <td>0.000000</td>\n",
       "      <td>0.000000</td>\n",
       "      <td>0.000000</td>\n",
       "      <td>0.000000</td>\n",
       "      <td>0.000000</td>\n",
       "      <td>0.000000</td>\n",
       "      <td>0.000000</td>\n",
       "      <td>0.000000</td>\n",
       "      <td>...</td>\n",
       "      <td>0.000000</td>\n",
       "      <td>0.000000</td>\n",
       "      <td>0.000000</td>\n",
       "      <td>0.000000</td>\n",
       "      <td>0.000000</td>\n",
       "      <td>0.000000</td>\n",
       "      <td>0.000000</td>\n",
       "      <td>0.000000</td>\n",
       "      <td>0.000000</td>\n",
       "      <td>0</td>\n",
       "    </tr>\n",
       "    <tr>\n",
       "      <th>37</th>\n",
       "      <td>0</td>\n",
       "      <td>0.000000</td>\n",
       "      <td>0.000000</td>\n",
       "      <td>0.000000</td>\n",
       "      <td>0.000000</td>\n",
       "      <td>0.000000</td>\n",
       "      <td>0.000000</td>\n",
       "      <td>0.000000</td>\n",
       "      <td>0.000000</td>\n",
       "      <td>0.000000</td>\n",
       "      <td>...</td>\n",
       "      <td>0.000000</td>\n",
       "      <td>0.000000</td>\n",
       "      <td>0.000000</td>\n",
       "      <td>0.000000</td>\n",
       "      <td>0.000000</td>\n",
       "      <td>0.000000</td>\n",
       "      <td>0.000000</td>\n",
       "      <td>0.000000</td>\n",
       "      <td>0.000000</td>\n",
       "      <td>0</td>\n",
       "    </tr>\n",
       "    <tr>\n",
       "      <th>38</th>\n",
       "      <td>0</td>\n",
       "      <td>0.000000</td>\n",
       "      <td>0.000000</td>\n",
       "      <td>0.000000</td>\n",
       "      <td>0.000000</td>\n",
       "      <td>0.000000</td>\n",
       "      <td>0.000000</td>\n",
       "      <td>0.000000</td>\n",
       "      <td>0.000000</td>\n",
       "      <td>0.000000</td>\n",
       "      <td>...</td>\n",
       "      <td>0.000000</td>\n",
       "      <td>0.000000</td>\n",
       "      <td>0.000000</td>\n",
       "      <td>0.000000</td>\n",
       "      <td>0.000000</td>\n",
       "      <td>0.000000</td>\n",
       "      <td>0.000000</td>\n",
       "      <td>0.000000</td>\n",
       "      <td>0.000000</td>\n",
       "      <td>0</td>\n",
       "    </tr>\n",
       "    <tr>\n",
       "      <th>39</th>\n",
       "      <td>0</td>\n",
       "      <td>0.000000</td>\n",
       "      <td>0.000000</td>\n",
       "      <td>0.000000</td>\n",
       "      <td>0.000000</td>\n",
       "      <td>0.000000</td>\n",
       "      <td>0.000000</td>\n",
       "      <td>0.000000</td>\n",
       "      <td>0.000000</td>\n",
       "      <td>0.000000</td>\n",
       "      <td>...</td>\n",
       "      <td>0.000000</td>\n",
       "      <td>0.000000</td>\n",
       "      <td>0.000000</td>\n",
       "      <td>0.000000</td>\n",
       "      <td>0.000000</td>\n",
       "      <td>0.000000</td>\n",
       "      <td>0.000000</td>\n",
       "      <td>0.000000</td>\n",
       "      <td>0.000000</td>\n",
       "      <td>0</td>\n",
       "    </tr>\n",
       "    <tr>\n",
       "      <th>40</th>\n",
       "      <td>0</td>\n",
       "      <td>0.000000</td>\n",
       "      <td>0.000000</td>\n",
       "      <td>0.000000</td>\n",
       "      <td>0.000000</td>\n",
       "      <td>0.000000</td>\n",
       "      <td>0.000000</td>\n",
       "      <td>0.000000</td>\n",
       "      <td>0.000000</td>\n",
       "      <td>0.000000</td>\n",
       "      <td>...</td>\n",
       "      <td>0.000000</td>\n",
       "      <td>0.000000</td>\n",
       "      <td>0.000000</td>\n",
       "      <td>0.000000</td>\n",
       "      <td>0.000000</td>\n",
       "      <td>0.000000</td>\n",
       "      <td>0.000000</td>\n",
       "      <td>0.000000</td>\n",
       "      <td>0.000000</td>\n",
       "      <td>0</td>\n",
       "    </tr>\n",
       "    <tr>\n",
       "      <th>41</th>\n",
       "      <td>0</td>\n",
       "      <td>0.000000</td>\n",
       "      <td>0.000000</td>\n",
       "      <td>0.000000</td>\n",
       "      <td>0.000000</td>\n",
       "      <td>0.000000</td>\n",
       "      <td>0.000000</td>\n",
       "      <td>0.000000</td>\n",
       "      <td>0.000000</td>\n",
       "      <td>0.000000</td>\n",
       "      <td>...</td>\n",
       "      <td>0.000000</td>\n",
       "      <td>0.000000</td>\n",
       "      <td>0.000000</td>\n",
       "      <td>0.000000</td>\n",
       "      <td>0.000000</td>\n",
       "      <td>0.000000</td>\n",
       "      <td>0.000000</td>\n",
       "      <td>0.000000</td>\n",
       "      <td>0.000000</td>\n",
       "      <td>0</td>\n",
       "    </tr>\n",
       "    <tr>\n",
       "      <th>42</th>\n",
       "      <td>0</td>\n",
       "      <td>0.000000</td>\n",
       "      <td>0.000000</td>\n",
       "      <td>0.000000</td>\n",
       "      <td>0.000000</td>\n",
       "      <td>0.000000</td>\n",
       "      <td>0.000000</td>\n",
       "      <td>0.000000</td>\n",
       "      <td>0.000000</td>\n",
       "      <td>0.000000</td>\n",
       "      <td>...</td>\n",
       "      <td>0.000000</td>\n",
       "      <td>0.000000</td>\n",
       "      <td>0.000000</td>\n",
       "      <td>0.000000</td>\n",
       "      <td>0.000000</td>\n",
       "      <td>0.000000</td>\n",
       "      <td>0.000000</td>\n",
       "      <td>0.000000</td>\n",
       "      <td>0.000000</td>\n",
       "      <td>0</td>\n",
       "    </tr>\n",
       "    <tr>\n",
       "      <th>43</th>\n",
       "      <td>0</td>\n",
       "      <td>0.000000</td>\n",
       "      <td>0.000000</td>\n",
       "      <td>0.000000</td>\n",
       "      <td>0.000000</td>\n",
       "      <td>0.000000</td>\n",
       "      <td>0.000000</td>\n",
       "      <td>0.000000</td>\n",
       "      <td>0.000000</td>\n",
       "      <td>0.000000</td>\n",
       "      <td>...</td>\n",
       "      <td>0.000000</td>\n",
       "      <td>0.000000</td>\n",
       "      <td>0.000000</td>\n",
       "      <td>0.000000</td>\n",
       "      <td>0.000000</td>\n",
       "      <td>0.000000</td>\n",
       "      <td>0.000000</td>\n",
       "      <td>0.000000</td>\n",
       "      <td>0.000000</td>\n",
       "      <td>0</td>\n",
       "    </tr>\n",
       "    <tr>\n",
       "      <th>44</th>\n",
       "      <td>0</td>\n",
       "      <td>0.000000</td>\n",
       "      <td>0.000000</td>\n",
       "      <td>0.000000</td>\n",
       "      <td>0.000000</td>\n",
       "      <td>0.000000</td>\n",
       "      <td>0.000000</td>\n",
       "      <td>0.000000</td>\n",
       "      <td>0.000000</td>\n",
       "      <td>0.000000</td>\n",
       "      <td>...</td>\n",
       "      <td>0.000000</td>\n",
       "      <td>0.000000</td>\n",
       "      <td>0.000000</td>\n",
       "      <td>0.000000</td>\n",
       "      <td>0.000000</td>\n",
       "      <td>0.000000</td>\n",
       "      <td>0.000000</td>\n",
       "      <td>0.000000</td>\n",
       "      <td>0.000000</td>\n",
       "      <td>0</td>\n",
       "    </tr>\n",
       "    <tr>\n",
       "      <th>45</th>\n",
       "      <td>0</td>\n",
       "      <td>0.000000</td>\n",
       "      <td>0.000000</td>\n",
       "      <td>0.000000</td>\n",
       "      <td>0.000000</td>\n",
       "      <td>0.000000</td>\n",
       "      <td>0.000000</td>\n",
       "      <td>0.000000</td>\n",
       "      <td>0.000000</td>\n",
       "      <td>0.000000</td>\n",
       "      <td>...</td>\n",
       "      <td>0.000000</td>\n",
       "      <td>0.000000</td>\n",
       "      <td>0.000000</td>\n",
       "      <td>0.000000</td>\n",
       "      <td>0.000000</td>\n",
       "      <td>0.000000</td>\n",
       "      <td>0.000000</td>\n",
       "      <td>0.000000</td>\n",
       "      <td>0.000000</td>\n",
       "      <td>0</td>\n",
       "    </tr>\n",
       "    <tr>\n",
       "      <th>46</th>\n",
       "      <td>0</td>\n",
       "      <td>0.000000</td>\n",
       "      <td>0.000000</td>\n",
       "      <td>0.000000</td>\n",
       "      <td>0.000000</td>\n",
       "      <td>0.000000</td>\n",
       "      <td>0.000000</td>\n",
       "      <td>0.000000</td>\n",
       "      <td>0.000000</td>\n",
       "      <td>0.000000</td>\n",
       "      <td>...</td>\n",
       "      <td>0.000000</td>\n",
       "      <td>0.000000</td>\n",
       "      <td>0.000000</td>\n",
       "      <td>0.000000</td>\n",
       "      <td>0.000000</td>\n",
       "      <td>0.000000</td>\n",
       "      <td>0.000000</td>\n",
       "      <td>0.000000</td>\n",
       "      <td>0.000000</td>\n",
       "      <td>0</td>\n",
       "    </tr>\n",
       "    <tr>\n",
       "      <th>47</th>\n",
       "      <td>0</td>\n",
       "      <td>0.000000</td>\n",
       "      <td>0.000000</td>\n",
       "      <td>0.000000</td>\n",
       "      <td>0.000000</td>\n",
       "      <td>0.000000</td>\n",
       "      <td>0.000000</td>\n",
       "      <td>0.000000</td>\n",
       "      <td>0.000000</td>\n",
       "      <td>0.000000</td>\n",
       "      <td>...</td>\n",
       "      <td>0.000000</td>\n",
       "      <td>0.000000</td>\n",
       "      <td>0.000000</td>\n",
       "      <td>0.000000</td>\n",
       "      <td>0.000000</td>\n",
       "      <td>0.000000</td>\n",
       "      <td>0.000000</td>\n",
       "      <td>0.000000</td>\n",
       "      <td>0.000000</td>\n",
       "      <td>0</td>\n",
       "    </tr>\n",
       "    <tr>\n",
       "      <th>48</th>\n",
       "      <td>0</td>\n",
       "      <td>0.000000</td>\n",
       "      <td>0.000000</td>\n",
       "      <td>0.000000</td>\n",
       "      <td>0.000000</td>\n",
       "      <td>0.000000</td>\n",
       "      <td>0.000000</td>\n",
       "      <td>0.000000</td>\n",
       "      <td>0.000000</td>\n",
       "      <td>0.000000</td>\n",
       "      <td>...</td>\n",
       "      <td>0.000000</td>\n",
       "      <td>0.000000</td>\n",
       "      <td>0.000000</td>\n",
       "      <td>0.000000</td>\n",
       "      <td>0.000000</td>\n",
       "      <td>0.000000</td>\n",
       "      <td>0.000000</td>\n",
       "      <td>0.000000</td>\n",
       "      <td>0.000000</td>\n",
       "      <td>0</td>\n",
       "    </tr>\n",
       "    <tr>\n",
       "      <th>49</th>\n",
       "      <td>0</td>\n",
       "      <td>0.000000</td>\n",
       "      <td>0.000000</td>\n",
       "      <td>0.000000</td>\n",
       "      <td>0.000000</td>\n",
       "      <td>0.000000</td>\n",
       "      <td>0.000000</td>\n",
       "      <td>0.000000</td>\n",
       "      <td>0.000000</td>\n",
       "      <td>0.000000</td>\n",
       "      <td>...</td>\n",
       "      <td>0.000000</td>\n",
       "      <td>0.000000</td>\n",
       "      <td>0.000000</td>\n",
       "      <td>0.000000</td>\n",
       "      <td>0.000000</td>\n",
       "      <td>0.000000</td>\n",
       "      <td>0.000000</td>\n",
       "      <td>0.000000</td>\n",
       "      <td>0.000000</td>\n",
       "      <td>0</td>\n",
       "    </tr>\n",
       "  </tbody>\n",
       "</table>\n",
       "<p>50 rows × 27 columns</p>\n",
       "</div>"
      ],
      "text/plain": [
       "    timeline_index        d1        d2        d3         d4        d5  \\\n",
       "0                1 -8.184407  0.357605  0.566598  -1.351197 -9.683786   \n",
       "1                2 -2.904356  5.884636  2.931294   5.438816  0.411570   \n",
       "2                3 -1.376977  0.640244  2.392643   0.825427 -3.413183   \n",
       "3                4  3.498998 -5.266631  0.886186  -4.562673 -6.357450   \n",
       "4                5 -7.310086 -5.549340 -0.425963  13.593971 -4.254689   \n",
       "5                6 -3.975669  3.179887  7.472161  -0.649809 -6.216656   \n",
       "6                7 -0.349186  2.597502  0.853750  -4.370289 -6.380077   \n",
       "7                8 -0.159664  3.315958 -0.221650   0.136687  4.232004   \n",
       "8                9 -9.811738  2.751759  0.231230  -0.543667 -6.092617   \n",
       "9                0  0.000000  0.000000  0.000000   0.000000  0.000000   \n",
       "10               0  0.000000  0.000000  0.000000   0.000000  0.000000   \n",
       "11               0  0.000000  0.000000  0.000000   0.000000  0.000000   \n",
       "12               0  0.000000  0.000000  0.000000   0.000000  0.000000   \n",
       "13               0  0.000000  0.000000  0.000000   0.000000  0.000000   \n",
       "14               0  0.000000  0.000000  0.000000   0.000000  0.000000   \n",
       "15               0  0.000000  0.000000  0.000000   0.000000  0.000000   \n",
       "16               0  0.000000  0.000000  0.000000   0.000000  0.000000   \n",
       "17               0  0.000000  0.000000  0.000000   0.000000  0.000000   \n",
       "18               0  0.000000  0.000000  0.000000   0.000000  0.000000   \n",
       "19               0  0.000000  0.000000  0.000000   0.000000  0.000000   \n",
       "20               0  0.000000  0.000000  0.000000   0.000000  0.000000   \n",
       "21               0  0.000000  0.000000  0.000000   0.000000  0.000000   \n",
       "22               0  0.000000  0.000000  0.000000   0.000000  0.000000   \n",
       "23               0  0.000000  0.000000  0.000000   0.000000  0.000000   \n",
       "24               0  0.000000  0.000000  0.000000   0.000000  0.000000   \n",
       "25               0  0.000000  0.000000  0.000000   0.000000  0.000000   \n",
       "26               0  0.000000  0.000000  0.000000   0.000000  0.000000   \n",
       "27               0  0.000000  0.000000  0.000000   0.000000  0.000000   \n",
       "28               0  0.000000  0.000000  0.000000   0.000000  0.000000   \n",
       "29               0  0.000000  0.000000  0.000000   0.000000  0.000000   \n",
       "30               0  0.000000  0.000000  0.000000   0.000000  0.000000   \n",
       "31               0  0.000000  0.000000  0.000000   0.000000  0.000000   \n",
       "32               0  0.000000  0.000000  0.000000   0.000000  0.000000   \n",
       "33               0  0.000000  0.000000  0.000000   0.000000  0.000000   \n",
       "34               0  0.000000  0.000000  0.000000   0.000000  0.000000   \n",
       "35               0  0.000000  0.000000  0.000000   0.000000  0.000000   \n",
       "36               0  0.000000  0.000000  0.000000   0.000000  0.000000   \n",
       "37               0  0.000000  0.000000  0.000000   0.000000  0.000000   \n",
       "38               0  0.000000  0.000000  0.000000   0.000000  0.000000   \n",
       "39               0  0.000000  0.000000  0.000000   0.000000  0.000000   \n",
       "40               0  0.000000  0.000000  0.000000   0.000000  0.000000   \n",
       "41               0  0.000000  0.000000  0.000000   0.000000  0.000000   \n",
       "42               0  0.000000  0.000000  0.000000   0.000000  0.000000   \n",
       "43               0  0.000000  0.000000  0.000000   0.000000  0.000000   \n",
       "44               0  0.000000  0.000000  0.000000   0.000000  0.000000   \n",
       "45               0  0.000000  0.000000  0.000000   0.000000  0.000000   \n",
       "46               0  0.000000  0.000000  0.000000   0.000000  0.000000   \n",
       "47               0  0.000000  0.000000  0.000000   0.000000  0.000000   \n",
       "48               0  0.000000  0.000000  0.000000   0.000000  0.000000   \n",
       "49               0  0.000000  0.000000  0.000000   0.000000  0.000000   \n",
       "\n",
       "          d6         d7         d8        d9  ...        d17       d18  \\\n",
       "0  -6.931541   1.650490 -11.222075 -1.924996  ...   7.192530  4.291727   \n",
       "1  -3.261564   2.507926 -11.685226 -1.094608  ...   3.100971  1.974189   \n",
       "2   0.034750   1.000106  -8.113235  9.835896  ...   2.606649 -3.961726   \n",
       "3  -6.688447  -1.382969   1.244140  8.755057  ...  -0.415532  2.268054   \n",
       "4  -0.822410   1.523418  -1.043126  5.992587  ...   3.082348  5.958674   \n",
       "5  -5.734218   2.052460  -9.384834  7.383495  ... -10.229475  2.354359   \n",
       "6  -4.736427 -11.622005   5.676067  0.921194  ...  -3.706427 -0.166759   \n",
       "7  -4.723308  -2.238593 -10.119272  3.124954  ... -10.549425 -1.162344   \n",
       "8  -2.493757  -4.286288  -0.102742  2.937260  ...   6.907743 -3.869002   \n",
       "9   0.000000   0.000000   0.000000  0.000000  ...   0.000000  0.000000   \n",
       "10  0.000000   0.000000   0.000000  0.000000  ...   0.000000  0.000000   \n",
       "11  0.000000   0.000000   0.000000  0.000000  ...   0.000000  0.000000   \n",
       "12  0.000000   0.000000   0.000000  0.000000  ...   0.000000  0.000000   \n",
       "13  0.000000   0.000000   0.000000  0.000000  ...   0.000000  0.000000   \n",
       "14  0.000000   0.000000   0.000000  0.000000  ...   0.000000  0.000000   \n",
       "15  0.000000   0.000000   0.000000  0.000000  ...   0.000000  0.000000   \n",
       "16  0.000000   0.000000   0.000000  0.000000  ...   0.000000  0.000000   \n",
       "17  0.000000   0.000000   0.000000  0.000000  ...   0.000000  0.000000   \n",
       "18  0.000000   0.000000   0.000000  0.000000  ...   0.000000  0.000000   \n",
       "19  0.000000   0.000000   0.000000  0.000000  ...   0.000000  0.000000   \n",
       "20  0.000000   0.000000   0.000000  0.000000  ...   0.000000  0.000000   \n",
       "21  0.000000   0.000000   0.000000  0.000000  ...   0.000000  0.000000   \n",
       "22  0.000000   0.000000   0.000000  0.000000  ...   0.000000  0.000000   \n",
       "23  0.000000   0.000000   0.000000  0.000000  ...   0.000000  0.000000   \n",
       "24  0.000000   0.000000   0.000000  0.000000  ...   0.000000  0.000000   \n",
       "25  0.000000   0.000000   0.000000  0.000000  ...   0.000000  0.000000   \n",
       "26  0.000000   0.000000   0.000000  0.000000  ...   0.000000  0.000000   \n",
       "27  0.000000   0.000000   0.000000  0.000000  ...   0.000000  0.000000   \n",
       "28  0.000000   0.000000   0.000000  0.000000  ...   0.000000  0.000000   \n",
       "29  0.000000   0.000000   0.000000  0.000000  ...   0.000000  0.000000   \n",
       "30  0.000000   0.000000   0.000000  0.000000  ...   0.000000  0.000000   \n",
       "31  0.000000   0.000000   0.000000  0.000000  ...   0.000000  0.000000   \n",
       "32  0.000000   0.000000   0.000000  0.000000  ...   0.000000  0.000000   \n",
       "33  0.000000   0.000000   0.000000  0.000000  ...   0.000000  0.000000   \n",
       "34  0.000000   0.000000   0.000000  0.000000  ...   0.000000  0.000000   \n",
       "35  0.000000   0.000000   0.000000  0.000000  ...   0.000000  0.000000   \n",
       "36  0.000000   0.000000   0.000000  0.000000  ...   0.000000  0.000000   \n",
       "37  0.000000   0.000000   0.000000  0.000000  ...   0.000000  0.000000   \n",
       "38  0.000000   0.000000   0.000000  0.000000  ...   0.000000  0.000000   \n",
       "39  0.000000   0.000000   0.000000  0.000000  ...   0.000000  0.000000   \n",
       "40  0.000000   0.000000   0.000000  0.000000  ...   0.000000  0.000000   \n",
       "41  0.000000   0.000000   0.000000  0.000000  ...   0.000000  0.000000   \n",
       "42  0.000000   0.000000   0.000000  0.000000  ...   0.000000  0.000000   \n",
       "43  0.000000   0.000000   0.000000  0.000000  ...   0.000000  0.000000   \n",
       "44  0.000000   0.000000   0.000000  0.000000  ...   0.000000  0.000000   \n",
       "45  0.000000   0.000000   0.000000  0.000000  ...   0.000000  0.000000   \n",
       "46  0.000000   0.000000   0.000000  0.000000  ...   0.000000  0.000000   \n",
       "47  0.000000   0.000000   0.000000  0.000000  ...   0.000000  0.000000   \n",
       "48  0.000000   0.000000   0.000000  0.000000  ...   0.000000  0.000000   \n",
       "49  0.000000   0.000000   0.000000  0.000000  ...   0.000000  0.000000   \n",
       "\n",
       "          d19       d20       d21       d22        d23        d24       d25  \\\n",
       "0    4.865719 -3.590005 -2.639724  0.824082   9.098892  -8.540661  4.400712   \n",
       "1    8.288576 -0.170562 -6.121720 -1.274745   1.703130  -6.595260 -2.422338   \n",
       "2    7.180635 -3.143429  4.694233  2.917291  -0.070891  -3.026617 -0.102067   \n",
       "3    2.662268 -0.447599 -4.183741  1.182800  -8.942212  -6.181649 -3.264953   \n",
       "4   14.357894  0.738164  1.745513 -0.977818   1.948113   9.205460  0.895346   \n",
       "5   -1.716216  3.917720  2.473520  5.013416  13.761066  -1.078138 -0.338295   \n",
       "6    3.991535  5.970876 -4.975106  1.382497   2.154727   1.070546  3.317766   \n",
       "7   -0.899930  8.717914  2.322280 -2.536336   2.563050 -12.116966  5.703554   \n",
       "8    7.378634  1.409845  8.107550 -4.837181   2.894693  -2.424176 -2.469648   \n",
       "9    0.000000  0.000000  0.000000  0.000000   0.000000   0.000000  0.000000   \n",
       "10   0.000000  0.000000  0.000000  0.000000   0.000000   0.000000  0.000000   \n",
       "11   0.000000  0.000000  0.000000  0.000000   0.000000   0.000000  0.000000   \n",
       "12   0.000000  0.000000  0.000000  0.000000   0.000000   0.000000  0.000000   \n",
       "13   0.000000  0.000000  0.000000  0.000000   0.000000   0.000000  0.000000   \n",
       "14   0.000000  0.000000  0.000000  0.000000   0.000000   0.000000  0.000000   \n",
       "15   0.000000  0.000000  0.000000  0.000000   0.000000   0.000000  0.000000   \n",
       "16   0.000000  0.000000  0.000000  0.000000   0.000000   0.000000  0.000000   \n",
       "17   0.000000  0.000000  0.000000  0.000000   0.000000   0.000000  0.000000   \n",
       "18   0.000000  0.000000  0.000000  0.000000   0.000000   0.000000  0.000000   \n",
       "19   0.000000  0.000000  0.000000  0.000000   0.000000   0.000000  0.000000   \n",
       "20   0.000000  0.000000  0.000000  0.000000   0.000000   0.000000  0.000000   \n",
       "21   0.000000  0.000000  0.000000  0.000000   0.000000   0.000000  0.000000   \n",
       "22   0.000000  0.000000  0.000000  0.000000   0.000000   0.000000  0.000000   \n",
       "23   0.000000  0.000000  0.000000  0.000000   0.000000   0.000000  0.000000   \n",
       "24   0.000000  0.000000  0.000000  0.000000   0.000000   0.000000  0.000000   \n",
       "25   0.000000  0.000000  0.000000  0.000000   0.000000   0.000000  0.000000   \n",
       "26   0.000000  0.000000  0.000000  0.000000   0.000000   0.000000  0.000000   \n",
       "27   0.000000  0.000000  0.000000  0.000000   0.000000   0.000000  0.000000   \n",
       "28   0.000000  0.000000  0.000000  0.000000   0.000000   0.000000  0.000000   \n",
       "29   0.000000  0.000000  0.000000  0.000000   0.000000   0.000000  0.000000   \n",
       "30   0.000000  0.000000  0.000000  0.000000   0.000000   0.000000  0.000000   \n",
       "31   0.000000  0.000000  0.000000  0.000000   0.000000   0.000000  0.000000   \n",
       "32   0.000000  0.000000  0.000000  0.000000   0.000000   0.000000  0.000000   \n",
       "33   0.000000  0.000000  0.000000  0.000000   0.000000   0.000000  0.000000   \n",
       "34   0.000000  0.000000  0.000000  0.000000   0.000000   0.000000  0.000000   \n",
       "35   0.000000  0.000000  0.000000  0.000000   0.000000   0.000000  0.000000   \n",
       "36   0.000000  0.000000  0.000000  0.000000   0.000000   0.000000  0.000000   \n",
       "37   0.000000  0.000000  0.000000  0.000000   0.000000   0.000000  0.000000   \n",
       "38   0.000000  0.000000  0.000000  0.000000   0.000000   0.000000  0.000000   \n",
       "39   0.000000  0.000000  0.000000  0.000000   0.000000   0.000000  0.000000   \n",
       "40   0.000000  0.000000  0.000000  0.000000   0.000000   0.000000  0.000000   \n",
       "41   0.000000  0.000000  0.000000  0.000000   0.000000   0.000000  0.000000   \n",
       "42   0.000000  0.000000  0.000000  0.000000   0.000000   0.000000  0.000000   \n",
       "43   0.000000  0.000000  0.000000  0.000000   0.000000   0.000000  0.000000   \n",
       "44   0.000000  0.000000  0.000000  0.000000   0.000000   0.000000  0.000000   \n",
       "45   0.000000  0.000000  0.000000  0.000000   0.000000   0.000000  0.000000   \n",
       "46   0.000000  0.000000  0.000000  0.000000   0.000000   0.000000  0.000000   \n",
       "47   0.000000  0.000000  0.000000  0.000000   0.000000   0.000000  0.000000   \n",
       "48   0.000000  0.000000  0.000000  0.000000   0.000000   0.000000  0.000000   \n",
       "49   0.000000  0.000000  0.000000  0.000000   0.000000   0.000000  0.000000   \n",
       "\n",
       "    text_id  \n",
       "0         0  \n",
       "1         0  \n",
       "2         0  \n",
       "3         0  \n",
       "4         0  \n",
       "5         0  \n",
       "6         0  \n",
       "7         0  \n",
       "8         0  \n",
       "9         0  \n",
       "10        0  \n",
       "11        0  \n",
       "12        0  \n",
       "13        0  \n",
       "14        0  \n",
       "15        0  \n",
       "16        0  \n",
       "17        0  \n",
       "18        0  \n",
       "19        0  \n",
       "20        0  \n",
       "21        0  \n",
       "22        0  \n",
       "23        0  \n",
       "24        0  \n",
       "25        0  \n",
       "26        0  \n",
       "27        0  \n",
       "28        0  \n",
       "29        0  \n",
       "30        0  \n",
       "31        0  \n",
       "32        0  \n",
       "33        0  \n",
       "34        0  \n",
       "35        0  \n",
       "36        0  \n",
       "37        0  \n",
       "38        0  \n",
       "39        0  \n",
       "40        0  \n",
       "41        0  \n",
       "42        0  \n",
       "43        0  \n",
       "44        0  \n",
       "45        0  \n",
       "46        0  \n",
       "47        0  \n",
       "48        0  \n",
       "49        0  \n",
       "\n",
       "[50 rows x 27 columns]"
      ]
     },
     "execution_count": 30,
     "metadata": {},
     "output_type": "execute_result"
    }
   ],
   "source": [
    "# still has the labels and the ids\n",
    "english_dataset.df_padded[english_dataset.df_padded[\"text_id\"]==0]"
   ]
  },
  {
   "cell_type": "code",
   "execution_count": 31,
   "id": "40969a63",
   "metadata": {},
   "outputs": [
    {
     "data": {
      "text/plain": [
       "word                          confounds\n",
       "language                             en\n",
       "tokens      [c, o, n, f, o, u, n, d, s]\n",
       "Name: 0, dtype: object"
      ]
     },
     "execution_count": 31,
     "metadata": {},
     "output_type": "execute_result"
    }
   ],
   "source": [
    "english_train_encoder.df.iloc[0]"
   ]
  },
  {
   "cell_type": "markdown",
   "id": "07994e10",
   "metadata": {},
   "source": [
    "For the padded rows, we give these a label `-1` to denote that they have been added.\n",
    "\n",
    "Note that for padding, the method pads from below by default, but we can pad by above by setting `pad_from_below=False`.\n",
    "\n",
    "To obtain a path as a Numpy array, we use the `.get_path()` method which by default keeps the time features and will remove the id and label columns. We make this more explicit by setting `include_features=True` here."
   ]
  },
  {
   "cell_type": "code",
   "execution_count": 32,
   "id": "e9f2ba04",
   "metadata": {},
   "outputs": [
    {
     "data": {
      "text/plain": [
       "(70641, 50, 26)"
      ]
     },
     "execution_count": 32,
     "metadata": {},
     "output_type": "execute_result"
    }
   ],
   "source": [
    "english_word_path = english_dataset.get_path(include_features=True)\n",
    "english_word_path.shape"
   ]
  },
  {
   "cell_type": "code",
   "execution_count": 33,
   "id": "cb5e2f91-f171-4ced-9f93-60bf977b6b8a",
   "metadata": {},
   "outputs": [
    {
     "data": {
      "text/plain": [
       "array([[ 1.        , -8.18440723,  0.3576045 , ...,  9.09889221,\n",
       "        -8.54066086,  4.40071249],\n",
       "       [ 2.        , -2.90435576,  5.88463593, ...,  1.70313036,\n",
       "        -6.59526014, -2.42233801],\n",
       "       [ 3.        , -1.37697697,  0.64024425, ..., -0.07089114,\n",
       "        -3.02661657, -0.1020667 ],\n",
       "       ...,\n",
       "       [ 0.        ,  0.        ,  0.        , ...,  0.        ,\n",
       "         0.        ,  0.        ],\n",
       "       [ 0.        ,  0.        ,  0.        , ...,  0.        ,\n",
       "         0.        ,  0.        ],\n",
       "       [ 0.        ,  0.        ,  0.        , ...,  0.        ,\n",
       "         0.        ,  0.        ]])"
      ]
     },
     "execution_count": 33,
     "metadata": {},
     "output_type": "execute_result"
    }
   ],
   "source": [
    "english_word_path[0]"
   ]
  },
  {
   "cell_type": "markdown",
   "id": "a4d52d9a",
   "metadata": {},
   "source": [
    "## Obtaining path signatures for the english words\n",
    "\n",
    "We use [`signax`](https://github.com/anh-tong/signax) to compute path signatures, which we compute up to depth 2 here."
   ]
  },
  {
   "cell_type": "code",
   "execution_count": 34,
   "id": "16e89214",
   "metadata": {},
   "outputs": [],
   "source": [
    "sig_depth = 2\n",
    "english_word_sig = np.array(signature(english_word_path, sig_depth))"
   ]
  },
  {
   "cell_type": "code",
   "execution_count": 35,
   "id": "2e9a5242",
   "metadata": {},
   "outputs": [
    {
     "data": {
      "text/plain": [
       "(70641, 702)"
      ]
     },
     "execution_count": 35,
     "metadata": {},
     "output_type": "execute_result"
    }
   ],
   "source": [
    "english_word_sig.shape"
   ]
  },
  {
   "cell_type": "markdown",
   "id": "59b1ad55",
   "metadata": {},
   "source": [
    "## Obtaining a paths and signatures for words in `corpus_df`\n",
    "\n",
    "Now that we have trained our model and obtained signatures for each word in our sample of english words, we also want to obtain embeddings for the words in `corpus_sample_df`. Currently, `TextEncoder` only works with the data that is passed into the function and stored in `.df` and `.dataset`, so we need to initialise a new `TextEncoder` object with the `corpus_sample_df` dataframe and also the trained model.\n",
    "\n",
    "We can then obtain embeddings easily (recall from above we first need to tokenize the text, and then use the `.obtain_embeddings()` and `.pool_token_embeddings()` methods to do this)."
   ]
  },
  {
   "cell_type": "code",
   "execution_count": 36,
   "id": "015309f6",
   "metadata": {},
   "outputs": [],
   "source": [
    "corpus_sample_encoder = nlpsig.TextEncoder(\n",
    "    df=corpus_sample_df,\n",
    "    feature_name=\"word\",\n",
    "    model=english_train_encoder.model,\n",
    "    config=english_train_encoder.config,\n",
    "    tokenizer=english_train_encoder.tokenizer,\n",
    "    data_collator=english_train_encoder.data_collator\n",
    ")"
   ]
  },
  {
   "cell_type": "markdown",
   "id": "83327a8e-2192-4efd-ac04-81f57999d47a",
   "metadata": {},
   "source": [
    "Note that since we're just loading in our pretrained model from above, we could also just have passed in the path to the model directly via the `model_name` argument, and use the `.load_pretrained_model()` method which loads in the model, config, tokenizer and data collator that was used. So the below initialisation achieves the same result:"
   ]
  },
  {
   "cell_type": "code",
   "execution_count": 37,
   "id": "c762d670-5eba-42f6-8d67-99c5a3f251fd",
   "metadata": {},
   "outputs": [
    {
     "name": "stdout",
     "output_type": "stream",
     "text": [
      "[INFO] By default, `.load_pretrained_model()` uses `AutoModel` to load in the model. If you want to load the model for a specific task, reset the `.model` attribute.\n"
     ]
    },
    {
     "name": "stderr",
     "output_type": "stream",
     "text": [
      "Special tokens have been added in the vocabulary, make sure the associated word embeddings are fine-tuned or trained.\n",
      "Some weights of RobertaModel were not initialized from the model checkpoint at rchan26/english-char-roberta and are newly initialized: ['roberta.pooler.dense.bias', 'roberta.pooler.dense.weight']\n",
      "You should probably TRAIN this model on a down-stream task to be able to use it for predictions and inference.\n"
     ]
    }
   ],
   "source": [
    "corpus_sample_encoder = nlpsig.TextEncoder(\n",
    "    df=corpus_sample_df,\n",
    "    feature_name=\"word\",\n",
    "    model_name=model_name\n",
    ")\n",
    "corpus_sample_encoder.load_pretrained_model()"
   ]
  },
  {
   "cell_type": "code",
   "execution_count": 38,
   "id": "c8a5021d",
   "metadata": {},
   "outputs": [],
   "source": [
    "english_train_encoder.model = RobertaForMaskedLM.from_pretrained(model_name)"
   ]
  },
  {
   "cell_type": "code",
   "execution_count": 39,
   "id": "7d0d9042",
   "metadata": {},
   "outputs": [
    {
     "name": "stdout",
     "output_type": "stream",
     "text": [
      "[INFO] Setting return_special_tokens_mask=True\n",
      "[INFO] Tokenizing the dataset...\n"
     ]
    },
    {
     "data": {
      "application/vnd.jupyter.widget-view+json": {
       "model_id": "9f1305ad3eef41b785bbce4daaba3625",
       "version_major": 2,
       "version_minor": 0
      },
      "text/plain": [
       "Map:   0%|          | 0/20000 [00:00<?, ? examples/s]"
      ]
     },
     "metadata": {},
     "output_type": "display_data"
    },
    {
     "name": "stdout",
     "output_type": "stream",
     "text": [
      "[INFO] Saving the tokenized text for each sentence into `.df['tokens']`...\n"
     ]
    },
    {
     "data": {
      "application/vnd.jupyter.widget-view+json": {
       "model_id": "24c1f916d09342099bd336e9a0dcd4db",
       "version_major": 2,
       "version_minor": 0
      },
      "text/plain": [
       "Map:   0%|          | 0/20000 [00:00<?, ? examples/s]"
      ]
     },
     "metadata": {},
     "output_type": "display_data"
    },
    {
     "name": "stdout",
     "output_type": "stream",
     "text": [
      "[INFO] Creating tokenized dataframe and setting in `.tokenized_df` attribute...\n",
      "[INFO] Note: 'text_id' is the column name for denoting the corresponding text id\n"
     ]
    },
    {
     "data": {
      "text/plain": [
       "Dataset({\n",
       "    features: ['word', 'language', 'input_ids', 'attention_mask', 'special_tokens_mask', 'tokens'],\n",
       "    num_rows: 20000\n",
       "})"
      ]
     },
     "execution_count": 39,
     "metadata": {},
     "output_type": "execute_result"
    }
   ],
   "source": [
    "corpus_sample_encoder.tokenize_text()"
   ]
  },
  {
   "cell_type": "code",
   "execution_count": 40,
   "id": "3ed8f78a",
   "metadata": {},
   "outputs": [
    {
     "data": {
      "text/html": [
       "<div>\n",
       "<style scoped>\n",
       "    .dataframe tbody tr th:only-of-type {\n",
       "        vertical-align: middle;\n",
       "    }\n",
       "\n",
       "    .dataframe tbody tr th {\n",
       "        vertical-align: top;\n",
       "    }\n",
       "\n",
       "    .dataframe thead th {\n",
       "        text-align: right;\n",
       "    }\n",
       "</style>\n",
       "<table border=\"1\" class=\"dataframe\">\n",
       "  <thead>\n",
       "    <tr style=\"text-align: right;\">\n",
       "      <th></th>\n",
       "      <th>text_id</th>\n",
       "      <th>language</th>\n",
       "      <th>tokens</th>\n",
       "    </tr>\n",
       "  </thead>\n",
       "  <tbody>\n",
       "    <tr>\n",
       "      <th>0</th>\n",
       "      <td>0</td>\n",
       "      <td>de</td>\n",
       "      <td>a</td>\n",
       "    </tr>\n",
       "    <tr>\n",
       "      <th>1</th>\n",
       "      <td>0</td>\n",
       "      <td>de</td>\n",
       "      <td>b</td>\n",
       "    </tr>\n",
       "    <tr>\n",
       "      <th>2</th>\n",
       "      <td>0</td>\n",
       "      <td>de</td>\n",
       "      <td>b</td>\n",
       "    </tr>\n",
       "    <tr>\n",
       "      <th>3</th>\n",
       "      <td>0</td>\n",
       "      <td>de</td>\n",
       "      <td>l</td>\n",
       "    </tr>\n",
       "    <tr>\n",
       "      <th>4</th>\n",
       "      <td>0</td>\n",
       "      <td>de</td>\n",
       "      <td>e</td>\n",
       "    </tr>\n",
       "    <tr>\n",
       "      <th>...</th>\n",
       "      <td>...</td>\n",
       "      <td>...</td>\n",
       "      <td>...</td>\n",
       "    </tr>\n",
       "    <tr>\n",
       "      <th>198953</th>\n",
       "      <td>19999</td>\n",
       "      <td>en</td>\n",
       "      <td>m</td>\n",
       "    </tr>\n",
       "    <tr>\n",
       "      <th>198954</th>\n",
       "      <td>19999</td>\n",
       "      <td>en</td>\n",
       "      <td>u</td>\n",
       "    </tr>\n",
       "    <tr>\n",
       "      <th>198955</th>\n",
       "      <td>19999</td>\n",
       "      <td>en</td>\n",
       "      <td>r</td>\n",
       "    </tr>\n",
       "    <tr>\n",
       "      <th>198956</th>\n",
       "      <td>19999</td>\n",
       "      <td>en</td>\n",
       "      <td>g</td>\n",
       "    </tr>\n",
       "    <tr>\n",
       "      <th>198957</th>\n",
       "      <td>19999</td>\n",
       "      <td>en</td>\n",
       "      <td>y</td>\n",
       "    </tr>\n",
       "  </tbody>\n",
       "</table>\n",
       "<p>198958 rows × 3 columns</p>\n",
       "</div>"
      ],
      "text/plain": [
       "        text_id language tokens\n",
       "0             0       de      a\n",
       "1             0       de      b\n",
       "2             0       de      b\n",
       "3             0       de      l\n",
       "4             0       de      e\n",
       "...         ...      ...    ...\n",
       "198953    19999       en      m\n",
       "198954    19999       en      u\n",
       "198955    19999       en      r\n",
       "198956    19999       en      g\n",
       "198957    19999       en      y\n",
       "\n",
       "[198958 rows x 3 columns]"
      ]
     },
     "execution_count": 40,
     "metadata": {},
     "output_type": "execute_result"
    }
   ],
   "source": [
    "corpus_sample_encoder.tokenized_df"
   ]
  },
  {
   "cell_type": "markdown",
   "id": "2a089032-0f58-47e7-9922-3778da16483c",
   "metadata": {},
   "source": [
    "After tokenizing, we can obtain token embeddings and also pool these token embeddings with `.obtain_embeddings()` and `.pool_token_embeddings()` methods available."
   ]
  },
  {
   "cell_type": "code",
   "execution_count": 41,
   "id": "0334ac45",
   "metadata": {},
   "outputs": [
    {
     "data": {
      "application/vnd.jupyter.widget-view+json": {
       "model_id": "267785e831c942eeb81755737f3e3453",
       "version_major": 2,
       "version_minor": 0
      },
      "text/plain": [
       "  0%|          | 0/200 [00:00<?, ?it/s]"
      ]
     },
     "metadata": {},
     "output_type": "display_data"
    },
    {
     "name": "stderr",
     "output_type": "stream",
     "text": [
      "You're using a RobertaTokenizerFast tokenizer. Please note that with a fast tokenizer, using the `__call__` method is faster than using a method to encode the text followed by a call to the `pad` method to get a padded encoding.\n"
     ]
    }
   ],
   "source": [
    "token_embeddings = corpus_sample_encoder.obtain_embeddings(method=\"hidden_layer\", layers=6)"
   ]
  },
  {
   "cell_type": "code",
   "execution_count": 42,
   "id": "4c1885be",
   "metadata": {},
   "outputs": [
    {
     "data": {
      "text/plain": [
       "(198958, 768)"
      ]
     },
     "execution_count": 42,
     "metadata": {},
     "output_type": "execute_result"
    }
   ],
   "source": [
    "token_embeddings.shape"
   ]
  },
  {
   "cell_type": "markdown",
   "id": "7838beaf",
   "metadata": {},
   "source": [
    "To reduce the embeddings, we want to use the same transform that we used earlier on. Recall that we used Gaussian random projections using the [`scikit-learn`](https://scikit-learn.org/stable/modules/random_projection.html) package. After fitting and transforming with the vectors in `english_token_embeddings`, we stored the `sklearn.random_projection.GaussianRandomProjection` object in `reduction.reducer` which we can use again:"
   ]
  },
  {
   "cell_type": "code",
   "execution_count": 43,
   "id": "22d7cbac",
   "metadata": {},
   "outputs": [
    {
     "data": {
      "text/plain": [
       "sklearn.random_projection.GaussianRandomProjection"
      ]
     },
     "execution_count": 43,
     "metadata": {},
     "output_type": "execute_result"
    }
   ],
   "source": [
    "type(reduction.reducer)"
   ]
  },
  {
   "cell_type": "markdown",
   "id": "74359714",
   "metadata": {},
   "source": [
    "We can then transform new data using the `.transform()` method of the `sklearn.random_projection.GaussianRandomProjection` class which will use the same transformation that we fitted to above when applying dimension reduction to the token embeddings for our corpus of english words (in `english_train`)."
   ]
  },
  {
   "cell_type": "code",
   "execution_count": 44,
   "id": "8d27b6ad-8a26-41d5-bf5c-54bc8ada6b6a",
   "metadata": {},
   "outputs": [],
   "source": [
    "embeddings_reduced = reduction.reducer.transform(token_embeddings)"
   ]
  },
  {
   "cell_type": "code",
   "execution_count": 45,
   "id": "1b3853cd",
   "metadata": {},
   "outputs": [
    {
     "data": {
      "text/plain": [
       "(198958, 25)"
      ]
     },
     "execution_count": 45,
     "metadata": {},
     "output_type": "execute_result"
    }
   ],
   "source": [
    "embeddings_reduced.shape"
   ]
  },
  {
   "cell_type": "markdown",
   "id": "6cf35fb7-0d6f-4fe9-ad11-6f0919e2fe7d",
   "metadata": {},
   "source": [
    "Optionally, we can save these embeddings for later:"
   ]
  },
  {
   "cell_type": "code",
   "execution_count": 46,
   "id": "6e35da37-a73b-48d4-ad62-de97f99c78db",
   "metadata": {},
   "outputs": [],
   "source": [
    "with open(f\"corpus_sample_token_embeddings.pkl\",'wb') as f:\n",
    "    pickle.dump(token_embeddings, f)\n",
    "with open(f\"corpus_sample_reduced_token_embeddings.pkl\",'wb') as f:\n",
    "    pickle.dump(embeddings_reduced, f)"
   ]
  },
  {
   "cell_type": "markdown",
   "id": "3886dbb3",
   "metadata": {},
   "source": [
    "We again obtain paths with the `PrepareData` class, and pass in the tokenized dataframe created in `corpus_sample_encoder`:"
   ]
  },
  {
   "cell_type": "code",
   "execution_count": 47,
   "id": "b9d352f6",
   "metadata": {},
   "outputs": [
    {
     "data": {
      "text/html": [
       "<div>\n",
       "<style scoped>\n",
       "    .dataframe tbody tr th:only-of-type {\n",
       "        vertical-align: middle;\n",
       "    }\n",
       "\n",
       "    .dataframe tbody tr th {\n",
       "        vertical-align: top;\n",
       "    }\n",
       "\n",
       "    .dataframe thead th {\n",
       "        text-align: right;\n",
       "    }\n",
       "</style>\n",
       "<table border=\"1\" class=\"dataframe\">\n",
       "  <thead>\n",
       "    <tr style=\"text-align: right;\">\n",
       "      <th></th>\n",
       "      <th>text_id</th>\n",
       "      <th>language</th>\n",
       "      <th>tokens</th>\n",
       "    </tr>\n",
       "  </thead>\n",
       "  <tbody>\n",
       "    <tr>\n",
       "      <th>0</th>\n",
       "      <td>0</td>\n",
       "      <td>de</td>\n",
       "      <td>a</td>\n",
       "    </tr>\n",
       "    <tr>\n",
       "      <th>1</th>\n",
       "      <td>0</td>\n",
       "      <td>de</td>\n",
       "      <td>b</td>\n",
       "    </tr>\n",
       "    <tr>\n",
       "      <th>2</th>\n",
       "      <td>0</td>\n",
       "      <td>de</td>\n",
       "      <td>b</td>\n",
       "    </tr>\n",
       "    <tr>\n",
       "      <th>3</th>\n",
       "      <td>0</td>\n",
       "      <td>de</td>\n",
       "      <td>l</td>\n",
       "    </tr>\n",
       "    <tr>\n",
       "      <th>4</th>\n",
       "      <td>0</td>\n",
       "      <td>de</td>\n",
       "      <td>e</td>\n",
       "    </tr>\n",
       "    <tr>\n",
       "      <th>...</th>\n",
       "      <td>...</td>\n",
       "      <td>...</td>\n",
       "      <td>...</td>\n",
       "    </tr>\n",
       "    <tr>\n",
       "      <th>198953</th>\n",
       "      <td>19999</td>\n",
       "      <td>en</td>\n",
       "      <td>m</td>\n",
       "    </tr>\n",
       "    <tr>\n",
       "      <th>198954</th>\n",
       "      <td>19999</td>\n",
       "      <td>en</td>\n",
       "      <td>u</td>\n",
       "    </tr>\n",
       "    <tr>\n",
       "      <th>198955</th>\n",
       "      <td>19999</td>\n",
       "      <td>en</td>\n",
       "      <td>r</td>\n",
       "    </tr>\n",
       "    <tr>\n",
       "      <th>198956</th>\n",
       "      <td>19999</td>\n",
       "      <td>en</td>\n",
       "      <td>g</td>\n",
       "    </tr>\n",
       "    <tr>\n",
       "      <th>198957</th>\n",
       "      <td>19999</td>\n",
       "      <td>en</td>\n",
       "      <td>y</td>\n",
       "    </tr>\n",
       "  </tbody>\n",
       "</table>\n",
       "<p>198958 rows × 3 columns</p>\n",
       "</div>"
      ],
      "text/plain": [
       "        text_id language tokens\n",
       "0             0       de      a\n",
       "1             0       de      b\n",
       "2             0       de      b\n",
       "3             0       de      l\n",
       "4             0       de      e\n",
       "...         ...      ...    ...\n",
       "198953    19999       en      m\n",
       "198954    19999       en      u\n",
       "198955    19999       en      r\n",
       "198956    19999       en      g\n",
       "198957    19999       en      y\n",
       "\n",
       "[198958 rows x 3 columns]"
      ]
     },
     "execution_count": 47,
     "metadata": {},
     "output_type": "execute_result"
    }
   ],
   "source": [
    "corpus_sample_encoder.tokenized_df"
   ]
  },
  {
   "cell_type": "code",
   "execution_count": 48,
   "id": "83bd0e3d",
   "metadata": {},
   "outputs": [
    {
     "name": "stdout",
     "output_type": "stream",
     "text": [
      "[INFO] Concatenating the embeddings to the dataframe...\n",
      "[INFO] - columns beginning with 'e' denote the full embddings.\n",
      "[INFO] - columns beginning with 'd' denote the dimension reduced embeddings.\n",
      "[INFO] Adding time feature columns into dataframe in `.df`.\n",
      "[INFO] Note 'datetime' is not a column in `.df`, so only 'timeline_index' is added.\n",
      "[INFO] As 'datetime' is not a column in `.df`, we assume that the data is ordered by time with respect to the id.\n",
      "[INFO] Adding 'timeline_index' feature...\n"
     ]
    }
   ],
   "source": [
    "corpus_dataset = nlpsig.PrepareData(\n",
    "    original_df=corpus_sample_encoder.tokenized_df,\n",
    "    id_column=\"text_id\",\n",
    "    label_column=\"language\",\n",
    "    embeddings=token_embeddings,\n",
    "    embeddings_reduced=embeddings_reduced\n",
    ")"
   ]
  },
  {
   "cell_type": "code",
   "execution_count": 49,
   "id": "acebfe66",
   "metadata": {
    "scrolled": true,
    "tags": []
   },
   "outputs": [
    {
     "name": "stdout",
     "output_type": "stream",
     "text": [
      "[INFO] Padding ids and storing in `.df_padded` and `.array_padded` attributes.\n"
     ]
    },
    {
     "data": {
      "application/vnd.jupyter.widget-view+json": {
       "model_id": "05dd692efbd840bc85484bbdaa0c00ba",
       "version_major": 2,
       "version_minor": 0
      },
      "text/plain": [
       "  0%|          | 0/20000 [00:00<?, ?it/s]"
      ]
     },
     "metadata": {},
     "output_type": "display_data"
    }
   ],
   "source": [
    "corpus_word_path = corpus_dataset.pad(**path_specifics)"
   ]
  },
  {
   "cell_type": "markdown",
   "id": "746a5e6f",
   "metadata": {},
   "source": [
    "By inspecting the shape of `corpus_word_path`, we see that we have a path for each word and the dimension of the array is `[batch, length of path, channels]`."
   ]
  },
  {
   "cell_type": "code",
   "execution_count": 50,
   "id": "99428872",
   "metadata": {},
   "outputs": [
    {
     "data": {
      "text/plain": [
       "(20000, 50, 28)"
      ]
     },
     "execution_count": 50,
     "metadata": {},
     "output_type": "execute_result"
    }
   ],
   "source": [
    "corpus_word_path.shape"
   ]
  },
  {
   "cell_type": "code",
   "execution_count": 51,
   "id": "523b4cbb",
   "metadata": {},
   "outputs": [
    {
     "data": {
      "text/plain": [
       "20000"
      ]
     },
     "execution_count": 51,
     "metadata": {},
     "output_type": "execute_result"
    }
   ],
   "source": [
    "len(corpus_dataset.df[\"text_id\"].unique())"
   ]
  },
  {
   "cell_type": "markdown",
   "id": "6caac355",
   "metadata": {},
   "source": [
    "To obtain a path as a torch tensor, we use the `.get_path()` method which by default keeps the time features and will remove the id and label columns from the path that is generated. "
   ]
  },
  {
   "cell_type": "code",
   "execution_count": 52,
   "id": "be6c23db",
   "metadata": {},
   "outputs": [
    {
     "data": {
      "text/plain": [
       "(20000, 50, 26)"
      ]
     },
     "execution_count": 52,
     "metadata": {},
     "output_type": "execute_result"
    }
   ],
   "source": [
    "word_path = corpus_dataset.get_path(include_features=True)\n",
    "word_path.shape"
   ]
  },
  {
   "cell_type": "code",
   "execution_count": 53,
   "id": "cbab692c",
   "metadata": {},
   "outputs": [
    {
     "data": {
      "text/plain": [
       "array([[ 1.        , -0.84764671, -3.32390451, ...,  7.39958096,\n",
       "         3.76370335,  2.57629871],\n",
       "       [ 2.        ,  6.74333668, -0.09061491, ..., -2.92180371,\n",
       "        -2.5725379 , -0.60579991],\n",
       "       [ 3.        ,  2.10370827,  0.46549559, ...,  2.87795925,\n",
       "        -8.91614628, -6.18123722],\n",
       "       ...,\n",
       "       [ 0.        ,  0.        ,  0.        , ...,  0.        ,\n",
       "         0.        ,  0.        ],\n",
       "       [ 0.        ,  0.        ,  0.        , ...,  0.        ,\n",
       "         0.        ,  0.        ],\n",
       "       [ 0.        ,  0.        ,  0.        , ...,  0.        ,\n",
       "         0.        ,  0.        ]])"
      ]
     },
     "execution_count": 53,
     "metadata": {},
     "output_type": "execute_result"
    }
   ],
   "source": [
    "word_path[0]"
   ]
  },
  {
   "cell_type": "code",
   "execution_count": 54,
   "id": "9153b35d",
   "metadata": {},
   "outputs": [],
   "source": [
    "# compute path signatures\n",
    "corpus_signatures = np.array(signature(word_path, sig_depth))"
   ]
  },
  {
   "cell_type": "code",
   "execution_count": 55,
   "id": "7f813233",
   "metadata": {
    "scrolled": true
   },
   "outputs": [
    {
     "data": {
      "text/plain": [
       "(20000, 702)"
      ]
     },
     "execution_count": 55,
     "metadata": {},
     "output_type": "execute_result"
    }
   ],
   "source": [
    "corpus_signatures.shape"
   ]
  },
  {
   "cell_type": "markdown",
   "id": "4936df71-ec25-4fb0-a4c5-139da617fb2e",
   "metadata": {},
   "source": [
    "We obtain the signatures for our inliers and outliers:"
   ]
  },
  {
   "cell_type": "code",
   "execution_count": 56,
   "id": "df24ce47-638b-45ca-95fa-45d1989c4693",
   "metadata": {},
   "outputs": [],
   "source": [
    "english_word_indices = corpus_sample_df[corpus_sample_df[\"language\"]==\"en\"].index\n",
    "non_english_word_indices = corpus_sample_df[corpus_sample_df[\"language\"]!=\"en\"].index"
   ]
  },
  {
   "cell_type": "code",
   "execution_count": 57,
   "id": "6e251c6a-7046-4db2-bef4-7c6341aac635",
   "metadata": {},
   "outputs": [
    {
     "data": {
      "text/html": [
       "<div>\n",
       "<style scoped>\n",
       "    .dataframe tbody tr th:only-of-type {\n",
       "        vertical-align: middle;\n",
       "    }\n",
       "\n",
       "    .dataframe tbody tr th {\n",
       "        vertical-align: top;\n",
       "    }\n",
       "\n",
       "    .dataframe thead th {\n",
       "        text-align: right;\n",
       "    }\n",
       "</style>\n",
       "<table border=\"1\" class=\"dataframe\">\n",
       "  <thead>\n",
       "    <tr style=\"text-align: right;\">\n",
       "      <th></th>\n",
       "      <th>word</th>\n",
       "      <th>language</th>\n",
       "      <th>tokens</th>\n",
       "    </tr>\n",
       "  </thead>\n",
       "  <tbody>\n",
       "    <tr>\n",
       "      <th>10000</th>\n",
       "      <td>abasing</td>\n",
       "      <td>en</td>\n",
       "      <td>[a, b, a, s, i, n, g]</td>\n",
       "    </tr>\n",
       "    <tr>\n",
       "      <th>10001</th>\n",
       "      <td>abated</td>\n",
       "      <td>en</td>\n",
       "      <td>[a, b, a, t, e, d]</td>\n",
       "    </tr>\n",
       "    <tr>\n",
       "      <th>10002</th>\n",
       "      <td>abattoirs</td>\n",
       "      <td>en</td>\n",
       "      <td>[a, b, a, t, t, o, i, r, s]</td>\n",
       "    </tr>\n",
       "    <tr>\n",
       "      <th>10003</th>\n",
       "      <td>abbreviations</td>\n",
       "      <td>en</td>\n",
       "      <td>[a, b, b, r, e, v, i, a, t, i, o, n, s]</td>\n",
       "    </tr>\n",
       "    <tr>\n",
       "      <th>10004</th>\n",
       "      <td>abdicate</td>\n",
       "      <td>en</td>\n",
       "      <td>[a, b, d, i, c, a, t, e]</td>\n",
       "    </tr>\n",
       "    <tr>\n",
       "      <th>...</th>\n",
       "      <td>...</td>\n",
       "      <td>...</td>\n",
       "      <td>...</td>\n",
       "    </tr>\n",
       "    <tr>\n",
       "      <th>19995</th>\n",
       "      <td>zillion</td>\n",
       "      <td>en</td>\n",
       "      <td>[z, i, l, l, i, o, n]</td>\n",
       "    </tr>\n",
       "    <tr>\n",
       "      <th>19996</th>\n",
       "      <td>zincked</td>\n",
       "      <td>en</td>\n",
       "      <td>[z, i, n, c, k, e, d]</td>\n",
       "    </tr>\n",
       "    <tr>\n",
       "      <th>19997</th>\n",
       "      <td>zines</td>\n",
       "      <td>en</td>\n",
       "      <td>[z, i, n, e, s]</td>\n",
       "    </tr>\n",
       "    <tr>\n",
       "      <th>19998</th>\n",
       "      <td>zingers</td>\n",
       "      <td>en</td>\n",
       "      <td>[z, i, n, g, e, r, s]</td>\n",
       "    </tr>\n",
       "    <tr>\n",
       "      <th>19999</th>\n",
       "      <td>zymurgy</td>\n",
       "      <td>en</td>\n",
       "      <td>[z, y, m, u, r, g, y]</td>\n",
       "    </tr>\n",
       "  </tbody>\n",
       "</table>\n",
       "<p>10000 rows × 3 columns</p>\n",
       "</div>"
      ],
      "text/plain": [
       "                word language                                   tokens\n",
       "10000        abasing       en                    [a, b, a, s, i, n, g]\n",
       "10001         abated       en                       [a, b, a, t, e, d]\n",
       "10002      abattoirs       en              [a, b, a, t, t, o, i, r, s]\n",
       "10003  abbreviations       en  [a, b, b, r, e, v, i, a, t, i, o, n, s]\n",
       "10004       abdicate       en                 [a, b, d, i, c, a, t, e]\n",
       "...              ...      ...                                      ...\n",
       "19995        zillion       en                    [z, i, l, l, i, o, n]\n",
       "19996        zincked       en                    [z, i, n, c, k, e, d]\n",
       "19997          zines       en                          [z, i, n, e, s]\n",
       "19998        zingers       en                    [z, i, n, g, e, r, s]\n",
       "19999        zymurgy       en                    [z, y, m, u, r, g, y]\n",
       "\n",
       "[10000 rows x 3 columns]"
      ]
     },
     "execution_count": 57,
     "metadata": {},
     "output_type": "execute_result"
    }
   ],
   "source": [
    "corpus_sample_df.iloc[english_word_indices]"
   ]
  },
  {
   "cell_type": "code",
   "execution_count": 58,
   "id": "343908d6-4627-443c-9086-be5405fdbdab",
   "metadata": {},
   "outputs": [
    {
     "data": {
      "text/html": [
       "<div>\n",
       "<style scoped>\n",
       "    .dataframe tbody tr th:only-of-type {\n",
       "        vertical-align: middle;\n",
       "    }\n",
       "\n",
       "    .dataframe tbody tr th {\n",
       "        vertical-align: top;\n",
       "    }\n",
       "\n",
       "    .dataframe thead th {\n",
       "        text-align: right;\n",
       "    }\n",
       "</style>\n",
       "<table border=\"1\" class=\"dataframe\">\n",
       "  <thead>\n",
       "    <tr style=\"text-align: right;\">\n",
       "      <th></th>\n",
       "      <th>word</th>\n",
       "      <th>language</th>\n",
       "      <th>tokens</th>\n",
       "    </tr>\n",
       "  </thead>\n",
       "  <tbody>\n",
       "    <tr>\n",
       "      <th>0</th>\n",
       "      <td>abblendet</td>\n",
       "      <td>de</td>\n",
       "      <td>[a, b, b, l, e, n, d, e, t]</td>\n",
       "    </tr>\n",
       "    <tr>\n",
       "      <th>1</th>\n",
       "      <td>nachinstallierte</td>\n",
       "      <td>de</td>\n",
       "      <td>[n, a, c, h, i, n, s, t, a, l, l, i, e, r, t, e]</td>\n",
       "    </tr>\n",
       "    <tr>\n",
       "      <th>2</th>\n",
       "      <td>klatschendes</td>\n",
       "      <td>de</td>\n",
       "      <td>[k, l, a, t, s, c, h, e, n, d, e, s]</td>\n",
       "    </tr>\n",
       "    <tr>\n",
       "      <th>3</th>\n",
       "      <td>energiesparendere</td>\n",
       "      <td>de</td>\n",
       "      <td>[e, n, e, r, g, i, e, s, p, a, r, e, n, d, e, ...</td>\n",
       "    </tr>\n",
       "    <tr>\n",
       "      <th>4</th>\n",
       "      <td>abbestelle</td>\n",
       "      <td>de</td>\n",
       "      <td>[a, b, b, e, s, t, e, l, l, e]</td>\n",
       "    </tr>\n",
       "    <tr>\n",
       "      <th>...</th>\n",
       "      <td>...</td>\n",
       "      <td>...</td>\n",
       "      <td>...</td>\n",
       "    </tr>\n",
       "    <tr>\n",
       "      <th>9995</th>\n",
       "      <td>rekonstruktions</td>\n",
       "      <td>sv</td>\n",
       "      <td>[r, e, k, o, n, s, t, r, u, k, t, i, o, n, s]</td>\n",
       "    </tr>\n",
       "    <tr>\n",
       "      <th>9996</th>\n",
       "      <td>impedansens</td>\n",
       "      <td>sv</td>\n",
       "      <td>[i, m, p, e, d, a, n, s, e, n, s]</td>\n",
       "    </tr>\n",
       "    <tr>\n",
       "      <th>9997</th>\n",
       "      <td>argentinarna</td>\n",
       "      <td>sv</td>\n",
       "      <td>[a, r, g, e, n, t, i, n, a, r, n, a]</td>\n",
       "    </tr>\n",
       "    <tr>\n",
       "      <th>9998</th>\n",
       "      <td>storstuga</td>\n",
       "      <td>sv</td>\n",
       "      <td>[s, t, o, r, s, t, u, g, a]</td>\n",
       "    </tr>\n",
       "    <tr>\n",
       "      <th>9999</th>\n",
       "      <td>anoders</td>\n",
       "      <td>sv</td>\n",
       "      <td>[a, n, o, d, e, r, s]</td>\n",
       "    </tr>\n",
       "  </tbody>\n",
       "</table>\n",
       "<p>10000 rows × 3 columns</p>\n",
       "</div>"
      ],
      "text/plain": [
       "                   word language  \\\n",
       "0             abblendet       de   \n",
       "1      nachinstallierte       de   \n",
       "2          klatschendes       de   \n",
       "3     energiesparendere       de   \n",
       "4            abbestelle       de   \n",
       "...                 ...      ...   \n",
       "9995    rekonstruktions       sv   \n",
       "9996        impedansens       sv   \n",
       "9997       argentinarna       sv   \n",
       "9998          storstuga       sv   \n",
       "9999            anoders       sv   \n",
       "\n",
       "                                                 tokens  \n",
       "0                           [a, b, b, l, e, n, d, e, t]  \n",
       "1      [n, a, c, h, i, n, s, t, a, l, l, i, e, r, t, e]  \n",
       "2                  [k, l, a, t, s, c, h, e, n, d, e, s]  \n",
       "3     [e, n, e, r, g, i, e, s, p, a, r, e, n, d, e, ...  \n",
       "4                        [a, b, b, e, s, t, e, l, l, e]  \n",
       "...                                                 ...  \n",
       "9995      [r, e, k, o, n, s, t, r, u, k, t, i, o, n, s]  \n",
       "9996                  [i, m, p, e, d, a, n, s, e, n, s]  \n",
       "9997               [a, r, g, e, n, t, i, n, a, r, n, a]  \n",
       "9998                        [s, t, o, r, s, t, u, g, a]  \n",
       "9999                              [a, n, o, d, e, r, s]  \n",
       "\n",
       "[10000 rows x 3 columns]"
      ]
     },
     "execution_count": 58,
     "metadata": {},
     "output_type": "execute_result"
    }
   ],
   "source": [
    "corpus_sample_df.iloc[non_english_word_indices]"
   ]
  },
  {
   "cell_type": "code",
   "execution_count": 59,
   "id": "a35225a9",
   "metadata": {},
   "outputs": [],
   "source": [
    "# obtain signatures for english words and non-english words in corpus_sample_df\n",
    "inlier_signatures = corpus_signatures[english_word_indices]\n",
    "outlier_signatures = corpus_signatures[non_english_word_indices]"
   ]
  },
  {
   "cell_type": "code",
   "execution_count": 60,
   "id": "b6632eeb",
   "metadata": {},
   "outputs": [
    {
     "data": {
      "text/plain": [
       "(10000, 702)"
      ]
     },
     "execution_count": 60,
     "metadata": {},
     "output_type": "execute_result"
    }
   ],
   "source": [
    "inlier_signatures.shape"
   ]
  },
  {
   "cell_type": "code",
   "execution_count": 61,
   "id": "8a3dcab3",
   "metadata": {},
   "outputs": [
    {
     "data": {
      "text/plain": [
       "(10000, 702)"
      ]
     },
     "execution_count": 61,
     "metadata": {},
     "output_type": "execute_result"
    }
   ],
   "source": [
    "outlier_signatures.shape"
   ]
  },
  {
   "cell_type": "markdown",
   "id": "428e5c23",
   "metadata": {},
   "source": [
    "## Anomaly detection task\n",
    "\n",
    "To recap the task at hand:\n",
    "- We trained a language model using a corpus of english words stored in the `english_train` dataframe.\n",
    "- We have another set of english words (inliers) and some non-english words (outliers) which are stored in the `corpus_sample_df` dataframe.\n",
    "- We now want to see how we could detect the non-english words efficiently, in particular, we use the following method:\n",
    "    - For each word in `english_train` and `corpus_sample_df`, we have a vector representation for them (e.g. we've computed the path signatures for each of them and they are stored in `english_word_sig`).\n",
    "    - For each word in `corpus_sample_df`, we compute the minimum (Euclidean) distance of between its path signature to path signatures for our corpus of known English words (i.e. each row in `english_word_sig`).\n",
    "    - We then look the [ROC curve](https://scikit-learn.org/stable/modules/generated/sklearn.metrics.roc_curve.html) to see how well separated are the english words to the non-english words. For a good performance, we hope that there is good separation, and so we measure the success of this method using the [ROCAUC](https://scikit-learn.org/stable/modules/generated/sklearn.metrics.roc_auc_score.html)."
   ]
  },
  {
   "cell_type": "code",
   "execution_count": 153,
   "metadata": {},
   "outputs": [],
   "source": [
    "n_neighbours = 100\n",
    "bootstrap_samples = 10000\n",
    "depth = 2"
   ]
  },
  {
   "cell_type": "code",
   "execution_count": 154,
   "id": "64dad8bb",
   "metadata": {},
   "outputs": [],
   "source": [
    "# compute Mahalanobis distance\n",
    "signature_maha_knn = SignatureMahalanobisKNN(n_jobs=-1, random_state=seed)"
   ]
  },
  {
   "cell_type": "code",
   "execution_count": 155,
   "metadata": {},
   "outputs": [],
   "source": [
    "# initialise random number generator\n",
    "rng = np.random.default_rng(seed=seed)\n",
    "corpus_indices = rng.choice(english_word_sig.shape[0], 50000, replace=False)\n",
    "in_indices = rng.choice(inlier_signatures.shape[0], 1000, replace=False)\n",
    "out_indices = rng.choice(outlier_signatures.shape[0], 1000, replace=False)\n",
    "\n",
    "# take random sample of 10000 from english_word_sig and 1000 from inlier_signatures and outlier_signatures\n",
    "sample_english = english_word_sig[corpus_indices]\n",
    "sample_inlier = inlier_signatures[in_indices]\n",
    "sample_outlier = outlier_signatures[out_indices]"
   ]
  },
  {
   "cell_type": "code",
   "execution_count": 156,
   "metadata": {},
   "outputs": [
    {
     "name": "stdout",
     "output_type": "stream",
     "text": [
      "fit_time: 14031.359173059464\n"
     ]
    }
   ],
   "source": [
    "# measure the time spent on fit\n",
    "start_time = time.time()\n",
    "signature_maha_knn.fit(\n",
    "    knn_library=\"sklearn\",\n",
    "    signatures_train=english_word_sig,\n",
    ")\n",
    "fit_time = time.time() - start_time\n",
    "print(f\"fit_time: {fit_time}\")"
   ]
  },
  {
   "cell_type": "code",
   "execution_count": 157,
   "metadata": {},
   "outputs": [
    {
     "name": "stdout",
     "output_type": "stream",
     "text": [
      "compute_score_time: 766.3842570781708\n"
     ]
    }
   ],
   "source": [
    "# measure the time spent on conformance\n",
    "start_time = time.time()\n",
    "inlier_dists = signature_maha_knn.conformance(\n",
    "    signatures_test=inlier_signatures, n_neighbors=n_neighbours\n",
    ")\n",
    "outlier_dists = signature_maha_knn.conformance(\n",
    "    signatures_test=outlier_signatures, n_neighbors=n_neighbours\n",
    ")\n",
    "compute_score_time = time.time() - start_time\n",
    "print(f\"compute_score_time: {compute_score_time}\")"
   ]
  },
  {
   "cell_type": "code",
   "execution_count": 158,
   "metadata": {},
   "outputs": [
    {
     "data": {
      "image/png": "[encoded data removed]",
      "text/plain": [
       "<Figure size 600x600 with 1 Axes>"
      ]
     },
     "metadata": {},
     "output_type": "display_data"
    },
    {
     "name": "stdout",
     "output_type": "stream",
     "text": [
      "AUC: 0.954 +/- 0.001\n"
     ]
    }
   ],
   "source": [
    "auc, se = compute_auc_given_dists(\n",
    "    inlier_dists,\n",
    "    outlier_dists,\n",
    "    bootstrap=True,\n",
    "    bootstrap_samples=bootstrap_samples,\n",
    "    random_state=seed,\n",
    "    plot=True,\n",
    "    title=(\n",
    "        \"English vs Non-English\\n\"\n",
    "        f\"(using depth={depth} signatures of dim-reduced transformer embeddings)\"\n",
    "    ),\n",
    ")\n",
    "\n",
    "print(f\"AUC: {auc:.3f} +/- {se:.3f}\")"
   ]
  },
  {
   "cell_type": "code",
   "execution_count": 220,
   "id": "9cc33f15",
   "metadata": {},
   "outputs": [
    {
     "data": {
      "image/png": "[encoded data removed]",
      "text/plain": [
       "<Figure size 600x600 with 1 Axes>"
      ]
     },
     "metadata": {},
     "output_type": "display_data"
    }
   ],
   "source": [
    "# plot CDF\n",
    "plot_cdf_given_dists(\n",
    "    inlier_dists,\n",
    "    outlier_dists,\n",
    "    bins=10000000,\n",
    "    title=f\"\",\n",
    ")"
   ]
  },
  {
   "cell_type": "markdown",
   "id": "b09ca002-eb65-430e-b012-222dfdb27ce3",
   "metadata": {},
   "source": [
    "## Using one-hot encodings\n",
    "\n",
    "Here, we simply construct a path of one-hot encodings of the characters and so the number of channels in the path is 26. We also take a cumulative sum transformation on the path (which has length 50 again)."
   ]
  },
  {
   "cell_type": "code",
   "execution_count": 160,
   "id": "d2fd5779-fbc8-4729-ac2c-cb9dbc1c4f5b",
   "metadata": {},
   "outputs": [],
   "source": [
    "def construct_path(\n",
    "    char_seq: list[str],\n",
    "    alpha_len: int = 26\n",
    ") -> np.ndarray:\n",
    "    # construct path via one-hot encoding of characters\n",
    "    n = len(char_seq)\n",
    "    its = np.zeros(n, np.int64)\n",
    "    for i in range(n):\n",
    "        its[i] = ord(char_seq[i]) - 97\n",
    "    A = np.zeros((n, alpha_len))\n",
    "    j = 0\n",
    "    for i in its:\n",
    "        A[j, i] += 1\n",
    "        j += 1\n",
    "\n",
    "    return A\n",
    "\n",
    "def get_one_hot_paths_from_words(\n",
    "    words: list[str],\n",
    "    max_word_len: int,\n",
    "    pad_from_below: bool = True,\n",
    "    alpha_len: int = 26,\n",
    "    cumsum_transform: bool = True,\n",
    ") -> np.ndarray:\n",
    "    # compute path for each word in words\n",
    "    path = np.array(\n",
    "        [\n",
    "            np.vstack(\n",
    "                [\n",
    "                    construct_path(word),\n",
    "                    np.zeros((100 - len(word), alpha_len)),\n",
    "                ]\n",
    "            )\n",
    "            if pad_from_below else\n",
    "            np.vstack(\n",
    "                [\n",
    "                    np.zeros((100 - len(word), alpha_len)),\n",
    "                    construct_path(word),\n",
    "                ]\n",
    "            )\n",
    "            for word in tqdm(words)\n",
    "        ]\n",
    "    )\n",
    "    if pad_from_below:\n",
    "        path = path[:, :max_word_len, :alpha_len]\n",
    "    else:\n",
    "        path = path[:, -max_word_len:, :alpha_len]\n",
    "    if cumsum_transform:\n",
    "        path = np.cumsum(path, axis=1)\n",
    "\n",
    "    return path"
   ]
  },
  {
   "cell_type": "code",
   "execution_count": 161,
   "id": "3773c45d-5335-4b57-92c6-a2ee82fceca7",
   "metadata": {},
   "outputs": [
    {
     "data": {
      "application/vnd.jupyter.widget-view+json": {
       "model_id": "728c7b4a787c46efb5d12fdceed45f4d",
       "version_major": 2,
       "version_minor": 0
      },
      "text/plain": [
       "  0%|          | 0/70641 [00:00<?, ?it/s]"
      ]
     },
     "metadata": {},
     "output_type": "display_data"
    },
    {
     "data": {
      "application/vnd.jupyter.widget-view+json": {
       "model_id": "10a0200f917c481280dac94b053df37a",
       "version_major": 2,
       "version_minor": 0
      },
      "text/plain": [
       "  0%|          | 0/20000 [00:00<?, ?it/s]"
      ]
     },
     "metadata": {},
     "output_type": "display_data"
    }
   ],
   "source": [
    "english_word_one_hot_paths = get_one_hot_paths_from_words(\n",
    "    words=english_train[\"word\"],\n",
    "    max_word_len=20,\n",
    "    pad_from_below=True,\n",
    "    cumsum_transform=True\n",
    ")\n",
    "corpus_one_hot_paths = get_one_hot_paths_from_words(\n",
    "    words=corpus_sample_df[\"word\"],\n",
    "    max_word_len=20,\n",
    "    pad_from_below=True,\n",
    "    cumsum_transform=True\n",
    ")"
   ]
  },
  {
   "cell_type": "code",
   "execution_count": 162,
   "id": "05675578-44a5-4e6a-b557-8e31ebf22382",
   "metadata": {},
   "outputs": [],
   "source": [
    "# compute signatures for english words\n",
    "english_word_one_hot_signatures = np.array(signature(english_word_one_hot_paths, 2))\n",
    "\n",
    "# compute signatures for inliers and outliers\n",
    "corpus_one_hot_signatures = np.array(signature(corpus_one_hot_paths, 2))\n",
    "inlier_one_hot_signatures = corpus_one_hot_signatures[english_word_indices]\n",
    "outlier_one_hot_signatures = corpus_one_hot_signatures[non_english_word_indices]"
   ]
  },
  {
   "cell_type": "code",
   "execution_count": 163,
   "id": "f8c0b07c-3990-42e1-893c-1132bf25c28c",
   "metadata": {},
   "outputs": [
    {
     "data": {
      "text/plain": [
       "(70641, 702)"
      ]
     },
     "execution_count": 163,
     "metadata": {},
     "output_type": "execute_result"
    }
   ],
   "source": [
    "english_word_one_hot_signatures.shape"
   ]
  },
  {
   "cell_type": "code",
   "execution_count": 164,
   "id": "f09e2bcd-b27f-46da-b4de-0fcdaadb6889",
   "metadata": {},
   "outputs": [
    {
     "data": {
      "text/plain": [
       "(10000, 702)"
      ]
     },
     "execution_count": 164,
     "metadata": {},
     "output_type": "execute_result"
    }
   ],
   "source": [
    "inlier_one_hot_signatures.shape"
   ]
  },
  {
   "cell_type": "code",
   "execution_count": 165,
   "id": "1eddd1ca-fc2e-446d-a5f9-2398a5cb36c0",
   "metadata": {},
   "outputs": [
    {
     "data": {
      "text/plain": [
       "(10000, 702)"
      ]
     },
     "execution_count": 165,
     "metadata": {},
     "output_type": "execute_result"
    }
   ],
   "source": [
    "outlier_one_hot_signatures.shape"
   ]
  },
  {
   "cell_type": "code",
   "execution_count": 166,
   "metadata": {},
   "outputs": [],
   "source": [
    "# take random sample of 10000 from english_word_one_hot_signatures\n",
    "# and 1000 from inlier_one_hot_signatures and outlier_one_hot_signatures\n",
    "sample_english_one_hot = english_word_one_hot_signatures[corpus_indices]\n",
    "sample_inlier_one_hot = inlier_one_hot_signatures[in_indices]\n",
    "sample_outlier_one_hot = outlier_one_hot_signatures[out_indices]"
   ]
  },
  {
   "cell_type": "code",
   "execution_count": 167,
   "metadata": {},
   "outputs": [],
   "source": [
    "signature_maha_knn_one_hot = SignatureMahalanobisKNN(n_jobs=-1, random_state=seed)"
   ]
  },
  {
   "cell_type": "code",
   "execution_count": 168,
   "metadata": {},
   "outputs": [
    {
     "name": "stdout",
     "output_type": "stream",
     "text": [
      "fit_time: 13631.191279888153\n"
     ]
    }
   ],
   "source": [
    "# measure the time spent on fit\n",
    "start_time = time.time()\n",
    "signature_maha_knn_one_hot.fit(\n",
    "    knn_library=\"sklearn\",\n",
    "    signatures_train=english_word_one_hot_signatures,\n",
    ")\n",
    "fit_time = time.time() - start_time\n",
    "print(f\"fit_time: {fit_time}\")"
   ]
  },
  {
   "cell_type": "code",
   "execution_count": 169,
   "metadata": {},
   "outputs": [
    {
     "name": "stderr",
     "output_type": "stream",
     "text": [
      "/Users/rchan/Library/CloudStorage/OneDrive-TheAlanTuringInstitute/rough_paths/signature_mahalanobis_knn/src/signature_mahalanobis_knn/sig_mahal_knn.py:267: RuntimeWarning: invalid value encountered in divide\n",
      "  rho = numerator / denominator\n"
     ]
    },
    {
     "name": "stdout",
     "output_type": "stream",
     "text": [
      "compute_score_time: 754.3416593074799\n"
     ]
    },
    {
     "name": "stderr",
     "output_type": "stream",
     "text": [
      "/Users/rchan/Library/CloudStorage/OneDrive-TheAlanTuringInstitute/rough_paths/signature_mahalanobis_knn/src/signature_mahalanobis_knn/sig_mahal_knn.py:267: RuntimeWarning: invalid value encountered in divide\n",
      "  rho = numerator / denominator\n"
     ]
    }
   ],
   "source": [
    "# measure the time spent on conformance\n",
    "start_time = time.time()\n",
    "inlier_dists_one_hot = signature_maha_knn_one_hot.conformance(\n",
    "    signatures_test=inlier_one_hot_signatures, n_neighbors=n_neighbours\n",
    ")\n",
    "outlier_dists_one_hot = signature_maha_knn_one_hot.conformance(\n",
    "    signatures_test=outlier_one_hot_signatures, n_neighbors=n_neighbours\n",
    ")\n",
    "compute_score_time = time.time() - start_time\n",
    "print(f\"compute_score_time: {compute_score_time}\")"
   ]
  },
  {
   "cell_type": "code",
   "execution_count": 170,
   "id": "fe4ef68a",
   "metadata": {},
   "outputs": [
    {
     "data": {
      "image/png": "[encoded data removed]",
      "text/plain": [
       "<Figure size 600x600 with 1 Axes>"
      ]
     },
     "metadata": {},
     "output_type": "display_data"
    },
    {
     "name": "stdout",
     "output_type": "stream",
     "text": [
      "AUC: 0.877 +/- 0.002\n"
     ]
    }
   ],
   "source": [
    "auc_one_hot, se_one_hot = compute_auc_given_dists(\n",
    "    inlier_dists_one_hot,\n",
    "    outlier_dists_one_hot,\n",
    "    bootstrap=True,\n",
    "    bootstrap_samples=bootstrap_samples,\n",
    "    random_state=seed,\n",
    "    plot=True,\n",
    "    title=(\n",
    "        \"English vs Non-English\\n\"\n",
    "        f\"(using depth={depth} signatures of one-hot encoding streams)\"\n",
    "    ),\n",
    ")\n",
    "\n",
    "print(f\"AUC: {auc_one_hot:.3f} +/- {se_one_hot:.3f}\")"
   ]
  },
  {
   "cell_type": "code",
   "execution_count": 219,
   "metadata": {},
   "outputs": [
    {
     "data": {
      "image/png": "[encoded data removed]",
      "text/plain": [
       "<Figure size 600x600 with 1 Axes>"
      ]
     },
     "metadata": {},
     "output_type": "display_data"
    }
   ],
   "source": [
    "# plot CDF\n",
    "plot_cdf_given_dists(\n",
    "    inlier_dists_one_hot,\n",
    "    outlier_dists_one_hot,\n",
    "    bins=10000000,\n",
    "    title=f\"\",\n",
    "    xrange=(0, 1)\n",
    ")"
   ]
  },
  {
   "cell_type": "markdown",
   "id": "253964b4-8ccf-4e9e-ad8c-6ae86bc375ce",
   "metadata": {},
   "source": [
    "## Acknowledgements\n",
    "\n",
    "The computations described in this notebook were performed using the Baskerville Tier 2 HPC service (https://www.baskerville.ac.uk/). Baskerville was funded by the EPSRC and UKRI through the World Class Labs scheme (EP/T022221/1) and the Digital Research Infrastructure programme (EP/W032244/1) and is operated by Advanced Research Computing at the University of Birmingham.\n",
    "\n",
    "## References\n",
    "\n",
    "[1] Devlin, J., Chang, M.W., Lee, K. and Toutanova, K., 2018. BERT: Pre-training of Deep Bidirectional Transformers for Language Understanding. _arXiv preprint arXiv:1810.04805_.\n",
    "\n",
    "[2] Liu, Y., Ott, M., Goyal, N., Du, J., Joshi, M., Chen, D., Levy, O., Lewis, M., Zettlemoyer, L. and Stoyanov, V., 2019. Roberta: A robustly optimized bert pretraining approach. _arXiv preprint arXiv:1907.11692_.\n",
    "\n",
    "[3] McInnes, L., and Healy, J. 2018. UMAP: Uniform Manifold Approximation and Projection for Dimension Reduction, _arXiv preprint arXiv:1802.03426_.\n",
    "\n",
    "[4] Tipping, M. E., and Bishop, C. M., 1999. Probabilistic principal component analysis. _Journal of the Royal Statistical Society: Series B (Statistical Methodology)_, 61(3), 611-622.\n",
    "\n",
    "[5] van der Maaten, L.J.P., and Hinton, G.E., 2008. Visualizing High-Dimensional Data using t-SNE. _Journal of Machine Learning Research_, 9:2579-2605.\n",
    "\n",
    "\n",
    "[6] Mu, J., Bhat, S., and Viswanath, P. (2017). All-but-the-top: Simple and effective postprocessing for word representations. _arXiv preprint arXiv:1702.01417_.\n",
    "\n",
    "[7] Raunak, V., Gupta, V., and Metze, F. (2019). Effective dimensionality reduction for word embeddings. In _Proceedings of the 4th Workshop on Representation Learning for NLP (RepL4NLP- 2019)_, 235–243."
   ]
  }
 ],
 "metadata": {
  "kernelspec": {
   "display_name": "lang-analysis-nlpsig",
   "language": "python",
   "name": "python3"
  },
  "language_info": {
   "codemirror_mode": {
    "name": "ipython",
    "version": 3
   },
   "file_extension": ".py",
   "mimetype": "text/x-python",
   "name": "python",
   "nbconvert_exporter": "python",
   "pygments_lexer": "ipython3",
   "version": "3.10.13"
  }
 },
 "nbformat": 4,
 "nbformat_minor": 5
}
