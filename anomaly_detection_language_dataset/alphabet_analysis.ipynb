{
 "cells": [
  {
   "cell_type": "code",
   "execution_count": 1,
   "id": "2c43e605",
   "metadata": {},
   "outputs": [
    {
     "name": "stdout",
     "output_type": "stream",
     "text": [
      "loading in english_train from data/corpus.pkl\n",
      "loading in english_train from data/english_train.pkl\n",
      "loading in corpus_sample_df from data/corpus_sample.pkl\n"
     ]
    }
   ],
   "source": [
    "import numpy as np\n",
    "import pickle\n",
    "from tqdm.notebook import tqdm\n",
    "\n",
    "from transformers import pipeline, RobertaForMaskedLM\n",
    "\n",
    "import nlpsig\n",
    "\n",
    "from signax import signature\n",
    "from signature_mahalanobis_knn import SignatureMahalanobisKNN\n",
    "\n",
    "from sklearn.ensemble import IsolationForest\n",
    "\n",
    "from load_data import seed, english_train, corpus_sample_df\n",
    "\n",
    "import time\n",
    "from signature_mahalanobis_knn import SignatureMahalanobisKNN\n",
    "from signature_mahalanobis_knn.utils import (\n",
    "    compute_auc_given_dists,\n",
    "    plot_cdf_given_dists,\n",
    ")"
   ]
  },
  {
   "cell_type": "markdown",
   "id": "3e481f7d-7228-49a5-81a4-c9ccd5b2795a",
   "metadata": {
    "tags": []
   },
   "source": [
    "# Anomaly Detection task\n",
    "\n",
    "In natural language processing (NLP) tasks, we often are dealing with high dimensional streams of data. Neural network architectures known as Transformers have been shown to be very effective in NLP tasks, and we can use these to obtain high dimensional streams of embeddings for words/tokenised text. In this notebook, we will look at how we can use path signature techniques to analyse these high dimensional streams of embeddings. In particular, we will look at how we can perform outlier detection on the path signatures of the embeddings obtained from a pre-trained Transformer. \n",
    "\n",
    "In particular, we consider the task of determining whether a word is an english word or not by using the path signature of the stream of _character_ embeddings of the word. That is, each word is represented as a stream of character embeddings. We do this by training a Transformer model (from scratch) on a _masked language modelling_ task (or _Cloze_ task) as described in [[1]](https://arxiv.org/abs/1810.04805) using a corpus of english words, and then use this model to obtain a stream of (character) embeddings for a sample of (english and non-english) words. Path signature techniques are applied to analyse the streams of embeddings and finally we attempt to detect the non-english words as outliers in the space of path signatures.\n",
    "\n",
    "Since we are dealing with high dimensional streams of data, we will use a dimension reduction technique to reduce the dimension of the embeddings before computing the path signature. We will look at how we can perform outlier detection on the path signatures of the dimension-reduced embeddings.\n",
    "\n",
    "The pipeline for this task is as follows:\n",
    "1. Train a Transformer model on a masked language modelling task using a corpus of english words.\n",
    "2. Obtain a stream of character embeddings for a sample of english and non-english words using the trained model (note that we ensure that the english words in this sample are not in the training corpus to pre-train the Transforemr).\n",
    "    - The english words in this sample are our _inlier_ class while the non-english words are our _outlier_ class in this example.\n",
    "3. Perform dimension reduction on the streams of embeddings.\n",
    "4. Compute the path signature of the dimension-reduced embeddings.\n",
    "5. Perform outlier detection on the path signatures to detect the non-english words.\n",
    "\n",
    "In this notebook, we illustrate how we can use the [`nlpsig`](https://github.com/datasig-ac-uk/nlpsig) package to utilise transformers in order to obtain streams of high dimensional embeddings, which can then be analysed using path signature techniques.\n",
    "\n",
    "Furthermore, we utilise the [`signature_mahalanobis_knn`](https://github.com/datasig-ac-uk/signature_mahalanobis_knn) library to perform outlier detection on the path signatures. Full details of our approach can be found in [[2]](https://arxiv.org/abs/2006.03487) _Dimensionless Anomaly Detection on Multivariate Streams with Variance Norm and Path Signature_ by Zhen Shao, Ryan Sze-Yin Chan, Thomas Cochrane, Peter Foster, Terry Lyons."
   ]
  },
  {
   "cell_type": "markdown",
   "id": "b15d3859",
   "metadata": {},
   "source": [
    "## Language dataset\n",
    "\n",
    "In the `data/` folder, we have several text folders of words from different languages:\n",
    "- `wordlist_de.txt`: German words\n",
    "- `wordlist_en.txt`: English words\n",
    "- `wordlist_fr.txt`: French words\n",
    "- `wordlist_it.txt`: Italian words\n",
    "- `wordlist_pl.txt`: Polish words\n",
    "- `wordlist_sv.txt`: Swedish words\n",
    "\n",
    "We additionally have a `alphabet.txt` file which just stores the alphabet characters ('a', 'b', 'c', ...).\n",
    "\n",
    "The task is to split the words into its individual characters and to obtain an embedding for each of them. We can represent a word by a path of its character embeddings and compute its path signature to use as features in predicting the language for which the word belongs.\n",
    "\n",
    "Here we look at obtaining embeddings using a Transformer model."
   ]
  },
  {
   "cell_type": "markdown",
   "id": "2aed597b",
   "metadata": {},
   "source": [
    "## Prepare training data and test data\n",
    "\n",
    "We prepare our data in the [`language_dataset_anomalies_data.ipynb`](language_dataset_anomalies_data.ipynb) notebook and load in our data using the [`load_data.py`](load_data.py) script, so look in there for more details.\n",
    "\n",
    "Our test data will consist a sample of 10000 english words and 10000 non-english words (2000 from each of the remaining languages). We will use the remaining english words as our training data to train the Transformer model and as our corpus of \"normality\":"
   ]
  },
  {
   "cell_type": "code",
   "execution_count": 2,
   "id": "739f58df",
   "metadata": {},
   "outputs": [
    {
     "data": {
      "text/html": [
       "<div>\n",
       "<style scoped>\n",
       "    .dataframe tbody tr th:only-of-type {\n",
       "        vertical-align: middle;\n",
       "    }\n",
       "\n",
       "    .dataframe tbody tr th {\n",
       "        vertical-align: top;\n",
       "    }\n",
       "\n",
       "    .dataframe thead th {\n",
       "        text-align: right;\n",
       "    }\n",
       "</style>\n",
       "<table border=\"1\" class=\"dataframe\">\n",
       "  <thead>\n",
       "    <tr style=\"text-align: right;\">\n",
       "      <th></th>\n",
       "      <th>word</th>\n",
       "      <th>language</th>\n",
       "    </tr>\n",
       "  </thead>\n",
       "  <tbody>\n",
       "    <tr>\n",
       "      <th>0</th>\n",
       "      <td>knots</td>\n",
       "      <td>en</td>\n",
       "    </tr>\n",
       "    <tr>\n",
       "      <th>1</th>\n",
       "      <td>stalemating</td>\n",
       "      <td>en</td>\n",
       "    </tr>\n",
       "    <tr>\n",
       "      <th>2</th>\n",
       "      <td>whoops</td>\n",
       "      <td>en</td>\n",
       "    </tr>\n",
       "    <tr>\n",
       "      <th>3</th>\n",
       "      <td>implantation</td>\n",
       "      <td>en</td>\n",
       "    </tr>\n",
       "    <tr>\n",
       "      <th>4</th>\n",
       "      <td>levers</td>\n",
       "      <td>en</td>\n",
       "    </tr>\n",
       "    <tr>\n",
       "      <th>...</th>\n",
       "      <td>...</td>\n",
       "      <td>...</td>\n",
       "    </tr>\n",
       "    <tr>\n",
       "      <th>70610</th>\n",
       "      <td>forcefulness</td>\n",
       "      <td>en</td>\n",
       "    </tr>\n",
       "    <tr>\n",
       "      <th>70611</th>\n",
       "      <td>fat</td>\n",
       "      <td>en</td>\n",
       "    </tr>\n",
       "    <tr>\n",
       "      <th>70612</th>\n",
       "      <td>creakier</td>\n",
       "      <td>en</td>\n",
       "    </tr>\n",
       "    <tr>\n",
       "      <th>70613</th>\n",
       "      <td>ramming</td>\n",
       "      <td>en</td>\n",
       "    </tr>\n",
       "    <tr>\n",
       "      <th>70614</th>\n",
       "      <td>facsimiles</td>\n",
       "      <td>en</td>\n",
       "    </tr>\n",
       "  </tbody>\n",
       "</table>\n",
       "<p>70615 rows × 2 columns</p>\n",
       "</div>"
      ],
      "text/plain": [
       "               word language\n",
       "0             knots       en\n",
       "1       stalemating       en\n",
       "2            whoops       en\n",
       "3      implantation       en\n",
       "4            levers       en\n",
       "...             ...      ...\n",
       "70610  forcefulness       en\n",
       "70611           fat       en\n",
       "70612      creakier       en\n",
       "70613       ramming       en\n",
       "70614    facsimiles       en\n",
       "\n",
       "[70615 rows x 2 columns]"
      ]
     },
     "execution_count": 2,
     "metadata": {},
     "output_type": "execute_result"
    }
   ],
   "source": [
    "english_train"
   ]
  },
  {
   "cell_type": "markdown",
   "id": "09b0681e",
   "metadata": {},
   "source": [
    "To make the dataset bit more manageable, we take a sample of each of the languages. In our resulting corpus, we have an equal amount of english (inliers) and non-english words (outliers):"
   ]
  },
  {
   "cell_type": "code",
   "execution_count": 3,
   "id": "d9e53354",
   "metadata": {
    "scrolled": true
   },
   "outputs": [
    {
     "data": {
      "text/plain": [
       "language\n",
       "en    10000\n",
       "de     2000\n",
       "fr     2000\n",
       "it     2000\n",
       "pl     2000\n",
       "sv     2000\n",
       "Name: count, dtype: int64"
      ]
     },
     "execution_count": 3,
     "metadata": {},
     "output_type": "execute_result"
    }
   ],
   "source": [
    "corpus_sample_df[\"language\"].value_counts()"
   ]
  },
  {
   "cell_type": "code",
   "execution_count": 4,
   "id": "b80c6a0f-cdee-41dc-9c25-467a1cda7344",
   "metadata": {},
   "outputs": [
    {
     "data": {
      "text/html": [
       "<div>\n",
       "<style scoped>\n",
       "    .dataframe tbody tr th:only-of-type {\n",
       "        vertical-align: middle;\n",
       "    }\n",
       "\n",
       "    .dataframe tbody tr th {\n",
       "        vertical-align: top;\n",
       "    }\n",
       "\n",
       "    .dataframe thead th {\n",
       "        text-align: right;\n",
       "    }\n",
       "</style>\n",
       "<table border=\"1\" class=\"dataframe\">\n",
       "  <thead>\n",
       "    <tr style=\"text-align: right;\">\n",
       "      <th></th>\n",
       "      <th>word</th>\n",
       "      <th>language</th>\n",
       "    </tr>\n",
       "  </thead>\n",
       "  <tbody>\n",
       "    <tr>\n",
       "      <th>0</th>\n",
       "      <td>abblendet</td>\n",
       "      <td>de</td>\n",
       "    </tr>\n",
       "    <tr>\n",
       "      <th>1</th>\n",
       "      <td>bestechendes</td>\n",
       "      <td>de</td>\n",
       "    </tr>\n",
       "    <tr>\n",
       "      <th>2</th>\n",
       "      <td>narrensicheren</td>\n",
       "      <td>de</td>\n",
       "    </tr>\n",
       "    <tr>\n",
       "      <th>3</th>\n",
       "      <td>inakzeptable</td>\n",
       "      <td>de</td>\n",
       "    </tr>\n",
       "    <tr>\n",
       "      <th>4</th>\n",
       "      <td>abbestelle</td>\n",
       "      <td>de</td>\n",
       "    </tr>\n",
       "  </tbody>\n",
       "</table>\n",
       "</div>"
      ],
      "text/plain": [
       "             word language\n",
       "0       abblendet       de\n",
       "1    bestechendes       de\n",
       "2  narrensicheren       de\n",
       "3    inakzeptable       de\n",
       "4      abbestelle       de"
      ]
     },
     "execution_count": 4,
     "metadata": {},
     "output_type": "execute_result"
    }
   ],
   "source": [
    "corpus_sample_df.head()"
   ]
  },
  {
   "cell_type": "markdown",
   "id": "4cdcaf11",
   "metadata": {},
   "source": [
    "## Training a language model\n",
    "\n",
    "We want to train a masked language model for our corpus of English words. In particular, we mask out particular letters and ask our model to try predict the masked letter.\n",
    "We do this using the [`nlpsig.TextEncoder`](https://nlpsig.readthedocs.io/en/latest/encode_text.html#nlpsig.encode_text.TextEncoder) class which provides a wrapper around the `transformers` library, and have done this in a separate notebook - see [`train_english_char_bert.ipynb`](train_english_char_bert.ipynb). \n",
    "\n",
    "In that notebook, we trained a [Roberta](https://huggingface.co/docs/transformers/model_doc/roberta) language model described in [[3]](https://arxiv.org/abs/1907.11692), and uploaded the model to the [Huggingface model hub](https://huggingface.co/rchan26/english-char-roberta). We can easily load this model in."
   ]
  },
  {
   "cell_type": "code",
   "execution_count": 5,
   "id": "e46427e0",
   "metadata": {},
   "outputs": [],
   "source": [
    "model_name = \"rchan26/english-char-roberta\""
   ]
  },
  {
   "cell_type": "code",
   "execution_count": 6,
   "id": "416c87ea",
   "metadata": {},
   "outputs": [],
   "source": [
    "english_train_encoder = nlpsig.TextEncoder(\n",
    "    df=english_train,\n",
    "    feature_name=\"word\",\n",
    "    model_name=model_name,\n",
    ")"
   ]
  },
  {
   "cell_type": "code",
   "execution_count": 7,
   "id": "3e29d131",
   "metadata": {},
   "outputs": [
    {
     "name": "stdout",
     "output_type": "stream",
     "text": [
      "[INFO] By default, `.load_pretrained_model()` uses `AutoModel` to load in the model. If you want to load the model for a specific task, reset the `.model` attribute.\n"
     ]
    },
    {
     "data": {
      "application/vnd.jupyter.widget-view+json": {
       "model_id": "870685dc880846fdb143b064b47f5c30",
       "version_major": 2,
       "version_minor": 0
      },
      "text/plain": [
       "Downloading tokenizer_config.json:   0%|          | 0.00/1.27k [00:00<?, ?B/s]"
      ]
     },
     "metadata": {},
     "output_type": "display_data"
    },
    {
     "data": {
      "application/vnd.jupyter.widget-view+json": {
       "model_id": "5bb13109f8fb46e29aec6f47a528cd0c",
       "version_major": 2,
       "version_minor": 0
      },
      "text/plain": [
       "Downloading vocab.json:   0%|          | 0.00/470 [00:00<?, ?B/s]"
      ]
     },
     "metadata": {},
     "output_type": "display_data"
    },
    {
     "data": {
      "application/vnd.jupyter.widget-view+json": {
       "model_id": "aeb7bd96c5dc46e6be5394818f289a15",
       "version_major": 2,
       "version_minor": 0
      },
      "text/plain": [
       "Downloading tokenizer.json:   0%|          | 0.00/2.58k [00:00<?, ?B/s]"
      ]
     },
     "metadata": {},
     "output_type": "display_data"
    },
    {
     "data": {
      "application/vnd.jupyter.widget-view+json": {
       "model_id": "1bf6d939330042c1b00484dcef828898",
       "version_major": 2,
       "version_minor": 0
      },
      "text/plain": [
       "Downloading added_tokens.json:   0%|          | 0.00/75.0 [00:00<?, ?B/s]"
      ]
     },
     "metadata": {},
     "output_type": "display_data"
    },
    {
     "name": "stderr",
     "output_type": "stream",
     "text": [
      "Special tokens have been added in the vocabulary, make sure the associated word embeddings are fine-tuned or trained.\n"
     ]
    },
    {
     "data": {
      "application/vnd.jupyter.widget-view+json": {
       "model_id": "8a8b22e6b5d445e7acc51f2399ce1543",
       "version_major": 2,
       "version_minor": 0
      },
      "text/plain": [
       "Downloading pytorch_model.bin:   0%|          | 0.00/173M [00:00<?, ?B/s]"
      ]
     },
     "metadata": {},
     "output_type": "display_data"
    },
    {
     "name": "stderr",
     "output_type": "stream",
     "text": [
      "Some weights of RobertaModel were not initialized from the model checkpoint at rchan26/english-char-roberta and are newly initialized: ['roberta.pooler.dense.weight', 'roberta.pooler.dense.bias']\n",
      "You should probably TRAIN this model on a down-stream task to be able to use it for predictions and inference.\n"
     ]
    }
   ],
   "source": [
    "english_train_encoder.load_pretrained_model()"
   ]
  },
  {
   "cell_type": "code",
   "execution_count": 8,
   "id": "7f13cbe6",
   "metadata": {},
   "outputs": [
    {
     "data": {
      "text/plain": [
       "RobertaModel(\n",
       "  (embeddings): RobertaEmbeddings(\n",
       "    (word_embeddings): Embedding(57, 768, padding_idx=1)\n",
       "    (position_embeddings): Embedding(52, 768, padding_idx=1)\n",
       "    (token_type_embeddings): Embedding(1, 768)\n",
       "    (LayerNorm): LayerNorm((768,), eps=1e-12, elementwise_affine=True)\n",
       "    (dropout): Dropout(p=0.1, inplace=False)\n",
       "  )\n",
       "  (encoder): RobertaEncoder(\n",
       "    (layer): ModuleList(\n",
       "      (0-5): 6 x RobertaLayer(\n",
       "        (attention): RobertaAttention(\n",
       "          (self): RobertaSelfAttention(\n",
       "            (query): Linear(in_features=768, out_features=768, bias=True)\n",
       "            (key): Linear(in_features=768, out_features=768, bias=True)\n",
       "            (value): Linear(in_features=768, out_features=768, bias=True)\n",
       "            (dropout): Dropout(p=0.1, inplace=False)\n",
       "          )\n",
       "          (output): RobertaSelfOutput(\n",
       "            (dense): Linear(in_features=768, out_features=768, bias=True)\n",
       "            (LayerNorm): LayerNorm((768,), eps=1e-12, elementwise_affine=True)\n",
       "            (dropout): Dropout(p=0.1, inplace=False)\n",
       "          )\n",
       "        )\n",
       "        (intermediate): RobertaIntermediate(\n",
       "          (dense): Linear(in_features=768, out_features=3072, bias=True)\n",
       "          (intermediate_act_fn): GELUActivation()\n",
       "        )\n",
       "        (output): RobertaOutput(\n",
       "          (dense): Linear(in_features=3072, out_features=768, bias=True)\n",
       "          (LayerNorm): LayerNorm((768,), eps=1e-12, elementwise_affine=True)\n",
       "          (dropout): Dropout(p=0.1, inplace=False)\n",
       "        )\n",
       "      )\n",
       "    )\n",
       "  )\n",
       "  (pooler): RobertaPooler(\n",
       "    (dense): Linear(in_features=768, out_features=768, bias=True)\n",
       "    (activation): Tanh()\n",
       "  )\n",
       ")"
      ]
     },
     "execution_count": 8,
     "metadata": {},
     "output_type": "execute_result"
    }
   ],
   "source": [
    "english_train_encoder.model"
   ]
  },
  {
   "cell_type": "code",
   "execution_count": 9,
   "id": "14186065",
   "metadata": {},
   "outputs": [],
   "source": [
    "english_train_encoder.model = RobertaForMaskedLM.from_pretrained(model_name)"
   ]
  },
  {
   "cell_type": "code",
   "execution_count": 10,
   "id": "bca8c4bd",
   "metadata": {},
   "outputs": [
    {
     "data": {
      "text/plain": [
       "RobertaForMaskedLM(\n",
       "  (roberta): RobertaModel(\n",
       "    (embeddings): RobertaEmbeddings(\n",
       "      (word_embeddings): Embedding(57, 768, padding_idx=1)\n",
       "      (position_embeddings): Embedding(52, 768, padding_idx=1)\n",
       "      (token_type_embeddings): Embedding(1, 768)\n",
       "      (LayerNorm): LayerNorm((768,), eps=1e-12, elementwise_affine=True)\n",
       "      (dropout): Dropout(p=0.1, inplace=False)\n",
       "    )\n",
       "    (encoder): RobertaEncoder(\n",
       "      (layer): ModuleList(\n",
       "        (0-5): 6 x RobertaLayer(\n",
       "          (attention): RobertaAttention(\n",
       "            (self): RobertaSelfAttention(\n",
       "              (query): Linear(in_features=768, out_features=768, bias=True)\n",
       "              (key): Linear(in_features=768, out_features=768, bias=True)\n",
       "              (value): Linear(in_features=768, out_features=768, bias=True)\n",
       "              (dropout): Dropout(p=0.1, inplace=False)\n",
       "            )\n",
       "            (output): RobertaSelfOutput(\n",
       "              (dense): Linear(in_features=768, out_features=768, bias=True)\n",
       "              (LayerNorm): LayerNorm((768,), eps=1e-12, elementwise_affine=True)\n",
       "              (dropout): Dropout(p=0.1, inplace=False)\n",
       "            )\n",
       "          )\n",
       "          (intermediate): RobertaIntermediate(\n",
       "            (dense): Linear(in_features=768, out_features=3072, bias=True)\n",
       "            (intermediate_act_fn): GELUActivation()\n",
       "          )\n",
       "          (output): RobertaOutput(\n",
       "            (dense): Linear(in_features=3072, out_features=768, bias=True)\n",
       "            (LayerNorm): LayerNorm((768,), eps=1e-12, elementwise_affine=True)\n",
       "            (dropout): Dropout(p=0.1, inplace=False)\n",
       "          )\n",
       "        )\n",
       "      )\n",
       "    )\n",
       "  )\n",
       "  (lm_head): RobertaLMHead(\n",
       "    (dense): Linear(in_features=768, out_features=768, bias=True)\n",
       "    (layer_norm): LayerNorm((768,), eps=1e-12, elementwise_affine=True)\n",
       "    (decoder): Linear(in_features=768, out_features=57, bias=True)\n",
       "  )\n",
       ")"
      ]
     },
     "execution_count": 10,
     "metadata": {},
     "output_type": "execute_result"
    }
   ],
   "source": [
    "english_train_encoder.model"
   ]
  },
  {
   "cell_type": "markdown",
   "id": "5646433f",
   "metadata": {},
   "source": [
    "## Obtaining token and word embeddings\n",
    "\n",
    "There are many ways in which one can get token embeddings (here, each character is a token) from the transformer network, as the output is the layers for the full network. A few ways are by using the [`nlpsig.TextEncoder.obtain_embeddings`](https://nlpsig.readthedocs.io/en/latest/encode_text.html#nlpsig.encode_text.TextEncoder.obtain_embeddings) method:\n",
    "\n",
    "- Returning the output of a particular hidden layer\n",
    "    - use `.obtain_embeddings(method = \"hidden_layer\", layers = l)` where `l` is the layer you want\n",
    "    - If no layer is requested, it will just give you the second-to-last hidden layer of the transformer network.\n",
    "- Concatenate the output of several hidden layers\n",
    "    - use `.obtain_embeddings(method = \"concatenate\", layers = [l_1, l_2, ...])` where `[l_1, l_2, ...]` is a list of layers you want to concatenate\n",
    "- Element-wise sum the output of several hidden layers\n",
    "    - use `.obtain_embeddings(method = \"sum\" , layers = [l_1, l_2, ...])` where `[l_1, l_2, ...]` is a list of layers you want to sum\n",
    "- Mean the output of several hidden layers\n",
    "    - use `.obtain_embeddings(method = \"mean\" , layers = [l_1, l_2, ...])` where `[l_1, l_2, ...]` is a list of layers you want to take the mean average over\n",
    "\n",
    "Each of these methods will return a 2-dimensional array with dimensions `[token, embedding]`.\n",
    "\n",
    "If a more custom way to obtain embeddings from the hidden layers, you can specify what layers you want, and it will return them (i.e. using `.obtain_embeddings(method = \"hidden_layer\", layers = [l_1, l_2, ...])` where `[l_1, l_2, ...]` is a list of hidden layers you want) and so the output will be a 3-dimensional array with dimensions `[layer, token, embedding]` for which you would need to combine in such a way that you would have an embedding for each token. The above methods would return a 2-dimensional array with dimensions `[token, embedding]`.\n",
    "\n",
    "In the below, we just obtain the last hidden layer of the network (the 6th one in this case)."
   ]
  },
  {
   "cell_type": "code",
   "execution_count": 11,
   "id": "ad57446b",
   "metadata": {},
   "outputs": [
    {
     "name": "stdout",
     "output_type": "stream",
     "text": [
      "[INFO] Setting return_special_tokens_mask=True\n",
      "[INFO] Tokenizing the dataset...\n"
     ]
    },
    {
     "data": {
      "application/vnd.jupyter.widget-view+json": {
       "model_id": "8d77478807a8440d80b9efa910907548",
       "version_major": 2,
       "version_minor": 0
      },
      "text/plain": [
       "Map:   0%|          | 0/70615 [00:00<?, ? examples/s]"
      ]
     },
     "metadata": {},
     "output_type": "display_data"
    },
    {
     "name": "stdout",
     "output_type": "stream",
     "text": [
      "[INFO] Saving the tokenized text for each sentence into `.df['tokens']`...\n"
     ]
    },
    {
     "data": {
      "application/vnd.jupyter.widget-view+json": {
       "model_id": "4e3e2de55fc84297af2aaf59e1cc040d",
       "version_major": 2,
       "version_minor": 0
      },
      "text/plain": [
       "Map:   0%|          | 0/70615 [00:00<?, ? examples/s]"
      ]
     },
     "metadata": {},
     "output_type": "display_data"
    },
    {
     "name": "stdout",
     "output_type": "stream",
     "text": [
      "[INFO] Creating tokenized dataframe and setting in `.tokenized_df` attribute...\n",
      "[INFO] Note: 'text_id' is the column name for denoting the corresponding text id\n"
     ]
    },
    {
     "data": {
      "text/plain": [
       "Dataset({\n",
       "    features: ['word', 'language', 'input_ids', 'attention_mask', 'special_tokens_mask', 'tokens'],\n",
       "    num_rows: 70615\n",
       "})"
      ]
     },
     "execution_count": 11,
     "metadata": {},
     "output_type": "execute_result"
    }
   ],
   "source": [
    "english_train_encoder.tokenize_text()"
   ]
  },
  {
   "cell_type": "code",
   "execution_count": 12,
   "id": "06e80725-925f-4ada-a58a-02e0b71ff023",
   "metadata": {},
   "outputs": [
    {
     "data": {
      "application/vnd.jupyter.widget-view+json": {
       "model_id": "b2d424873b494caba3a575853070e357",
       "version_major": 2,
       "version_minor": 0
      },
      "text/plain": [
       "  0%|          | 0/707 [00:00<?, ?it/s]"
      ]
     },
     "metadata": {},
     "output_type": "display_data"
    },
    {
     "name": "stderr",
     "output_type": "stream",
     "text": [
      "You're using a RobertaTokenizerFast tokenizer. Please note that with a fast tokenizer, using the `__call__` method is faster than using a method to encode the text followed by a call to the `pad` method to get a padded encoding.\n"
     ]
    }
   ],
   "source": [
    "# setting the model to use the CPU\n",
    "english_train_encoder.model.to(\"cpu\")\n",
    "english_token_embeddings = english_train_encoder.obtain_embeddings(method=\"hidden_layer\", layers=6)"
   ]
  },
  {
   "cell_type": "markdown",
   "id": "73afe43d-26f8-437b-9a32-ceee73fb88d1",
   "metadata": {},
   "source": [
    "By inspecting the shape of this, we can see that we have a 2-dimensional array with dimensions `[token, embedding]` where the embeddings are 768 dimensional in this network."
   ]
  },
  {
   "cell_type": "code",
   "execution_count": 13,
   "id": "282d5b45",
   "metadata": {},
   "outputs": [
    {
     "data": {
      "text/plain": [
       "(601949, 768)"
      ]
     },
     "execution_count": 13,
     "metadata": {},
     "output_type": "execute_result"
    }
   ],
   "source": [
    "english_token_embeddings.shape"
   ]
  },
  {
   "cell_type": "markdown",
   "id": "29f09e23",
   "metadata": {},
   "source": [
    "Now that we have token embeddings for each text, it is possible to pool these embeddings to obtain an embedding for the full text (for this case, this embedding would represent the word itself. We can use the [`nlpsig.TextEncoder.pool_token_embeddings`](https://nlpsig.readthedocs.io/en/latest/encode_text.html#nlpsig.encode_text.TextEncoder.pool_token_embeddings) method for doing this.\n",
    "\n",
    "Again, there are several methods and full details can be found in the documentation, but a few are:\n",
    "\n",
    "- Taking the mean of the token embeddings\n",
    "    - use `.pool_token_embeddings(method = \"mean\")`\n",
    "- Taking the element-wise max of the token embeddings\n",
    "    - use `.pool_token_embeddings(method = \"max\")`\n",
    "- Taking the element-wise sum of the token embeddings\n",
    "    - use `.pool_token_embeddings(method = \"sum\")`\n",
    "- Taking the token-embedding for the CLS token (a special token that is used in some transformers like BERT and RoBERTa)\n",
    "    - but this is only available to us if we set `skip_special_tokens=False` when tokenizing the text with `.tokenize_text()` method (note by default, this is set to `True` and so we don't have access to this method here)\n",
    "    - use `.pool_token_embeddings(method = \"cls\")`\n",
    "        - note this will produce an error if the CLS token is not available...\n",
    "\n",
    "For example, to pool the character embeddings by taking the mean of the token embeddings:"
   ]
  },
  {
   "cell_type": "code",
   "execution_count": 14,
   "id": "fcfd84d6",
   "metadata": {
    "tags": []
   },
   "outputs": [
    {
     "data": {
      "application/vnd.jupyter.widget-view+json": {
       "model_id": "d7d3c881a8834f81af828ae1854d9627",
       "version_major": 2,
       "version_minor": 0
      },
      "text/plain": [
       "  0%|          | 0/70615 [00:00<?, ?it/s]"
      ]
     },
     "metadata": {},
     "output_type": "display_data"
    }
   ],
   "source": [
    "pooled_english_mean = english_train_encoder.pool_token_embeddings()"
   ]
  },
  {
   "cell_type": "markdown",
   "id": "f2b491dc",
   "metadata": {},
   "source": [
    "Again, we can inspect the shape and we can see that we have embeddings for each of our words:"
   ]
  },
  {
   "cell_type": "code",
   "execution_count": 15,
   "id": "c876954d",
   "metadata": {},
   "outputs": [
    {
     "data": {
      "text/plain": [
       "(70615, 768)"
      ]
     },
     "execution_count": 15,
     "metadata": {},
     "output_type": "execute_result"
    }
   ],
   "source": [
    "pooled_english_mean.shape"
   ]
  },
  {
   "cell_type": "markdown",
   "id": "84c0fffd",
   "metadata": {
    "tags": []
   },
   "source": [
    "## Dimension reduction\n",
    "\n",
    "We can perform dimension reduction with the [`nlpsig.DimReduce`](https://nlpsig.readthedocs.io/en/latest/dimensionality_reduction.html#nlpsig.dimensionality_reduction.DimReduce) class. Here, we will use Gaussian Random Projections (implemented using [`scikit-learn`](https://scikit-learn.org/stable/modules/random_projection.html)) by setting `method=\"gaussian_random_projection\"`, but there are other standard methods available:\n",
    "- UMAP [[4]](https://arxiv.org/abs/1802.03426) (implemented using the [`umap-learn`](https://umap-learn.readthedocs.io/en/latest/api.html))\n",
    "    - `method=\"umap\"`\n",
    "- PCA [[5]](http://www.miketipping.com/papers/met-mppca.pdf) (implemented using [`scikit-learn`](https://scikit-learn.org/stable/modules/generated/sklearn.decomposition.PCA.html))\n",
    "    - `method=\"pca\"`\n",
    "- TSNE [[6]](https://www.jmlr.org/papers/volume9/vandermaaten08a/vandermaaten08a.pdf) (implemented using [`scikit-learn`](https://scikit-learn.org/stable/modules/generated/sklearn.manifold.TSNE.html))\n",
    "    - `method=\"tsne\"`\n",
    "- Post Processing Algorithm (PPA) with PCA (PPA-PCA) [[7]](https://arxiv.org/abs/1702.01417)\n",
    "    - `method=\"ppapca\"`\n",
    "- PPA-PCA-PPA [[7]](https://aclanthology.org/W19-4328/)\n",
    "    - `method=\"ppapacppa\"`"
   ]
  },
  {
   "cell_type": "code",
   "execution_count": 16,
   "id": "981f1c9d",
   "metadata": {},
   "outputs": [],
   "source": [
    "reduction = nlpsig.DimReduce(\n",
    "    method=\"gaussian_random_projection\",\n",
    "    n_components=25,\n",
    ")\n",
    "\n",
    "english_token_embeddings_reduced = reduction.fit_transform(english_token_embeddings, random_state=seed)"
   ]
  },
  {
   "cell_type": "code",
   "execution_count": 17,
   "id": "5b21f27a-2133-4cf1-a693-98b08407216d",
   "metadata": {},
   "outputs": [
    {
     "data": {
      "text/plain": [
       "(601949, 25)"
      ]
     },
     "execution_count": 17,
     "metadata": {},
     "output_type": "execute_result"
    }
   ],
   "source": [
    "english_token_embeddings_reduced.shape"
   ]
  },
  {
   "cell_type": "markdown",
   "id": "fe1aaa4c-f9b9-4c50-b8b0-b8add1923e08",
   "metadata": {},
   "source": [
    "We can save these embeddings for later use:"
   ]
  },
  {
   "cell_type": "code",
   "execution_count": 18,
   "id": "e6c279ac-2184-4ac2-802a-1d044caee6d7",
   "metadata": {},
   "outputs": [],
   "source": [
    "with open(f\"english_token_embeddings.pkl\",'wb') as f:\n",
    "    pickle.dump(english_token_embeddings, f)\n",
    "with open(f\"english_reduced_token_embeddings.pkl\",'wb') as f:\n",
    "    pickle.dump(english_token_embeddings_reduced, f)"
   ]
  },
  {
   "cell_type": "markdown",
   "id": "81af6467",
   "metadata": {},
   "source": [
    "As we have embeddings for each token, we can obtain a path for each word by constructing a path of the token embeddings. To do this, we can use the [`nlpsig.PrepareData`](https://nlpsig.readthedocs.io/en/latest/data_preparation.html#nlpsig.data_preparation.PrepareData) class and pass in our tokenized dataframe (the dataframe where we have each token in our data and we also have the corresponding id for each word which is saved in the `text_id` column of the tokenized dataframe.\n",
    "\n",
    "We pass in the column which defines the ids, `text_id`, the column which defines the labels, `language`, the token embeddings and the dimension-reduced embeddings."
   ]
  },
  {
   "cell_type": "code",
   "execution_count": 19,
   "id": "3b2d8c08",
   "metadata": {},
   "outputs": [
    {
     "name": "stdout",
     "output_type": "stream",
     "text": [
      "[INFO] Concatenating the embeddings to the dataframe...\n",
      "[INFO] - columns beginning with 'e' denote the full embddings.\n",
      "[INFO] - columns beginning with 'd' denote the dimension reduced embeddings.\n",
      "[INFO] Adding time feature columns into dataframe in `.df`.\n",
      "[INFO] Note 'datetime' is not a column in `.df`, so only 'timeline_index' is added.\n",
      "[INFO] As 'datetime' is not a column in `.df`, we assume that the data is ordered by time with respect to the id.\n",
      "[INFO] Adding 'timeline_index' feature...\n"
     ]
    }
   ],
   "source": [
    "english_dataset = nlpsig.PrepareData(\n",
    "    original_df=english_train_encoder.tokenized_df,\n",
    "    id_column=\"text_id\",\n",
    "    embeddings=english_token_embeddings,\n",
    "    embeddings_reduced=english_token_embeddings_reduced\n",
    ")"
   ]
  },
  {
   "cell_type": "markdown",
   "id": "ef3a0e3c-288a-4a23-8851-a68aa6956b61",
   "metadata": {},
   "source": [
    "The class concatenates the embeddings and the dimension-reduced embeddings that are passed into to the class initalisation and stores it in the `.df` attribute of `english_dataset`.\n",
    "\n",
    "Here, the columns beginning with `d` denote the dimensions of the dimension reduced transformer embeddings, whereas the columns beginning with `e` denote the dimensions of embeddings obtained from the transformer.\n",
    "\n",
    "Furthermore, we can see from the printed out information that a `timeline_index` column was added to the dataframe, which is the last column here:"
   ]
  },
  {
   "cell_type": "code",
   "execution_count": 20,
   "id": "05b0bd97-3e75-4b64-9454-91ba79f0c610",
   "metadata": {},
   "outputs": [
    {
     "data": {
      "text/html": [
       "<div>\n",
       "<style scoped>\n",
       "    .dataframe tbody tr th:only-of-type {\n",
       "        vertical-align: middle;\n",
       "    }\n",
       "\n",
       "    .dataframe tbody tr th {\n",
       "        vertical-align: top;\n",
       "    }\n",
       "\n",
       "    .dataframe thead th {\n",
       "        text-align: right;\n",
       "    }\n",
       "</style>\n",
       "<table border=\"1\" class=\"dataframe\">\n",
       "  <thead>\n",
       "    <tr style=\"text-align: right;\">\n",
       "      <th></th>\n",
       "      <th>text_id</th>\n",
       "      <th>language</th>\n",
       "      <th>tokens</th>\n",
       "      <th>d1</th>\n",
       "      <th>d2</th>\n",
       "      <th>d3</th>\n",
       "      <th>d4</th>\n",
       "      <th>d5</th>\n",
       "      <th>d6</th>\n",
       "      <th>d7</th>\n",
       "      <th>...</th>\n",
       "      <th>e760</th>\n",
       "      <th>e761</th>\n",
       "      <th>e762</th>\n",
       "      <th>e763</th>\n",
       "      <th>e764</th>\n",
       "      <th>e765</th>\n",
       "      <th>e766</th>\n",
       "      <th>e767</th>\n",
       "      <th>e768</th>\n",
       "      <th>timeline_index</th>\n",
       "    </tr>\n",
       "  </thead>\n",
       "  <tbody>\n",
       "    <tr>\n",
       "      <th>0</th>\n",
       "      <td>0</td>\n",
       "      <td>en</td>\n",
       "      <td>k</td>\n",
       "      <td>6.100298</td>\n",
       "      <td>-14.199132</td>\n",
       "      <td>8.581287</td>\n",
       "      <td>-6.761333</td>\n",
       "      <td>2.903222</td>\n",
       "      <td>8.518986</td>\n",
       "      <td>-1.497842</td>\n",
       "      <td>...</td>\n",
       "      <td>-1.533906</td>\n",
       "      <td>-0.016500</td>\n",
       "      <td>-0.841333</td>\n",
       "      <td>0.967386</td>\n",
       "      <td>-1.594480</td>\n",
       "      <td>1.674844</td>\n",
       "      <td>0.409466</td>\n",
       "      <td>-1.230852</td>\n",
       "      <td>0.450279</td>\n",
       "      <td>1</td>\n",
       "    </tr>\n",
       "    <tr>\n",
       "      <th>1</th>\n",
       "      <td>0</td>\n",
       "      <td>en</td>\n",
       "      <td>n</td>\n",
       "      <td>6.067597</td>\n",
       "      <td>-7.157618</td>\n",
       "      <td>3.922382</td>\n",
       "      <td>2.873782</td>\n",
       "      <td>4.717306</td>\n",
       "      <td>-0.953772</td>\n",
       "      <td>-6.488945</td>\n",
       "      <td>...</td>\n",
       "      <td>-0.743229</td>\n",
       "      <td>-0.415965</td>\n",
       "      <td>-0.220593</td>\n",
       "      <td>0.931776</td>\n",
       "      <td>0.089646</td>\n",
       "      <td>-0.172894</td>\n",
       "      <td>1.922119</td>\n",
       "      <td>-0.317665</td>\n",
       "      <td>1.383081</td>\n",
       "      <td>2</td>\n",
       "    </tr>\n",
       "    <tr>\n",
       "      <th>2</th>\n",
       "      <td>0</td>\n",
       "      <td>en</td>\n",
       "      <td>o</td>\n",
       "      <td>9.407446</td>\n",
       "      <td>-8.487071</td>\n",
       "      <td>3.602750</td>\n",
       "      <td>-6.851043</td>\n",
       "      <td>7.014906</td>\n",
       "      <td>0.959817</td>\n",
       "      <td>1.894073</td>\n",
       "      <td>...</td>\n",
       "      <td>-0.522140</td>\n",
       "      <td>0.108025</td>\n",
       "      <td>-0.334635</td>\n",
       "      <td>1.223601</td>\n",
       "      <td>0.198564</td>\n",
       "      <td>0.080706</td>\n",
       "      <td>2.160928</td>\n",
       "      <td>0.805575</td>\n",
       "      <td>-0.801284</td>\n",
       "      <td>3</td>\n",
       "    </tr>\n",
       "    <tr>\n",
       "      <th>3</th>\n",
       "      <td>0</td>\n",
       "      <td>en</td>\n",
       "      <td>t</td>\n",
       "      <td>1.125513</td>\n",
       "      <td>0.428988</td>\n",
       "      <td>3.385085</td>\n",
       "      <td>1.941234</td>\n",
       "      <td>4.131640</td>\n",
       "      <td>-0.509308</td>\n",
       "      <td>7.753160</td>\n",
       "      <td>...</td>\n",
       "      <td>-0.341119</td>\n",
       "      <td>0.648110</td>\n",
       "      <td>0.571438</td>\n",
       "      <td>0.584918</td>\n",
       "      <td>-0.637328</td>\n",
       "      <td>0.751738</td>\n",
       "      <td>1.818443</td>\n",
       "      <td>0.990760</td>\n",
       "      <td>0.115542</td>\n",
       "      <td>4</td>\n",
       "    </tr>\n",
       "    <tr>\n",
       "      <th>4</th>\n",
       "      <td>0</td>\n",
       "      <td>en</td>\n",
       "      <td>s</td>\n",
       "      <td>2.313937</td>\n",
       "      <td>0.054572</td>\n",
       "      <td>-2.763758</td>\n",
       "      <td>-3.833287</td>\n",
       "      <td>4.874951</td>\n",
       "      <td>-3.330217</td>\n",
       "      <td>-1.284547</td>\n",
       "      <td>...</td>\n",
       "      <td>0.345745</td>\n",
       "      <td>0.988667</td>\n",
       "      <td>-0.534669</td>\n",
       "      <td>2.455460</td>\n",
       "      <td>-0.635259</td>\n",
       "      <td>0.844671</td>\n",
       "      <td>0.778486</td>\n",
       "      <td>0.768183</td>\n",
       "      <td>-1.666858</td>\n",
       "      <td>5</td>\n",
       "    </tr>\n",
       "    <tr>\n",
       "      <th>...</th>\n",
       "      <td>...</td>\n",
       "      <td>...</td>\n",
       "      <td>...</td>\n",
       "      <td>...</td>\n",
       "      <td>...</td>\n",
       "      <td>...</td>\n",
       "      <td>...</td>\n",
       "      <td>...</td>\n",
       "      <td>...</td>\n",
       "      <td>...</td>\n",
       "      <td>...</td>\n",
       "      <td>...</td>\n",
       "      <td>...</td>\n",
       "      <td>...</td>\n",
       "      <td>...</td>\n",
       "      <td>...</td>\n",
       "      <td>...</td>\n",
       "      <td>...</td>\n",
       "      <td>...</td>\n",
       "      <td>...</td>\n",
       "      <td>...</td>\n",
       "    </tr>\n",
       "    <tr>\n",
       "      <th>601944</th>\n",
       "      <td>70614</td>\n",
       "      <td>en</td>\n",
       "      <td>m</td>\n",
       "      <td>1.639216</td>\n",
       "      <td>0.717788</td>\n",
       "      <td>-1.328302</td>\n",
       "      <td>-12.343803</td>\n",
       "      <td>-4.282854</td>\n",
       "      <td>-9.771315</td>\n",
       "      <td>-2.443641</td>\n",
       "      <td>...</td>\n",
       "      <td>-0.038248</td>\n",
       "      <td>0.369698</td>\n",
       "      <td>-1.192643</td>\n",
       "      <td>0.888171</td>\n",
       "      <td>-0.688071</td>\n",
       "      <td>-0.225089</td>\n",
       "      <td>1.232774</td>\n",
       "      <td>0.170042</td>\n",
       "      <td>-0.456451</td>\n",
       "      <td>6</td>\n",
       "    </tr>\n",
       "    <tr>\n",
       "      <th>601945</th>\n",
       "      <td>70614</td>\n",
       "      <td>en</td>\n",
       "      <td>i</td>\n",
       "      <td>-7.668247</td>\n",
       "      <td>-9.949147</td>\n",
       "      <td>4.931896</td>\n",
       "      <td>-6.880606</td>\n",
       "      <td>0.885773</td>\n",
       "      <td>1.801310</td>\n",
       "      <td>-4.665092</td>\n",
       "      <td>...</td>\n",
       "      <td>-1.070264</td>\n",
       "      <td>-0.510370</td>\n",
       "      <td>-0.729678</td>\n",
       "      <td>0.607366</td>\n",
       "      <td>1.258828</td>\n",
       "      <td>0.519082</td>\n",
       "      <td>0.996714</td>\n",
       "      <td>1.287260</td>\n",
       "      <td>-0.600449</td>\n",
       "      <td>7</td>\n",
       "    </tr>\n",
       "    <tr>\n",
       "      <th>601946</th>\n",
       "      <td>70614</td>\n",
       "      <td>en</td>\n",
       "      <td>l</td>\n",
       "      <td>1.901520</td>\n",
       "      <td>2.117802</td>\n",
       "      <td>-1.211096</td>\n",
       "      <td>-7.594829</td>\n",
       "      <td>8.067634</td>\n",
       "      <td>-1.348465</td>\n",
       "      <td>-8.490309</td>\n",
       "      <td>...</td>\n",
       "      <td>0.026670</td>\n",
       "      <td>-0.873979</td>\n",
       "      <td>-0.078845</td>\n",
       "      <td>-1.068502</td>\n",
       "      <td>-0.159796</td>\n",
       "      <td>0.163264</td>\n",
       "      <td>2.670635</td>\n",
       "      <td>2.315694</td>\n",
       "      <td>1.644772</td>\n",
       "      <td>8</td>\n",
       "    </tr>\n",
       "    <tr>\n",
       "      <th>601947</th>\n",
       "      <td>70614</td>\n",
       "      <td>en</td>\n",
       "      <td>e</td>\n",
       "      <td>1.672272</td>\n",
       "      <td>-4.530347</td>\n",
       "      <td>-5.324213</td>\n",
       "      <td>5.228519</td>\n",
       "      <td>8.263039</td>\n",
       "      <td>2.614076</td>\n",
       "      <td>-5.229039</td>\n",
       "      <td>...</td>\n",
       "      <td>-1.922539</td>\n",
       "      <td>-0.309774</td>\n",
       "      <td>0.435103</td>\n",
       "      <td>-0.866393</td>\n",
       "      <td>-0.739616</td>\n",
       "      <td>-2.028092</td>\n",
       "      <td>-0.655358</td>\n",
       "      <td>0.945581</td>\n",
       "      <td>-1.189239</td>\n",
       "      <td>9</td>\n",
       "    </tr>\n",
       "    <tr>\n",
       "      <th>601948</th>\n",
       "      <td>70614</td>\n",
       "      <td>en</td>\n",
       "      <td>s</td>\n",
       "      <td>-0.452957</td>\n",
       "      <td>-0.818362</td>\n",
       "      <td>-7.153192</td>\n",
       "      <td>4.422605</td>\n",
       "      <td>-4.524617</td>\n",
       "      <td>-6.140039</td>\n",
       "      <td>-3.085102</td>\n",
       "      <td>...</td>\n",
       "      <td>-1.930752</td>\n",
       "      <td>1.927993</td>\n",
       "      <td>0.516500</td>\n",
       "      <td>-0.898273</td>\n",
       "      <td>-0.413304</td>\n",
       "      <td>-0.436183</td>\n",
       "      <td>0.755781</td>\n",
       "      <td>2.223152</td>\n",
       "      <td>-0.613211</td>\n",
       "      <td>10</td>\n",
       "    </tr>\n",
       "  </tbody>\n",
       "</table>\n",
       "<p>601949 rows × 797 columns</p>\n",
       "</div>"
      ],
      "text/plain": [
       "        text_id language tokens        d1         d2        d3         d4  \\\n",
       "0             0       en      k  6.100298 -14.199132  8.581287  -6.761333   \n",
       "1             0       en      n  6.067597  -7.157618  3.922382   2.873782   \n",
       "2             0       en      o  9.407446  -8.487071  3.602750  -6.851043   \n",
       "3             0       en      t  1.125513   0.428988  3.385085   1.941234   \n",
       "4             0       en      s  2.313937   0.054572 -2.763758  -3.833287   \n",
       "...         ...      ...    ...       ...        ...       ...        ...   \n",
       "601944    70614       en      m  1.639216   0.717788 -1.328302 -12.343803   \n",
       "601945    70614       en      i -7.668247  -9.949147  4.931896  -6.880606   \n",
       "601946    70614       en      l  1.901520   2.117802 -1.211096  -7.594829   \n",
       "601947    70614       en      e  1.672272  -4.530347 -5.324213   5.228519   \n",
       "601948    70614       en      s -0.452957  -0.818362 -7.153192   4.422605   \n",
       "\n",
       "              d5        d6        d7  ...      e760      e761      e762  \\\n",
       "0       2.903222  8.518986 -1.497842  ... -1.533906 -0.016500 -0.841333   \n",
       "1       4.717306 -0.953772 -6.488945  ... -0.743229 -0.415965 -0.220593   \n",
       "2       7.014906  0.959817  1.894073  ... -0.522140  0.108025 -0.334635   \n",
       "3       4.131640 -0.509308  7.753160  ... -0.341119  0.648110  0.571438   \n",
       "4       4.874951 -3.330217 -1.284547  ...  0.345745  0.988667 -0.534669   \n",
       "...          ...       ...       ...  ...       ...       ...       ...   \n",
       "601944 -4.282854 -9.771315 -2.443641  ... -0.038248  0.369698 -1.192643   \n",
       "601945  0.885773  1.801310 -4.665092  ... -1.070264 -0.510370 -0.729678   \n",
       "601946  8.067634 -1.348465 -8.490309  ...  0.026670 -0.873979 -0.078845   \n",
       "601947  8.263039  2.614076 -5.229039  ... -1.922539 -0.309774  0.435103   \n",
       "601948 -4.524617 -6.140039 -3.085102  ... -1.930752  1.927993  0.516500   \n",
       "\n",
       "            e763      e764      e765      e766      e767      e768  \\\n",
       "0       0.967386 -1.594480  1.674844  0.409466 -1.230852  0.450279   \n",
       "1       0.931776  0.089646 -0.172894  1.922119 -0.317665  1.383081   \n",
       "2       1.223601  0.198564  0.080706  2.160928  0.805575 -0.801284   \n",
       "3       0.584918 -0.637328  0.751738  1.818443  0.990760  0.115542   \n",
       "4       2.455460 -0.635259  0.844671  0.778486  0.768183 -1.666858   \n",
       "...          ...       ...       ...       ...       ...       ...   \n",
       "601944  0.888171 -0.688071 -0.225089  1.232774  0.170042 -0.456451   \n",
       "601945  0.607366  1.258828  0.519082  0.996714  1.287260 -0.600449   \n",
       "601946 -1.068502 -0.159796  0.163264  2.670635  2.315694  1.644772   \n",
       "601947 -0.866393 -0.739616 -2.028092 -0.655358  0.945581 -1.189239   \n",
       "601948 -0.898273 -0.413304 -0.436183  0.755781  2.223152 -0.613211   \n",
       "\n",
       "        timeline_index  \n",
       "0                    1  \n",
       "1                    2  \n",
       "2                    3  \n",
       "3                    4  \n",
       "4                    5  \n",
       "...                ...  \n",
       "601944               6  \n",
       "601945               7  \n",
       "601946               8  \n",
       "601947               9  \n",
       "601948              10  \n",
       "\n",
       "[601949 rows x 797 columns]"
      ]
     },
     "execution_count": 20,
     "metadata": {},
     "output_type": "execute_result"
    }
   ],
   "source": [
    "english_dataset.df"
   ]
  },
  {
   "cell_type": "markdown",
   "id": "ceb187e7",
   "metadata": {},
   "source": [
    "We can construct a path by using the [`nlpsig.PrepareData.pad`](https://nlpsig.readthedocs.io/en/latest/data_preparation.html#nlpsig.data_preparation.PrepareData.pad) method, and result of this is a multi-dimensional array or tensor (in particular a numpy array or PyTorch tensor) which can be then used in some downstream task. It is called \"pad\" because arrays and tensors are rectangular and if there are cases where there isn't enough data (e.g. if a word only has 3 letters/tokens and we want to make paths of length 4), we \"pad\" with either the last token embedding (if we set `zero_padding=False`) or with a vector of zeros (if we set `zero_padding=True`).\n",
    "\n",
    "Here, we construct paths by setting a length of the paths (we call this method `k_last` in the code and we have to specify the length with `k=50` - the maximum sequence length that we used when defining the transformer model).\n",
    "\n",
    "We alternatively can construct to the longest word possible (by setting `method=\"max\"`). The `time_feature` argument allows us to specify what time features we want to keep. Here we don't have any besides the index in which the word is, which is given by `timeline_index` and we choose not to standardise that by specifying `standardise_time_feature=False`.\n",
    "\n",
    "The `pad_by` argument specifies that we are padding for each word (as each word is given a particular `text_id` in the tokenized dataframe above). There is an alternative option to construct a path by looking at the history of a particular embedding (i.e. the stream embeddings that occurred before), but this is not useful here in this context, and we will cover that in another notebook."
   ]
  },
  {
   "cell_type": "code",
   "execution_count": 21,
   "id": "b6ca0623",
   "metadata": {},
   "outputs": [],
   "source": [
    "path_specifics = {\n",
    "    \"pad_by\": \"id\",\n",
    "    \"zero_padding\": True,\n",
    "    \"method\": \"k_last\",\n",
    "    \"k\": 50,\n",
    "    \"features\": [\"timeline_index\"],\n",
    "    \"standardise_method\": [None],\n",
    "    \"embeddings\": \"dim_reduced\",\n",
    "    \"pad_from_below\": True\n",
    "}"
   ]
  },
  {
   "cell_type": "code",
   "execution_count": 22,
   "id": "19583e9f-f4b9-450e-998c-7416fece349e",
   "metadata": {
    "tags": []
   },
   "outputs": [
    {
     "name": "stdout",
     "output_type": "stream",
     "text": [
      "[INFO] Padding ids and storing in `.df_padded` and `.array_padded` attributes.\n"
     ]
    },
    {
     "data": {
      "application/vnd.jupyter.widget-view+json": {
       "model_id": "14ffcc820fbf4979b522253b30618986",
       "version_major": 2,
       "version_minor": 0
      },
      "text/plain": [
       "  0%|          | 0/70615 [00:00<?, ?it/s]"
      ]
     },
     "metadata": {},
     "output_type": "display_data"
    }
   ],
   "source": [
    "english_word_path = english_dataset.pad(**path_specifics)"
   ]
  },
  {
   "cell_type": "code",
   "execution_count": 23,
   "id": "ccd79294",
   "metadata": {},
   "outputs": [
    {
     "data": {
      "text/plain": [
       "(70615, 50, 27)"
      ]
     },
     "execution_count": 23,
     "metadata": {},
     "output_type": "execute_result"
    }
   ],
   "source": [
    "english_word_path.shape"
   ]
  },
  {
   "cell_type": "code",
   "execution_count": 24,
   "id": "292fbdd7",
   "metadata": {},
   "outputs": [
    {
     "data": {
      "text/plain": [
       "70615"
      ]
     },
     "execution_count": 24,
     "metadata": {},
     "output_type": "execute_result"
    }
   ],
   "source": [
    "len(english_dataset.df[\"text_id\"].unique())"
   ]
  },
  {
   "cell_type": "markdown",
   "id": "7febd295",
   "metadata": {},
   "source": [
    "We also store this array as a dataframe in `.df_padded` so that you can see what the columns correspond to, where columns beginning with `e` denote the dimensions of embeddings obtained from the transformer (here we have none as we only requested to keep the dimension reduced embeddings), and columns beginning with `d` denote the dimensions of the dimension reduced transformer embeddings.\n",
    "\n",
    "We can see for the first word in the dataset (with `text_id==0`), this is a word with 10 letters and we can see how we have padded the word to length 50."
   ]
  },
  {
   "cell_type": "code",
   "execution_count": 25,
   "id": "3217c3e8",
   "metadata": {},
   "outputs": [
    {
     "data": {
      "text/html": [
       "<div>\n",
       "<style scoped>\n",
       "    .dataframe tbody tr th:only-of-type {\n",
       "        vertical-align: middle;\n",
       "    }\n",
       "\n",
       "    .dataframe tbody tr th {\n",
       "        vertical-align: top;\n",
       "    }\n",
       "\n",
       "    .dataframe thead th {\n",
       "        text-align: right;\n",
       "    }\n",
       "</style>\n",
       "<table border=\"1\" class=\"dataframe\">\n",
       "  <thead>\n",
       "    <tr style=\"text-align: right;\">\n",
       "      <th></th>\n",
       "      <th>timeline_index</th>\n",
       "      <th>d1</th>\n",
       "      <th>d2</th>\n",
       "      <th>d3</th>\n",
       "      <th>d4</th>\n",
       "      <th>d5</th>\n",
       "      <th>d6</th>\n",
       "      <th>d7</th>\n",
       "      <th>d8</th>\n",
       "      <th>d9</th>\n",
       "      <th>...</th>\n",
       "      <th>d17</th>\n",
       "      <th>d18</th>\n",
       "      <th>d19</th>\n",
       "      <th>d20</th>\n",
       "      <th>d21</th>\n",
       "      <th>d22</th>\n",
       "      <th>d23</th>\n",
       "      <th>d24</th>\n",
       "      <th>d25</th>\n",
       "      <th>text_id</th>\n",
       "    </tr>\n",
       "  </thead>\n",
       "  <tbody>\n",
       "    <tr>\n",
       "      <th>0</th>\n",
       "      <td>1</td>\n",
       "      <td>6.100298</td>\n",
       "      <td>-14.199132</td>\n",
       "      <td>8.581287</td>\n",
       "      <td>-6.761333</td>\n",
       "      <td>2.903222</td>\n",
       "      <td>8.518986</td>\n",
       "      <td>-1.497842</td>\n",
       "      <td>2.556130</td>\n",
       "      <td>1.165959</td>\n",
       "      <td>...</td>\n",
       "      <td>3.761808</td>\n",
       "      <td>-3.724018</td>\n",
       "      <td>4.041551</td>\n",
       "      <td>0.700114</td>\n",
       "      <td>5.538017</td>\n",
       "      <td>5.933544</td>\n",
       "      <td>1.699548</td>\n",
       "      <td>-1.927170</td>\n",
       "      <td>-4.084645</td>\n",
       "      <td>0</td>\n",
       "    </tr>\n",
       "    <tr>\n",
       "      <th>1</th>\n",
       "      <td>2</td>\n",
       "      <td>6.067597</td>\n",
       "      <td>-7.157618</td>\n",
       "      <td>3.922382</td>\n",
       "      <td>2.873782</td>\n",
       "      <td>4.717306</td>\n",
       "      <td>-0.953772</td>\n",
       "      <td>-6.488945</td>\n",
       "      <td>0.626723</td>\n",
       "      <td>-2.640919</td>\n",
       "      <td>...</td>\n",
       "      <td>-1.538846</td>\n",
       "      <td>8.980839</td>\n",
       "      <td>6.784652</td>\n",
       "      <td>3.221316</td>\n",
       "      <td>9.305283</td>\n",
       "      <td>-9.060441</td>\n",
       "      <td>4.503458</td>\n",
       "      <td>8.616587</td>\n",
       "      <td>4.175737</td>\n",
       "      <td>0</td>\n",
       "    </tr>\n",
       "    <tr>\n",
       "      <th>2</th>\n",
       "      <td>3</td>\n",
       "      <td>9.407446</td>\n",
       "      <td>-8.487071</td>\n",
       "      <td>3.602750</td>\n",
       "      <td>-6.851043</td>\n",
       "      <td>7.014906</td>\n",
       "      <td>0.959817</td>\n",
       "      <td>1.894073</td>\n",
       "      <td>-0.329711</td>\n",
       "      <td>3.118009</td>\n",
       "      <td>...</td>\n",
       "      <td>-2.048263</td>\n",
       "      <td>-2.891371</td>\n",
       "      <td>-0.558437</td>\n",
       "      <td>6.495055</td>\n",
       "      <td>10.367566</td>\n",
       "      <td>0.570897</td>\n",
       "      <td>2.110716</td>\n",
       "      <td>-1.246753</td>\n",
       "      <td>-8.524743</td>\n",
       "      <td>0</td>\n",
       "    </tr>\n",
       "    <tr>\n",
       "      <th>3</th>\n",
       "      <td>4</td>\n",
       "      <td>1.125513</td>\n",
       "      <td>0.428988</td>\n",
       "      <td>3.385085</td>\n",
       "      <td>1.941234</td>\n",
       "      <td>4.131640</td>\n",
       "      <td>-0.509308</td>\n",
       "      <td>7.753160</td>\n",
       "      <td>2.754631</td>\n",
       "      <td>-0.687329</td>\n",
       "      <td>...</td>\n",
       "      <td>5.209500</td>\n",
       "      <td>-3.950286</td>\n",
       "      <td>6.697100</td>\n",
       "      <td>1.225492</td>\n",
       "      <td>-7.946608</td>\n",
       "      <td>-0.790830</td>\n",
       "      <td>6.605088</td>\n",
       "      <td>-3.531295</td>\n",
       "      <td>-1.495831</td>\n",
       "      <td>0</td>\n",
       "    </tr>\n",
       "    <tr>\n",
       "      <th>4</th>\n",
       "      <td>5</td>\n",
       "      <td>2.313937</td>\n",
       "      <td>0.054572</td>\n",
       "      <td>-2.763758</td>\n",
       "      <td>-3.833287</td>\n",
       "      <td>4.874951</td>\n",
       "      <td>-3.330217</td>\n",
       "      <td>-1.284547</td>\n",
       "      <td>0.571877</td>\n",
       "      <td>-4.491823</td>\n",
       "      <td>...</td>\n",
       "      <td>-4.038224</td>\n",
       "      <td>6.726155</td>\n",
       "      <td>7.169745</td>\n",
       "      <td>5.381354</td>\n",
       "      <td>13.035870</td>\n",
       "      <td>-2.655374</td>\n",
       "      <td>4.574077</td>\n",
       "      <td>5.040864</td>\n",
       "      <td>-1.897521</td>\n",
       "      <td>0</td>\n",
       "    </tr>\n",
       "    <tr>\n",
       "      <th>5</th>\n",
       "      <td>0</td>\n",
       "      <td>0.000000</td>\n",
       "      <td>0.000000</td>\n",
       "      <td>0.000000</td>\n",
       "      <td>0.000000</td>\n",
       "      <td>0.000000</td>\n",
       "      <td>0.000000</td>\n",
       "      <td>0.000000</td>\n",
       "      <td>0.000000</td>\n",
       "      <td>0.000000</td>\n",
       "      <td>...</td>\n",
       "      <td>0.000000</td>\n",
       "      <td>0.000000</td>\n",
       "      <td>0.000000</td>\n",
       "      <td>0.000000</td>\n",
       "      <td>0.000000</td>\n",
       "      <td>0.000000</td>\n",
       "      <td>0.000000</td>\n",
       "      <td>0.000000</td>\n",
       "      <td>0.000000</td>\n",
       "      <td>0</td>\n",
       "    </tr>\n",
       "    <tr>\n",
       "      <th>6</th>\n",
       "      <td>0</td>\n",
       "      <td>0.000000</td>\n",
       "      <td>0.000000</td>\n",
       "      <td>0.000000</td>\n",
       "      <td>0.000000</td>\n",
       "      <td>0.000000</td>\n",
       "      <td>0.000000</td>\n",
       "      <td>0.000000</td>\n",
       "      <td>0.000000</td>\n",
       "      <td>0.000000</td>\n",
       "      <td>...</td>\n",
       "      <td>0.000000</td>\n",
       "      <td>0.000000</td>\n",
       "      <td>0.000000</td>\n",
       "      <td>0.000000</td>\n",
       "      <td>0.000000</td>\n",
       "      <td>0.000000</td>\n",
       "      <td>0.000000</td>\n",
       "      <td>0.000000</td>\n",
       "      <td>0.000000</td>\n",
       "      <td>0</td>\n",
       "    </tr>\n",
       "    <tr>\n",
       "      <th>7</th>\n",
       "      <td>0</td>\n",
       "      <td>0.000000</td>\n",
       "      <td>0.000000</td>\n",
       "      <td>0.000000</td>\n",
       "      <td>0.000000</td>\n",
       "      <td>0.000000</td>\n",
       "      <td>0.000000</td>\n",
       "      <td>0.000000</td>\n",
       "      <td>0.000000</td>\n",
       "      <td>0.000000</td>\n",
       "      <td>...</td>\n",
       "      <td>0.000000</td>\n",
       "      <td>0.000000</td>\n",
       "      <td>0.000000</td>\n",
       "      <td>0.000000</td>\n",
       "      <td>0.000000</td>\n",
       "      <td>0.000000</td>\n",
       "      <td>0.000000</td>\n",
       "      <td>0.000000</td>\n",
       "      <td>0.000000</td>\n",
       "      <td>0</td>\n",
       "    </tr>\n",
       "    <tr>\n",
       "      <th>8</th>\n",
       "      <td>0</td>\n",
       "      <td>0.000000</td>\n",
       "      <td>0.000000</td>\n",
       "      <td>0.000000</td>\n",
       "      <td>0.000000</td>\n",
       "      <td>0.000000</td>\n",
       "      <td>0.000000</td>\n",
       "      <td>0.000000</td>\n",
       "      <td>0.000000</td>\n",
       "      <td>0.000000</td>\n",
       "      <td>...</td>\n",
       "      <td>0.000000</td>\n",
       "      <td>0.000000</td>\n",
       "      <td>0.000000</td>\n",
       "      <td>0.000000</td>\n",
       "      <td>0.000000</td>\n",
       "      <td>0.000000</td>\n",
       "      <td>0.000000</td>\n",
       "      <td>0.000000</td>\n",
       "      <td>0.000000</td>\n",
       "      <td>0</td>\n",
       "    </tr>\n",
       "    <tr>\n",
       "      <th>9</th>\n",
       "      <td>0</td>\n",
       "      <td>0.000000</td>\n",
       "      <td>0.000000</td>\n",
       "      <td>0.000000</td>\n",
       "      <td>0.000000</td>\n",
       "      <td>0.000000</td>\n",
       "      <td>0.000000</td>\n",
       "      <td>0.000000</td>\n",
       "      <td>0.000000</td>\n",
       "      <td>0.000000</td>\n",
       "      <td>...</td>\n",
       "      <td>0.000000</td>\n",
       "      <td>0.000000</td>\n",
       "      <td>0.000000</td>\n",
       "      <td>0.000000</td>\n",
       "      <td>0.000000</td>\n",
       "      <td>0.000000</td>\n",
       "      <td>0.000000</td>\n",
       "      <td>0.000000</td>\n",
       "      <td>0.000000</td>\n",
       "      <td>0</td>\n",
       "    </tr>\n",
       "    <tr>\n",
       "      <th>10</th>\n",
       "      <td>0</td>\n",
       "      <td>0.000000</td>\n",
       "      <td>0.000000</td>\n",
       "      <td>0.000000</td>\n",
       "      <td>0.000000</td>\n",
       "      <td>0.000000</td>\n",
       "      <td>0.000000</td>\n",
       "      <td>0.000000</td>\n",
       "      <td>0.000000</td>\n",
       "      <td>0.000000</td>\n",
       "      <td>...</td>\n",
       "      <td>0.000000</td>\n",
       "      <td>0.000000</td>\n",
       "      <td>0.000000</td>\n",
       "      <td>0.000000</td>\n",
       "      <td>0.000000</td>\n",
       "      <td>0.000000</td>\n",
       "      <td>0.000000</td>\n",
       "      <td>0.000000</td>\n",
       "      <td>0.000000</td>\n",
       "      <td>0</td>\n",
       "    </tr>\n",
       "    <tr>\n",
       "      <th>11</th>\n",
       "      <td>0</td>\n",
       "      <td>0.000000</td>\n",
       "      <td>0.000000</td>\n",
       "      <td>0.000000</td>\n",
       "      <td>0.000000</td>\n",
       "      <td>0.000000</td>\n",
       "      <td>0.000000</td>\n",
       "      <td>0.000000</td>\n",
       "      <td>0.000000</td>\n",
       "      <td>0.000000</td>\n",
       "      <td>...</td>\n",
       "      <td>0.000000</td>\n",
       "      <td>0.000000</td>\n",
       "      <td>0.000000</td>\n",
       "      <td>0.000000</td>\n",
       "      <td>0.000000</td>\n",
       "      <td>0.000000</td>\n",
       "      <td>0.000000</td>\n",
       "      <td>0.000000</td>\n",
       "      <td>0.000000</td>\n",
       "      <td>0</td>\n",
       "    </tr>\n",
       "    <tr>\n",
       "      <th>12</th>\n",
       "      <td>0</td>\n",
       "      <td>0.000000</td>\n",
       "      <td>0.000000</td>\n",
       "      <td>0.000000</td>\n",
       "      <td>0.000000</td>\n",
       "      <td>0.000000</td>\n",
       "      <td>0.000000</td>\n",
       "      <td>0.000000</td>\n",
       "      <td>0.000000</td>\n",
       "      <td>0.000000</td>\n",
       "      <td>...</td>\n",
       "      <td>0.000000</td>\n",
       "      <td>0.000000</td>\n",
       "      <td>0.000000</td>\n",
       "      <td>0.000000</td>\n",
       "      <td>0.000000</td>\n",
       "      <td>0.000000</td>\n",
       "      <td>0.000000</td>\n",
       "      <td>0.000000</td>\n",
       "      <td>0.000000</td>\n",
       "      <td>0</td>\n",
       "    </tr>\n",
       "    <tr>\n",
       "      <th>13</th>\n",
       "      <td>0</td>\n",
       "      <td>0.000000</td>\n",
       "      <td>0.000000</td>\n",
       "      <td>0.000000</td>\n",
       "      <td>0.000000</td>\n",
       "      <td>0.000000</td>\n",
       "      <td>0.000000</td>\n",
       "      <td>0.000000</td>\n",
       "      <td>0.000000</td>\n",
       "      <td>0.000000</td>\n",
       "      <td>...</td>\n",
       "      <td>0.000000</td>\n",
       "      <td>0.000000</td>\n",
       "      <td>0.000000</td>\n",
       "      <td>0.000000</td>\n",
       "      <td>0.000000</td>\n",
       "      <td>0.000000</td>\n",
       "      <td>0.000000</td>\n",
       "      <td>0.000000</td>\n",
       "      <td>0.000000</td>\n",
       "      <td>0</td>\n",
       "    </tr>\n",
       "    <tr>\n",
       "      <th>14</th>\n",
       "      <td>0</td>\n",
       "      <td>0.000000</td>\n",
       "      <td>0.000000</td>\n",
       "      <td>0.000000</td>\n",
       "      <td>0.000000</td>\n",
       "      <td>0.000000</td>\n",
       "      <td>0.000000</td>\n",
       "      <td>0.000000</td>\n",
       "      <td>0.000000</td>\n",
       "      <td>0.000000</td>\n",
       "      <td>...</td>\n",
       "      <td>0.000000</td>\n",
       "      <td>0.000000</td>\n",
       "      <td>0.000000</td>\n",
       "      <td>0.000000</td>\n",
       "      <td>0.000000</td>\n",
       "      <td>0.000000</td>\n",
       "      <td>0.000000</td>\n",
       "      <td>0.000000</td>\n",
       "      <td>0.000000</td>\n",
       "      <td>0</td>\n",
       "    </tr>\n",
       "    <tr>\n",
       "      <th>15</th>\n",
       "      <td>0</td>\n",
       "      <td>0.000000</td>\n",
       "      <td>0.000000</td>\n",
       "      <td>0.000000</td>\n",
       "      <td>0.000000</td>\n",
       "      <td>0.000000</td>\n",
       "      <td>0.000000</td>\n",
       "      <td>0.000000</td>\n",
       "      <td>0.000000</td>\n",
       "      <td>0.000000</td>\n",
       "      <td>...</td>\n",
       "      <td>0.000000</td>\n",
       "      <td>0.000000</td>\n",
       "      <td>0.000000</td>\n",
       "      <td>0.000000</td>\n",
       "      <td>0.000000</td>\n",
       "      <td>0.000000</td>\n",
       "      <td>0.000000</td>\n",
       "      <td>0.000000</td>\n",
       "      <td>0.000000</td>\n",
       "      <td>0</td>\n",
       "    </tr>\n",
       "    <tr>\n",
       "      <th>16</th>\n",
       "      <td>0</td>\n",
       "      <td>0.000000</td>\n",
       "      <td>0.000000</td>\n",
       "      <td>0.000000</td>\n",
       "      <td>0.000000</td>\n",
       "      <td>0.000000</td>\n",
       "      <td>0.000000</td>\n",
       "      <td>0.000000</td>\n",
       "      <td>0.000000</td>\n",
       "      <td>0.000000</td>\n",
       "      <td>...</td>\n",
       "      <td>0.000000</td>\n",
       "      <td>0.000000</td>\n",
       "      <td>0.000000</td>\n",
       "      <td>0.000000</td>\n",
       "      <td>0.000000</td>\n",
       "      <td>0.000000</td>\n",
       "      <td>0.000000</td>\n",
       "      <td>0.000000</td>\n",
       "      <td>0.000000</td>\n",
       "      <td>0</td>\n",
       "    </tr>\n",
       "    <tr>\n",
       "      <th>17</th>\n",
       "      <td>0</td>\n",
       "      <td>0.000000</td>\n",
       "      <td>0.000000</td>\n",
       "      <td>0.000000</td>\n",
       "      <td>0.000000</td>\n",
       "      <td>0.000000</td>\n",
       "      <td>0.000000</td>\n",
       "      <td>0.000000</td>\n",
       "      <td>0.000000</td>\n",
       "      <td>0.000000</td>\n",
       "      <td>...</td>\n",
       "      <td>0.000000</td>\n",
       "      <td>0.000000</td>\n",
       "      <td>0.000000</td>\n",
       "      <td>0.000000</td>\n",
       "      <td>0.000000</td>\n",
       "      <td>0.000000</td>\n",
       "      <td>0.000000</td>\n",
       "      <td>0.000000</td>\n",
       "      <td>0.000000</td>\n",
       "      <td>0</td>\n",
       "    </tr>\n",
       "    <tr>\n",
       "      <th>18</th>\n",
       "      <td>0</td>\n",
       "      <td>0.000000</td>\n",
       "      <td>0.000000</td>\n",
       "      <td>0.000000</td>\n",
       "      <td>0.000000</td>\n",
       "      <td>0.000000</td>\n",
       "      <td>0.000000</td>\n",
       "      <td>0.000000</td>\n",
       "      <td>0.000000</td>\n",
       "      <td>0.000000</td>\n",
       "      <td>...</td>\n",
       "      <td>0.000000</td>\n",
       "      <td>0.000000</td>\n",
       "      <td>0.000000</td>\n",
       "      <td>0.000000</td>\n",
       "      <td>0.000000</td>\n",
       "      <td>0.000000</td>\n",
       "      <td>0.000000</td>\n",
       "      <td>0.000000</td>\n",
       "      <td>0.000000</td>\n",
       "      <td>0</td>\n",
       "    </tr>\n",
       "    <tr>\n",
       "      <th>19</th>\n",
       "      <td>0</td>\n",
       "      <td>0.000000</td>\n",
       "      <td>0.000000</td>\n",
       "      <td>0.000000</td>\n",
       "      <td>0.000000</td>\n",
       "      <td>0.000000</td>\n",
       "      <td>0.000000</td>\n",
       "      <td>0.000000</td>\n",
       "      <td>0.000000</td>\n",
       "      <td>0.000000</td>\n",
       "      <td>...</td>\n",
       "      <td>0.000000</td>\n",
       "      <td>0.000000</td>\n",
       "      <td>0.000000</td>\n",
       "      <td>0.000000</td>\n",
       "      <td>0.000000</td>\n",
       "      <td>0.000000</td>\n",
       "      <td>0.000000</td>\n",
       "      <td>0.000000</td>\n",
       "      <td>0.000000</td>\n",
       "      <td>0</td>\n",
       "    </tr>\n",
       "    <tr>\n",
       "      <th>20</th>\n",
       "      <td>0</td>\n",
       "      <td>0.000000</td>\n",
       "      <td>0.000000</td>\n",
       "      <td>0.000000</td>\n",
       "      <td>0.000000</td>\n",
       "      <td>0.000000</td>\n",
       "      <td>0.000000</td>\n",
       "      <td>0.000000</td>\n",
       "      <td>0.000000</td>\n",
       "      <td>0.000000</td>\n",
       "      <td>...</td>\n",
       "      <td>0.000000</td>\n",
       "      <td>0.000000</td>\n",
       "      <td>0.000000</td>\n",
       "      <td>0.000000</td>\n",
       "      <td>0.000000</td>\n",
       "      <td>0.000000</td>\n",
       "      <td>0.000000</td>\n",
       "      <td>0.000000</td>\n",
       "      <td>0.000000</td>\n",
       "      <td>0</td>\n",
       "    </tr>\n",
       "    <tr>\n",
       "      <th>21</th>\n",
       "      <td>0</td>\n",
       "      <td>0.000000</td>\n",
       "      <td>0.000000</td>\n",
       "      <td>0.000000</td>\n",
       "      <td>0.000000</td>\n",
       "      <td>0.000000</td>\n",
       "      <td>0.000000</td>\n",
       "      <td>0.000000</td>\n",
       "      <td>0.000000</td>\n",
       "      <td>0.000000</td>\n",
       "      <td>...</td>\n",
       "      <td>0.000000</td>\n",
       "      <td>0.000000</td>\n",
       "      <td>0.000000</td>\n",
       "      <td>0.000000</td>\n",
       "      <td>0.000000</td>\n",
       "      <td>0.000000</td>\n",
       "      <td>0.000000</td>\n",
       "      <td>0.000000</td>\n",
       "      <td>0.000000</td>\n",
       "      <td>0</td>\n",
       "    </tr>\n",
       "    <tr>\n",
       "      <th>22</th>\n",
       "      <td>0</td>\n",
       "      <td>0.000000</td>\n",
       "      <td>0.000000</td>\n",
       "      <td>0.000000</td>\n",
       "      <td>0.000000</td>\n",
       "      <td>0.000000</td>\n",
       "      <td>0.000000</td>\n",
       "      <td>0.000000</td>\n",
       "      <td>0.000000</td>\n",
       "      <td>0.000000</td>\n",
       "      <td>...</td>\n",
       "      <td>0.000000</td>\n",
       "      <td>0.000000</td>\n",
       "      <td>0.000000</td>\n",
       "      <td>0.000000</td>\n",
       "      <td>0.000000</td>\n",
       "      <td>0.000000</td>\n",
       "      <td>0.000000</td>\n",
       "      <td>0.000000</td>\n",
       "      <td>0.000000</td>\n",
       "      <td>0</td>\n",
       "    </tr>\n",
       "    <tr>\n",
       "      <th>23</th>\n",
       "      <td>0</td>\n",
       "      <td>0.000000</td>\n",
       "      <td>0.000000</td>\n",
       "      <td>0.000000</td>\n",
       "      <td>0.000000</td>\n",
       "      <td>0.000000</td>\n",
       "      <td>0.000000</td>\n",
       "      <td>0.000000</td>\n",
       "      <td>0.000000</td>\n",
       "      <td>0.000000</td>\n",
       "      <td>...</td>\n",
       "      <td>0.000000</td>\n",
       "      <td>0.000000</td>\n",
       "      <td>0.000000</td>\n",
       "      <td>0.000000</td>\n",
       "      <td>0.000000</td>\n",
       "      <td>0.000000</td>\n",
       "      <td>0.000000</td>\n",
       "      <td>0.000000</td>\n",
       "      <td>0.000000</td>\n",
       "      <td>0</td>\n",
       "    </tr>\n",
       "    <tr>\n",
       "      <th>24</th>\n",
       "      <td>0</td>\n",
       "      <td>0.000000</td>\n",
       "      <td>0.000000</td>\n",
       "      <td>0.000000</td>\n",
       "      <td>0.000000</td>\n",
       "      <td>0.000000</td>\n",
       "      <td>0.000000</td>\n",
       "      <td>0.000000</td>\n",
       "      <td>0.000000</td>\n",
       "      <td>0.000000</td>\n",
       "      <td>...</td>\n",
       "      <td>0.000000</td>\n",
       "      <td>0.000000</td>\n",
       "      <td>0.000000</td>\n",
       "      <td>0.000000</td>\n",
       "      <td>0.000000</td>\n",
       "      <td>0.000000</td>\n",
       "      <td>0.000000</td>\n",
       "      <td>0.000000</td>\n",
       "      <td>0.000000</td>\n",
       "      <td>0</td>\n",
       "    </tr>\n",
       "    <tr>\n",
       "      <th>25</th>\n",
       "      <td>0</td>\n",
       "      <td>0.000000</td>\n",
       "      <td>0.000000</td>\n",
       "      <td>0.000000</td>\n",
       "      <td>0.000000</td>\n",
       "      <td>0.000000</td>\n",
       "      <td>0.000000</td>\n",
       "      <td>0.000000</td>\n",
       "      <td>0.000000</td>\n",
       "      <td>0.000000</td>\n",
       "      <td>...</td>\n",
       "      <td>0.000000</td>\n",
       "      <td>0.000000</td>\n",
       "      <td>0.000000</td>\n",
       "      <td>0.000000</td>\n",
       "      <td>0.000000</td>\n",
       "      <td>0.000000</td>\n",
       "      <td>0.000000</td>\n",
       "      <td>0.000000</td>\n",
       "      <td>0.000000</td>\n",
       "      <td>0</td>\n",
       "    </tr>\n",
       "    <tr>\n",
       "      <th>26</th>\n",
       "      <td>0</td>\n",
       "      <td>0.000000</td>\n",
       "      <td>0.000000</td>\n",
       "      <td>0.000000</td>\n",
       "      <td>0.000000</td>\n",
       "      <td>0.000000</td>\n",
       "      <td>0.000000</td>\n",
       "      <td>0.000000</td>\n",
       "      <td>0.000000</td>\n",
       "      <td>0.000000</td>\n",
       "      <td>...</td>\n",
       "      <td>0.000000</td>\n",
       "      <td>0.000000</td>\n",
       "      <td>0.000000</td>\n",
       "      <td>0.000000</td>\n",
       "      <td>0.000000</td>\n",
       "      <td>0.000000</td>\n",
       "      <td>0.000000</td>\n",
       "      <td>0.000000</td>\n",
       "      <td>0.000000</td>\n",
       "      <td>0</td>\n",
       "    </tr>\n",
       "    <tr>\n",
       "      <th>27</th>\n",
       "      <td>0</td>\n",
       "      <td>0.000000</td>\n",
       "      <td>0.000000</td>\n",
       "      <td>0.000000</td>\n",
       "      <td>0.000000</td>\n",
       "      <td>0.000000</td>\n",
       "      <td>0.000000</td>\n",
       "      <td>0.000000</td>\n",
       "      <td>0.000000</td>\n",
       "      <td>0.000000</td>\n",
       "      <td>...</td>\n",
       "      <td>0.000000</td>\n",
       "      <td>0.000000</td>\n",
       "      <td>0.000000</td>\n",
       "      <td>0.000000</td>\n",
       "      <td>0.000000</td>\n",
       "      <td>0.000000</td>\n",
       "      <td>0.000000</td>\n",
       "      <td>0.000000</td>\n",
       "      <td>0.000000</td>\n",
       "      <td>0</td>\n",
       "    </tr>\n",
       "    <tr>\n",
       "      <th>28</th>\n",
       "      <td>0</td>\n",
       "      <td>0.000000</td>\n",
       "      <td>0.000000</td>\n",
       "      <td>0.000000</td>\n",
       "      <td>0.000000</td>\n",
       "      <td>0.000000</td>\n",
       "      <td>0.000000</td>\n",
       "      <td>0.000000</td>\n",
       "      <td>0.000000</td>\n",
       "      <td>0.000000</td>\n",
       "      <td>...</td>\n",
       "      <td>0.000000</td>\n",
       "      <td>0.000000</td>\n",
       "      <td>0.000000</td>\n",
       "      <td>0.000000</td>\n",
       "      <td>0.000000</td>\n",
       "      <td>0.000000</td>\n",
       "      <td>0.000000</td>\n",
       "      <td>0.000000</td>\n",
       "      <td>0.000000</td>\n",
       "      <td>0</td>\n",
       "    </tr>\n",
       "    <tr>\n",
       "      <th>29</th>\n",
       "      <td>0</td>\n",
       "      <td>0.000000</td>\n",
       "      <td>0.000000</td>\n",
       "      <td>0.000000</td>\n",
       "      <td>0.000000</td>\n",
       "      <td>0.000000</td>\n",
       "      <td>0.000000</td>\n",
       "      <td>0.000000</td>\n",
       "      <td>0.000000</td>\n",
       "      <td>0.000000</td>\n",
       "      <td>...</td>\n",
       "      <td>0.000000</td>\n",
       "      <td>0.000000</td>\n",
       "      <td>0.000000</td>\n",
       "      <td>0.000000</td>\n",
       "      <td>0.000000</td>\n",
       "      <td>0.000000</td>\n",
       "      <td>0.000000</td>\n",
       "      <td>0.000000</td>\n",
       "      <td>0.000000</td>\n",
       "      <td>0</td>\n",
       "    </tr>\n",
       "    <tr>\n",
       "      <th>30</th>\n",
       "      <td>0</td>\n",
       "      <td>0.000000</td>\n",
       "      <td>0.000000</td>\n",
       "      <td>0.000000</td>\n",
       "      <td>0.000000</td>\n",
       "      <td>0.000000</td>\n",
       "      <td>0.000000</td>\n",
       "      <td>0.000000</td>\n",
       "      <td>0.000000</td>\n",
       "      <td>0.000000</td>\n",
       "      <td>...</td>\n",
       "      <td>0.000000</td>\n",
       "      <td>0.000000</td>\n",
       "      <td>0.000000</td>\n",
       "      <td>0.000000</td>\n",
       "      <td>0.000000</td>\n",
       "      <td>0.000000</td>\n",
       "      <td>0.000000</td>\n",
       "      <td>0.000000</td>\n",
       "      <td>0.000000</td>\n",
       "      <td>0</td>\n",
       "    </tr>\n",
       "    <tr>\n",
       "      <th>31</th>\n",
       "      <td>0</td>\n",
       "      <td>0.000000</td>\n",
       "      <td>0.000000</td>\n",
       "      <td>0.000000</td>\n",
       "      <td>0.000000</td>\n",
       "      <td>0.000000</td>\n",
       "      <td>0.000000</td>\n",
       "      <td>0.000000</td>\n",
       "      <td>0.000000</td>\n",
       "      <td>0.000000</td>\n",
       "      <td>...</td>\n",
       "      <td>0.000000</td>\n",
       "      <td>0.000000</td>\n",
       "      <td>0.000000</td>\n",
       "      <td>0.000000</td>\n",
       "      <td>0.000000</td>\n",
       "      <td>0.000000</td>\n",
       "      <td>0.000000</td>\n",
       "      <td>0.000000</td>\n",
       "      <td>0.000000</td>\n",
       "      <td>0</td>\n",
       "    </tr>\n",
       "    <tr>\n",
       "      <th>32</th>\n",
       "      <td>0</td>\n",
       "      <td>0.000000</td>\n",
       "      <td>0.000000</td>\n",
       "      <td>0.000000</td>\n",
       "      <td>0.000000</td>\n",
       "      <td>0.000000</td>\n",
       "      <td>0.000000</td>\n",
       "      <td>0.000000</td>\n",
       "      <td>0.000000</td>\n",
       "      <td>0.000000</td>\n",
       "      <td>...</td>\n",
       "      <td>0.000000</td>\n",
       "      <td>0.000000</td>\n",
       "      <td>0.000000</td>\n",
       "      <td>0.000000</td>\n",
       "      <td>0.000000</td>\n",
       "      <td>0.000000</td>\n",
       "      <td>0.000000</td>\n",
       "      <td>0.000000</td>\n",
       "      <td>0.000000</td>\n",
       "      <td>0</td>\n",
       "    </tr>\n",
       "    <tr>\n",
       "      <th>33</th>\n",
       "      <td>0</td>\n",
       "      <td>0.000000</td>\n",
       "      <td>0.000000</td>\n",
       "      <td>0.000000</td>\n",
       "      <td>0.000000</td>\n",
       "      <td>0.000000</td>\n",
       "      <td>0.000000</td>\n",
       "      <td>0.000000</td>\n",
       "      <td>0.000000</td>\n",
       "      <td>0.000000</td>\n",
       "      <td>...</td>\n",
       "      <td>0.000000</td>\n",
       "      <td>0.000000</td>\n",
       "      <td>0.000000</td>\n",
       "      <td>0.000000</td>\n",
       "      <td>0.000000</td>\n",
       "      <td>0.000000</td>\n",
       "      <td>0.000000</td>\n",
       "      <td>0.000000</td>\n",
       "      <td>0.000000</td>\n",
       "      <td>0</td>\n",
       "    </tr>\n",
       "    <tr>\n",
       "      <th>34</th>\n",
       "      <td>0</td>\n",
       "      <td>0.000000</td>\n",
       "      <td>0.000000</td>\n",
       "      <td>0.000000</td>\n",
       "      <td>0.000000</td>\n",
       "      <td>0.000000</td>\n",
       "      <td>0.000000</td>\n",
       "      <td>0.000000</td>\n",
       "      <td>0.000000</td>\n",
       "      <td>0.000000</td>\n",
       "      <td>...</td>\n",
       "      <td>0.000000</td>\n",
       "      <td>0.000000</td>\n",
       "      <td>0.000000</td>\n",
       "      <td>0.000000</td>\n",
       "      <td>0.000000</td>\n",
       "      <td>0.000000</td>\n",
       "      <td>0.000000</td>\n",
       "      <td>0.000000</td>\n",
       "      <td>0.000000</td>\n",
       "      <td>0</td>\n",
       "    </tr>\n",
       "    <tr>\n",
       "      <th>35</th>\n",
       "      <td>0</td>\n",
       "      <td>0.000000</td>\n",
       "      <td>0.000000</td>\n",
       "      <td>0.000000</td>\n",
       "      <td>0.000000</td>\n",
       "      <td>0.000000</td>\n",
       "      <td>0.000000</td>\n",
       "      <td>0.000000</td>\n",
       "      <td>0.000000</td>\n",
       "      <td>0.000000</td>\n",
       "      <td>...</td>\n",
       "      <td>0.000000</td>\n",
       "      <td>0.000000</td>\n",
       "      <td>0.000000</td>\n",
       "      <td>0.000000</td>\n",
       "      <td>0.000000</td>\n",
       "      <td>0.000000</td>\n",
       "      <td>0.000000</td>\n",
       "      <td>0.000000</td>\n",
       "      <td>0.000000</td>\n",
       "      <td>0</td>\n",
       "    </tr>\n",
       "    <tr>\n",
       "      <th>36</th>\n",
       "      <td>0</td>\n",
       "      <td>0.000000</td>\n",
       "      <td>0.000000</td>\n",
       "      <td>0.000000</td>\n",
       "      <td>0.000000</td>\n",
       "      <td>0.000000</td>\n",
       "      <td>0.000000</td>\n",
       "      <td>0.000000</td>\n",
       "      <td>0.000000</td>\n",
       "      <td>0.000000</td>\n",
       "      <td>...</td>\n",
       "      <td>0.000000</td>\n",
       "      <td>0.000000</td>\n",
       "      <td>0.000000</td>\n",
       "      <td>0.000000</td>\n",
       "      <td>0.000000</td>\n",
       "      <td>0.000000</td>\n",
       "      <td>0.000000</td>\n",
       "      <td>0.000000</td>\n",
       "      <td>0.000000</td>\n",
       "      <td>0</td>\n",
       "    </tr>\n",
       "    <tr>\n",
       "      <th>37</th>\n",
       "      <td>0</td>\n",
       "      <td>0.000000</td>\n",
       "      <td>0.000000</td>\n",
       "      <td>0.000000</td>\n",
       "      <td>0.000000</td>\n",
       "      <td>0.000000</td>\n",
       "      <td>0.000000</td>\n",
       "      <td>0.000000</td>\n",
       "      <td>0.000000</td>\n",
       "      <td>0.000000</td>\n",
       "      <td>...</td>\n",
       "      <td>0.000000</td>\n",
       "      <td>0.000000</td>\n",
       "      <td>0.000000</td>\n",
       "      <td>0.000000</td>\n",
       "      <td>0.000000</td>\n",
       "      <td>0.000000</td>\n",
       "      <td>0.000000</td>\n",
       "      <td>0.000000</td>\n",
       "      <td>0.000000</td>\n",
       "      <td>0</td>\n",
       "    </tr>\n",
       "    <tr>\n",
       "      <th>38</th>\n",
       "      <td>0</td>\n",
       "      <td>0.000000</td>\n",
       "      <td>0.000000</td>\n",
       "      <td>0.000000</td>\n",
       "      <td>0.000000</td>\n",
       "      <td>0.000000</td>\n",
       "      <td>0.000000</td>\n",
       "      <td>0.000000</td>\n",
       "      <td>0.000000</td>\n",
       "      <td>0.000000</td>\n",
       "      <td>...</td>\n",
       "      <td>0.000000</td>\n",
       "      <td>0.000000</td>\n",
       "      <td>0.000000</td>\n",
       "      <td>0.000000</td>\n",
       "      <td>0.000000</td>\n",
       "      <td>0.000000</td>\n",
       "      <td>0.000000</td>\n",
       "      <td>0.000000</td>\n",
       "      <td>0.000000</td>\n",
       "      <td>0</td>\n",
       "    </tr>\n",
       "    <tr>\n",
       "      <th>39</th>\n",
       "      <td>0</td>\n",
       "      <td>0.000000</td>\n",
       "      <td>0.000000</td>\n",
       "      <td>0.000000</td>\n",
       "      <td>0.000000</td>\n",
       "      <td>0.000000</td>\n",
       "      <td>0.000000</td>\n",
       "      <td>0.000000</td>\n",
       "      <td>0.000000</td>\n",
       "      <td>0.000000</td>\n",
       "      <td>...</td>\n",
       "      <td>0.000000</td>\n",
       "      <td>0.000000</td>\n",
       "      <td>0.000000</td>\n",
       "      <td>0.000000</td>\n",
       "      <td>0.000000</td>\n",
       "      <td>0.000000</td>\n",
       "      <td>0.000000</td>\n",
       "      <td>0.000000</td>\n",
       "      <td>0.000000</td>\n",
       "      <td>0</td>\n",
       "    </tr>\n",
       "    <tr>\n",
       "      <th>40</th>\n",
       "      <td>0</td>\n",
       "      <td>0.000000</td>\n",
       "      <td>0.000000</td>\n",
       "      <td>0.000000</td>\n",
       "      <td>0.000000</td>\n",
       "      <td>0.000000</td>\n",
       "      <td>0.000000</td>\n",
       "      <td>0.000000</td>\n",
       "      <td>0.000000</td>\n",
       "      <td>0.000000</td>\n",
       "      <td>...</td>\n",
       "      <td>0.000000</td>\n",
       "      <td>0.000000</td>\n",
       "      <td>0.000000</td>\n",
       "      <td>0.000000</td>\n",
       "      <td>0.000000</td>\n",
       "      <td>0.000000</td>\n",
       "      <td>0.000000</td>\n",
       "      <td>0.000000</td>\n",
       "      <td>0.000000</td>\n",
       "      <td>0</td>\n",
       "    </tr>\n",
       "    <tr>\n",
       "      <th>41</th>\n",
       "      <td>0</td>\n",
       "      <td>0.000000</td>\n",
       "      <td>0.000000</td>\n",
       "      <td>0.000000</td>\n",
       "      <td>0.000000</td>\n",
       "      <td>0.000000</td>\n",
       "      <td>0.000000</td>\n",
       "      <td>0.000000</td>\n",
       "      <td>0.000000</td>\n",
       "      <td>0.000000</td>\n",
       "      <td>...</td>\n",
       "      <td>0.000000</td>\n",
       "      <td>0.000000</td>\n",
       "      <td>0.000000</td>\n",
       "      <td>0.000000</td>\n",
       "      <td>0.000000</td>\n",
       "      <td>0.000000</td>\n",
       "      <td>0.000000</td>\n",
       "      <td>0.000000</td>\n",
       "      <td>0.000000</td>\n",
       "      <td>0</td>\n",
       "    </tr>\n",
       "    <tr>\n",
       "      <th>42</th>\n",
       "      <td>0</td>\n",
       "      <td>0.000000</td>\n",
       "      <td>0.000000</td>\n",
       "      <td>0.000000</td>\n",
       "      <td>0.000000</td>\n",
       "      <td>0.000000</td>\n",
       "      <td>0.000000</td>\n",
       "      <td>0.000000</td>\n",
       "      <td>0.000000</td>\n",
       "      <td>0.000000</td>\n",
       "      <td>...</td>\n",
       "      <td>0.000000</td>\n",
       "      <td>0.000000</td>\n",
       "      <td>0.000000</td>\n",
       "      <td>0.000000</td>\n",
       "      <td>0.000000</td>\n",
       "      <td>0.000000</td>\n",
       "      <td>0.000000</td>\n",
       "      <td>0.000000</td>\n",
       "      <td>0.000000</td>\n",
       "      <td>0</td>\n",
       "    </tr>\n",
       "    <tr>\n",
       "      <th>43</th>\n",
       "      <td>0</td>\n",
       "      <td>0.000000</td>\n",
       "      <td>0.000000</td>\n",
       "      <td>0.000000</td>\n",
       "      <td>0.000000</td>\n",
       "      <td>0.000000</td>\n",
       "      <td>0.000000</td>\n",
       "      <td>0.000000</td>\n",
       "      <td>0.000000</td>\n",
       "      <td>0.000000</td>\n",
       "      <td>...</td>\n",
       "      <td>0.000000</td>\n",
       "      <td>0.000000</td>\n",
       "      <td>0.000000</td>\n",
       "      <td>0.000000</td>\n",
       "      <td>0.000000</td>\n",
       "      <td>0.000000</td>\n",
       "      <td>0.000000</td>\n",
       "      <td>0.000000</td>\n",
       "      <td>0.000000</td>\n",
       "      <td>0</td>\n",
       "    </tr>\n",
       "    <tr>\n",
       "      <th>44</th>\n",
       "      <td>0</td>\n",
       "      <td>0.000000</td>\n",
       "      <td>0.000000</td>\n",
       "      <td>0.000000</td>\n",
       "      <td>0.000000</td>\n",
       "      <td>0.000000</td>\n",
       "      <td>0.000000</td>\n",
       "      <td>0.000000</td>\n",
       "      <td>0.000000</td>\n",
       "      <td>0.000000</td>\n",
       "      <td>...</td>\n",
       "      <td>0.000000</td>\n",
       "      <td>0.000000</td>\n",
       "      <td>0.000000</td>\n",
       "      <td>0.000000</td>\n",
       "      <td>0.000000</td>\n",
       "      <td>0.000000</td>\n",
       "      <td>0.000000</td>\n",
       "      <td>0.000000</td>\n",
       "      <td>0.000000</td>\n",
       "      <td>0</td>\n",
       "    </tr>\n",
       "    <tr>\n",
       "      <th>45</th>\n",
       "      <td>0</td>\n",
       "      <td>0.000000</td>\n",
       "      <td>0.000000</td>\n",
       "      <td>0.000000</td>\n",
       "      <td>0.000000</td>\n",
       "      <td>0.000000</td>\n",
       "      <td>0.000000</td>\n",
       "      <td>0.000000</td>\n",
       "      <td>0.000000</td>\n",
       "      <td>0.000000</td>\n",
       "      <td>...</td>\n",
       "      <td>0.000000</td>\n",
       "      <td>0.000000</td>\n",
       "      <td>0.000000</td>\n",
       "      <td>0.000000</td>\n",
       "      <td>0.000000</td>\n",
       "      <td>0.000000</td>\n",
       "      <td>0.000000</td>\n",
       "      <td>0.000000</td>\n",
       "      <td>0.000000</td>\n",
       "      <td>0</td>\n",
       "    </tr>\n",
       "    <tr>\n",
       "      <th>46</th>\n",
       "      <td>0</td>\n",
       "      <td>0.000000</td>\n",
       "      <td>0.000000</td>\n",
       "      <td>0.000000</td>\n",
       "      <td>0.000000</td>\n",
       "      <td>0.000000</td>\n",
       "      <td>0.000000</td>\n",
       "      <td>0.000000</td>\n",
       "      <td>0.000000</td>\n",
       "      <td>0.000000</td>\n",
       "      <td>...</td>\n",
       "      <td>0.000000</td>\n",
       "      <td>0.000000</td>\n",
       "      <td>0.000000</td>\n",
       "      <td>0.000000</td>\n",
       "      <td>0.000000</td>\n",
       "      <td>0.000000</td>\n",
       "      <td>0.000000</td>\n",
       "      <td>0.000000</td>\n",
       "      <td>0.000000</td>\n",
       "      <td>0</td>\n",
       "    </tr>\n",
       "    <tr>\n",
       "      <th>47</th>\n",
       "      <td>0</td>\n",
       "      <td>0.000000</td>\n",
       "      <td>0.000000</td>\n",
       "      <td>0.000000</td>\n",
       "      <td>0.000000</td>\n",
       "      <td>0.000000</td>\n",
       "      <td>0.000000</td>\n",
       "      <td>0.000000</td>\n",
       "      <td>0.000000</td>\n",
       "      <td>0.000000</td>\n",
       "      <td>...</td>\n",
       "      <td>0.000000</td>\n",
       "      <td>0.000000</td>\n",
       "      <td>0.000000</td>\n",
       "      <td>0.000000</td>\n",
       "      <td>0.000000</td>\n",
       "      <td>0.000000</td>\n",
       "      <td>0.000000</td>\n",
       "      <td>0.000000</td>\n",
       "      <td>0.000000</td>\n",
       "      <td>0</td>\n",
       "    </tr>\n",
       "    <tr>\n",
       "      <th>48</th>\n",
       "      <td>0</td>\n",
       "      <td>0.000000</td>\n",
       "      <td>0.000000</td>\n",
       "      <td>0.000000</td>\n",
       "      <td>0.000000</td>\n",
       "      <td>0.000000</td>\n",
       "      <td>0.000000</td>\n",
       "      <td>0.000000</td>\n",
       "      <td>0.000000</td>\n",
       "      <td>0.000000</td>\n",
       "      <td>...</td>\n",
       "      <td>0.000000</td>\n",
       "      <td>0.000000</td>\n",
       "      <td>0.000000</td>\n",
       "      <td>0.000000</td>\n",
       "      <td>0.000000</td>\n",
       "      <td>0.000000</td>\n",
       "      <td>0.000000</td>\n",
       "      <td>0.000000</td>\n",
       "      <td>0.000000</td>\n",
       "      <td>0</td>\n",
       "    </tr>\n",
       "    <tr>\n",
       "      <th>49</th>\n",
       "      <td>0</td>\n",
       "      <td>0.000000</td>\n",
       "      <td>0.000000</td>\n",
       "      <td>0.000000</td>\n",
       "      <td>0.000000</td>\n",
       "      <td>0.000000</td>\n",
       "      <td>0.000000</td>\n",
       "      <td>0.000000</td>\n",
       "      <td>0.000000</td>\n",
       "      <td>0.000000</td>\n",
       "      <td>...</td>\n",
       "      <td>0.000000</td>\n",
       "      <td>0.000000</td>\n",
       "      <td>0.000000</td>\n",
       "      <td>0.000000</td>\n",
       "      <td>0.000000</td>\n",
       "      <td>0.000000</td>\n",
       "      <td>0.000000</td>\n",
       "      <td>0.000000</td>\n",
       "      <td>0.000000</td>\n",
       "      <td>0</td>\n",
       "    </tr>\n",
       "  </tbody>\n",
       "</table>\n",
       "<p>50 rows × 27 columns</p>\n",
       "</div>"
      ],
      "text/plain": [
       "    timeline_index        d1         d2        d3        d4        d5  \\\n",
       "0                1  6.100298 -14.199132  8.581287 -6.761333  2.903222   \n",
       "1                2  6.067597  -7.157618  3.922382  2.873782  4.717306   \n",
       "2                3  9.407446  -8.487071  3.602750 -6.851043  7.014906   \n",
       "3                4  1.125513   0.428988  3.385085  1.941234  4.131640   \n",
       "4                5  2.313937   0.054572 -2.763758 -3.833287  4.874951   \n",
       "5                0  0.000000   0.000000  0.000000  0.000000  0.000000   \n",
       "6                0  0.000000   0.000000  0.000000  0.000000  0.000000   \n",
       "7                0  0.000000   0.000000  0.000000  0.000000  0.000000   \n",
       "8                0  0.000000   0.000000  0.000000  0.000000  0.000000   \n",
       "9                0  0.000000   0.000000  0.000000  0.000000  0.000000   \n",
       "10               0  0.000000   0.000000  0.000000  0.000000  0.000000   \n",
       "11               0  0.000000   0.000000  0.000000  0.000000  0.000000   \n",
       "12               0  0.000000   0.000000  0.000000  0.000000  0.000000   \n",
       "13               0  0.000000   0.000000  0.000000  0.000000  0.000000   \n",
       "14               0  0.000000   0.000000  0.000000  0.000000  0.000000   \n",
       "15               0  0.000000   0.000000  0.000000  0.000000  0.000000   \n",
       "16               0  0.000000   0.000000  0.000000  0.000000  0.000000   \n",
       "17               0  0.000000   0.000000  0.000000  0.000000  0.000000   \n",
       "18               0  0.000000   0.000000  0.000000  0.000000  0.000000   \n",
       "19               0  0.000000   0.000000  0.000000  0.000000  0.000000   \n",
       "20               0  0.000000   0.000000  0.000000  0.000000  0.000000   \n",
       "21               0  0.000000   0.000000  0.000000  0.000000  0.000000   \n",
       "22               0  0.000000   0.000000  0.000000  0.000000  0.000000   \n",
       "23               0  0.000000   0.000000  0.000000  0.000000  0.000000   \n",
       "24               0  0.000000   0.000000  0.000000  0.000000  0.000000   \n",
       "25               0  0.000000   0.000000  0.000000  0.000000  0.000000   \n",
       "26               0  0.000000   0.000000  0.000000  0.000000  0.000000   \n",
       "27               0  0.000000   0.000000  0.000000  0.000000  0.000000   \n",
       "28               0  0.000000   0.000000  0.000000  0.000000  0.000000   \n",
       "29               0  0.000000   0.000000  0.000000  0.000000  0.000000   \n",
       "30               0  0.000000   0.000000  0.000000  0.000000  0.000000   \n",
       "31               0  0.000000   0.000000  0.000000  0.000000  0.000000   \n",
       "32               0  0.000000   0.000000  0.000000  0.000000  0.000000   \n",
       "33               0  0.000000   0.000000  0.000000  0.000000  0.000000   \n",
       "34               0  0.000000   0.000000  0.000000  0.000000  0.000000   \n",
       "35               0  0.000000   0.000000  0.000000  0.000000  0.000000   \n",
       "36               0  0.000000   0.000000  0.000000  0.000000  0.000000   \n",
       "37               0  0.000000   0.000000  0.000000  0.000000  0.000000   \n",
       "38               0  0.000000   0.000000  0.000000  0.000000  0.000000   \n",
       "39               0  0.000000   0.000000  0.000000  0.000000  0.000000   \n",
       "40               0  0.000000   0.000000  0.000000  0.000000  0.000000   \n",
       "41               0  0.000000   0.000000  0.000000  0.000000  0.000000   \n",
       "42               0  0.000000   0.000000  0.000000  0.000000  0.000000   \n",
       "43               0  0.000000   0.000000  0.000000  0.000000  0.000000   \n",
       "44               0  0.000000   0.000000  0.000000  0.000000  0.000000   \n",
       "45               0  0.000000   0.000000  0.000000  0.000000  0.000000   \n",
       "46               0  0.000000   0.000000  0.000000  0.000000  0.000000   \n",
       "47               0  0.000000   0.000000  0.000000  0.000000  0.000000   \n",
       "48               0  0.000000   0.000000  0.000000  0.000000  0.000000   \n",
       "49               0  0.000000   0.000000  0.000000  0.000000  0.000000   \n",
       "\n",
       "          d6        d7        d8        d9  ...       d17       d18       d19  \\\n",
       "0   8.518986 -1.497842  2.556130  1.165959  ...  3.761808 -3.724018  4.041551   \n",
       "1  -0.953772 -6.488945  0.626723 -2.640919  ... -1.538846  8.980839  6.784652   \n",
       "2   0.959817  1.894073 -0.329711  3.118009  ... -2.048263 -2.891371 -0.558437   \n",
       "3  -0.509308  7.753160  2.754631 -0.687329  ...  5.209500 -3.950286  6.697100   \n",
       "4  -3.330217 -1.284547  0.571877 -4.491823  ... -4.038224  6.726155  7.169745   \n",
       "5   0.000000  0.000000  0.000000  0.000000  ...  0.000000  0.000000  0.000000   \n",
       "6   0.000000  0.000000  0.000000  0.000000  ...  0.000000  0.000000  0.000000   \n",
       "7   0.000000  0.000000  0.000000  0.000000  ...  0.000000  0.000000  0.000000   \n",
       "8   0.000000  0.000000  0.000000  0.000000  ...  0.000000  0.000000  0.000000   \n",
       "9   0.000000  0.000000  0.000000  0.000000  ...  0.000000  0.000000  0.000000   \n",
       "10  0.000000  0.000000  0.000000  0.000000  ...  0.000000  0.000000  0.000000   \n",
       "11  0.000000  0.000000  0.000000  0.000000  ...  0.000000  0.000000  0.000000   \n",
       "12  0.000000  0.000000  0.000000  0.000000  ...  0.000000  0.000000  0.000000   \n",
       "13  0.000000  0.000000  0.000000  0.000000  ...  0.000000  0.000000  0.000000   \n",
       "14  0.000000  0.000000  0.000000  0.000000  ...  0.000000  0.000000  0.000000   \n",
       "15  0.000000  0.000000  0.000000  0.000000  ...  0.000000  0.000000  0.000000   \n",
       "16  0.000000  0.000000  0.000000  0.000000  ...  0.000000  0.000000  0.000000   \n",
       "17  0.000000  0.000000  0.000000  0.000000  ...  0.000000  0.000000  0.000000   \n",
       "18  0.000000  0.000000  0.000000  0.000000  ...  0.000000  0.000000  0.000000   \n",
       "19  0.000000  0.000000  0.000000  0.000000  ...  0.000000  0.000000  0.000000   \n",
       "20  0.000000  0.000000  0.000000  0.000000  ...  0.000000  0.000000  0.000000   \n",
       "21  0.000000  0.000000  0.000000  0.000000  ...  0.000000  0.000000  0.000000   \n",
       "22  0.000000  0.000000  0.000000  0.000000  ...  0.000000  0.000000  0.000000   \n",
       "23  0.000000  0.000000  0.000000  0.000000  ...  0.000000  0.000000  0.000000   \n",
       "24  0.000000  0.000000  0.000000  0.000000  ...  0.000000  0.000000  0.000000   \n",
       "25  0.000000  0.000000  0.000000  0.000000  ...  0.000000  0.000000  0.000000   \n",
       "26  0.000000  0.000000  0.000000  0.000000  ...  0.000000  0.000000  0.000000   \n",
       "27  0.000000  0.000000  0.000000  0.000000  ...  0.000000  0.000000  0.000000   \n",
       "28  0.000000  0.000000  0.000000  0.000000  ...  0.000000  0.000000  0.000000   \n",
       "29  0.000000  0.000000  0.000000  0.000000  ...  0.000000  0.000000  0.000000   \n",
       "30  0.000000  0.000000  0.000000  0.000000  ...  0.000000  0.000000  0.000000   \n",
       "31  0.000000  0.000000  0.000000  0.000000  ...  0.000000  0.000000  0.000000   \n",
       "32  0.000000  0.000000  0.000000  0.000000  ...  0.000000  0.000000  0.000000   \n",
       "33  0.000000  0.000000  0.000000  0.000000  ...  0.000000  0.000000  0.000000   \n",
       "34  0.000000  0.000000  0.000000  0.000000  ...  0.000000  0.000000  0.000000   \n",
       "35  0.000000  0.000000  0.000000  0.000000  ...  0.000000  0.000000  0.000000   \n",
       "36  0.000000  0.000000  0.000000  0.000000  ...  0.000000  0.000000  0.000000   \n",
       "37  0.000000  0.000000  0.000000  0.000000  ...  0.000000  0.000000  0.000000   \n",
       "38  0.000000  0.000000  0.000000  0.000000  ...  0.000000  0.000000  0.000000   \n",
       "39  0.000000  0.000000  0.000000  0.000000  ...  0.000000  0.000000  0.000000   \n",
       "40  0.000000  0.000000  0.000000  0.000000  ...  0.000000  0.000000  0.000000   \n",
       "41  0.000000  0.000000  0.000000  0.000000  ...  0.000000  0.000000  0.000000   \n",
       "42  0.000000  0.000000  0.000000  0.000000  ...  0.000000  0.000000  0.000000   \n",
       "43  0.000000  0.000000  0.000000  0.000000  ...  0.000000  0.000000  0.000000   \n",
       "44  0.000000  0.000000  0.000000  0.000000  ...  0.000000  0.000000  0.000000   \n",
       "45  0.000000  0.000000  0.000000  0.000000  ...  0.000000  0.000000  0.000000   \n",
       "46  0.000000  0.000000  0.000000  0.000000  ...  0.000000  0.000000  0.000000   \n",
       "47  0.000000  0.000000  0.000000  0.000000  ...  0.000000  0.000000  0.000000   \n",
       "48  0.000000  0.000000  0.000000  0.000000  ...  0.000000  0.000000  0.000000   \n",
       "49  0.000000  0.000000  0.000000  0.000000  ...  0.000000  0.000000  0.000000   \n",
       "\n",
       "         d20        d21       d22       d23       d24       d25  text_id  \n",
       "0   0.700114   5.538017  5.933544  1.699548 -1.927170 -4.084645        0  \n",
       "1   3.221316   9.305283 -9.060441  4.503458  8.616587  4.175737        0  \n",
       "2   6.495055  10.367566  0.570897  2.110716 -1.246753 -8.524743        0  \n",
       "3   1.225492  -7.946608 -0.790830  6.605088 -3.531295 -1.495831        0  \n",
       "4   5.381354  13.035870 -2.655374  4.574077  5.040864 -1.897521        0  \n",
       "5   0.000000   0.000000  0.000000  0.000000  0.000000  0.000000        0  \n",
       "6   0.000000   0.000000  0.000000  0.000000  0.000000  0.000000        0  \n",
       "7   0.000000   0.000000  0.000000  0.000000  0.000000  0.000000        0  \n",
       "8   0.000000   0.000000  0.000000  0.000000  0.000000  0.000000        0  \n",
       "9   0.000000   0.000000  0.000000  0.000000  0.000000  0.000000        0  \n",
       "10  0.000000   0.000000  0.000000  0.000000  0.000000  0.000000        0  \n",
       "11  0.000000   0.000000  0.000000  0.000000  0.000000  0.000000        0  \n",
       "12  0.000000   0.000000  0.000000  0.000000  0.000000  0.000000        0  \n",
       "13  0.000000   0.000000  0.000000  0.000000  0.000000  0.000000        0  \n",
       "14  0.000000   0.000000  0.000000  0.000000  0.000000  0.000000        0  \n",
       "15  0.000000   0.000000  0.000000  0.000000  0.000000  0.000000        0  \n",
       "16  0.000000   0.000000  0.000000  0.000000  0.000000  0.000000        0  \n",
       "17  0.000000   0.000000  0.000000  0.000000  0.000000  0.000000        0  \n",
       "18  0.000000   0.000000  0.000000  0.000000  0.000000  0.000000        0  \n",
       "19  0.000000   0.000000  0.000000  0.000000  0.000000  0.000000        0  \n",
       "20  0.000000   0.000000  0.000000  0.000000  0.000000  0.000000        0  \n",
       "21  0.000000   0.000000  0.000000  0.000000  0.000000  0.000000        0  \n",
       "22  0.000000   0.000000  0.000000  0.000000  0.000000  0.000000        0  \n",
       "23  0.000000   0.000000  0.000000  0.000000  0.000000  0.000000        0  \n",
       "24  0.000000   0.000000  0.000000  0.000000  0.000000  0.000000        0  \n",
       "25  0.000000   0.000000  0.000000  0.000000  0.000000  0.000000        0  \n",
       "26  0.000000   0.000000  0.000000  0.000000  0.000000  0.000000        0  \n",
       "27  0.000000   0.000000  0.000000  0.000000  0.000000  0.000000        0  \n",
       "28  0.000000   0.000000  0.000000  0.000000  0.000000  0.000000        0  \n",
       "29  0.000000   0.000000  0.000000  0.000000  0.000000  0.000000        0  \n",
       "30  0.000000   0.000000  0.000000  0.000000  0.000000  0.000000        0  \n",
       "31  0.000000   0.000000  0.000000  0.000000  0.000000  0.000000        0  \n",
       "32  0.000000   0.000000  0.000000  0.000000  0.000000  0.000000        0  \n",
       "33  0.000000   0.000000  0.000000  0.000000  0.000000  0.000000        0  \n",
       "34  0.000000   0.000000  0.000000  0.000000  0.000000  0.000000        0  \n",
       "35  0.000000   0.000000  0.000000  0.000000  0.000000  0.000000        0  \n",
       "36  0.000000   0.000000  0.000000  0.000000  0.000000  0.000000        0  \n",
       "37  0.000000   0.000000  0.000000  0.000000  0.000000  0.000000        0  \n",
       "38  0.000000   0.000000  0.000000  0.000000  0.000000  0.000000        0  \n",
       "39  0.000000   0.000000  0.000000  0.000000  0.000000  0.000000        0  \n",
       "40  0.000000   0.000000  0.000000  0.000000  0.000000  0.000000        0  \n",
       "41  0.000000   0.000000  0.000000  0.000000  0.000000  0.000000        0  \n",
       "42  0.000000   0.000000  0.000000  0.000000  0.000000  0.000000        0  \n",
       "43  0.000000   0.000000  0.000000  0.000000  0.000000  0.000000        0  \n",
       "44  0.000000   0.000000  0.000000  0.000000  0.000000  0.000000        0  \n",
       "45  0.000000   0.000000  0.000000  0.000000  0.000000  0.000000        0  \n",
       "46  0.000000   0.000000  0.000000  0.000000  0.000000  0.000000        0  \n",
       "47  0.000000   0.000000  0.000000  0.000000  0.000000  0.000000        0  \n",
       "48  0.000000   0.000000  0.000000  0.000000  0.000000  0.000000        0  \n",
       "49  0.000000   0.000000  0.000000  0.000000  0.000000  0.000000        0  \n",
       "\n",
       "[50 rows x 27 columns]"
      ]
     },
     "execution_count": 25,
     "metadata": {},
     "output_type": "execute_result"
    }
   ],
   "source": [
    "# still has the labels and the ids\n",
    "english_dataset.df_padded[english_dataset.df_padded[\"text_id\"]==0]"
   ]
  },
  {
   "cell_type": "code",
   "execution_count": 26,
   "id": "40969a63",
   "metadata": {},
   "outputs": [
    {
     "data": {
      "text/plain": [
       "word                  knots\n",
       "language                 en\n",
       "tokens      [k, n, o, t, s]\n",
       "Name: 0, dtype: object"
      ]
     },
     "execution_count": 26,
     "metadata": {},
     "output_type": "execute_result"
    }
   ],
   "source": [
    "english_train_encoder.df.iloc[0]"
   ]
  },
  {
   "cell_type": "markdown",
   "id": "07994e10",
   "metadata": {},
   "source": [
    "For the padded rows, we give these a label `-1` to denote that they have been added.\n",
    "\n",
    "Note that for padding, the method pads from below by default, but we can pad by above by setting `pad_from_below=False`.\n",
    "\n",
    "To obtain a path as a Numpy array, we use the [`nlpsig.PrepareData.get_path`](https://nlpsig.readthedocs.io/en/latest/data_preparation.html#nlpsig.data_preparation.PrepareData.get_path) method which by default keeps the time features and will remove the id and label columns. We make this more explicit by setting `include_features=True` here."
   ]
  },
  {
   "cell_type": "code",
   "execution_count": 27,
   "id": "e9f2ba04",
   "metadata": {},
   "outputs": [
    {
     "data": {
      "text/plain": [
       "(70615, 50, 26)"
      ]
     },
     "execution_count": 27,
     "metadata": {},
     "output_type": "execute_result"
    }
   ],
   "source": [
    "english_word_path = english_dataset.get_path(include_features=True)\n",
    "english_word_path.shape"
   ]
  },
  {
   "cell_type": "code",
   "execution_count": 28,
   "id": "cb5e2f91-f171-4ced-9f93-60bf977b6b8a",
   "metadata": {},
   "outputs": [
    {
     "data": {
      "text/plain": [
       "array([[  1.        ,   6.1002984 , -14.19913197, ...,   1.69954813,\n",
       "         -1.92717004,  -4.08464479],\n",
       "       [  2.        ,   6.06759691,  -7.15761757, ...,   4.50345755,\n",
       "          8.61658669,   4.17573738],\n",
       "       [  3.        ,   9.40744591,  -8.48707104, ...,   2.11071587,\n",
       "         -1.24675322,  -8.52474308],\n",
       "       ...,\n",
       "       [  0.        ,   0.        ,   0.        , ...,   0.        ,\n",
       "          0.        ,   0.        ],\n",
       "       [  0.        ,   0.        ,   0.        , ...,   0.        ,\n",
       "          0.        ,   0.        ],\n",
       "       [  0.        ,   0.        ,   0.        , ...,   0.        ,\n",
       "          0.        ,   0.        ]])"
      ]
     },
     "execution_count": 28,
     "metadata": {},
     "output_type": "execute_result"
    }
   ],
   "source": [
    "english_word_path[0]"
   ]
  },
  {
   "cell_type": "markdown",
   "id": "59b1ad55",
   "metadata": {},
   "source": [
    "## Obtaining a paths and signatures for words in `corpus_df`\n",
    "\n",
    "Now that we have trained our model and obtained signatures for each word in our sample of english words, we also want to obtain embeddings for the words in `corpus_sample_df`. Currently, [`nlpsig.TextEncoder`](https://nlpsig.readthedocs.io/en/latest/encode_text.html#nlpsig.encode_text.TextEncoder) only works with the data that is passed into the function and stored in the `.df` and `.dataset` attributes, so we need to initialise a new [`nlpsig.TextEncoder`](https://nlpsig.readthedocs.io/en/latest/encode_text.html#nlpsig.encode_text.TextEncoder) object with the `corpus_sample_df` dataframe and also the trained model.\n",
    "\n",
    "We can then obtain embeddings easily (recall from above we first need to tokenize the text, and then use the [`nlpsig.TextEncoder.obtain_embeddings`](https://nlpsig.readthedocs.io/en/latest/encode_text.html#nlpsig.encode_text.TextEncoder.obtain_embeddings) and [`nlpsig.TextEncoder.pool_token_embeddings`](https://nlpsig.readthedocs.io/en/latest/encode_text.html#nlpsig.encode_text.TextEncoder.pool_token_embeddings) methods to do this)."
   ]
  },
  {
   "cell_type": "code",
   "execution_count": 31,
   "id": "015309f6",
   "metadata": {},
   "outputs": [],
   "source": [
    "corpus_sample_encoder = nlpsig.TextEncoder(\n",
    "    df=corpus_sample_df,\n",
    "    feature_name=\"word\",\n",
    "    model=english_train_encoder.model,\n",
    "    config=english_train_encoder.config,\n",
    "    tokenizer=english_train_encoder.tokenizer,\n",
    "    data_collator=english_train_encoder.data_collator\n",
    ")"
   ]
  },
  {
   "cell_type": "markdown",
   "id": "83327a8e-2192-4efd-ac04-81f57999d47a",
   "metadata": {},
   "source": [
    "Note that since we're just loading in our pretrained model from above, we could also just have passed in the path to the model directly via the `model_name` argument, and use the [`nlpsig.TextEncoder.load_pretrained_model`](https://nlpsig.readthedocs.io/en/latest/encode_text.html#nlpsig.encode_text.TextEncoder.load_pretrained_model) method which loads in the model, config, tokenizer and data collator that was used. However, we can also be more explicit about loading in that model using [`transformers.RobertaForMaskedLM.from_pretrained`](https://huggingface.co/docs/transformers/model_doc/roberta#transformers.RobertaForMaskedLM) method:"
   ]
  },
  {
   "cell_type": "code",
   "execution_count": 130,
   "id": "c762d670-5eba-42f6-8d67-99c5a3f251fd",
   "metadata": {},
   "outputs": [],
   "source": [
    "corpus_sample_encoder = nlpsig.TextEncoder(\n",
    "    df=corpus_sample_df,\n",
    "    feature_name=\"word\",\n",
    "    model_name=model_name\n",
    ")\n",
    "english_train_encoder.model = RobertaForMaskedLM.from_pretrained(model_name)"
   ]
  },
  {
   "cell_type": "code",
   "execution_count": 34,
   "id": "7d0d9042",
   "metadata": {},
   "outputs": [
    {
     "name": "stdout",
     "output_type": "stream",
     "text": [
      "[INFO] Setting return_special_tokens_mask=True\n",
      "[INFO] Tokenizing the dataset...\n"
     ]
    },
    {
     "data": {
      "application/vnd.jupyter.widget-view+json": {
       "model_id": "21aae7af430e4406a145f7d1e70eee8f",
       "version_major": 2,
       "version_minor": 0
      },
      "text/plain": [
       "Map:   0%|          | 0/20000 [00:00<?, ? examples/s]"
      ]
     },
     "metadata": {},
     "output_type": "display_data"
    },
    {
     "name": "stdout",
     "output_type": "stream",
     "text": [
      "[INFO] Saving the tokenized text for each sentence into `.df['tokens']`...\n"
     ]
    },
    {
     "data": {
      "application/vnd.jupyter.widget-view+json": {
       "model_id": "6bacd79629964074b4a542def03bfa15",
       "version_major": 2,
       "version_minor": 0
      },
      "text/plain": [
       "Map:   0%|          | 0/20000 [00:00<?, ? examples/s]"
      ]
     },
     "metadata": {},
     "output_type": "display_data"
    },
    {
     "name": "stdout",
     "output_type": "stream",
     "text": [
      "[INFO] Creating tokenized dataframe and setting in `.tokenized_df` attribute...\n",
      "[INFO] Note: 'text_id' is the column name for denoting the corresponding text id\n"
     ]
    },
    {
     "data": {
      "text/plain": [
       "Dataset({\n",
       "    features: ['word', 'language', 'input_ids', 'attention_mask', 'special_tokens_mask', 'tokens'],\n",
       "    num_rows: 20000\n",
       "})"
      ]
     },
     "execution_count": 34,
     "metadata": {},
     "output_type": "execute_result"
    }
   ],
   "source": [
    "corpus_sample_encoder.tokenize_text()"
   ]
  },
  {
   "cell_type": "code",
   "execution_count": 35,
   "id": "3ed8f78a",
   "metadata": {},
   "outputs": [
    {
     "data": {
      "text/html": [
       "<div>\n",
       "<style scoped>\n",
       "    .dataframe tbody tr th:only-of-type {\n",
       "        vertical-align: middle;\n",
       "    }\n",
       "\n",
       "    .dataframe tbody tr th {\n",
       "        vertical-align: top;\n",
       "    }\n",
       "\n",
       "    .dataframe thead th {\n",
       "        text-align: right;\n",
       "    }\n",
       "</style>\n",
       "<table border=\"1\" class=\"dataframe\">\n",
       "  <thead>\n",
       "    <tr style=\"text-align: right;\">\n",
       "      <th></th>\n",
       "      <th>text_id</th>\n",
       "      <th>language</th>\n",
       "      <th>tokens</th>\n",
       "    </tr>\n",
       "  </thead>\n",
       "  <tbody>\n",
       "    <tr>\n",
       "      <th>0</th>\n",
       "      <td>0</td>\n",
       "      <td>de</td>\n",
       "      <td>a</td>\n",
       "    </tr>\n",
       "    <tr>\n",
       "      <th>1</th>\n",
       "      <td>0</td>\n",
       "      <td>de</td>\n",
       "      <td>b</td>\n",
       "    </tr>\n",
       "    <tr>\n",
       "      <th>2</th>\n",
       "      <td>0</td>\n",
       "      <td>de</td>\n",
       "      <td>b</td>\n",
       "    </tr>\n",
       "    <tr>\n",
       "      <th>3</th>\n",
       "      <td>0</td>\n",
       "      <td>de</td>\n",
       "      <td>l</td>\n",
       "    </tr>\n",
       "    <tr>\n",
       "      <th>4</th>\n",
       "      <td>0</td>\n",
       "      <td>de</td>\n",
       "      <td>e</td>\n",
       "    </tr>\n",
       "    <tr>\n",
       "      <th>...</th>\n",
       "      <td>...</td>\n",
       "      <td>...</td>\n",
       "      <td>...</td>\n",
       "    </tr>\n",
       "    <tr>\n",
       "      <th>198506</th>\n",
       "      <td>19999</td>\n",
       "      <td>en</td>\n",
       "      <td>m</td>\n",
       "    </tr>\n",
       "    <tr>\n",
       "      <th>198507</th>\n",
       "      <td>19999</td>\n",
       "      <td>en</td>\n",
       "      <td>u</td>\n",
       "    </tr>\n",
       "    <tr>\n",
       "      <th>198508</th>\n",
       "      <td>19999</td>\n",
       "      <td>en</td>\n",
       "      <td>r</td>\n",
       "    </tr>\n",
       "    <tr>\n",
       "      <th>198509</th>\n",
       "      <td>19999</td>\n",
       "      <td>en</td>\n",
       "      <td>g</td>\n",
       "    </tr>\n",
       "    <tr>\n",
       "      <th>198510</th>\n",
       "      <td>19999</td>\n",
       "      <td>en</td>\n",
       "      <td>y</td>\n",
       "    </tr>\n",
       "  </tbody>\n",
       "</table>\n",
       "<p>198511 rows × 3 columns</p>\n",
       "</div>"
      ],
      "text/plain": [
       "        text_id language tokens\n",
       "0             0       de      a\n",
       "1             0       de      b\n",
       "2             0       de      b\n",
       "3             0       de      l\n",
       "4             0       de      e\n",
       "...         ...      ...    ...\n",
       "198506    19999       en      m\n",
       "198507    19999       en      u\n",
       "198508    19999       en      r\n",
       "198509    19999       en      g\n",
       "198510    19999       en      y\n",
       "\n",
       "[198511 rows x 3 columns]"
      ]
     },
     "execution_count": 35,
     "metadata": {},
     "output_type": "execute_result"
    }
   ],
   "source": [
    "corpus_sample_encoder.tokenized_df"
   ]
  },
  {
   "cell_type": "markdown",
   "id": "2a089032-0f58-47e7-9922-3778da16483c",
   "metadata": {},
   "source": [
    "After tokenizing, we can obtain token embeddings and also pool these token embeddings with `[`nlpsig.TextEncoder.obtain_embeddings`](https://nlpsig.readthedocs.io/en/latest/encode_text.html#nlpsig.encode_text.TextEncoder.obtain_embeddings) and [`nlpsig.TextEncoder.pool_token_embeddings`](https://nlpsig.readthedocs.io/en/latest/encode_text.html#nlpsig.encode_text.TextEncoder.pool_token_embeddings) methods available."
   ]
  },
  {
   "cell_type": "code",
   "execution_count": 36,
   "id": "0334ac45",
   "metadata": {},
   "outputs": [
    {
     "data": {
      "application/vnd.jupyter.widget-view+json": {
       "model_id": "6b45d74d72a24003adb687657388e8f2",
       "version_major": 2,
       "version_minor": 0
      },
      "text/plain": [
       "  0%|          | 0/200 [00:00<?, ?it/s]"
      ]
     },
     "metadata": {},
     "output_type": "display_data"
    },
    {
     "name": "stderr",
     "output_type": "stream",
     "text": [
      "You're using a RobertaTokenizerFast tokenizer. Please note that with a fast tokenizer, using the `__call__` method is faster than using a method to encode the text followed by a call to the `pad` method to get a padded encoding.\n"
     ]
    }
   ],
   "source": [
    "token_embeddings = corpus_sample_encoder.obtain_embeddings(method=\"hidden_layer\", layers=6)"
   ]
  },
  {
   "cell_type": "code",
   "execution_count": 37,
   "id": "4c1885be",
   "metadata": {},
   "outputs": [
    {
     "data": {
      "text/plain": [
       "(198511, 768)"
      ]
     },
     "execution_count": 37,
     "metadata": {},
     "output_type": "execute_result"
    }
   ],
   "source": [
    "token_embeddings.shape"
   ]
  },
  {
   "cell_type": "markdown",
   "id": "7838beaf",
   "metadata": {},
   "source": [
    "To reduce the embeddings, we want to use the same transform that we used earlier on. Recall that we used Gaussian random projections using the [`scikit-learn`](https://scikit-learn.org/stable/modules/random_projection.html) package. After fitting and transforming with the vectors in `english_token_embeddings`, we stored the `sklearn.random_projection.GaussianRandomProjection` object in `reduction.reducer` which we can use again:"
   ]
  },
  {
   "cell_type": "code",
   "execution_count": 38,
   "id": "22d7cbac",
   "metadata": {},
   "outputs": [
    {
     "data": {
      "text/plain": [
       "sklearn.random_projection.GaussianRandomProjection"
      ]
     },
     "execution_count": 38,
     "metadata": {},
     "output_type": "execute_result"
    }
   ],
   "source": [
    "type(reduction.reducer)"
   ]
  },
  {
   "cell_type": "markdown",
   "id": "74359714",
   "metadata": {},
   "source": [
    "We can then transform new data using the `.transform()` method of the `sklearn.random_projection.GaussianRandomProjection` class which will use the same transformation that we fitted to above when applying dimension reduction to the token embeddings for our corpus of english words (in `english_train`)."
   ]
  },
  {
   "cell_type": "code",
   "execution_count": 39,
   "id": "8d27b6ad-8a26-41d5-bf5c-54bc8ada6b6a",
   "metadata": {},
   "outputs": [],
   "source": [
    "embeddings_reduced = reduction.reducer.transform(token_embeddings)"
   ]
  },
  {
   "cell_type": "code",
   "execution_count": 40,
   "id": "1b3853cd",
   "metadata": {},
   "outputs": [
    {
     "data": {
      "text/plain": [
       "(198511, 25)"
      ]
     },
     "execution_count": 40,
     "metadata": {},
     "output_type": "execute_result"
    }
   ],
   "source": [
    "embeddings_reduced.shape"
   ]
  },
  {
   "cell_type": "markdown",
   "id": "6cf35fb7-0d6f-4fe9-ad11-6f0919e2fe7d",
   "metadata": {},
   "source": [
    "Optionally, we can save these embeddings for later:"
   ]
  },
  {
   "cell_type": "code",
   "execution_count": 41,
   "id": "6e35da37-a73b-48d4-ad62-de97f99c78db",
   "metadata": {},
   "outputs": [],
   "source": [
    "with open(f\"corpus_sample_token_embeddings.pkl\",'wb') as f:\n",
    "    pickle.dump(token_embeddings, f)\n",
    "with open(f\"corpus_sample_reduced_token_embeddings.pkl\",'wb') as f:\n",
    "    pickle.dump(embeddings_reduced, f)"
   ]
  },
  {
   "cell_type": "markdown",
   "id": "3886dbb3",
   "metadata": {},
   "source": [
    "We again obtain paths with the `PrepareData` class, and pass in the tokenized dataframe created in `corpus_sample_encoder`:"
   ]
  },
  {
   "cell_type": "code",
   "execution_count": 47,
   "id": "b9d352f6",
   "metadata": {},
   "outputs": [
    {
     "data": {
      "text/html": [
       "<div>\n",
       "<style scoped>\n",
       "    .dataframe tbody tr th:only-of-type {\n",
       "        vertical-align: middle;\n",
       "    }\n",
       "\n",
       "    .dataframe tbody tr th {\n",
       "        vertical-align: top;\n",
       "    }\n",
       "\n",
       "    .dataframe thead th {\n",
       "        text-align: right;\n",
       "    }\n",
       "</style>\n",
       "<table border=\"1\" class=\"dataframe\">\n",
       "  <thead>\n",
       "    <tr style=\"text-align: right;\">\n",
       "      <th></th>\n",
       "      <th>text_id</th>\n",
       "      <th>language</th>\n",
       "      <th>tokens</th>\n",
       "    </tr>\n",
       "  </thead>\n",
       "  <tbody>\n",
       "    <tr>\n",
       "      <th>0</th>\n",
       "      <td>0</td>\n",
       "      <td>de</td>\n",
       "      <td>a</td>\n",
       "    </tr>\n",
       "    <tr>\n",
       "      <th>1</th>\n",
       "      <td>0</td>\n",
       "      <td>de</td>\n",
       "      <td>b</td>\n",
       "    </tr>\n",
       "    <tr>\n",
       "      <th>2</th>\n",
       "      <td>0</td>\n",
       "      <td>de</td>\n",
       "      <td>b</td>\n",
       "    </tr>\n",
       "    <tr>\n",
       "      <th>3</th>\n",
       "      <td>0</td>\n",
       "      <td>de</td>\n",
       "      <td>l</td>\n",
       "    </tr>\n",
       "    <tr>\n",
       "      <th>4</th>\n",
       "      <td>0</td>\n",
       "      <td>de</td>\n",
       "      <td>e</td>\n",
       "    </tr>\n",
       "    <tr>\n",
       "      <th>...</th>\n",
       "      <td>...</td>\n",
       "      <td>...</td>\n",
       "      <td>...</td>\n",
       "    </tr>\n",
       "    <tr>\n",
       "      <th>198953</th>\n",
       "      <td>19999</td>\n",
       "      <td>en</td>\n",
       "      <td>m</td>\n",
       "    </tr>\n",
       "    <tr>\n",
       "      <th>198954</th>\n",
       "      <td>19999</td>\n",
       "      <td>en</td>\n",
       "      <td>u</td>\n",
       "    </tr>\n",
       "    <tr>\n",
       "      <th>198955</th>\n",
       "      <td>19999</td>\n",
       "      <td>en</td>\n",
       "      <td>r</td>\n",
       "    </tr>\n",
       "    <tr>\n",
       "      <th>198956</th>\n",
       "      <td>19999</td>\n",
       "      <td>en</td>\n",
       "      <td>g</td>\n",
       "    </tr>\n",
       "    <tr>\n",
       "      <th>198957</th>\n",
       "      <td>19999</td>\n",
       "      <td>en</td>\n",
       "      <td>y</td>\n",
       "    </tr>\n",
       "  </tbody>\n",
       "</table>\n",
       "<p>198958 rows × 3 columns</p>\n",
       "</div>"
      ],
      "text/plain": [
       "        text_id language tokens\n",
       "0             0       de      a\n",
       "1             0       de      b\n",
       "2             0       de      b\n",
       "3             0       de      l\n",
       "4             0       de      e\n",
       "...         ...      ...    ...\n",
       "198953    19999       en      m\n",
       "198954    19999       en      u\n",
       "198955    19999       en      r\n",
       "198956    19999       en      g\n",
       "198957    19999       en      y\n",
       "\n",
       "[198958 rows x 3 columns]"
      ]
     },
     "execution_count": 47,
     "metadata": {},
     "output_type": "execute_result"
    }
   ],
   "source": [
    "corpus_sample_encoder.tokenized_df"
   ]
  },
  {
   "cell_type": "code",
   "execution_count": 42,
   "id": "83bd0e3d",
   "metadata": {},
   "outputs": [
    {
     "name": "stdout",
     "output_type": "stream",
     "text": [
      "[INFO] Concatenating the embeddings to the dataframe...\n",
      "[INFO] - columns beginning with 'e' denote the full embddings.\n",
      "[INFO] - columns beginning with 'd' denote the dimension reduced embeddings.\n",
      "[INFO] Adding time feature columns into dataframe in `.df`.\n",
      "[INFO] Note 'datetime' is not a column in `.df`, so only 'timeline_index' is added.\n",
      "[INFO] As 'datetime' is not a column in `.df`, we assume that the data is ordered by time with respect to the id.\n",
      "[INFO] Adding 'timeline_index' feature...\n"
     ]
    }
   ],
   "source": [
    "corpus_dataset = nlpsig.PrepareData(\n",
    "    original_df=corpus_sample_encoder.tokenized_df,\n",
    "    id_column=\"text_id\",\n",
    "    label_column=\"language\",\n",
    "    embeddings=token_embeddings,\n",
    "    embeddings_reduced=embeddings_reduced\n",
    ")"
   ]
  },
  {
   "cell_type": "code",
   "execution_count": 43,
   "id": "acebfe66",
   "metadata": {
    "scrolled": true,
    "tags": []
   },
   "outputs": [
    {
     "name": "stdout",
     "output_type": "stream",
     "text": [
      "[INFO] Padding ids and storing in `.df_padded` and `.array_padded` attributes.\n"
     ]
    },
    {
     "data": {
      "application/vnd.jupyter.widget-view+json": {
       "model_id": "a73673f90fc04984991169b0e421d8d9",
       "version_major": 2,
       "version_minor": 0
      },
      "text/plain": [
       "  0%|          | 0/20000 [00:00<?, ?it/s]"
      ]
     },
     "metadata": {},
     "output_type": "display_data"
    }
   ],
   "source": [
    "corpus_word_path = corpus_dataset.pad(**path_specifics)"
   ]
  },
  {
   "cell_type": "markdown",
   "id": "746a5e6f",
   "metadata": {},
   "source": [
    "By inspecting the shape of `corpus_word_path`, we see that we have a path for each word and the dimension of the array is `[batch, length of path, channels]`."
   ]
  },
  {
   "cell_type": "code",
   "execution_count": 44,
   "id": "99428872",
   "metadata": {},
   "outputs": [
    {
     "data": {
      "text/plain": [
       "(20000, 50, 28)"
      ]
     },
     "execution_count": 44,
     "metadata": {},
     "output_type": "execute_result"
    }
   ],
   "source": [
    "corpus_word_path.shape"
   ]
  },
  {
   "cell_type": "code",
   "execution_count": 45,
   "id": "523b4cbb",
   "metadata": {},
   "outputs": [
    {
     "data": {
      "text/plain": [
       "20000"
      ]
     },
     "execution_count": 45,
     "metadata": {},
     "output_type": "execute_result"
    }
   ],
   "source": [
    "len(corpus_dataset.df[\"text_id\"].unique())"
   ]
  },
  {
   "cell_type": "markdown",
   "id": "6caac355",
   "metadata": {},
   "source": [
    "To obtain a path as a numpy array, we use the [`nlpsig.TextEncoder.get_path`](https://nlpsig.readthedocs.io/en/latest/data_preparation.html#nlpsig.data_preparation.PrepareData.get_path) method which by default keeps the time features and will remove the id and label columns from the path that is generated. "
   ]
  },
  {
   "cell_type": "code",
   "execution_count": 46,
   "id": "be6c23db",
   "metadata": {},
   "outputs": [
    {
     "data": {
      "text/plain": [
       "(20000, 50, 26)"
      ]
     },
     "execution_count": 46,
     "metadata": {},
     "output_type": "execute_result"
    }
   ],
   "source": [
    "word_path = corpus_dataset.get_path(include_features=True)\n",
    "word_path.shape"
   ]
  },
  {
   "cell_type": "code",
   "execution_count": 47,
   "id": "cbab692c",
   "metadata": {},
   "outputs": [
    {
     "data": {
      "text/plain": [
       "array([[  1.        ,  -8.13140392,  -6.97939634, ...,  -4.73969507,\n",
       "         -0.09743738,   8.49338818],\n",
       "       [  2.        ,   4.9608326 ,  -1.95551634, ...,  -3.08118773,\n",
       "          1.4404881 ,   2.2313807 ],\n",
       "       [  3.        , -13.2059536 ,   0.93051302, ...,  -6.17853022,\n",
       "          2.53940964,  -2.99868464],\n",
       "       ...,\n",
       "       [  0.        ,   0.        ,   0.        , ...,   0.        ,\n",
       "          0.        ,   0.        ],\n",
       "       [  0.        ,   0.        ,   0.        , ...,   0.        ,\n",
       "          0.        ,   0.        ],\n",
       "       [  0.        ,   0.        ,   0.        , ...,   0.        ,\n",
       "          0.        ,   0.        ]])"
      ]
     },
     "execution_count": 47,
     "metadata": {},
     "output_type": "execute_result"
    }
   ],
   "source": [
    "word_path[0]"
   ]
  },
  {
   "cell_type": "markdown",
   "id": "4936df71-ec25-4fb0-a4c5-139da617fb2e",
   "metadata": {},
   "source": [
    "We obtain the paths for our inliers and outliers by first getting the indices for each class:"
   ]
  },
  {
   "cell_type": "code",
   "execution_count": 81,
   "id": "df24ce47-638b-45ca-95fa-45d1989c4693",
   "metadata": {},
   "outputs": [],
   "source": [
    "english_word_indices = corpus_sample_df[corpus_sample_df[\"language\"]==\"en\"].index\n",
    "non_english_word_indices = corpus_sample_df[corpus_sample_df[\"language\"]!=\"en\"].index"
   ]
  },
  {
   "cell_type": "code",
   "execution_count": 82,
   "id": "6e251c6a-7046-4db2-bef4-7c6341aac635",
   "metadata": {},
   "outputs": [
    {
     "data": {
      "text/html": [
       "<div>\n",
       "<style scoped>\n",
       "    .dataframe tbody tr th:only-of-type {\n",
       "        vertical-align: middle;\n",
       "    }\n",
       "\n",
       "    .dataframe tbody tr th {\n",
       "        vertical-align: top;\n",
       "    }\n",
       "\n",
       "    .dataframe thead th {\n",
       "        text-align: right;\n",
       "    }\n",
       "</style>\n",
       "<table border=\"1\" class=\"dataframe\">\n",
       "  <thead>\n",
       "    <tr style=\"text-align: right;\">\n",
       "      <th></th>\n",
       "      <th>word</th>\n",
       "      <th>language</th>\n",
       "      <th>tokens</th>\n",
       "    </tr>\n",
       "  </thead>\n",
       "  <tbody>\n",
       "    <tr>\n",
       "      <th>10000</th>\n",
       "      <td>abate</td>\n",
       "      <td>en</td>\n",
       "      <td>[a, b, a, t, e]</td>\n",
       "    </tr>\n",
       "    <tr>\n",
       "      <th>10001</th>\n",
       "      <td>abatement</td>\n",
       "      <td>en</td>\n",
       "      <td>[a, b, a, t, e, m, e, n, t]</td>\n",
       "    </tr>\n",
       "    <tr>\n",
       "      <th>10002</th>\n",
       "      <td>abbe</td>\n",
       "      <td>en</td>\n",
       "      <td>[a, b, b, e]</td>\n",
       "    </tr>\n",
       "    <tr>\n",
       "      <th>10003</th>\n",
       "      <td>abbrevs</td>\n",
       "      <td>en</td>\n",
       "      <td>[a, b, b, r, e, v, s]</td>\n",
       "    </tr>\n",
       "    <tr>\n",
       "      <th>10004</th>\n",
       "      <td>abdicated</td>\n",
       "      <td>en</td>\n",
       "      <td>[a, b, d, i, c, a, t, e, d]</td>\n",
       "    </tr>\n",
       "    <tr>\n",
       "      <th>...</th>\n",
       "      <td>...</td>\n",
       "      <td>...</td>\n",
       "      <td>...</td>\n",
       "    </tr>\n",
       "    <tr>\n",
       "      <th>19995</th>\n",
       "      <td>zillion</td>\n",
       "      <td>en</td>\n",
       "      <td>[z, i, l, l, i, o, n]</td>\n",
       "    </tr>\n",
       "    <tr>\n",
       "      <th>19996</th>\n",
       "      <td>zincked</td>\n",
       "      <td>en</td>\n",
       "      <td>[z, i, n, c, k, e, d]</td>\n",
       "    </tr>\n",
       "    <tr>\n",
       "      <th>19997</th>\n",
       "      <td>zines</td>\n",
       "      <td>en</td>\n",
       "      <td>[z, i, n, e, s]</td>\n",
       "    </tr>\n",
       "    <tr>\n",
       "      <th>19998</th>\n",
       "      <td>zingers</td>\n",
       "      <td>en</td>\n",
       "      <td>[z, i, n, g, e, r, s]</td>\n",
       "    </tr>\n",
       "    <tr>\n",
       "      <th>19999</th>\n",
       "      <td>zymurgy</td>\n",
       "      <td>en</td>\n",
       "      <td>[z, y, m, u, r, g, y]</td>\n",
       "    </tr>\n",
       "  </tbody>\n",
       "</table>\n",
       "<p>10000 rows × 3 columns</p>\n",
       "</div>"
      ],
      "text/plain": [
       "            word language                       tokens\n",
       "10000      abate       en              [a, b, a, t, e]\n",
       "10001  abatement       en  [a, b, a, t, e, m, e, n, t]\n",
       "10002       abbe       en                 [a, b, b, e]\n",
       "10003    abbrevs       en        [a, b, b, r, e, v, s]\n",
       "10004  abdicated       en  [a, b, d, i, c, a, t, e, d]\n",
       "...          ...      ...                          ...\n",
       "19995    zillion       en        [z, i, l, l, i, o, n]\n",
       "19996    zincked       en        [z, i, n, c, k, e, d]\n",
       "19997      zines       en              [z, i, n, e, s]\n",
       "19998    zingers       en        [z, i, n, g, e, r, s]\n",
       "19999    zymurgy       en        [z, y, m, u, r, g, y]\n",
       "\n",
       "[10000 rows x 3 columns]"
      ]
     },
     "execution_count": 82,
     "metadata": {},
     "output_type": "execute_result"
    }
   ],
   "source": [
    "corpus_sample_df.iloc[english_word_indices]"
   ]
  },
  {
   "cell_type": "code",
   "execution_count": 83,
   "id": "343908d6-4627-443c-9086-be5405fdbdab",
   "metadata": {},
   "outputs": [
    {
     "data": {
      "text/html": [
       "<div>\n",
       "<style scoped>\n",
       "    .dataframe tbody tr th:only-of-type {\n",
       "        vertical-align: middle;\n",
       "    }\n",
       "\n",
       "    .dataframe tbody tr th {\n",
       "        vertical-align: top;\n",
       "    }\n",
       "\n",
       "    .dataframe thead th {\n",
       "        text-align: right;\n",
       "    }\n",
       "</style>\n",
       "<table border=\"1\" class=\"dataframe\">\n",
       "  <thead>\n",
       "    <tr style=\"text-align: right;\">\n",
       "      <th></th>\n",
       "      <th>word</th>\n",
       "      <th>language</th>\n",
       "      <th>tokens</th>\n",
       "    </tr>\n",
       "  </thead>\n",
       "  <tbody>\n",
       "    <tr>\n",
       "      <th>0</th>\n",
       "      <td>abblendet</td>\n",
       "      <td>de</td>\n",
       "      <td>[a, b, b, l, e, n, d, e, t]</td>\n",
       "    </tr>\n",
       "    <tr>\n",
       "      <th>1</th>\n",
       "      <td>bestechendes</td>\n",
       "      <td>de</td>\n",
       "      <td>[b, e, s, t, e, c, h, e, n, d, e, s]</td>\n",
       "    </tr>\n",
       "    <tr>\n",
       "      <th>2</th>\n",
       "      <td>narrensicheren</td>\n",
       "      <td>de</td>\n",
       "      <td>[n, a, r, r, e, n, s, i, c, h, e, r, e, n]</td>\n",
       "    </tr>\n",
       "    <tr>\n",
       "      <th>3</th>\n",
       "      <td>inakzeptable</td>\n",
       "      <td>de</td>\n",
       "      <td>[i, n, a, k, z, e, p, t, a, b, l, e]</td>\n",
       "    </tr>\n",
       "    <tr>\n",
       "      <th>4</th>\n",
       "      <td>abbestelle</td>\n",
       "      <td>de</td>\n",
       "      <td>[a, b, b, e, s, t, e, l, l, e]</td>\n",
       "    </tr>\n",
       "    <tr>\n",
       "      <th>...</th>\n",
       "      <td>...</td>\n",
       "      <td>...</td>\n",
       "      <td>...</td>\n",
       "    </tr>\n",
       "    <tr>\n",
       "      <th>9995</th>\n",
       "      <td>stakens</td>\n",
       "      <td>sv</td>\n",
       "      <td>[s, t, a, k, e, n, s]</td>\n",
       "    </tr>\n",
       "    <tr>\n",
       "      <th>9996</th>\n",
       "      <td>uppbryts</td>\n",
       "      <td>sv</td>\n",
       "      <td>[u, p, p, b, r, y, t, s]</td>\n",
       "    </tr>\n",
       "    <tr>\n",
       "      <th>9997</th>\n",
       "      <td>uppeldade</td>\n",
       "      <td>sv</td>\n",
       "      <td>[u, p, p, e, l, d, a, d, e]</td>\n",
       "    </tr>\n",
       "    <tr>\n",
       "      <th>9998</th>\n",
       "      <td>mexikaner</td>\n",
       "      <td>sv</td>\n",
       "      <td>[m, e, x, i, k, a, n, e, r]</td>\n",
       "    </tr>\n",
       "    <tr>\n",
       "      <th>9999</th>\n",
       "      <td>kulsprutan</td>\n",
       "      <td>sv</td>\n",
       "      <td>[k, u, l, s, p, r, u, t, a, n]</td>\n",
       "    </tr>\n",
       "  </tbody>\n",
       "</table>\n",
       "<p>10000 rows × 3 columns</p>\n",
       "</div>"
      ],
      "text/plain": [
       "                word language                                      tokens\n",
       "0          abblendet       de                 [a, b, b, l, e, n, d, e, t]\n",
       "1       bestechendes       de        [b, e, s, t, e, c, h, e, n, d, e, s]\n",
       "2     narrensicheren       de  [n, a, r, r, e, n, s, i, c, h, e, r, e, n]\n",
       "3       inakzeptable       de        [i, n, a, k, z, e, p, t, a, b, l, e]\n",
       "4         abbestelle       de              [a, b, b, e, s, t, e, l, l, e]\n",
       "...              ...      ...                                         ...\n",
       "9995         stakens       sv                       [s, t, a, k, e, n, s]\n",
       "9996        uppbryts       sv                    [u, p, p, b, r, y, t, s]\n",
       "9997       uppeldade       sv                 [u, p, p, e, l, d, a, d, e]\n",
       "9998       mexikaner       sv                 [m, e, x, i, k, a, n, e, r]\n",
       "9999      kulsprutan       sv              [k, u, l, s, p, r, u, t, a, n]\n",
       "\n",
       "[10000 rows x 3 columns]"
      ]
     },
     "execution_count": 83,
     "metadata": {},
     "output_type": "execute_result"
    }
   ],
   "source": [
    "corpus_sample_df.iloc[non_english_word_indices]"
   ]
  },
  {
   "cell_type": "code",
   "execution_count": 84,
   "id": "a35225a9",
   "metadata": {},
   "outputs": [],
   "source": [
    "# obtain paths for english words and non-english words in corpus_sample_df\n",
    "inlier_paths = word_path[english_word_indices]\n",
    "outlier_paths = word_path[non_english_word_indices]"
   ]
  },
  {
   "cell_type": "code",
   "execution_count": 85,
   "id": "b6632eeb",
   "metadata": {},
   "outputs": [
    {
     "data": {
      "text/plain": [
       "(10000, 50, 26)"
      ]
     },
     "execution_count": 85,
     "metadata": {},
     "output_type": "execute_result"
    }
   ],
   "source": [
    "inlier_paths.shape"
   ]
  },
  {
   "cell_type": "code",
   "execution_count": 86,
   "id": "8a3dcab3",
   "metadata": {},
   "outputs": [
    {
     "data": {
      "text/plain": [
       "(10000, 50, 26)"
      ]
     },
     "execution_count": 86,
     "metadata": {},
     "output_type": "execute_result"
    }
   ],
   "source": [
    "outlier_paths.shape"
   ]
  },
  {
   "cell_type": "markdown",
   "id": "28ff2c98-fbfc-442a-93d0-f2017e02ee02",
   "metadata": {},
   "source": [
    "## Obtaining path signatures for the corpus, inliers and outliers"
   ]
  },
  {
   "cell_type": "code",
   "execution_count": 132,
   "id": "a6cdc5d9-b5b5-4053-b14e-8faba8ebe0bb",
   "metadata": {},
   "outputs": [],
   "source": [
    "def normalise(paths: np.array, minimum: float | None = None, maximum: float | None = None) -> tuple[np.array, float, float]:\n",
    "    # apply min-max scaling to the features of the paths\n",
    "    # paths is a three dimensional tensor (batch, length, features)\n",
    "    if minimum is None and maximum is None:\n",
    "        # reshape to (batch * length, features)\n",
    "        paths_stacked = paths.reshape(-1, paths.shape[-1])\n",
    "        minimum = np.min(paths_stacked, axis=0)\n",
    "        maximum = np.max(paths_stacked, axis=0)\n",
    "\n",
    "    # compute min-max scaling\n",
    "    paths = (paths - minimum) / (maximum - minimum)\n",
    "    \n",
    "    return paths, minimum, maximum\n",
    "\n",
    "\n",
    "def normalise_data(corpus: np.array, inliers: np.array, outliers: np.array) -> tuple[np.array, np.array, np.array]:\n",
    "    corpus, minimum, maximum = normalise(corpus)\n",
    "    inliers, *_ = normalise(inliers, minimum, maximum)\n",
    "    outliers, *_ = normalise(outliers, minimum, maximum)\n",
    "\n",
    "    return corpus, inliers, outliers"
   ]
  },
  {
   "cell_type": "code",
   "execution_count": 105,
   "id": "66a90f69-4800-4040-bcd0-49cbd65a7884",
   "metadata": {},
   "outputs": [],
   "source": [
    "corpus, inliers, outliers = normalise_data(english_word_path, inlier_paths, outlier_paths)"
   ]
  },
  {
   "cell_type": "markdown",
   "id": "6661dd6a-0354-4877-8b81-87234238cae5",
   "metadata": {},
   "source": [
    "## Obtaining path signatures for the english words\n",
    "\n",
    "We use [`signax`](https://github.com/anh-tong/signax) to compute path signatures, which we compute up to depth $2$ here on paths with $26$ channels."
   ]
  },
  {
   "cell_type": "code",
   "execution_count": 106,
   "id": "16e89214",
   "metadata": {},
   "outputs": [],
   "source": [
    "sig_depth = 2\n",
    "corpus_sig = np.array(signature(corpus, sig_depth))\n",
    "inlier_sig = np.array(signature(inliers, sig_depth))\n",
    "outlier_sig = np.array(signature(outliers, sig_depth))"
   ]
  },
  {
   "cell_type": "code",
   "execution_count": 108,
   "id": "2e9a5242",
   "metadata": {},
   "outputs": [
    {
     "data": {
      "text/plain": [
       "(70615, 702)"
      ]
     },
     "execution_count": 108,
     "metadata": {},
     "output_type": "execute_result"
    }
   ],
   "source": [
    "corpus_sig.shape"
   ]
  },
  {
   "cell_type": "code",
   "execution_count": 109,
   "id": "c6a09d3c-65dd-487f-a290-5976127edeef",
   "metadata": {},
   "outputs": [
    {
     "data": {
      "text/plain": [
       "(10000, 702)"
      ]
     },
     "execution_count": 109,
     "metadata": {},
     "output_type": "execute_result"
    }
   ],
   "source": [
    "inlier_sig.shape"
   ]
  },
  {
   "cell_type": "code",
   "execution_count": 110,
   "id": "49ad0524-6613-4fb4-919a-6c476fe93fc7",
   "metadata": {},
   "outputs": [
    {
     "data": {
      "text/plain": [
       "(10000, 702)"
      ]
     },
     "execution_count": 110,
     "metadata": {},
     "output_type": "execute_result"
    }
   ],
   "source": [
    "outlier_sig.shape"
   ]
  },
  {
   "cell_type": "markdown",
   "id": "428e5c23",
   "metadata": {},
   "source": [
    "## Anomaly detection task\n",
    "\n",
    "To recap the task at hand:\n",
    "- We trained a language model using a corpus of english words stored in the `english_train` dataframe.\n",
    "- We have another set of english words (inliers) and some non-english words (outliers) which are stored in the `corpus_sample_df` dataframe.\n",
    "- We now want to see how we could detect the non-english words efficiently, in particular, we use the following method:\n",
    "    - For each word in `english_train` and `corpus_sample_df`, we have a vector representation for them (e.g. we've computed the path signatures for each of them and they are stored in `english_word_sig`).\n",
    "    - For each word in `corpus_sample_df`, we compute the minimum Mahalanobis distance between its path signature to path signatures for our corpus of known English words (i.e. each row in `english_word_sig`).\n",
    "    - We then look the [ROC curve](https://scikit-learn.org/stable/modules/generated/sklearn.metrics.roc_curve.html) to see how well separated are the english words to the non-english words. For a good performance, we hope that there is good separation, and so we measure the success of this method using the [ROCAUC](https://scikit-learn.org/stable/modules/generated/sklearn.metrics.roc_auc_score.html).\n",
    " \n",
    "Full details of the anomaly detection methodology can be found in [[2]](https://arxiv.org/abs/2006.03487) _Dimensionless Anomaly Detection on Multivariate Streams with Variance Norm and Path Signature_ by Zhen Shao, Ryan Sze-Yin Chan, Thomas Cochrane, Peter Foster, Terry Lyons. Implementation of this approach can be found in the [`signature_mahalanobis_knn`](https://github.com/datasig-ac-uk/signature_mahalanobis_knn) library.\n",
    "\n",
    "Note that in Section 5.2.4 of [[2]](https://arxiv.org/abs/2006.03487), we consider the same language dataset example as we do here, but use one-hot encoding vector representations for the characters. We will see our dimension reduced transformer embeddings give us a boost in performance as seen in the paper."
   ]
  },
  {
   "cell_type": "code",
   "execution_count": 116,
   "id": "173c6c79",
   "metadata": {},
   "outputs": [],
   "source": [
    "n_neighbours = 100\n",
    "n_jobs = -1\n",
    "knn_library = \"sklearn\"\n",
    "bootstrap_samples = 10000"
   ]
  },
  {
   "cell_type": "code",
   "execution_count": 117,
   "id": "5481f3cd-f82e-4b1d-88bf-148b3d601ff1",
   "metadata": {},
   "outputs": [],
   "source": [
    "signature_maha_knn = SignatureMahalanobisKNN(\n",
    "    n_jobs=n_jobs, random_state=seed\n",
    ")"
   ]
  },
  {
   "cell_type": "markdown",
   "id": "56e8fd1d-c4aa-4e36-8fd1-ef245dec74bc",
   "metadata": {},
   "source": [
    "We use the `SignatureMahalanobisKNN.fit` method and pass in our path signature representations for each word:"
   ]
  },
  {
   "cell_type": "code",
   "execution_count": 118,
   "id": "f95fdbd6-c116-48f1-bd0f-64f72f31bd10",
   "metadata": {},
   "outputs": [
    {
     "name": "stdout",
     "output_type": "stream",
     "text": [
      "fit_time: 14445.002366065979\n"
     ]
    }
   ],
   "source": [
    "# measure the time spent on fit\n",
    "start_time = time.time()\n",
    "signature_maha_knn.fit(\n",
    "    knn_library=knn_library,\n",
    "    signatures_train=corpus_sig,\n",
    ")\n",
    "fit_time = time.time() - start_time\n",
    "print(f\"fit_time: {fit_time}\")"
   ]
  },
  {
   "cell_type": "markdown",
   "id": "3ef8dd2e-7bd1-4439-95a4-b9d8fa02d89c",
   "metadata": {},
   "source": [
    "We can then simply use the `SignatureMahalanobisKNN.conformance` method to compute the anomaly scores for both the inlier signatures and outlier signatures:"
   ]
  },
  {
   "cell_type": "code",
   "execution_count": 124,
   "id": "336bb8f4-27d8-46ea-bcaa-438f138caca4",
   "metadata": {},
   "outputs": [
    {
     "name": "stderr",
     "output_type": "stream",
     "text": [
      "huggingface/tokenizers: The current process just got forked, after parallelism has already been used. Disabling parallelism to avoid deadlocks...\n",
      "To disable this warning, you can either:\n",
      "\t- Avoid using `tokenizers` before the fork if possible\n",
      "\t- Explicitly set the environment variable TOKENIZERS_PARALLELISM=(true | false)\n"
     ]
    },
    {
     "name": "stdout",
     "output_type": "stream",
     "text": [
      "compute_score_time: 123.82245087623596\n"
     ]
    }
   ],
   "source": [
    "# measure the time spent on conformance\n",
    "start_time = time.time()\n",
    "scores_inliers = signature_maha_knn.conformance(\n",
    "    signatures_test=inlier_sig, n_neighbors=n_neighbours\n",
    ")\n",
    "scores_outliers = signature_maha_knn.conformance(\n",
    "    signatures_test=outlier_sig, n_neighbors=n_neighbours\n",
    ")\n",
    "compute_score_time = time.time() - start_time\n",
    "print(f\"compute_score_time: {compute_score_time}\")  # noqa: T201"
   ]
  },
  {
   "cell_type": "markdown",
   "id": "cbac1993-e8bf-4a7c-931e-7f5ec30ceff6",
   "metadata": {},
   "source": [
    "Given the anomaly scores for the inliers and outliers, we can compute the AUC and bootstrap this score to get a standard error based on 10000 samples:"
   ]
  },
  {
   "cell_type": "code",
   "execution_count": 126,
   "id": "30c710ff",
   "metadata": {},
   "outputs": [
    {
     "data": {
      "image/png": "[encoded data removed]",
      "text/plain": [
       "<Figure size 600x600 with 1 Axes>"
      ]
     },
     "metadata": {},
     "output_type": "display_data"
    },
    {
     "name": "stdout",
     "output_type": "stream",
     "text": [
      "AUC: 0.952 +/- 0.001\n"
     ]
    }
   ],
   "source": [
    "auc, se = compute_auc_given_dists(\n",
    "    scores_inliers,\n",
    "    scores_outliers,\n",
    "    bootstrap=True,\n",
    "    bootstrap_samples=bootstrap_samples,\n",
    "    random_state=seed,\n",
    "    plot=True,\n",
    "    title=(\n",
    "        \"English vs Non-English\\n\"\n",
    "        f\"(using depth={depth} signatures of dim-reduced transformer embeddings)\"\n",
    "    ),\n",
    ")\n",
    "\n",
    "print(f\"AUC: {auc:.3f} +/- {se:.3f}\")"
   ]
  },
  {
   "cell_type": "markdown",
   "id": "6cc4f521-4a24-4dd2-aa4e-257ab4b80b83",
   "metadata": {},
   "source": [
    "As noted above, in Section 5.2.4 of [[2]](https://arxiv.org/abs/2006.03487), we consider the same language dataset example as we do here and achieved an AUC score of $0.878$ +/- $0.002$, so we have achieved a boost in performance using our dimension-reduced transformer embeddings.\n",
    "\n",
    "Looking at the CDF we can see there is good separation between the two classes:"
   ]
  },
  {
   "cell_type": "code",
   "execution_count": 129,
   "id": "9cc33f15",
   "metadata": {},
   "outputs": [
    {
     "data": {
      "image/png": "[encoded data removed]",
      "text/plain": [
       "<Figure size 600x600 with 1 Axes>"
      ]
     },
     "metadata": {},
     "output_type": "display_data"
    }
   ],
   "source": [
    "# plot CDF\n",
    "plot_cdf_given_dists(\n",
    "    scores_inliers,\n",
    "    scores_outliers,\n",
    "    bins=10000000,\n",
    "    title=f\"\",\n",
    ")"
   ]
  },
  {
   "cell_type": "markdown",
   "id": "253964b4-8ccf-4e9e-ad8c-6ae86bc375ce",
   "metadata": {},
   "source": [
    "## Acknowledgements\n",
    "\n",
    "The computations described in this notebook were performed using the Baskerville Tier 2 HPC service (https://www.baskerville.ac.uk/). Baskerville was funded by the EPSRC and UKRI through the World Class Labs scheme (EP/T022221/1) and the Digital Research Infrastructure programme (EP/W032244/1) and is operated by Advanced Research Computing at the University of Birmingham.\n",
    "\n",
    "## References\n",
    "\n",
    "[1] Devlin, J., Chang, M.W., Lee, K. and Toutanova, K., 2018. BERT: Pre-training of Deep Bidirectional Transformers for Language Understanding. _arXiv preprint arXiv:1810.04805_.\n",
    "\n",
    "[2] Shao, Z., Chan, R.S.Y., Cochrane, T., Foster, P., Lyons, T. 2023. Dimensionless Anomaly Detection on Multivariate Streams with Variance Norm and Path Signature. _arXiv preprint arXiv:2006.03487_.\n",
    "\n",
    "[3] Liu, Y., Ott, M., Goyal, N., Du, J., Joshi, M., Chen, D., Levy, O., Lewis, M., Zettlemoyer, L. and Stoyanov, V., 2019. Roberta: A robustly optimized bert pretraining approach. _arXiv preprint arXiv:1907.11692_.\n",
    "\n",
    "[4] McInnes, L., and Healy, J. 2018. UMAP: Uniform Manifold Approximation and Projection for Dimension Reduction, _arXiv preprint arXiv:1802.03426_.\n",
    "\n",
    "[5] Tipping, M. E., and Bishop, C. M., 1999. Probabilistic principal component analysis. _Journal of the Royal Statistical Society: Series B (Statistical Methodology)_, 61(3), 611-622.\n",
    "\n",
    "[6] van der Maaten, L.J.P., and Hinton, G.E., 2008. Visualizing High-Dimensional Data using t-SNE. _Journal of Machine Learning Research_, 9:2579-2605.\n",
    "\n",
    "[7] Mu, J., Bhat, S., and Viswanath, P. (2017). All-but-the-top: Simple and effective postprocessing for word representations. _arXiv preprint arXiv:1702.01417_.\n",
    "\n",
    "[8] Raunak, V., Gupta, V., and Metze, F. (2019). Effective dimensionality reduction for word embeddings. In _Proceedings of the 4th Workshop on Representation Learning for NLP (RepL4NLP- 2019)_, 235–243."
   ]
  }
 ],
 "metadata": {
  "kernelspec": {
   "display_name": "Python 3 (ipykernel)",
   "language": "python",
   "name": "python3"
  },
  "language_info": {
   "codemirror_mode": {
    "name": "ipython",
    "version": 3
   },
   "file_extension": ".py",
   "mimetype": "text/x-python",
   "name": "python",
   "nbconvert_exporter": "python",
   "pygments_lexer": "ipython3",
   "version": "3.10.13"
  }
 },
 "nbformat": 4,
 "nbformat_minor": 5
}
