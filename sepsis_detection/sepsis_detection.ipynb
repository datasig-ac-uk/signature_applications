{
 "cells": [
  {
   "cell_type": "markdown",
   "metadata": {},
   "source": [
    "<div>\n",
    "<img align=\"left\" src=\"data_sig_logo.jpg\" width=\"450\"/>\n",
    "</div>"
   ]
  },
  {
   "cell_type": "markdown",
   "metadata": {},
   "source": [
    "### https://datasig.ac.uk/examples"
   ]
  },
  {
   "cell_type": "markdown",
   "metadata": {},
   "source": [
    "# Path Signatures for Early Sepsis Detection\n",
    "\n",
    "This notebook is based on the work of Ni et al. (2021). This work builds on the winning approach by Morrill et al. of the [PhysioNet Computing in Cardiology Challenge 2019](https://physionet.org/content/challenge-2019/1.0.0/), by building a [sepsis analysis pipeline](https://github.com/HangL-39/Mimiciii_Sepsis_Label_Extraction) to train and evaluate a suite of representative models against the MIMIC III dataset. Whereas the analysis pipeline incorporates light gradient boosting machine (LGBM), long short term memory (LSTM) and Cox proportional hazards (CoxPHM) models, this notebook showcases the application of LGBMs as one example, in a simplified setting. For more information on the aforementioned research, please see the following references:\n",
    "\n",
    "> Ni, H., Cohen, S., Lou, H.,  Morrill, J. , Wu, Y., Yang, L., Lyons, T.: Variation of sepsis-III definitions influences predictive performance of machine learning. Manuscript submitted for publication (2021).\n",
    "\n",
    "> Morrill, J., Kormilitzin, A., Nevado-Holgado, A., Swaminathan, S., Howison, S., Lyons, T.: The signature-based\n",
    "model for early detection of sepsis from electronic health records in the intensive care unit. In: 2019 Computing\n",
    "in Cardiology (CinC) (2019).\n",
    "\n",
    "> Morrill, J., Kormilitzin, A., Nevado-Holgado, A., Swaminathan, S., Howison, S., Lyons, T.: Utilization\n",
    "of the signature method to identify the early onset of sepsis from multivariate physiological time series in\n",
    "critical care monitoring. Critical Care Medicine 48(10), 976--981 (2020).\n",
    "\n",
    "## Introduction\n",
    "\n",
    "Sepsis is a life-threatening condition in which the body's response to an infection causes injury to the body's organs. In 2017, sepsis was estimated to affect 50 million people worldwide, the cause of 11 million deaths (Morrill et al, 2020). \n",
    "\n",
    "Being able to predict accurately whether sepsis will occur in a patient would dramatically improve patient outcomes.  With the aim of predicting sepsis, this notebook demonstrates the method of training a classifier on electronic health records. These data comprise both physiological and laboratory-observed measurements, such as the patient's heart rate, temperature, arterial pH, oxygen saturation etc. Among features used to train the classifier, the method uses path signatures to represent time series data.\n",
    "\n",
    "We will begin by setting up the environment for running the analysis code."
   ]
  },
  {
   "cell_type": "markdown",
   "metadata": {},
   "source": [
    "## Set up the Notebook\n",
    "### Obtain and Extract the Data\n",
    "\n",
    "Running this notebook requires that you complete the following steps:\n",
    "* Become a credentialed user on PhysioNet. This involves completing a half-day online training course in human subjects research.\n",
    "* Download the [MIMIC-III dataset](https://mimic.physionet.org)\n",
    "* Populate a PostgreSQL database with the MIMIC-III dataset\n",
    "* Generate CSV files for model training\n",
    "\n",
    "We provide full instructions and scripts for accomplishing the above pre-requisite steps inside the subdirectory [src/database](https://github.com/HangL-39/Mimiciii_Sepsis_Label_Extraction/tree/master/src/database) located inside our [sepsis analysis pipeline codebase](https://github.com/HangL-39/Mimiciii_Sepsis_Label_Extraction), the latter which forms the basis of this notebook. Thus, is is necessary that you clone the following repository:\n",
    "\n",
    "> git clone 'https://github.com/HangL-39/Mimiciii_Sepsis_Label_Extraction.git'\n",
    "\n",
    "Once you have cloned the repository, please follow the instructions in the [data extraction README](https://github.com/HangL-39/Mimiciii_Sepsis_Label_Extraction/tree/master/src/database#readme)."
   ]
  },
  {
   "cell_type": "markdown",
   "metadata": {},
   "source": [
    "### Configure Path to Analysis Code\n",
    "Assuming that you have completed the data extraction successfully, set up the path to sepsis analysis code:"
   ]
  },
  {
   "cell_type": "code",
   "execution_count": 1,
   "metadata": {},
   "outputs": [],
   "source": [
    "from pathlib import Path\n",
    "import sys\n",
    "\n",
    "MIMIC_ANALYSIS_PATH = Path(\"Mimiciii_Sepsis_Label_Extraction/\")\n",
    "sys.path.insert(0, str(Path(MIMIC_ANALYSIS_PATH, \"src\").resolve()))"
   ]
  },
  {
   "cell_type": "markdown",
   "metadata": {},
   "source": [
    "### Install Dependencies\n",
    "Install the dependencies listed inside [requirements.txt](https://github.com/HangL-39/Mimiciii_Sepsis_Label_Extraction/blob/master/requirements.txt):"
   ]
  },
  {
   "cell_type": "code",
   "execution_count": 2,
   "metadata": {},
   "outputs": [
    {
     "name": "stdout",
     "output_type": "stream",
     "text": [
      "Requirement already satisfied: certifi>=2017.4.17 in /home/fosterp/miniconda3/envs/mimiciii_sepsis_notebook/lib/python3.7/site-packages (from requests==2.26.0->-r /scratch/fosterp/Mimiciii_Sepsis_Label_Extraction/requirements.txt (line 2)) (2021.5.30)\n",
      "Requirement already satisfied: urllib3<1.27,>=1.21.1 in /home/fosterp/miniconda3/envs/mimiciii_sepsis_notebook/lib/python3.7/site-packages (from requests==2.26.0->-r /scratch/fosterp/Mimiciii_Sepsis_Label_Extraction/requirements.txt (line 2)) (1.26.6)\n",
      "Requirement already satisfied: charset-normalizer~=2.0.0 in /home/fosterp/miniconda3/envs/mimiciii_sepsis_notebook/lib/python3.7/site-packages (from requests==2.26.0->-r /scratch/fosterp/Mimiciii_Sepsis_Label_Extraction/requirements.txt (line 2)) (2.0.4)\n",
      "Requirement already satisfied: idna<4,>=2.5 in /home/fosterp/miniconda3/envs/mimiciii_sepsis_notebook/lib/python3.7/site-packages (from requests==2.26.0->-r /scratch/fosterp/Mimiciii_Sepsis_Label_Extraction/requirements.txt (line 2)) (3.2)\n",
      "Requirement already satisfied: threadpoolctl>=2.0.0 in /home/fosterp/miniconda3/envs/mimiciii_sepsis_notebook/lib/python3.7/site-packages (from scikit_learn==0.23.2->-r /scratch/fosterp/Mimiciii_Sepsis_Label_Extraction/requirements.txt (line 3)) (2.2.0)\n",
      "Requirement already satisfied: future in /home/fosterp/miniconda3/envs/mimiciii_sepsis_notebook/lib/python3.7/site-packages (from torch==1.6.0->-r /scratch/fosterp/Mimiciii_Sepsis_Label_Extraction/requirements.txt (line 6)) (0.18.2)\n",
      "Requirement already satisfied: importlib-metadata in /home/fosterp/miniconda3/envs/mimiciii_sepsis_notebook/lib/python3.7/site-packages (from click>=7.0->ray[tune]==0.8.6->-r /scratch/fosterp/Mimiciii_Sepsis_Label_Extraction/requirements.txt (line 1)) (4.7.1)\n",
      "Requirement already satisfied: wrapt in /home/fosterp/miniconda3/envs/mimiciii_sepsis_notebook/lib/python3.7/site-packages (from formulaic<0.3,>=0.2.2->lifelines==0.26.0->-r /scratch/fosterp/Mimiciii_Sepsis_Label_Extraction/requirements.txt (line 9)) (1.12.1)\n",
      "Requirement already satisfied: interface-meta>=1.2 in /home/fosterp/miniconda3/envs/mimiciii_sepsis_notebook/lib/python3.7/site-packages (from formulaic<0.3,>=0.2.2->lifelines==0.26.0->-r /scratch/fosterp/Mimiciii_Sepsis_Label_Extraction/requirements.txt (line 9)) (1.2.3)\n",
      "Requirement already satisfied: astor in /home/fosterp/miniconda3/envs/mimiciii_sepsis_notebook/lib/python3.7/site-packages (from formulaic<0.3,>=0.2.2->lifelines==0.26.0->-r /scratch/fosterp/Mimiciii_Sepsis_Label_Extraction/requirements.txt (line 9)) (0.8.1)\n",
      "Requirement already satisfied: PySocks!=1.5.7,>=1.5.6 in /home/fosterp/miniconda3/envs/mimiciii_sepsis_notebook/lib/python3.7/site-packages (from requests==2.26.0->-r /scratch/fosterp/Mimiciii_Sepsis_Label_Extraction/requirements.txt (line 2)) (1.7.1)\n",
      "Requirement already satisfied: chardet<5.0,>=2.0 in /home/fosterp/miniconda3/envs/mimiciii_sepsis_notebook/lib/python3.7/site-packages (from aiohttp->ray[tune]==0.8.6->-r /scratch/fosterp/Mimiciii_Sepsis_Label_Extraction/requirements.txt (line 1)) (4.0.0)\n",
      "Requirement already satisfied: attrs>=17.3.0 in /home/fosterp/miniconda3/envs/mimiciii_sepsis_notebook/lib/python3.7/site-packages (from aiohttp->ray[tune]==0.8.6->-r /scratch/fosterp/Mimiciii_Sepsis_Label_Extraction/requirements.txt (line 1)) (21.2.0)\n",
      "Requirement already satisfied: typing-extensions>=3.6.5 in /home/fosterp/miniconda3/envs/mimiciii_sepsis_notebook/lib/python3.7/site-packages (from aiohttp->ray[tune]==0.8.6->-r /scratch/fosterp/Mimiciii_Sepsis_Label_Extraction/requirements.txt (line 1)) (3.10.0.0)\n",
      "Requirement already satisfied: async-timeout<4.0,>=3.0 in /home/fosterp/miniconda3/envs/mimiciii_sepsis_notebook/lib/python3.7/site-packages (from aiohttp->ray[tune]==0.8.6->-r /scratch/fosterp/Mimiciii_Sepsis_Label_Extraction/requirements.txt (line 1)) (3.0.1)\n",
      "Requirement already satisfied: yarl<2.0,>=1.0 in /home/fosterp/miniconda3/envs/mimiciii_sepsis_notebook/lib/python3.7/site-packages (from aiohttp->ray[tune]==0.8.6->-r /scratch/fosterp/Mimiciii_Sepsis_Label_Extraction/requirements.txt (line 1)) (1.6.3)\n",
      "Requirement already satisfied: multidict<7.0,>=4.5 in /home/fosterp/miniconda3/envs/mimiciii_sepsis_notebook/lib/python3.7/site-packages (from aiohttp->ray[tune]==0.8.6->-r /scratch/fosterp/Mimiciii_Sepsis_Label_Extraction/requirements.txt (line 1)) (5.1.0)\n",
      "Requirement already satisfied: beautifulsoup4 in /home/fosterp/miniconda3/envs/mimiciii_sepsis_notebook/lib/python3.7/site-packages (from google->ray[tune]==0.8.6->-r /scratch/fosterp/Mimiciii_Sepsis_Label_Extraction/requirements.txt (line 1)) (4.9.3)\n",
      "Requirement already satisfied: soupsieve>1.2 in /home/fosterp/miniconda3/envs/mimiciii_sepsis_notebook/lib/python3.7/site-packages (from beautifulsoup4->google->ray[tune]==0.8.6->-r /scratch/fosterp/Mimiciii_Sepsis_Label_Extraction/requirements.txt (line 1)) (2.2.1)\n",
      "Requirement already satisfied: zipp>=0.5 in /home/fosterp/miniconda3/envs/mimiciii_sepsis_notebook/lib/python3.7/site-packages (from importlib-metadata->click>=7.0->ray[tune]==0.8.6->-r /scratch/fosterp/Mimiciii_Sepsis_Label_Extraction/requirements.txt (line 1)) (3.5.0)\n",
      "Requirement already satisfied: pyrsistent>=0.14.0 in /home/fosterp/miniconda3/envs/mimiciii_sepsis_notebook/lib/python3.7/site-packages (from jsonschema->ray[tune]==0.8.6->-r /scratch/fosterp/Mimiciii_Sepsis_Label_Extraction/requirements.txt (line 1)) (0.18.0)\n",
      "Requirement already satisfied: setuptools in /home/fosterp/miniconda3/envs/mimiciii_sepsis_notebook/lib/python3.7/site-packages (from jsonschema->ray[tune]==0.8.6->-r /scratch/fosterp/Mimiciii_Sepsis_Label_Extraction/requirements.txt (line 1)) (52.0.0.post20210125)\n"
     ]
    }
   ],
   "source": [
    "# !{sys.executable} -m pip install -r {str(Path(MIMIC_ANALYSIS_PATH, 'requirements.txt').resolve())}"
   ]
  },
  {
   "cell_type": "markdown",
   "metadata": {},
   "source": [
    "### Import Packages"
   ]
  },
  {
   "cell_type": "code",
   "execution_count": 3,
   "metadata": {},
   "outputs": [
    {
     "ename": "ModuleNotFoundError",
     "evalue": "No module named 'constants'",
     "output_type": "error",
     "traceback": [
      "\u001B[0;31m---------------------------------------------------------------------------\u001B[0m",
      "\u001B[0;31mModuleNotFoundError\u001B[0m                       Traceback (most recent call last)",
      "Cell \u001B[0;32mIn[3], line 10\u001B[0m\n\u001B[1;32m      7\u001B[0m \u001B[38;5;28;01mimport\u001B[39;00m\u001B[38;5;250m \u001B[39m\u001B[38;5;21;01mpandas\u001B[39;00m\u001B[38;5;250m \u001B[39m\u001B[38;5;28;01mas\u001B[39;00m\u001B[38;5;250m \u001B[39m\u001B[38;5;21;01mpd\u001B[39;00m\n\u001B[1;32m      8\u001B[0m \u001B[38;5;28;01mfrom\u001B[39;00m\u001B[38;5;250m \u001B[39m\u001B[38;5;21;01msklearn\u001B[39;00m\u001B[38;5;250m \u001B[39m\u001B[38;5;28;01mimport\u001B[39;00m metrics\n\u001B[0;32m---> 10\u001B[0m \u001B[38;5;28;01mimport\u001B[39;00m\u001B[38;5;250m \u001B[39m\u001B[38;5;21;01mconstants\u001B[39;00m\n\u001B[1;32m     11\u001B[0m \u001B[38;5;28;01mfrom\u001B[39;00m\u001B[38;5;250m \u001B[39m\u001B[38;5;21;01mfeatures\u001B[39;00m\u001B[38;5;21;01m.\u001B[39;00m\u001B[38;5;21;01mgenerate_features\u001B[39;00m\u001B[38;5;250m \u001B[39m\u001B[38;5;28;01mimport\u001B[39;00m features_wrapper\n\u001B[1;32m     13\u001B[0m \u001B[38;5;28;01mimport\u001B[39;00m\u001B[38;5;250m \u001B[39m\u001B[38;5;21;01mmodels\u001B[39;00m\u001B[38;5;21;01m.\u001B[39;00m\u001B[38;5;21;01mLGBM\u001B[39;00m\u001B[38;5;21;01m.\u001B[39;00m\u001B[38;5;21;01meval_LGBM\u001B[39;00m\u001B[38;5;250m \u001B[39m\u001B[38;5;28;01mas\u001B[39;00m\u001B[38;5;250m \u001B[39m\u001B[38;5;21;01meval_lgbm\u001B[39;00m  \n",
      "\u001B[0;31mModuleNotFoundError\u001B[0m: No module named 'constants'"
     ]
    }
   ],
   "source": [
    "import os\n",
    "import pickle\n",
    "import random\n",
    "\n",
    "import matplotlib.pyplot as plt\n",
    "import numpy as np\n",
    "import pandas as pd\n",
    "from sklearn import metrics\n",
    "\n",
    "import constants\n",
    "from features.generate_features import features_wrapper\n",
    "\n",
    "import models.LGBM.eval_LGBM as eval_lgbm\n",
    "from models.LGBM import train_LGBM"
   ]
  },
  {
   "cell_type": "markdown",
   "metadata": {},
   "source": [
    "## Task Definition:\n",
    "Given a patient's measurement variables obtained up to time $t$, we seek to predict whether the patient will develop sepsis within the next $T$ hours. In other words, using data observed at or before time $t$, we consider a binary prediction task where the target variable relates to the window $[t, t+T]$:,\n",
    "![Prediction schematic](prediction_schematic.png \"Title\")\n",
    "\n",
    "More formally, our task is to predict the label $y_t^i \\in \\{0, 1\\}$ for the $i$th patient at time $t$, using the *stream* of data $(x_1^i, x_2^i, \\ldots, x_t^i)$ available up to time $t$, where $x_t^i \\in \\mathbb{R}^d$ denotes the measurements taken for the $i$th patient at time $t$. In our training data, we assign $y_t^i:=1$ if the patient develops sepsis within the window $[t, t+T]$, otherwise we assign $y_t^i:=0$. For each patient, we perform one prediction at each hour. In addition to this *real-time prediction* task, we consider a *patient-level prediction* task, where we seek to predict whether the patient will subsequently develop sepsis, based on data available up to time $t$.\n",
    "\n",
    "To obtain labels $y_t$, it is necessary that we have information about the sepsis onset time $t_{\\text{sepsis}}$. In the literature, there are multiple possible ways to define $t_{\\text{sepsis}}$. This notebook evaluates 3 variants of sepsis onset definition, each which in turn relies on determining the time of suspected infection $t_{\\text{suspicion}}$ and the sequential organ failure assessment (SOFA) score deterioration time $t_{\\text{sofa}}$. Given $t_{\\text{suspicion}}$ and $t_{\\text{sofa}}$, the sepsis onset time $t_{\\text{sepsis}}$ is alternatively defined as\n",
    "* H1: $t_{\\text{sepsis}} := t_{\\text{sofa}}$\n",
    "* H2: $t_{\\text{sepsis}} := t_{\\text{suspicion}}$\n",
    "* H3: $t_{\\text{sepsis}} := min \\{ t_{\\text{sofa}}, t_{\\text{sofa}} \\}.$\n",
    "\n",
    "We refer to the above definitions H1, H2, H3 as $t_{\\text{sofa}}$, $t_{\\text{suspicion}}$, $t_{\\text{sepsis min}}$, respectively. In addition, we require that\n",
    "$$\n",
    "t_{\\text{suspicion}} - x < t_{\\text{sofa}} < t_{\\text{suspicion}} + y\n",
    "$$\n",
    "where $x$ and $y$ are experimental parameters which we refer to as the SOFA window. That is, we only deem that an onset of sepsis has occurred if $t_{\\text{suspicion}}$ occurs less than than $x$ hours after $t_{\\text{sofa}}$ and $t_{\\text{suspicion}}$ occurs less than than $y$ hours before $t_{\\text{sofa}}$. For the case where multiple candidate values of $t_{\\text{suspicion}}$ and $t_{\\text{sofa}}$ are available, we select the earliest pair of $t_{\\text{suspicion}}$ and $t_{\\text{sofa}}$ which satisfies the aforementioned SOFA window requirement."
   ]
  },
  {
   "cell_type": "markdown",
   "metadata": {},
   "source": [
    "## Data\n",
    "The MIMIC-III dataset comprises electronic health records for 40000 patients in intensive care at the at the Beth Israel Deaconess Medical Center, Boston, Massachusetts, between 2001 and 2012. The data are split into training and testing sets. In addition, we apply exclusion criteria to the data, including excluding those patients with very few asssociated vital sign data, a length of stay less than 4 hours, and those patients who develop depsis within 4 hours of entering intensive care. The measurement variables reported for each patient include:\n",
    "\n",
    "* Vital signs (e.g. heart rate, pulse oximetry, temperature, blood pressure systolic, respiratory rate)\n",
    "* Laboratory values (e.g. base excess, bicarbonate, fraction of inspired oxygen, calcium, chloride, hemoglobin)\n",
    "* Demographics (age, sex)\n",
    "* Timestamps (admission time to hospital, admission time to ICU, chart time)\n",
    "\n",
    "Note that measurement variables comprise static data (in the form of demographics, the admission times), in addition to data streams (in the form of timestamped measurements).\n",
    "\n",
    "## Features\n",
    "\n",
    "As a preprocessing step, we round timestamps to hours, where we use the 0th hour to represent a patient's first hour in intensive care. In addition we impute missing data using forward-filling.\n",
    "\n",
    "We denote with $\\mathbf{z}^i$ static measurements associated with the $i$th patient. As previously introduced, we use $x_t^i$ to denote measurement variables recorded for the $i$th patient at time $t$. We use $f_t^i$ to denote all features that we extract using both $\\mathbf{z}^i$ and $(x_1^i, x_2^i, \\ldots, x_t^i)$; we may conceptualise the operation of feature extraction using the function $F$,\n",
    "$$f_t^i := F(\\mathbf{z}^i, x_1^i, \\ldots, x_t^i).$$\n",
    "\n",
    "As features, we use a combination of raw measurement variables and additional measurement variables constructed from aforementioned raw measurement variables. Furthermore, we use summary statistics such rolling counts, maxima, minima and moments. Moreover, we incorporate *path signatures* as features that we compute from streams of measurement variables."
   ]
  },
  {
   "cell_type": "markdown",
   "metadata": {},
   "source": [
    "### N-Dimensional Paths\n",
    "An $N$-dimensional path is a mapping $X:[a, b]\\rightarrow \\mathbb{R}^N$. We may represent $X$ in terms of its real-valued coordinates $X(t)=(X_t^1, \\ldots, X_t^N)$ parametrised by $t \\in [a, b]$. In our case, we will construct  $2$-dimensional paths from individual measurement variables contained in $(x_1^i, \\ldots, x_t^i)$, by interpolating linearly between successive variable measurements and including timestamps as an additional coordinate. Subsequently, we compute the signature of each path. Note that incorporating time information as a coordinate is an example of a *stream transformation*. By incorporating time as an additional coordinate, the resulting path signatures encode information about parametrisation. \n",
    "\n",
    "### Path Signatures\n",
    "We seek to represent our measurements using the **signature** of the path $X:[a,b]\\rightarrow \\mathbb{R}^N$. For an introduction to path signatures, we refer to the following works:\n",
    "\n",
    "> I. Chevyrev and A. Kormilitzin, \"A Primer on the Signature Method in Machine Learning\", arXiv preprint arXiv:1603.03788, 2016, https://arxiv.org/pdf/1603.03788.pdf.\n",
    "\n",
    "> T. Lyons, \"Rough paths, Signatures and the modelling of functions on streams\", In Proceedings of the International Congress of Mathematicians: Seoul, pp. 163‐184, 2014, https://arxiv.org/pdf/1405.4537.pdf.\n",
    "\n",
    "> T. Lyons, M. J. Caruana and T. Lévy, \"Differential Equations Driven by Rough Paths: Ecole d’Eté de Probabilités de Saint-Flour XXXIV-2004\", Lecture Notes in Mathematics École d'Été de Probabilités de Saint-Flour, Springer 2007, DOI https://doi.org/10.1007/978-3-540-71285-5.\n",
    "\n",
    "> Gyurkó, Lajos Gergely, Terry Lyons, Mark Kontkowski, and Jonathan Field. \"Extracting information from the signature of a financial data stream.\" arXiv:1307.7244 (2013).\n",
    "\n",
    "From an informal perspective, the signature $S(X)$ is the infinite ordered set of real-valued terms\n",
    "$$\n",
    "\\begin{align*}\n",
    "S(X) &= (1, S^1, S^2, \\ldots,  S^N,\\\\\n",
    "     &\\quad \\quad S^{1, 1}, S^{1, 2}, \\ldots, S^{N, N},\\\\\n",
    "     &\\quad \\quad S^{1, 1, 1}, S^{1, 1, 2}, \\ldots, S^{N, N, N},\\\\\n",
    "     &\\quad \\quad \\ldots)\n",
    "\\end{align*}\n",
    "$$\n",
    "with term $S^{(i_1,...,i_k)}$ at index $(i_1,...,i_k)$ defined as the $k$-fold iterated path integral\n",
    "$$\n",
    "S^{(i_1,...,i_k)} = \\int_{a < r_k < b} \\ldots \\int_{a < r_1 < r_2} \\,dX^{i_1}_{r_1} \\ldots \\,dX^{i_k}_{r_k}.\n",
    "$$\n",
    "\n",
    "Due to computational constraints, we cannot compute the entire path signature. Therefore, in practice we truncate the signature to order $K \\geq k$, thus obtaining $\\sum_{k=0}^{k=K} N^{k}$ terms. For example, if we truncate to order $K=2$, the signature of a 2-dimensional path consists of the terms\n",
    "\n",
    "$$ S(X) =\\big( 1 ,  S^{(1)}(X) , S^{(2)}(X) , S^{(1,1)}(X), S^{(1,2)}(X), S^{(2,1)}(X), S^{(2,2)}(X) \\big).$$\n",
    "\n",
    "From now on, when we refer to path signatures we will mean the path signatures truncated to level $K=3$.\n",
    "\n",
    "Note that if we set $K$ too small, we may discard important information about the target variable. Conversely, if we set $K$ too large, we may end up including information which is redundant for predicting the target variable.\n",
    "\n",
    "### The Lead-Lag Transformation\n",
    "Instead of operating on the described 2-dimensional path $X$ directly, based on the 2-dimensional stream $\\hat{x}_j$ that we observe at time $1, \\ldots, t$ we may construct a path $X$ of dimensionality $N=4$ as follows: First, we define the lead-transformed stream $\\hat{x}_j^{\\text{lead}}$ observed at times $1, \\ldots, 2t$ as\n",
    "$$\n",
    "\\hat{x}_j^{\\text{lead}} =\n",
    "    \\begin{cases}\n",
    "        \\hat{x}_i \\quad \\text{if j = 2i}\\\\\n",
    "        \\hat{x}_i \\quad \\text{if j = 2i - 1}.\n",
    "    \\end{cases}\n",
    "$$\n",
    "Analogously, we define the lag-transformed stream $\\hat{x}_j^{\\text{lag}}$ observed at times $1, \\ldots, 2M$ as\n",
    "$$\n",
    "\\hat{x}_j^{\\text{lag}} =\n",
    "    \\begin{cases}\n",
    "        \\hat{x}_i \\quad \\text{if j = 2i}\\\\\n",
    "        \\hat{x}_i \\quad \\text{if j = 2i + 1}.\n",
    "    \\end{cases}\n",
    "$$\n",
    "The lead-lag transformation $\\hat{x}^{\\text{lead-lag}}$ of $\\hat{x}$ is the 4-dimensional stream that we obtain by stacking streams $\\hat{x}^{\\text{lead}}$ and $\\hat{x}^{\\text{lag}}$,\n",
    "$$\n",
    "\\hat{x}_j^{\\text{lead-lag}} = (\\hat{x}_j^{\\text{lead}}, \\hat{x}_j^{\\text{lag}}).\n",
    "$$\n",
    "The motivation for using the lead-lag transformation is that it facilitates representing the cross-variation between the original path and its delayed version (Gyurkó et al., 2013)."
   ]
  },
  {
   "cell_type": "markdown",
   "metadata": {},
   "source": [
    "## Extract Features\n",
    "We now extract features, setting SOFA window parameters $(x, y)$ alternatively to $(24h, 12h)$ and $(12h, 6h)$:"
   ]
  },
  {
   "cell_type": "code",
   "execution_count": 9,
   "metadata": {},
   "outputs": [],
   "source": [
    "constants.MIMIC_DATA_DIRS[\"blood_only\"] = {\n",
    "    \"train\": str(MIMIC_ANALYSIS_PATH) + \"/data/raw/train/blood_only\",\n",
    "    \"test\": str(MIMIC_ANALYSIS_PATH) + \"/data/raw/train/blood_only\",\n",
    "}"
   ]
  },
  {
   "cell_type": "code",
   "execution_count": 12,
   "metadata": {},
   "outputs": [
    {
     "name": "stdout",
     "output_type": "stream",
     "text": [
      "Directory  /scratch/fosterp/Mimiciii_Sepsis_Label_Extraction/models/blood_only/LGBM/  already exists\n",
      "Directory  /scratch/fosterp/Mimiciii_Sepsis_Label_Extraction/outputs/predictions/blood_only/LGBM/  already exists\n",
      "Directory  /scratch/fosterp/Mimiciii_Sepsis_Label_Extraction/outputs/results/blood_only/LGBM/  already exists\n",
      "generate train features for sensitity 24_12 definition\n",
      "Directory  /scratch/fosterp/Mimiciii_Sepsis_Label_Extraction/data/processed/blood_only/train/  already exists\n",
      "definition = t_sofa\n",
      "generate features on data set\n",
      "Initial size: 1696261\n"
     ]
    },
    {
     "name": "stderr",
     "output_type": "stream",
     "text": [
      "/home/fosterp/miniconda3/envs/mimiciii_sepsis_notebook/lib/python3.7/site-packages/pandas/core/frame.py:4315: SettingWithCopyWarning: \n",
      "A value is trying to be set on a copy of a slice from a DataFrame\n",
      "\n",
      "See the caveats in the documentation: https://pandas.pydata.org/pandas-docs/stable/user_guide/indexing.html#returning-a-view-versus-a-copy\n",
      "  errors=errors,\n",
      "/home/fosterp/miniconda3/envs/mimiciii_sepsis_notebook/lib/python3.7/site-packages/pandas/core/frame.py:4449: SettingWithCopyWarning: \n",
      "A value is trying to be set on a copy of a slice from a DataFrame\n",
      "\n",
      "See the caveats in the documentation: https://pandas.pydata.org/pandas-docs/stable/user_guide/indexing.html#returning-a-view-versus-a-copy\n",
      "  errors=errors,\n"
     ]
    },
    {
     "name": "stdout",
     "output_type": "stream",
     "text": [
      "Size of instances after discarding patients developing sepsis within 4 hour in ICU: 937872\n",
      "Size after averaging hourly measurement and resampling: 1043082\n",
      "Size of instances after getting censored data: 840628\n",
      "Size of instances after discarding patients staying less than 4 hour or longer than 20 days: 840628\n",
      "After triming the data to icu instances: 355589\n",
      "Final size: 355521\n",
      "save septic ratio for data set\n",
      "ICUStay id number: 7715\n",
      "Sepsis ICUStay number and Sepsis ICU ratio: 1117 0.14478289047310433\n",
      "save ICU Ids for data set\n",
      "save ICU lengths for data set\n",
      "save processed dataframe for lstm model\n",
      "generate and save input features\n",
      "Finally getting james feature:\n"
     ]
    },
    {
     "name": "stderr",
     "output_type": "stream",
     "text": [
      "/home/fosterp/miniconda3/envs/mimiciii_sepsis_notebook/lib/python3.7/site-packages/pandas/core/window/rolling.py:2016: FutureWarning: min_periods=None will default to the size of window consistent with other methods in a future version. Specify min_periods=0 instead.\n",
      "  FutureWarning,\n"
     ]
    },
    {
     "name": "stdout",
     "output_type": "stream",
     "text": [
      "Size of james feature for definition (355521, 113)\n",
      "generate and save timeseries dataset for LSTM model input\n",
      "gengerate and save labels\n",
      "T= 12\n",
      "Labeling:\n",
      "length of label 355521\n",
      "T= 8\n",
      "Labeling:\n",
      "length of label 355521\n",
      "T= 6\n",
      "Labeling:\n",
      "length of label 355521\n",
      "T= 4\n",
      "Labeling:\n",
      "length of label 355521\n",
      "definition = t_suspicion\n",
      "generate features on data set\n",
      "Initial size: 1696261\n"
     ]
    },
    {
     "name": "stderr",
     "output_type": "stream",
     "text": [
      "/home/fosterp/miniconda3/envs/mimiciii_sepsis_notebook/lib/python3.7/site-packages/pandas/core/frame.py:4315: SettingWithCopyWarning: \n",
      "A value is trying to be set on a copy of a slice from a DataFrame\n",
      "\n",
      "See the caveats in the documentation: https://pandas.pydata.org/pandas-docs/stable/user_guide/indexing.html#returning-a-view-versus-a-copy\n",
      "  errors=errors,\n",
      "/home/fosterp/miniconda3/envs/mimiciii_sepsis_notebook/lib/python3.7/site-packages/pandas/core/frame.py:4449: SettingWithCopyWarning: \n",
      "A value is trying to be set on a copy of a slice from a DataFrame\n",
      "\n",
      "See the caveats in the documentation: https://pandas.pydata.org/pandas-docs/stable/user_guide/indexing.html#returning-a-view-versus-a-copy\n",
      "  errors=errors,\n"
     ]
    },
    {
     "name": "stdout",
     "output_type": "stream",
     "text": [
      "Size of instances after discarding patients developing sepsis within 4 hour in ICU: 1106570\n",
      "Size after averaging hourly measurement and resampling: 1179916\n",
      "Size of instances after getting censored data: 872429\n",
      "Size of instances after discarding patients staying less than 4 hour or longer than 20 days: 872429\n",
      "After triming the data to icu instances: 366271\n",
      "Final size: 366203\n",
      "save septic ratio for data set\n",
      "ICUStay id number: 8330\n",
      "Sepsis ICUStay number and Sepsis ICU ratio: 1732 0.20792316926770707\n",
      "save ICU Ids for data set\n",
      "save ICU lengths for data set\n",
      "save processed dataframe for lstm model\n",
      "generate and save input features\n",
      "Finally getting james feature:\n"
     ]
    },
    {
     "name": "stderr",
     "output_type": "stream",
     "text": [
      "/home/fosterp/miniconda3/envs/mimiciii_sepsis_notebook/lib/python3.7/site-packages/pandas/core/window/rolling.py:2016: FutureWarning: min_periods=None will default to the size of window consistent with other methods in a future version. Specify min_periods=0 instead.\n",
      "  FutureWarning,\n"
     ]
    },
    {
     "name": "stdout",
     "output_type": "stream",
     "text": [
      "Size of james feature for definition (366203, 113)\n",
      "generate and save timeseries dataset for LSTM model input\n",
      "gengerate and save labels\n",
      "T= 12\n",
      "Labeling:\n",
      "length of label 366203\n",
      "T= 8\n",
      "Labeling:\n",
      "length of label 366203\n",
      "T= 6\n",
      "Labeling:\n",
      "length of label 366203\n",
      "T= 4\n",
      "Labeling:\n",
      "length of label 366203\n",
      "definition = t_sepsis_min\n",
      "generate features on data set\n",
      "Initial size: 1696261\n"
     ]
    },
    {
     "name": "stderr",
     "output_type": "stream",
     "text": [
      "/home/fosterp/miniconda3/envs/mimiciii_sepsis_notebook/lib/python3.7/site-packages/pandas/core/frame.py:4315: SettingWithCopyWarning: \n",
      "A value is trying to be set on a copy of a slice from a DataFrame\n",
      "\n",
      "See the caveats in the documentation: https://pandas.pydata.org/pandas-docs/stable/user_guide/indexing.html#returning-a-view-versus-a-copy\n",
      "  errors=errors,\n",
      "/home/fosterp/miniconda3/envs/mimiciii_sepsis_notebook/lib/python3.7/site-packages/pandas/core/frame.py:4449: SettingWithCopyWarning: \n",
      "A value is trying to be set on a copy of a slice from a DataFrame\n",
      "\n",
      "See the caveats in the documentation: https://pandas.pydata.org/pandas-docs/stable/user_guide/indexing.html#returning-a-view-versus-a-copy\n",
      "  errors=errors,\n"
     ]
    },
    {
     "name": "stdout",
     "output_type": "stream",
     "text": [
      "Size of instances after discarding patients developing sepsis within 4 hour in ICU: 885662\n",
      "Size after averaging hourly measurement and resampling: 986622\n",
      "Size of instances after getting censored data: 834414\n",
      "Size of instances after discarding patients staying less than 4 hour or longer than 20 days: 834414\n",
      "After triming the data to icu instances: 352205\n",
      "Final size: 352137\n",
      "save septic ratio for data set\n",
      "ICUStay id number: 7413\n",
      "Sepsis ICUStay number and Sepsis ICU ratio: 815 0.10994199379468501\n",
      "save ICU Ids for data set\n",
      "save ICU lengths for data set\n",
      "save processed dataframe for lstm model\n",
      "generate and save input features\n",
      "Finally getting james feature:\n"
     ]
    },
    {
     "name": "stderr",
     "output_type": "stream",
     "text": [
      "/home/fosterp/miniconda3/envs/mimiciii_sepsis_notebook/lib/python3.7/site-packages/pandas/core/window/rolling.py:2016: FutureWarning: min_periods=None will default to the size of window consistent with other methods in a future version. Specify min_periods=0 instead.\n",
      "  FutureWarning,\n"
     ]
    },
    {
     "name": "stdout",
     "output_type": "stream",
     "text": [
      "Size of james feature for definition (352137, 113)\n",
      "generate and save timeseries dataset for LSTM model input\n",
      "gengerate and save labels\n",
      "T= 12\n",
      "Labeling:\n",
      "length of label 352137\n",
      "T= 8\n",
      "Labeling:\n",
      "length of label 352137\n",
      "T= 6\n",
      "Labeling:\n",
      "length of label 352137\n",
      "T= 4\n",
      "Labeling:\n",
      "length of label 352137\n",
      "save icu spetic ratio to csv\n",
      "generate train features for sensitity 12_6 definition\n",
      "Directory  /scratch/fosterp/Mimiciii_Sepsis_Label_Extraction/data/processed/blood_only/train/  already exists\n",
      "definition = t_sofa\n",
      "generate features on data set\n",
      "Initial size: 1696261\n"
     ]
    },
    {
     "name": "stderr",
     "output_type": "stream",
     "text": [
      "/home/fosterp/miniconda3/envs/mimiciii_sepsis_notebook/lib/python3.7/site-packages/pandas/core/frame.py:4315: SettingWithCopyWarning: \n",
      "A value is trying to be set on a copy of a slice from a DataFrame\n",
      "\n",
      "See the caveats in the documentation: https://pandas.pydata.org/pandas-docs/stable/user_guide/indexing.html#returning-a-view-versus-a-copy\n",
      "  errors=errors,\n",
      "/home/fosterp/miniconda3/envs/mimiciii_sepsis_notebook/lib/python3.7/site-packages/pandas/core/frame.py:4449: SettingWithCopyWarning: \n",
      "A value is trying to be set on a copy of a slice from a DataFrame\n",
      "\n",
      "See the caveats in the documentation: https://pandas.pydata.org/pandas-docs/stable/user_guide/indexing.html#returning-a-view-versus-a-copy\n",
      "  errors=errors,\n"
     ]
    },
    {
     "name": "stdout",
     "output_type": "stream",
     "text": [
      "Size of instances after discarding patients developing sepsis within 4 hour in ICU: 1014020\n",
      "Size after averaging hourly measurement and resampling: 1127394\n",
      "Size of instances after getting censored data: 946231\n",
      "Size of instances after discarding patients staying less than 4 hour or longer than 20 days: 946231\n",
      "After triming the data to icu instances: 408334\n",
      "Final size: 408266\n",
      "save septic ratio for data set\n",
      "ICUStay id number: 8097\n",
      "Sepsis ICUStay number and Sepsis ICU ratio: 941 0.11621588242558972\n",
      "save ICU Ids for data set\n",
      "save ICU lengths for data set\n",
      "save processed dataframe for lstm model\n",
      "generate and save input features\n",
      "Finally getting james feature:\n"
     ]
    },
    {
     "name": "stderr",
     "output_type": "stream",
     "text": [
      "/home/fosterp/miniconda3/envs/mimiciii_sepsis_notebook/lib/python3.7/site-packages/pandas/core/window/rolling.py:2016: FutureWarning: min_periods=None will default to the size of window consistent with other methods in a future version. Specify min_periods=0 instead.\n",
      "  FutureWarning,\n"
     ]
    },
    {
     "name": "stdout",
     "output_type": "stream",
     "text": [
      "Size of james feature for definition (408266, 113)\n",
      "generate and save timeseries dataset for LSTM model input\n",
      "gengerate and save labels\n",
      "T= 12\n",
      "Labeling:\n",
      "length of label 408266\n",
      "T= 8\n",
      "Labeling:\n",
      "length of label 408266\n",
      "T= 6\n",
      "Labeling:\n",
      "length of label 408266\n",
      "T= 4\n",
      "Labeling:\n",
      "length of label 408266\n",
      "definition = t_suspicion\n",
      "generate features on data set\n",
      "Initial size: 1696261\n"
     ]
    },
    {
     "name": "stderr",
     "output_type": "stream",
     "text": [
      "/home/fosterp/miniconda3/envs/mimiciii_sepsis_notebook/lib/python3.7/site-packages/pandas/core/frame.py:4315: SettingWithCopyWarning: \n",
      "A value is trying to be set on a copy of a slice from a DataFrame\n",
      "\n",
      "See the caveats in the documentation: https://pandas.pydata.org/pandas-docs/stable/user_guide/indexing.html#returning-a-view-versus-a-copy\n",
      "  errors=errors,\n",
      "/home/fosterp/miniconda3/envs/mimiciii_sepsis_notebook/lib/python3.7/site-packages/pandas/core/frame.py:4449: SettingWithCopyWarning: \n",
      "A value is trying to be set on a copy of a slice from a DataFrame\n",
      "\n",
      "See the caveats in the documentation: https://pandas.pydata.org/pandas-docs/stable/user_guide/indexing.html#returning-a-view-versus-a-copy\n",
      "  errors=errors,\n"
     ]
    },
    {
     "name": "stdout",
     "output_type": "stream",
     "text": [
      "Size of instances after discarding patients developing sepsis within 4 hour in ICU: 1160161\n",
      "Size after averaging hourly measurement and resampling: 1244174\n",
      "Size of instances after getting censored data: 971246\n",
      "Size of instances after discarding patients staying less than 4 hour or longer than 20 days: 971246\n",
      "After triming the data to icu instances: 415401\n",
      "Final size: 415333\n",
      "save septic ratio for data set\n",
      "ICUStay id number: 8669\n",
      "Sepsis ICUStay number and Sepsis ICU ratio: 1513 0.17452993424847157\n",
      "save ICU Ids for data set\n",
      "save ICU lengths for data set\n",
      "save processed dataframe for lstm model\n",
      "generate and save input features\n",
      "Finally getting james feature:\n"
     ]
    },
    {
     "name": "stderr",
     "output_type": "stream",
     "text": [
      "/home/fosterp/miniconda3/envs/mimiciii_sepsis_notebook/lib/python3.7/site-packages/pandas/core/window/rolling.py:2016: FutureWarning: min_periods=None will default to the size of window consistent with other methods in a future version. Specify min_periods=0 instead.\n",
      "  FutureWarning,\n"
     ]
    },
    {
     "name": "stdout",
     "output_type": "stream",
     "text": [
      "Size of james feature for definition (415333, 113)\n",
      "generate and save timeseries dataset for LSTM model input\n",
      "gengerate and save labels\n",
      "T= 12\n",
      "Labeling:\n",
      "length of label 415333\n",
      "T= 8\n",
      "Labeling:\n",
      "length of label 415333\n",
      "T= 6\n",
      "Labeling:\n",
      "length of label 415333\n",
      "T= 4\n",
      "Labeling:\n",
      "length of label 415333\n",
      "definition = t_sepsis_min\n",
      "generate features on data set\n",
      "Initial size: 1696261\n"
     ]
    },
    {
     "name": "stderr",
     "output_type": "stream",
     "text": [
      "/home/fosterp/miniconda3/envs/mimiciii_sepsis_notebook/lib/python3.7/site-packages/pandas/core/frame.py:4315: SettingWithCopyWarning: \n",
      "A value is trying to be set on a copy of a slice from a DataFrame\n",
      "\n",
      "See the caveats in the documentation: https://pandas.pydata.org/pandas-docs/stable/user_guide/indexing.html#returning-a-view-versus-a-copy\n",
      "  errors=errors,\n",
      "/home/fosterp/miniconda3/envs/mimiciii_sepsis_notebook/lib/python3.7/site-packages/pandas/core/frame.py:4449: SettingWithCopyWarning: \n",
      "A value is trying to be set on a copy of a slice from a DataFrame\n",
      "\n",
      "See the caveats in the documentation: https://pandas.pydata.org/pandas-docs/stable/user_guide/indexing.html#returning-a-view-versus-a-copy\n",
      "  errors=errors,\n"
     ]
    },
    {
     "name": "stdout",
     "output_type": "stream",
     "text": [
      "Size of instances after discarding patients developing sepsis within 4 hour in ICU: 992585\n",
      "Size after averaging hourly measurement and resampling: 1102871\n",
      "Size of instances after getting censored data: 943472\n",
      "Size of instances after discarding patients staying less than 4 hour or longer than 20 days: 943472\n",
      "After triming the data to icu instances: 407018\n",
      "Final size: 406950\n",
      "save septic ratio for data set\n",
      "ICUStay id number: 7979\n",
      "Sepsis ICUStay number and Sepsis ICU ratio: 823 0.10314575761373605\n",
      "save ICU Ids for data set\n",
      "save ICU lengths for data set\n",
      "save processed dataframe for lstm model\n",
      "generate and save input features\n",
      "Finally getting james feature:\n"
     ]
    },
    {
     "name": "stderr",
     "output_type": "stream",
     "text": [
      "/home/fosterp/miniconda3/envs/mimiciii_sepsis_notebook/lib/python3.7/site-packages/pandas/core/window/rolling.py:2016: FutureWarning: min_periods=None will default to the size of window consistent with other methods in a future version. Specify min_periods=0 instead.\n",
      "  FutureWarning,\n"
     ]
    },
    {
     "name": "stdout",
     "output_type": "stream",
     "text": [
      "Size of james feature for definition (406950, 113)\n",
      "generate and save timeseries dataset for LSTM model input\n",
      "gengerate and save labels\n",
      "T= 12\n",
      "Labeling:\n",
      "length of label 406950\n",
      "T= 8\n",
      "Labeling:\n",
      "length of label 406950\n",
      "T= 6\n",
      "Labeling:\n",
      "length of label 406950\n",
      "T= 4\n",
      "Labeling:\n",
      "length of label 406950\n",
      "save icu spetic ratio to csv\n"
     ]
    }
   ],
   "source": [
    "features_wrapper(\n",
    "    data_list=[\"blood_only\"], x_y_list=constants.xy_pairs[1:3], purpose=\"train\"\n",
    ")"
   ]
  },
  {
   "cell_type": "markdown",
   "metadata": {},
   "source": [
    "For exploratory purposes, based on a random random of patients plot some of the raw measurement variables used to generate features:"
   ]
  },
  {
   "cell_type": "code",
   "execution_count": 13,
   "metadata": {},
   "outputs": [],
   "source": [
    "with open(\n",
    "    Path(\n",
    "        MIMIC_ANALYSIS_PATH,\n",
    "        \"data/processed/blood_only/train/24_12_sepsis_min_dataframe.pkl\",\n",
    "    ),\n",
    "    \"rb\",\n",
    ") as f:\n",
    "    df = pickle.load(f)"
   ]
  },
  {
   "cell_type": "code",
   "execution_count": 16,
   "metadata": {},
   "outputs": [
    {
     "data": {
      "image/png": "[encoded data removed]",
      "text/plain": [
       "<Figure size 748.8x748.8 with 6 Axes>"
      ]
     },
     "metadata": {
      "needs_background": "light"
     },
     "output_type": "display_data"
    }
   ],
   "source": [
    "FEATURES_TO_PLOT = [\n",
    "    \"heart_rate\",\n",
    "    \"nbp_sys\",\n",
    "    \"nbp_mean\",\n",
    "    \"o2sat\",\n",
    "    \"resp_rate\",\n",
    "    \"sofa_total\",\n",
    "]\n",
    "\n",
    "\n",
    "def plot_features(\n",
    "    n_ids_to_plot=5, n_features_to_plot=(3, 2), figsize=(8 * 1.3, 8 * 1.3)\n",
    "):\n",
    "    np.random.seed(1)\n",
    "    ids_to_plot = np.random.choice(\n",
    "        df[\"icustay_id\"].unique(), size=n_ids_to_plot, replace=False\n",
    "    )\n",
    "\n",
    "    fig, axs = plt.subplots(\n",
    "        n_features_to_plot[0], n_features_to_plot[1], sharex=True, figsize=figsize\n",
    "    )\n",
    "    for ax, feat in zip(axs.flatten(), FEATURES_TO_PLOT):\n",
    "        for i, patient_id in enumerate(ids_to_plot):\n",
    "            ax.set_title(\"Feature: {}\".format(feat))\n",
    "            df[df[\"icustay_id\"].isin([patient_id])][feat].reset_index(drop=True).plot(\n",
    "                ax=ax, label=\"Patient {}\".format(i)\n",
    "            )\n",
    "        ax.set_ylabel(\"Measurement value\")\n",
    "\n",
    "    plt.xlabel(\"Measurement index\")\n",
    "    plt.legend(\n",
    "        loc=\"lower left\",\n",
    "        bbox_to_anchor=(1.02, 1.4),\n",
    "        ncol=1,\n",
    "        borderaxespad=0,\n",
    "        frameon=False,\n",
    "    )\n",
    "\n",
    "\n",
    "plot_features()"
   ]
  },
  {
   "cell_type": "markdown",
   "metadata": {},
   "source": [
    "## Train Model\n",
    "As our classifier, we train a gradient boosted tree, using [LightGBM](https://lightgbm.readthedocs.io/en/latest/). For illustrative purposes, we train using a fixed set of hyperparameters. These hyperparameters are based on optimising with respect to the training data, using 5-fold cross validation.\n",
    "\n",
    "We train models across combinations of the SOFA window size $(x, y)$, sepsis onset time definitions and the prediction horizon $T$. In addition, we train separate models for the real-time and patient-level prediction tasks."
   ]
  },
  {
   "cell_type": "code",
   "execution_count": 15,
   "metadata": {},
   "outputs": [
    {
     "name": "stdout",
     "output_type": "stream",
     "text": [
      "Directory  /scratch/fosterp/Mimiciii_Sepsis_Label_Extraction/models/blood_only/LGBM/  already exists\n",
      "Directory  /scratch/fosterp/Mimiciii_Sepsis_Label_Extraction/outputs/predictions/blood_only/LGBM/  already exists\n",
      "Directory  /scratch/fosterp/Mimiciii_Sepsis_Label_Extraction/outputs/results/blood_only/LGBM/  already exists\n",
      "Directory  /scratch/fosterp/Mimiciii_Sepsis_Label_Extraction/data/processed/blood_only/train/  already exists\n",
      "Directory  /scratch/fosterp/Mimiciii_Sepsis_Label_Extraction/models/blood_only/LGBM/  already exists\n",
      "Directory  /scratch/fosterp/Mimiciii_Sepsis_Label_Extraction/outputs/predictions/blood_only/LGBM/  already exists\n",
      "Directory  /scratch/fosterp/Mimiciii_Sepsis_Label_Extraction/outputs/results/blood_only/LGBM/  already exists\n",
      "24 12 12 t_sofa\n",
      "Model fitting:\n",
      "0.85006993006993\n"
     ]
    },
    {
     "name": "stderr",
     "output_type": "stream",
     "text": [
      "/scratch/fosterp/Mimiciii_Sepsis_Label_Extraction/src/visualization/patientlevel_function.py:449: RuntimeWarning: invalid value encountered in long_scalars\n",
      "  NPV = TN / (TN + FN)\n",
      "/scratch/fosterp/Mimiciii_Sepsis_Label_Extraction/src/visualization/patientlevel_function.py:447: RuntimeWarning: invalid value encountered in long_scalars\n",
      "  PPV = TP / (TP + FP)\n",
      "/scratch/fosterp/Mimiciii_Sepsis_Label_Extraction/src/visualization/patientlevel_function.py:455: RuntimeWarning: invalid value encountered in long_scalars\n",
      "  FDR = FP / (TP + FP)\n"
     ]
    },
    {
     "name": "stdout",
     "output_type": "stream",
     "text": [
      "Directory  /scratch/fosterp/Mimiciii_Sepsis_Label_Extraction/outputs/predictions/blood_only/LGBM/train/  already exists\n",
      "24 12 12 t_suspicion\n",
      "Model fitting:\n",
      "0.8500454752160073\n"
     ]
    },
    {
     "name": "stderr",
     "output_type": "stream",
     "text": [
      "/scratch/fosterp/Mimiciii_Sepsis_Label_Extraction/src/visualization/patientlevel_function.py:449: RuntimeWarning: invalid value encountered in long_scalars\n",
      "  NPV = TN / (TN + FN)\n",
      "/scratch/fosterp/Mimiciii_Sepsis_Label_Extraction/src/visualization/patientlevel_function.py:447: RuntimeWarning: invalid value encountered in long_scalars\n",
      "  PPV = TP / (TP + FP)\n",
      "/scratch/fosterp/Mimiciii_Sepsis_Label_Extraction/src/visualization/patientlevel_function.py:455: RuntimeWarning: invalid value encountered in long_scalars\n",
      "  FDR = FP / (TP + FP)\n"
     ]
    },
    {
     "name": "stdout",
     "output_type": "stream",
     "text": [
      "Directory  /scratch/fosterp/Mimiciii_Sepsis_Label_Extraction/outputs/predictions/blood_only/LGBM/train/  already exists\n",
      "24 12 12 t_sepsis_min\n",
      "Model fitting:\n",
      "0.850061804697157\n"
     ]
    },
    {
     "name": "stderr",
     "output_type": "stream",
     "text": [
      "/scratch/fosterp/Mimiciii_Sepsis_Label_Extraction/src/visualization/patientlevel_function.py:449: RuntimeWarning: invalid value encountered in long_scalars\n",
      "  NPV = TN / (TN + FN)\n",
      "/scratch/fosterp/Mimiciii_Sepsis_Label_Extraction/src/visualization/patientlevel_function.py:447: RuntimeWarning: invalid value encountered in long_scalars\n",
      "  PPV = TP / (TP + FP)\n",
      "/scratch/fosterp/Mimiciii_Sepsis_Label_Extraction/src/visualization/patientlevel_function.py:455: RuntimeWarning: invalid value encountered in long_scalars\n",
      "  FDR = FP / (TP + FP)\n"
     ]
    },
    {
     "name": "stdout",
     "output_type": "stream",
     "text": [
      "Directory  /scratch/fosterp/Mimiciii_Sepsis_Label_Extraction/outputs/predictions/blood_only/LGBM/train/  already exists\n",
      "24 12 8 t_sofa\n",
      "Model fitting:\n",
      "0.8500981637602495\n"
     ]
    },
    {
     "name": "stderr",
     "output_type": "stream",
     "text": [
      "/scratch/fosterp/Mimiciii_Sepsis_Label_Extraction/src/visualization/patientlevel_function.py:449: RuntimeWarning: invalid value encountered in long_scalars\n",
      "  NPV = TN / (TN + FN)\n",
      "/scratch/fosterp/Mimiciii_Sepsis_Label_Extraction/src/visualization/patientlevel_function.py:447: RuntimeWarning: invalid value encountered in long_scalars\n",
      "  PPV = TP / (TP + FP)\n",
      "/scratch/fosterp/Mimiciii_Sepsis_Label_Extraction/src/visualization/patientlevel_function.py:455: RuntimeWarning: invalid value encountered in long_scalars\n",
      "  FDR = FP / (TP + FP)\n"
     ]
    },
    {
     "name": "stdout",
     "output_type": "stream",
     "text": [
      "Directory  /scratch/fosterp/Mimiciii_Sepsis_Label_Extraction/outputs/predictions/blood_only/LGBM/train/  already exists\n",
      "24 12 8 t_suspicion\n",
      "Model fitting:\n",
      "0.8500638026371756\n"
     ]
    },
    {
     "name": "stderr",
     "output_type": "stream",
     "text": [
      "/scratch/fosterp/Mimiciii_Sepsis_Label_Extraction/src/visualization/patientlevel_function.py:449: RuntimeWarning: invalid value encountered in long_scalars\n",
      "  NPV = TN / (TN + FN)\n",
      "/scratch/fosterp/Mimiciii_Sepsis_Label_Extraction/src/visualization/patientlevel_function.py:447: RuntimeWarning: invalid value encountered in long_scalars\n",
      "  PPV = TP / (TP + FP)\n",
      "/scratch/fosterp/Mimiciii_Sepsis_Label_Extraction/src/visualization/patientlevel_function.py:455: RuntimeWarning: invalid value encountered in long_scalars\n",
      "  FDR = FP / (TP + FP)\n"
     ]
    },
    {
     "name": "stdout",
     "output_type": "stream",
     "text": [
      "Directory  /scratch/fosterp/Mimiciii_Sepsis_Label_Extraction/outputs/predictions/blood_only/LGBM/train/  already exists\n",
      "24 12 8 t_sepsis_min\n",
      "Model fitting:\n",
      "0.8500392156862745\n"
     ]
    },
    {
     "name": "stderr",
     "output_type": "stream",
     "text": [
      "/scratch/fosterp/Mimiciii_Sepsis_Label_Extraction/src/visualization/patientlevel_function.py:449: RuntimeWarning: invalid value encountered in long_scalars\n",
      "  NPV = TN / (TN + FN)\n",
      "/scratch/fosterp/Mimiciii_Sepsis_Label_Extraction/src/visualization/patientlevel_function.py:447: RuntimeWarning: invalid value encountered in long_scalars\n",
      "  PPV = TP / (TP + FP)\n",
      "/scratch/fosterp/Mimiciii_Sepsis_Label_Extraction/src/visualization/patientlevel_function.py:455: RuntimeWarning: invalid value encountered in long_scalars\n",
      "  FDR = FP / (TP + FP)\n"
     ]
    },
    {
     "name": "stdout",
     "output_type": "stream",
     "text": [
      "Directory  /scratch/fosterp/Mimiciii_Sepsis_Label_Extraction/outputs/predictions/blood_only/LGBM/train/  already exists\n",
      "24 12 6 t_sofa\n",
      "Model fitting:\n",
      "0.8500341763499658\n"
     ]
    },
    {
     "name": "stderr",
     "output_type": "stream",
     "text": [
      "/scratch/fosterp/Mimiciii_Sepsis_Label_Extraction/src/visualization/patientlevel_function.py:449: RuntimeWarning: invalid value encountered in long_scalars\n",
      "  NPV = TN / (TN + FN)\n",
      "/scratch/fosterp/Mimiciii_Sepsis_Label_Extraction/src/visualization/patientlevel_function.py:447: RuntimeWarning: invalid value encountered in long_scalars\n",
      "  PPV = TP / (TP + FP)\n",
      "/scratch/fosterp/Mimiciii_Sepsis_Label_Extraction/src/visualization/patientlevel_function.py:455: RuntimeWarning: invalid value encountered in long_scalars\n",
      "  FDR = FP / (TP + FP)\n"
     ]
    },
    {
     "name": "stdout",
     "output_type": "stream",
     "text": [
      "Directory  /scratch/fosterp/Mimiciii_Sepsis_Label_Extraction/outputs/predictions/blood_only/LGBM/train/  already exists\n",
      "24 12 6 t_suspicion\n",
      "Model fitting:\n",
      "0.850068422853233\n"
     ]
    },
    {
     "name": "stderr",
     "output_type": "stream",
     "text": [
      "/scratch/fosterp/Mimiciii_Sepsis_Label_Extraction/src/visualization/patientlevel_function.py:449: RuntimeWarning: invalid value encountered in long_scalars\n",
      "  NPV = TN / (TN + FN)\n",
      "/scratch/fosterp/Mimiciii_Sepsis_Label_Extraction/src/visualization/patientlevel_function.py:447: RuntimeWarning: invalid value encountered in long_scalars\n",
      "  PPV = TP / (TP + FP)\n",
      "/scratch/fosterp/Mimiciii_Sepsis_Label_Extraction/src/visualization/patientlevel_function.py:455: RuntimeWarning: invalid value encountered in long_scalars\n",
      "  FDR = FP / (TP + FP)\n"
     ]
    },
    {
     "name": "stdout",
     "output_type": "stream",
     "text": [
      "Directory  /scratch/fosterp/Mimiciii_Sepsis_Label_Extraction/outputs/predictions/blood_only/LGBM/train/  already exists\n",
      "24 12 6 t_sepsis_min\n",
      "Model fitting:\n",
      "0.8501118568232662\n"
     ]
    },
    {
     "name": "stderr",
     "output_type": "stream",
     "text": [
      "/scratch/fosterp/Mimiciii_Sepsis_Label_Extraction/src/visualization/patientlevel_function.py:449: RuntimeWarning: invalid value encountered in long_scalars\n",
      "  NPV = TN / (TN + FN)\n",
      "/scratch/fosterp/Mimiciii_Sepsis_Label_Extraction/src/visualization/patientlevel_function.py:447: RuntimeWarning: invalid value encountered in long_scalars\n",
      "  PPV = TP / (TP + FP)\n",
      "/scratch/fosterp/Mimiciii_Sepsis_Label_Extraction/src/visualization/patientlevel_function.py:455: RuntimeWarning: invalid value encountered in long_scalars\n",
      "  FDR = FP / (TP + FP)\n"
     ]
    },
    {
     "name": "stdout",
     "output_type": "stream",
     "text": [
      "Directory  /scratch/fosterp/Mimiciii_Sepsis_Label_Extraction/outputs/predictions/blood_only/LGBM/train/  already exists\n",
      "24 12 4 t_sofa\n",
      "Model fitting:\n",
      "0.8500448430493274\n"
     ]
    },
    {
     "name": "stderr",
     "output_type": "stream",
     "text": [
      "/scratch/fosterp/Mimiciii_Sepsis_Label_Extraction/src/visualization/patientlevel_function.py:449: RuntimeWarning: invalid value encountered in long_scalars\n",
      "  NPV = TN / (TN + FN)\n",
      "/scratch/fosterp/Mimiciii_Sepsis_Label_Extraction/src/visualization/patientlevel_function.py:447: RuntimeWarning: invalid value encountered in long_scalars\n",
      "  PPV = TP / (TP + FP)\n",
      "/scratch/fosterp/Mimiciii_Sepsis_Label_Extraction/src/visualization/patientlevel_function.py:455: RuntimeWarning: invalid value encountered in long_scalars\n",
      "  FDR = FP / (TP + FP)\n"
     ]
    },
    {
     "name": "stdout",
     "output_type": "stream",
     "text": [
      "Directory  /scratch/fosterp/Mimiciii_Sepsis_Label_Extraction/outputs/predictions/blood_only/LGBM/train/  already exists\n",
      "24 12 4 t_suspicion\n",
      "Model fitting:\n",
      "0.8500173591019557\n"
     ]
    },
    {
     "name": "stderr",
     "output_type": "stream",
     "text": [
      "/scratch/fosterp/Mimiciii_Sepsis_Label_Extraction/src/visualization/patientlevel_function.py:449: RuntimeWarning: invalid value encountered in long_scalars\n",
      "  NPV = TN / (TN + FN)\n",
      "/scratch/fosterp/Mimiciii_Sepsis_Label_Extraction/src/visualization/patientlevel_function.py:447: RuntimeWarning: invalid value encountered in long_scalars\n",
      "  PPV = TP / (TP + FP)\n",
      "/scratch/fosterp/Mimiciii_Sepsis_Label_Extraction/src/visualization/patientlevel_function.py:455: RuntimeWarning: invalid value encountered in long_scalars\n",
      "  FDR = FP / (TP + FP)\n"
     ]
    },
    {
     "name": "stdout",
     "output_type": "stream",
     "text": [
      "Directory  /scratch/fosterp/Mimiciii_Sepsis_Label_Extraction/outputs/predictions/blood_only/LGBM/train/  already exists\n",
      "24 12 4 t_sepsis_min\n",
      "Model fitting:\n",
      "0.8501228501228502\n"
     ]
    },
    {
     "name": "stderr",
     "output_type": "stream",
     "text": [
      "/scratch/fosterp/Mimiciii_Sepsis_Label_Extraction/src/visualization/patientlevel_function.py:449: RuntimeWarning: invalid value encountered in long_scalars\n",
      "  NPV = TN / (TN + FN)\n",
      "/scratch/fosterp/Mimiciii_Sepsis_Label_Extraction/src/visualization/patientlevel_function.py:447: RuntimeWarning: invalid value encountered in long_scalars\n",
      "  PPV = TP / (TP + FP)\n",
      "/scratch/fosterp/Mimiciii_Sepsis_Label_Extraction/src/visualization/patientlevel_function.py:455: RuntimeWarning: invalid value encountered in long_scalars\n",
      "  FDR = FP / (TP + FP)\n"
     ]
    },
    {
     "name": "stdout",
     "output_type": "stream",
     "text": [
      "Directory  /scratch/fosterp/Mimiciii_Sepsis_Label_Extraction/outputs/predictions/blood_only/LGBM/train/  already exists\n",
      "12 6 12 t_sofa\n",
      "Model fitting:\n",
      "0.85\n"
     ]
    },
    {
     "name": "stderr",
     "output_type": "stream",
     "text": [
      "/scratch/fosterp/Mimiciii_Sepsis_Label_Extraction/src/visualization/patientlevel_function.py:449: RuntimeWarning: invalid value encountered in long_scalars\n",
      "  NPV = TN / (TN + FN)\n",
      "/scratch/fosterp/Mimiciii_Sepsis_Label_Extraction/src/visualization/patientlevel_function.py:447: RuntimeWarning: invalid value encountered in long_scalars\n",
      "  PPV = TP / (TP + FP)\n",
      "/scratch/fosterp/Mimiciii_Sepsis_Label_Extraction/src/visualization/patientlevel_function.py:455: RuntimeWarning: invalid value encountered in long_scalars\n",
      "  FDR = FP / (TP + FP)\n"
     ]
    },
    {
     "name": "stdout",
     "output_type": "stream",
     "text": [
      "Directory  /scratch/fosterp/Mimiciii_Sepsis_Label_Extraction/outputs/predictions/blood_only/LGBM/train/  already exists\n",
      "12 6 12 t_suspicion\n",
      "Model fitting:\n",
      "0.8500339904826648\n"
     ]
    },
    {
     "name": "stderr",
     "output_type": "stream",
     "text": [
      "/scratch/fosterp/Mimiciii_Sepsis_Label_Extraction/src/visualization/patientlevel_function.py:449: RuntimeWarning: invalid value encountered in long_scalars\n",
      "  NPV = TN / (TN + FN)\n",
      "/scratch/fosterp/Mimiciii_Sepsis_Label_Extraction/src/visualization/patientlevel_function.py:447: RuntimeWarning: invalid value encountered in long_scalars\n",
      "  PPV = TP / (TP + FP)\n",
      "/scratch/fosterp/Mimiciii_Sepsis_Label_Extraction/src/visualization/patientlevel_function.py:455: RuntimeWarning: invalid value encountered in long_scalars\n",
      "  FDR = FP / (TP + FP)\n"
     ]
    },
    {
     "name": "stdout",
     "output_type": "stream",
     "text": [
      "Directory  /scratch/fosterp/Mimiciii_Sepsis_Label_Extraction/outputs/predictions/blood_only/LGBM/train/  already exists\n",
      "12 6 12 t_sepsis_min\n",
      "Model fitting:\n",
      "0.8500429500552215\n"
     ]
    },
    {
     "name": "stderr",
     "output_type": "stream",
     "text": [
      "/scratch/fosterp/Mimiciii_Sepsis_Label_Extraction/src/visualization/patientlevel_function.py:449: RuntimeWarning: invalid value encountered in long_scalars\n",
      "  NPV = TN / (TN + FN)\n",
      "/scratch/fosterp/Mimiciii_Sepsis_Label_Extraction/src/visualization/patientlevel_function.py:447: RuntimeWarning: invalid value encountered in long_scalars\n",
      "  PPV = TP / (TP + FP)\n",
      "/scratch/fosterp/Mimiciii_Sepsis_Label_Extraction/src/visualization/patientlevel_function.py:455: RuntimeWarning: invalid value encountered in long_scalars\n",
      "  FDR = FP / (TP + FP)\n"
     ]
    },
    {
     "name": "stdout",
     "output_type": "stream",
     "text": [
      "Directory  /scratch/fosterp/Mimiciii_Sepsis_Label_Extraction/outputs/predictions/blood_only/LGBM/train/  already exists\n",
      "12 6 8 t_sofa\n",
      "Model fitting:\n",
      "0.8500477554918816\n"
     ]
    },
    {
     "name": "stderr",
     "output_type": "stream",
     "text": [
      "/scratch/fosterp/Mimiciii_Sepsis_Label_Extraction/src/visualization/patientlevel_function.py:449: RuntimeWarning: invalid value encountered in long_scalars\n",
      "  NPV = TN / (TN + FN)\n",
      "/scratch/fosterp/Mimiciii_Sepsis_Label_Extraction/src/visualization/patientlevel_function.py:447: RuntimeWarning: invalid value encountered in long_scalars\n",
      "  PPV = TP / (TP + FP)\n",
      "/scratch/fosterp/Mimiciii_Sepsis_Label_Extraction/src/visualization/patientlevel_function.py:455: RuntimeWarning: invalid value encountered in long_scalars\n",
      "  FDR = FP / (TP + FP)\n"
     ]
    },
    {
     "name": "stdout",
     "output_type": "stream",
     "text": [
      "Directory  /scratch/fosterp/Mimiciii_Sepsis_Label_Extraction/outputs/predictions/blood_only/LGBM/train/  already exists\n",
      "12 6 8 t_suspicion\n",
      "Model fitting:\n",
      "0.8500123752165663\n"
     ]
    },
    {
     "name": "stderr",
     "output_type": "stream",
     "text": [
      "/scratch/fosterp/Mimiciii_Sepsis_Label_Extraction/src/visualization/patientlevel_function.py:449: RuntimeWarning: invalid value encountered in long_scalars\n",
      "  NPV = TN / (TN + FN)\n",
      "/scratch/fosterp/Mimiciii_Sepsis_Label_Extraction/src/visualization/patientlevel_function.py:447: RuntimeWarning: invalid value encountered in long_scalars\n",
      "  PPV = TP / (TP + FP)\n",
      "/scratch/fosterp/Mimiciii_Sepsis_Label_Extraction/src/visualization/patientlevel_function.py:455: RuntimeWarning: invalid value encountered in long_scalars\n",
      "  FDR = FP / (TP + FP)\n"
     ]
    },
    {
     "name": "stdout",
     "output_type": "stream",
     "text": [
      "Directory  /scratch/fosterp/Mimiciii_Sepsis_Label_Extraction/outputs/predictions/blood_only/LGBM/train/  already exists\n",
      "12 6 8 t_sepsis_min\n",
      "Model fitting:\n",
      "0.8500077555452148\n"
     ]
    },
    {
     "name": "stderr",
     "output_type": "stream",
     "text": [
      "/scratch/fosterp/Mimiciii_Sepsis_Label_Extraction/src/visualization/patientlevel_function.py:449: RuntimeWarning: invalid value encountered in long_scalars\n",
      "  NPV = TN / (TN + FN)\n",
      "/scratch/fosterp/Mimiciii_Sepsis_Label_Extraction/src/visualization/patientlevel_function.py:447: RuntimeWarning: invalid value encountered in long_scalars\n",
      "  PPV = TP / (TP + FP)\n",
      "/scratch/fosterp/Mimiciii_Sepsis_Label_Extraction/src/visualization/patientlevel_function.py:455: RuntimeWarning: invalid value encountered in long_scalars\n",
      "  FDR = FP / (TP + FP)\n"
     ]
    },
    {
     "name": "stdout",
     "output_type": "stream",
     "text": [
      "Directory  /scratch/fosterp/Mimiciii_Sepsis_Label_Extraction/outputs/predictions/blood_only/LGBM/train/  already exists\n",
      "12 6 6 t_sofa\n",
      "Model fitting:\n",
      "0.8500647668393783\n"
     ]
    },
    {
     "name": "stderr",
     "output_type": "stream",
     "text": [
      "/scratch/fosterp/Mimiciii_Sepsis_Label_Extraction/src/visualization/patientlevel_function.py:449: RuntimeWarning: invalid value encountered in long_scalars\n",
      "  NPV = TN / (TN + FN)\n",
      "/scratch/fosterp/Mimiciii_Sepsis_Label_Extraction/src/visualization/patientlevel_function.py:447: RuntimeWarning: invalid value encountered in long_scalars\n",
      "  PPV = TP / (TP + FP)\n",
      "/scratch/fosterp/Mimiciii_Sepsis_Label_Extraction/src/visualization/patientlevel_function.py:455: RuntimeWarning: invalid value encountered in long_scalars\n",
      "  FDR = FP / (TP + FP)\n"
     ]
    },
    {
     "name": "stdout",
     "output_type": "stream",
     "text": [
      "Directory  /scratch/fosterp/Mimiciii_Sepsis_Label_Extraction/outputs/predictions/blood_only/LGBM/train/  already exists\n",
      "12 6 6 t_suspicion\n",
      "Model fitting:\n",
      "0.8500246184145741\n"
     ]
    },
    {
     "name": "stderr",
     "output_type": "stream",
     "text": [
      "/scratch/fosterp/Mimiciii_Sepsis_Label_Extraction/src/visualization/patientlevel_function.py:449: RuntimeWarning: invalid value encountered in long_scalars\n",
      "  NPV = TN / (TN + FN)\n",
      "/scratch/fosterp/Mimiciii_Sepsis_Label_Extraction/src/visualization/patientlevel_function.py:447: RuntimeWarning: invalid value encountered in long_scalars\n",
      "  PPV = TP / (TP + FP)\n",
      "/scratch/fosterp/Mimiciii_Sepsis_Label_Extraction/src/visualization/patientlevel_function.py:455: RuntimeWarning: invalid value encountered in long_scalars\n",
      "  FDR = FP / (TP + FP)\n"
     ]
    },
    {
     "name": "stdout",
     "output_type": "stream",
     "text": [
      "Directory  /scratch/fosterp/Mimiciii_Sepsis_Label_Extraction/outputs/predictions/blood_only/LGBM/train/  already exists\n",
      "12 6 6 t_sepsis_min\n",
      "Model fitting:\n",
      "0.8500092131932928\n"
     ]
    },
    {
     "name": "stderr",
     "output_type": "stream",
     "text": [
      "/scratch/fosterp/Mimiciii_Sepsis_Label_Extraction/src/visualization/patientlevel_function.py:449: RuntimeWarning: invalid value encountered in long_scalars\n",
      "  NPV = TN / (TN + FN)\n",
      "/scratch/fosterp/Mimiciii_Sepsis_Label_Extraction/src/visualization/patientlevel_function.py:447: RuntimeWarning: invalid value encountered in long_scalars\n",
      "  PPV = TP / (TP + FP)\n",
      "/scratch/fosterp/Mimiciii_Sepsis_Label_Extraction/src/visualization/patientlevel_function.py:455: RuntimeWarning: invalid value encountered in long_scalars\n",
      "  FDR = FP / (TP + FP)\n"
     ]
    },
    {
     "name": "stdout",
     "output_type": "stream",
     "text": [
      "Directory  /scratch/fosterp/Mimiciii_Sepsis_Label_Extraction/outputs/predictions/blood_only/LGBM/train/  already exists\n",
      "12 6 4 t_sofa\n",
      "Model fitting:\n",
      "0.85\n"
     ]
    },
    {
     "name": "stderr",
     "output_type": "stream",
     "text": [
      "/scratch/fosterp/Mimiciii_Sepsis_Label_Extraction/src/visualization/patientlevel_function.py:449: RuntimeWarning: invalid value encountered in long_scalars\n",
      "  NPV = TN / (TN + FN)\n",
      "/scratch/fosterp/Mimiciii_Sepsis_Label_Extraction/src/visualization/patientlevel_function.py:447: RuntimeWarning: invalid value encountered in long_scalars\n",
      "  PPV = TP / (TP + FP)\n",
      "/scratch/fosterp/Mimiciii_Sepsis_Label_Extraction/src/visualization/patientlevel_function.py:455: RuntimeWarning: invalid value encountered in long_scalars\n",
      "  FDR = FP / (TP + FP)\n"
     ]
    },
    {
     "name": "stdout",
     "output_type": "stream",
     "text": [
      "Directory  /scratch/fosterp/Mimiciii_Sepsis_Label_Extraction/outputs/predictions/blood_only/LGBM/train/  already exists\n",
      "12 6 4 t_suspicion\n",
      "Model fitting:\n",
      "0.8500860813137333\n"
     ]
    },
    {
     "name": "stderr",
     "output_type": "stream",
     "text": [
      "/scratch/fosterp/Mimiciii_Sepsis_Label_Extraction/src/visualization/patientlevel_function.py:449: RuntimeWarning: invalid value encountered in long_scalars\n",
      "  NPV = TN / (TN + FN)\n",
      "/scratch/fosterp/Mimiciii_Sepsis_Label_Extraction/src/visualization/patientlevel_function.py:447: RuntimeWarning: invalid value encountered in long_scalars\n",
      "  PPV = TP / (TP + FP)\n",
      "/scratch/fosterp/Mimiciii_Sepsis_Label_Extraction/src/visualization/patientlevel_function.py:455: RuntimeWarning: invalid value encountered in long_scalars\n",
      "  FDR = FP / (TP + FP)\n"
     ]
    },
    {
     "name": "stdout",
     "output_type": "stream",
     "text": [
      "Directory  /scratch/fosterp/Mimiciii_Sepsis_Label_Extraction/outputs/predictions/blood_only/LGBM/train/  already exists\n",
      "12 6 4 t_sepsis_min\n",
      "Model fitting:\n",
      "0.8501216545012166\n",
      "Directory  /scratch/fosterp/Mimiciii_Sepsis_Label_Extraction/outputs/predictions/blood_only/LGBM/train/  already exists\n"
     ]
    },
    {
     "name": "stderr",
     "output_type": "stream",
     "text": [
      "/scratch/fosterp/Mimiciii_Sepsis_Label_Extraction/src/visualization/patientlevel_function.py:449: RuntimeWarning: invalid value encountered in long_scalars\n",
      "  NPV = TN / (TN + FN)\n",
      "/scratch/fosterp/Mimiciii_Sepsis_Label_Extraction/src/visualization/patientlevel_function.py:447: RuntimeWarning: invalid value encountered in long_scalars\n",
      "  PPV = TP / (TP + FP)\n",
      "/scratch/fosterp/Mimiciii_Sepsis_Label_Extraction/src/visualization/patientlevel_function.py:455: RuntimeWarning: invalid value encountered in long_scalars\n",
      "  FDR = FP / (TP + FP)\n"
     ]
    }
   ],
   "source": [
    "train_LGBM.train_LGBM(\n",
    "    constants.T_list,\n",
    "    constants.xy_pairs[1:3],\n",
    "    constants.FEATURES,\n",
    "    constants.exclusion_rules[0],\n",
    ")"
   ]
  },
  {
   "cell_type": "markdown",
   "metadata": {},
   "source": [
    "## Evaluate Model\n",
    "For each prediction task and for each combination of SOFA window size, sepsis onset time definition and prediction horizon, we evaluate the model's performance using receiver operating characteristic area under the curve (ROCAUC). For illustrative purposes, we compute in-sample performance."
   ]
  },
  {
   "cell_type": "code",
   "execution_count": 17,
   "metadata": {
    "scrolled": true
   },
   "outputs": [
    {
     "name": "stdout",
     "output_type": "stream",
     "text": [
      "Directory  /scratch/fosterp/Mimiciii_Sepsis_Label_Extraction/models/blood_only/LGBM/  already exists\n",
      "Directory  /scratch/fosterp/Mimiciii_Sepsis_Label_Extraction/outputs/predictions/blood_only/LGBM/  already exists\n",
      "Directory  /scratch/fosterp/Mimiciii_Sepsis_Label_Extraction/outputs/results/blood_only/LGBM/  already exists\n",
      "/scratch/fosterp/Mimiciii_Sepsis_Label_Extraction/data/processed/blood_only/train/\n",
      "24 12 12 t_sofa\n",
      "Trained model from dic: /scratch/fosterp/Mimiciii_Sepsis_Label_Extraction/models/blood_only/LGBM/24_12_12_sofa.pkl\n",
      "Model fitting:\n",
      "auc,sepcificity,sensitivity 0.8499751988750701 0.6650657200199538 0.85006993006993\n",
      "accuracy 0.670646740980139\n",
      "Directory  /scratch/fosterp/Mimiciii_Sepsis_Label_Extraction/outputs/predictions/blood_only/LGBM/train  already exists\n"
     ]
    },
    {
     "name": "stderr",
     "output_type": "stream",
     "text": [
      "/scratch/fosterp/Mimiciii_Sepsis_Label_Extraction/src/visualization/patientlevel_function.py:449: RuntimeWarning: invalid value encountered in long_scalars\n",
      "  NPV = TN / (TN + FN)\n",
      "/scratch/fosterp/Mimiciii_Sepsis_Label_Extraction/src/visualization/patientlevel_function.py:447: RuntimeWarning: invalid value encountered in long_scalars\n",
      "  PPV = TP / (TP + FP)\n",
      "/scratch/fosterp/Mimiciii_Sepsis_Label_Extraction/src/visualization/patientlevel_function.py:455: RuntimeWarning: invalid value encountered in long_scalars\n",
      "  FDR = FP / (TP + FP)\n"
     ]
    },
    {
     "name": "stdout",
     "output_type": "stream",
     "text": [
      "24 12 12 t_suspicion\n",
      "Trained model from dic: /scratch/fosterp/Mimiciii_Sepsis_Label_Extraction/models/blood_only/LGBM/24_12_12_suspicion.pkl\n",
      "Model fitting:\n",
      "auc,sepcificity,sensitivity 0.9287377052563499 0.8390555662328498 0.8500454752160073\n",
      "accuracy 0.8395835096927114\n",
      "Directory  /scratch/fosterp/Mimiciii_Sepsis_Label_Extraction/outputs/predictions/blood_only/LGBM/train  already exists\n"
     ]
    },
    {
     "name": "stderr",
     "output_type": "stream",
     "text": [
      "/scratch/fosterp/Mimiciii_Sepsis_Label_Extraction/src/visualization/patientlevel_function.py:449: RuntimeWarning: invalid value encountered in long_scalars\n",
      "  NPV = TN / (TN + FN)\n",
      "/scratch/fosterp/Mimiciii_Sepsis_Label_Extraction/src/visualization/patientlevel_function.py:447: RuntimeWarning: invalid value encountered in long_scalars\n",
      "  PPV = TP / (TP + FP)\n",
      "/scratch/fosterp/Mimiciii_Sepsis_Label_Extraction/src/visualization/patientlevel_function.py:455: RuntimeWarning: invalid value encountered in long_scalars\n",
      "  FDR = FP / (TP + FP)\n"
     ]
    },
    {
     "name": "stdout",
     "output_type": "stream",
     "text": [
      "24 12 12 t_sepsis_min\n",
      "Trained model from dic: /scratch/fosterp/Mimiciii_Sepsis_Label_Extraction/models/blood_only/LGBM/24_12_12_sepsis_min.pkl\n",
      "Model fitting:\n",
      "auc,sepcificity,sensitivity 0.9352466618858162 0.8597139344333768 0.850061804697157\n",
      "accuracy 0.8594921862797718\n",
      "Directory  /scratch/fosterp/Mimiciii_Sepsis_Label_Extraction/outputs/predictions/blood_only/LGBM/train  already exists\n"
     ]
    },
    {
     "name": "stderr",
     "output_type": "stream",
     "text": [
      "/scratch/fosterp/Mimiciii_Sepsis_Label_Extraction/src/visualization/patientlevel_function.py:449: RuntimeWarning: invalid value encountered in long_scalars\n",
      "  NPV = TN / (TN + FN)\n",
      "/scratch/fosterp/Mimiciii_Sepsis_Label_Extraction/src/visualization/patientlevel_function.py:447: RuntimeWarning: invalid value encountered in long_scalars\n",
      "  PPV = TP / (TP + FP)\n",
      "/scratch/fosterp/Mimiciii_Sepsis_Label_Extraction/src/visualization/patientlevel_function.py:455: RuntimeWarning: invalid value encountered in long_scalars\n",
      "  FDR = FP / (TP + FP)\n"
     ]
    },
    {
     "name": "stdout",
     "output_type": "stream",
     "text": [
      "24 12 8 t_sofa\n",
      "Trained model from dic: /scratch/fosterp/Mimiciii_Sepsis_Label_Extraction/models/blood_only/LGBM/24_12_8_sofa.pkl\n",
      "Model fitting:\n",
      "auc,sepcificity,sensitivity 0.8584451093732611 0.676162277793474 0.8500981637602495\n",
      "accuracy 0.6803986262414878\n",
      "Directory  /scratch/fosterp/Mimiciii_Sepsis_Label_Extraction/outputs/predictions/blood_only/LGBM/train  already exists\n"
     ]
    },
    {
     "name": "stderr",
     "output_type": "stream",
     "text": [
      "/scratch/fosterp/Mimiciii_Sepsis_Label_Extraction/src/visualization/patientlevel_function.py:449: RuntimeWarning: invalid value encountered in long_scalars\n",
      "  NPV = TN / (TN + FN)\n",
      "/scratch/fosterp/Mimiciii_Sepsis_Label_Extraction/src/visualization/patientlevel_function.py:447: RuntimeWarning: invalid value encountered in long_scalars\n",
      "  PPV = TP / (TP + FP)\n",
      "/scratch/fosterp/Mimiciii_Sepsis_Label_Extraction/src/visualization/patientlevel_function.py:455: RuntimeWarning: invalid value encountered in long_scalars\n",
      "  FDR = FP / (TP + FP)\n"
     ]
    },
    {
     "name": "stdout",
     "output_type": "stream",
     "text": [
      "24 12 8 t_suspicion\n",
      "Trained model from dic: /scratch/fosterp/Mimiciii_Sepsis_Label_Extraction/models/blood_only/LGBM/24_12_8_suspicion.pkl\n",
      "Model fitting:\n",
      "auc,sepcificity,sensitivity 0.924721731866855 0.8336878757842299 0.8500638026371756\n",
      "accuracy 0.834318670245738\n",
      "Directory  /scratch/fosterp/Mimiciii_Sepsis_Label_Extraction/outputs/predictions/blood_only/LGBM/train  already exists\n"
     ]
    },
    {
     "name": "stderr",
     "output_type": "stream",
     "text": [
      "/scratch/fosterp/Mimiciii_Sepsis_Label_Extraction/src/visualization/patientlevel_function.py:449: RuntimeWarning: invalid value encountered in long_scalars\n",
      "  NPV = TN / (TN + FN)\n",
      "/scratch/fosterp/Mimiciii_Sepsis_Label_Extraction/src/visualization/patientlevel_function.py:447: RuntimeWarning: invalid value encountered in long_scalars\n",
      "  PPV = TP / (TP + FP)\n",
      "/scratch/fosterp/Mimiciii_Sepsis_Label_Extraction/src/visualization/patientlevel_function.py:455: RuntimeWarning: invalid value encountered in long_scalars\n",
      "  FDR = FP / (TP + FP)\n"
     ]
    },
    {
     "name": "stdout",
     "output_type": "stream",
     "text": [
      "24 12 8 t_sepsis_min\n",
      "Trained model from dic: /scratch/fosterp/Mimiciii_Sepsis_Label_Extraction/models/blood_only/LGBM/24_12_8_sepsis_min.pkl\n",
      "Model fitting:\n",
      "auc,sepcificity,sensitivity 0.9057155207407203 0.7854159797779976 0.8500392156862745\n",
      "accuracy 0.7865859026458453\n",
      "Directory  /scratch/fosterp/Mimiciii_Sepsis_Label_Extraction/outputs/predictions/blood_only/LGBM/train  already exists\n"
     ]
    },
    {
     "name": "stderr",
     "output_type": "stream",
     "text": [
      "/scratch/fosterp/Mimiciii_Sepsis_Label_Extraction/src/visualization/patientlevel_function.py:449: RuntimeWarning: invalid value encountered in long_scalars\n",
      "  NPV = TN / (TN + FN)\n",
      "/scratch/fosterp/Mimiciii_Sepsis_Label_Extraction/src/visualization/patientlevel_function.py:447: RuntimeWarning: invalid value encountered in long_scalars\n",
      "  PPV = TP / (TP + FP)\n",
      "/scratch/fosterp/Mimiciii_Sepsis_Label_Extraction/src/visualization/patientlevel_function.py:455: RuntimeWarning: invalid value encountered in long_scalars\n",
      "  FDR = FP / (TP + FP)\n"
     ]
    },
    {
     "name": "stdout",
     "output_type": "stream",
     "text": [
      "24 12 6 t_sofa\n",
      "Trained model from dic: /scratch/fosterp/Mimiciii_Sepsis_Label_Extraction/models/blood_only/LGBM/24_12_6_sofa.pkl\n",
      "Model fitting:\n",
      "auc,sepcificity,sensitivity 0.8636103857393612 0.6867256738827017 0.8500341763499658\n",
      "accuracy 0.6900858177154092\n",
      "Directory  /scratch/fosterp/Mimiciii_Sepsis_Label_Extraction/outputs/predictions/blood_only/LGBM/train  already exists\n"
     ]
    },
    {
     "name": "stderr",
     "output_type": "stream",
     "text": [
      "/scratch/fosterp/Mimiciii_Sepsis_Label_Extraction/src/visualization/patientlevel_function.py:449: RuntimeWarning: invalid value encountered in long_scalars\n",
      "  NPV = TN / (TN + FN)\n",
      "/scratch/fosterp/Mimiciii_Sepsis_Label_Extraction/src/visualization/patientlevel_function.py:447: RuntimeWarning: invalid value encountered in long_scalars\n",
      "  PPV = TP / (TP + FP)\n",
      "/scratch/fosterp/Mimiciii_Sepsis_Label_Extraction/src/visualization/patientlevel_function.py:455: RuntimeWarning: invalid value encountered in long_scalars\n",
      "  FDR = FP / (TP + FP)\n"
     ]
    },
    {
     "name": "stdout",
     "output_type": "stream",
     "text": [
      "24 12 6 t_suspicion\n",
      "Trained model from dic: /scratch/fosterp/Mimiciii_Sepsis_Label_Extraction/models/blood_only/LGBM/24_12_6_suspicion.pkl\n",
      "Model fitting:\n",
      "auc,sepcificity,sensitivity 0.9191861942719703 0.8260195029209249 0.850068422853233\n",
      "accuracy 0.826787328339746\n",
      "Directory  /scratch/fosterp/Mimiciii_Sepsis_Label_Extraction/outputs/predictions/blood_only/LGBM/train  already exists\n"
     ]
    },
    {
     "name": "stderr",
     "output_type": "stream",
     "text": [
      "/scratch/fosterp/Mimiciii_Sepsis_Label_Extraction/src/visualization/patientlevel_function.py:449: RuntimeWarning: invalid value encountered in long_scalars\n",
      "  NPV = TN / (TN + FN)\n",
      "/scratch/fosterp/Mimiciii_Sepsis_Label_Extraction/src/visualization/patientlevel_function.py:447: RuntimeWarning: invalid value encountered in long_scalars\n",
      "  PPV = TP / (TP + FP)\n",
      "/scratch/fosterp/Mimiciii_Sepsis_Label_Extraction/src/visualization/patientlevel_function.py:455: RuntimeWarning: invalid value encountered in long_scalars\n",
      "  FDR = FP / (TP + FP)\n"
     ]
    },
    {
     "name": "stdout",
     "output_type": "stream",
     "text": [
      "24 12 6 t_sepsis_min\n",
      "Trained model from dic: /scratch/fosterp/Mimiciii_Sepsis_Label_Extraction/models/blood_only/LGBM/24_12_6_sepsis_min.pkl\n",
      "Model fitting:\n",
      "auc,sepcificity,sensitivity 0.8964516835314279 0.76007070908058 0.8501118568232662\n",
      "accuracy 0.7614422795673275\n",
      "Directory  /scratch/fosterp/Mimiciii_Sepsis_Label_Extraction/outputs/predictions/blood_only/LGBM/train  already exists\n"
     ]
    },
    {
     "name": "stderr",
     "output_type": "stream",
     "text": [
      "/scratch/fosterp/Mimiciii_Sepsis_Label_Extraction/src/visualization/patientlevel_function.py:449: RuntimeWarning: invalid value encountered in long_scalars\n",
      "  NPV = TN / (TN + FN)\n",
      "/scratch/fosterp/Mimiciii_Sepsis_Label_Extraction/src/visualization/patientlevel_function.py:447: RuntimeWarning: invalid value encountered in long_scalars\n",
      "  PPV = TP / (TP + FP)\n",
      "/scratch/fosterp/Mimiciii_Sepsis_Label_Extraction/src/visualization/patientlevel_function.py:455: RuntimeWarning: invalid value encountered in long_scalars\n",
      "  FDR = FP / (TP + FP)\n"
     ]
    },
    {
     "name": "stdout",
     "output_type": "stream",
     "text": [
      "24 12 4 t_sofa\n",
      "Trained model from dic: /scratch/fosterp/Mimiciii_Sepsis_Label_Extraction/models/blood_only/LGBM/24_12_4_sofa.pkl\n",
      "Model fitting:\n",
      "auc,sepcificity,sensitivity 0.86608994100025 0.6896721208415013 0.8500448430493274\n",
      "accuracy 0.6921869594201187\n",
      "Directory  /scratch/fosterp/Mimiciii_Sepsis_Label_Extraction/outputs/predictions/blood_only/LGBM/train  already exists\n"
     ]
    },
    {
     "name": "stderr",
     "output_type": "stream",
     "text": [
      "/scratch/fosterp/Mimiciii_Sepsis_Label_Extraction/src/visualization/patientlevel_function.py:449: RuntimeWarning: invalid value encountered in long_scalars\n",
      "  NPV = TN / (TN + FN)\n",
      "/scratch/fosterp/Mimiciii_Sepsis_Label_Extraction/src/visualization/patientlevel_function.py:447: RuntimeWarning: invalid value encountered in long_scalars\n",
      "  PPV = TP / (TP + FP)\n",
      "/scratch/fosterp/Mimiciii_Sepsis_Label_Extraction/src/visualization/patientlevel_function.py:455: RuntimeWarning: invalid value encountered in long_scalars\n",
      "  FDR = FP / (TP + FP)\n"
     ]
    },
    {
     "name": "stdout",
     "output_type": "stream",
     "text": [
      "24 12 4 t_suspicion\n",
      "Trained model from dic: /scratch/fosterp/Mimiciii_Sepsis_Label_Extraction/models/blood_only/LGBM/24_12_4_suspicion.pkl\n",
      "Model fitting:\n",
      "auc,sepcificity,sensitivity 0.9043130758156993 0.7883779596265822 0.8500173591019557\n",
      "accuracy 0.7898324153543254\n",
      "Directory  /scratch/fosterp/Mimiciii_Sepsis_Label_Extraction/outputs/predictions/blood_only/LGBM/train  already exists\n"
     ]
    },
    {
     "name": "stderr",
     "output_type": "stream",
     "text": [
      "/scratch/fosterp/Mimiciii_Sepsis_Label_Extraction/src/visualization/patientlevel_function.py:449: RuntimeWarning: invalid value encountered in long_scalars\n",
      "  NPV = TN / (TN + FN)\n",
      "/scratch/fosterp/Mimiciii_Sepsis_Label_Extraction/src/visualization/patientlevel_function.py:447: RuntimeWarning: invalid value encountered in long_scalars\n",
      "  PPV = TP / (TP + FP)\n",
      "/scratch/fosterp/Mimiciii_Sepsis_Label_Extraction/src/visualization/patientlevel_function.py:455: RuntimeWarning: invalid value encountered in long_scalars\n",
      "  FDR = FP / (TP + FP)\n"
     ]
    },
    {
     "name": "stdout",
     "output_type": "stream",
     "text": [
      "24 12 4 t_sepsis_min\n",
      "Trained model from dic: /scratch/fosterp/Mimiciii_Sepsis_Label_Extraction/models/blood_only/LGBM/24_12_4_sepsis_min.pkl\n",
      "Model fitting:\n",
      "auc,sepcificity,sensitivity 0.88379120984424 0.7316694774281963 0.8501228501228502\n",
      "accuracy 0.733038561696158\n",
      "Directory  /scratch/fosterp/Mimiciii_Sepsis_Label_Extraction/outputs/predictions/blood_only/LGBM/train  already exists\n"
     ]
    },
    {
     "name": "stderr",
     "output_type": "stream",
     "text": [
      "/scratch/fosterp/Mimiciii_Sepsis_Label_Extraction/src/visualization/patientlevel_function.py:449: RuntimeWarning: invalid value encountered in long_scalars\n",
      "  NPV = TN / (TN + FN)\n",
      "/scratch/fosterp/Mimiciii_Sepsis_Label_Extraction/src/visualization/patientlevel_function.py:447: RuntimeWarning: invalid value encountered in long_scalars\n",
      "  PPV = TP / (TP + FP)\n",
      "/scratch/fosterp/Mimiciii_Sepsis_Label_Extraction/src/visualization/patientlevel_function.py:455: RuntimeWarning: invalid value encountered in long_scalars\n",
      "  FDR = FP / (TP + FP)\n"
     ]
    },
    {
     "name": "stdout",
     "output_type": "stream",
     "text": [
      "12 6 12 t_sofa\n",
      "Trained model from dic: /scratch/fosterp/Mimiciii_Sepsis_Label_Extraction/models/blood_only/LGBM/12_6_12_sofa.pkl\n",
      "Model fitting:\n",
      "auc,sepcificity,sensitivity 0.858482382387737 0.6836980651756677 0.85\n",
      "accuracy 0.6874292740517212\n",
      "Directory  /scratch/fosterp/Mimiciii_Sepsis_Label_Extraction/outputs/predictions/blood_only/LGBM/train  already exists\n"
     ]
    },
    {
     "name": "stderr",
     "output_type": "stream",
     "text": [
      "/scratch/fosterp/Mimiciii_Sepsis_Label_Extraction/src/visualization/patientlevel_function.py:449: RuntimeWarning: invalid value encountered in long_scalars\n",
      "  NPV = TN / (TN + FN)\n",
      "/scratch/fosterp/Mimiciii_Sepsis_Label_Extraction/src/visualization/patientlevel_function.py:447: RuntimeWarning: invalid value encountered in long_scalars\n",
      "  PPV = TP / (TP + FP)\n",
      "/scratch/fosterp/Mimiciii_Sepsis_Label_Extraction/src/visualization/patientlevel_function.py:455: RuntimeWarning: invalid value encountered in long_scalars\n",
      "  FDR = FP / (TP + FP)\n"
     ]
    },
    {
     "name": "stdout",
     "output_type": "stream",
     "text": [
      "12 6 12 t_suspicion\n",
      "Trained model from dic: /scratch/fosterp/Mimiciii_Sepsis_Label_Extraction/models/blood_only/LGBM/12_6_12_suspicion.pkl\n",
      "Model fitting:\n",
      "auc,sepcificity,sensitivity 0.9377764562523236 0.8670945003157582 0.8500339904826648\n",
      "accuracy 0.8664902620307079\n",
      "Directory  /scratch/fosterp/Mimiciii_Sepsis_Label_Extraction/outputs/predictions/blood_only/LGBM/train  already exists\n"
     ]
    },
    {
     "name": "stderr",
     "output_type": "stream",
     "text": [
      "/scratch/fosterp/Mimiciii_Sepsis_Label_Extraction/src/visualization/patientlevel_function.py:449: RuntimeWarning: invalid value encountered in long_scalars\n",
      "  NPV = TN / (TN + FN)\n",
      "/scratch/fosterp/Mimiciii_Sepsis_Label_Extraction/src/visualization/patientlevel_function.py:447: RuntimeWarning: invalid value encountered in long_scalars\n",
      "  PPV = TP / (TP + FP)\n",
      "/scratch/fosterp/Mimiciii_Sepsis_Label_Extraction/src/visualization/patientlevel_function.py:455: RuntimeWarning: invalid value encountered in long_scalars\n",
      "  FDR = FP / (TP + FP)\n"
     ]
    },
    {
     "name": "stdout",
     "output_type": "stream",
     "text": [
      "12 6 12 t_sepsis_min\n",
      "Trained model from dic: /scratch/fosterp/Mimiciii_Sepsis_Label_Extraction/models/blood_only/LGBM/12_6_12_sepsis_min.pkl\n",
      "Model fitting:\n",
      "auc,sepcificity,sensitivity 0.9363530464873034 0.8571141998139423 0.8500429500552215\n",
      "accuracy 0.8569726010566409\n",
      "Directory  /scratch/fosterp/Mimiciii_Sepsis_Label_Extraction/outputs/predictions/blood_only/LGBM/train  already exists\n"
     ]
    },
    {
     "name": "stderr",
     "output_type": "stream",
     "text": [
      "/scratch/fosterp/Mimiciii_Sepsis_Label_Extraction/src/visualization/patientlevel_function.py:449: RuntimeWarning: invalid value encountered in long_scalars\n",
      "  NPV = TN / (TN + FN)\n",
      "/scratch/fosterp/Mimiciii_Sepsis_Label_Extraction/src/visualization/patientlevel_function.py:447: RuntimeWarning: invalid value encountered in long_scalars\n",
      "  PPV = TP / (TP + FP)\n",
      "/scratch/fosterp/Mimiciii_Sepsis_Label_Extraction/src/visualization/patientlevel_function.py:455: RuntimeWarning: invalid value encountered in long_scalars\n",
      "  FDR = FP / (TP + FP)\n"
     ]
    },
    {
     "name": "stdout",
     "output_type": "stream",
     "text": [
      "12 6 8 t_sofa\n",
      "Trained model from dic: /scratch/fosterp/Mimiciii_Sepsis_Label_Extraction/models/blood_only/LGBM/12_6_8_sofa.pkl\n",
      "Model fitting:\n",
      "auc,sepcificity,sensitivity 0.8671818273812029 0.6990150572284424 0.8500477554918816\n",
      "accuracy 0.7017263254838757\n",
      "Directory  /scratch/fosterp/Mimiciii_Sepsis_Label_Extraction/outputs/predictions/blood_only/LGBM/train  already exists\n"
     ]
    },
    {
     "name": "stderr",
     "output_type": "stream",
     "text": [
      "/scratch/fosterp/Mimiciii_Sepsis_Label_Extraction/src/visualization/patientlevel_function.py:449: RuntimeWarning: invalid value encountered in long_scalars\n",
      "  NPV = TN / (TN + FN)\n",
      "/scratch/fosterp/Mimiciii_Sepsis_Label_Extraction/src/visualization/patientlevel_function.py:447: RuntimeWarning: invalid value encountered in long_scalars\n",
      "  PPV = TP / (TP + FP)\n",
      "/scratch/fosterp/Mimiciii_Sepsis_Label_Extraction/src/visualization/patientlevel_function.py:455: RuntimeWarning: invalid value encountered in long_scalars\n",
      "  FDR = FP / (TP + FP)\n"
     ]
    },
    {
     "name": "stdout",
     "output_type": "stream",
     "text": [
      "12 6 8 t_suspicion\n",
      "Trained model from dic: /scratch/fosterp/Mimiciii_Sepsis_Label_Extraction/models/blood_only/LGBM/12_6_8_suspicion.pkl\n",
      "Model fitting:\n",
      "auc,sepcificity,sensitivity 0.9363195990204106 0.8654950745513527 0.8500123752165663\n",
      "accuracy 0.865043230371774\n",
      "Directory  /scratch/fosterp/Mimiciii_Sepsis_Label_Extraction/outputs/predictions/blood_only/LGBM/train  already exists\n"
     ]
    },
    {
     "name": "stderr",
     "output_type": "stream",
     "text": [
      "/scratch/fosterp/Mimiciii_Sepsis_Label_Extraction/src/visualization/patientlevel_function.py:449: RuntimeWarning: invalid value encountered in long_scalars\n",
      "  NPV = TN / (TN + FN)\n",
      "/scratch/fosterp/Mimiciii_Sepsis_Label_Extraction/src/visualization/patientlevel_function.py:447: RuntimeWarning: invalid value encountered in long_scalars\n",
      "  PPV = TP / (TP + FP)\n",
      "/scratch/fosterp/Mimiciii_Sepsis_Label_Extraction/src/visualization/patientlevel_function.py:455: RuntimeWarning: invalid value encountered in long_scalars\n",
      "  FDR = FP / (TP + FP)\n"
     ]
    },
    {
     "name": "stdout",
     "output_type": "stream",
     "text": [
      "12 6 8 t_sepsis_min\n",
      "Trained model from dic: /scratch/fosterp/Mimiciii_Sepsis_Label_Extraction/models/blood_only/LGBM/12_6_8_sepsis_min.pkl\n",
      "Model fitting:\n",
      "auc,sepcificity,sensitivity 0.9281940984649989 0.8371647653076256 0.8500077555452148\n",
      "accuracy 0.8373682270549208\n",
      "Directory  /scratch/fosterp/Mimiciii_Sepsis_Label_Extraction/outputs/predictions/blood_only/LGBM/train  already exists\n"
     ]
    },
    {
     "name": "stderr",
     "output_type": "stream",
     "text": [
      "/scratch/fosterp/Mimiciii_Sepsis_Label_Extraction/src/visualization/patientlevel_function.py:449: RuntimeWarning: invalid value encountered in long_scalars\n",
      "  NPV = TN / (TN + FN)\n",
      "/scratch/fosterp/Mimiciii_Sepsis_Label_Extraction/src/visualization/patientlevel_function.py:447: RuntimeWarning: invalid value encountered in long_scalars\n",
      "  PPV = TP / (TP + FP)\n",
      "/scratch/fosterp/Mimiciii_Sepsis_Label_Extraction/src/visualization/patientlevel_function.py:455: RuntimeWarning: invalid value encountered in long_scalars\n",
      "  FDR = FP / (TP + FP)\n"
     ]
    },
    {
     "name": "stdout",
     "output_type": "stream",
     "text": [
      "12 6 6 t_sepsis_min\n",
      "Trained model from dic: /scratch/fosterp/Mimiciii_Sepsis_Label_Extraction/models/blood_only/LGBM/12_6_6_sepsis_min.pkl\n",
      "Model fitting:\n",
      "auc,sepcificity,sensitivity 0.9117952880312027 0.7942907380150078 0.8500092131932928\n",
      "accuracy 0.7950337879346357\n",
      "Directory  /scratch/fosterp/Mimiciii_Sepsis_Label_Extraction/outputs/predictions/blood_only/LGBM/train  already exists\n"
     ]
    },
    {
     "name": "stderr",
     "output_type": "stream",
     "text": [
      "/scratch/fosterp/Mimiciii_Sepsis_Label_Extraction/src/visualization/patientlevel_function.py:449: RuntimeWarning: invalid value encountered in long_scalars\n",
      "  NPV = TN / (TN + FN)\n",
      "/scratch/fosterp/Mimiciii_Sepsis_Label_Extraction/src/visualization/patientlevel_function.py:447: RuntimeWarning: invalid value encountered in long_scalars\n",
      "  PPV = TP / (TP + FP)\n",
      "/scratch/fosterp/Mimiciii_Sepsis_Label_Extraction/src/visualization/patientlevel_function.py:455: RuntimeWarning: invalid value encountered in long_scalars\n",
      "  FDR = FP / (TP + FP)\n"
     ]
    },
    {
     "name": "stdout",
     "output_type": "stream",
     "text": [
      "12 6 4 t_sofa\n",
      "Trained model from dic: /scratch/fosterp/Mimiciii_Sepsis_Label_Extraction/models/blood_only/LGBM/12_6_4_sofa.pkl\n",
      "Model fitting:\n",
      "auc,sepcificity,sensitivity 0.8785864093415711 0.7215374932476968 0.85\n",
      "accuracy 0.7230163667804813\n",
      "Directory  /scratch/fosterp/Mimiciii_Sepsis_Label_Extraction/outputs/predictions/blood_only/LGBM/train  already exists\n"
     ]
    },
    {
     "name": "stderr",
     "output_type": "stream",
     "text": [
      "/scratch/fosterp/Mimiciii_Sepsis_Label_Extraction/src/visualization/patientlevel_function.py:449: RuntimeWarning: invalid value encountered in long_scalars\n",
      "  NPV = TN / (TN + FN)\n",
      "/scratch/fosterp/Mimiciii_Sepsis_Label_Extraction/src/visualization/patientlevel_function.py:447: RuntimeWarning: invalid value encountered in long_scalars\n",
      "  PPV = TP / (TP + FP)\n",
      "/scratch/fosterp/Mimiciii_Sepsis_Label_Extraction/src/visualization/patientlevel_function.py:455: RuntimeWarning: invalid value encountered in long_scalars\n",
      "  FDR = FP / (TP + FP)\n"
     ]
    },
    {
     "name": "stdout",
     "output_type": "stream",
     "text": [
      "12 6 4 t_suspicion\n",
      "Trained model from dic: /scratch/fosterp/Mimiciii_Sepsis_Label_Extraction/models/blood_only/LGBM/12_6_4_suspicion.pkl\n",
      "Model fitting:\n",
      "auc,sepcificity,sensitivity 0.9197993299918358 0.8300317326414604 0.8500860813137333\n",
      "accuracy 0.8303963325813263\n",
      "Directory  /scratch/fosterp/Mimiciii_Sepsis_Label_Extraction/outputs/predictions/blood_only/LGBM/train  already exists\n"
     ]
    },
    {
     "name": "stderr",
     "output_type": "stream",
     "text": [
      "/scratch/fosterp/Mimiciii_Sepsis_Label_Extraction/src/visualization/patientlevel_function.py:449: RuntimeWarning: invalid value encountered in long_scalars\n",
      "  NPV = TN / (TN + FN)\n",
      "/scratch/fosterp/Mimiciii_Sepsis_Label_Extraction/src/visualization/patientlevel_function.py:447: RuntimeWarning: invalid value encountered in long_scalars\n",
      "  PPV = TP / (TP + FP)\n",
      "/scratch/fosterp/Mimiciii_Sepsis_Label_Extraction/src/visualization/patientlevel_function.py:455: RuntimeWarning: invalid value encountered in long_scalars\n",
      "  FDR = FP / (TP + FP)\n"
     ]
    },
    {
     "name": "stdout",
     "output_type": "stream",
     "text": [
      "12 6 4 t_sepsis_min\n",
      "Trained model from dic: /scratch/fosterp/Mimiciii_Sepsis_Label_Extraction/models/blood_only/LGBM/12_6_4_sepsis_min.pkl\n",
      "Model fitting:\n",
      "auc,sepcificity,sensitivity 0.8876975490441225 0.7276263528944494 0.8501216545012166\n",
      "accuracy 0.7288634967440718\n",
      "Directory  /scratch/fosterp/Mimiciii_Sepsis_Label_Extraction/outputs/predictions/blood_only/LGBM/train  already exists\n"
     ]
    },
    {
     "name": "stderr",
     "output_type": "stream",
     "text": [
      "/scratch/fosterp/Mimiciii_Sepsis_Label_Extraction/src/visualization/patientlevel_function.py:449: RuntimeWarning: invalid value encountered in long_scalars\n",
      "  NPV = TN / (TN + FN)\n",
      "/scratch/fosterp/Mimiciii_Sepsis_Label_Extraction/src/visualization/patientlevel_function.py:447: RuntimeWarning: invalid value encountered in long_scalars\n",
      "  PPV = TP / (TP + FP)\n",
      "/scratch/fosterp/Mimiciii_Sepsis_Label_Extraction/src/visualization/patientlevel_function.py:455: RuntimeWarning: invalid value encountered in long_scalars\n",
      "  FDR = FP / (TP + FP)\n"
     ]
    }
   ],
   "source": [
    "eval_lgbm.eval_LGBM(\n",
    "    constants.T_list,\n",
    "    constants.xy_pairs[1:3],\n",
    "    constants.FEATURES,\n",
    "    constants.exclusion_rules[0],\n",
    "    train_test=\"train\",\n",
    "    fake_test=False,\n",
    ")"
   ]
  },
  {
   "cell_type": "code",
   "execution_count": 18,
   "metadata": {},
   "outputs": [],
   "source": [
    "result_df = pd.read_csv(\n",
    "    str(\n",
    "        Path(\n",
    "            MIMIC_ANALYSIS_PATH,\n",
    "            \"outputs/predictions/blood_only/LGBM/train/train_results.csv\",\n",
    "        ).resolve()\n",
    "    )\n",
    ")\n",
    "\n",
    "results_patient_level_df = pd.read_csv(\n",
    "    str(\n",
    "        Path(\n",
    "            MIMIC_ANALYSIS_PATH,\n",
    "            \"outputs/results/blood_only/LGBM/train_patient_level_results.csv\",\n",
    "        ).resolve()\n",
    "    )\n",
    ")"
   ]
  },
  {
   "cell_type": "markdown",
   "metadata": {},
   "source": [
    "## Plot Results\n",
    "Plot results across combinations of SOFA window size, sepsis onset time definition and prediction horizon, for the real-time and patient-level prediction tasks:"
   ]
  },
  {
   "cell_type": "code",
   "execution_count": 19,
   "metadata": {},
   "outputs": [
    {
     "data": {
      "image/png": "[encoded data removed]",
      "text/plain": [
       "<Figure size 792x1008 with 6 Axes>"
      ]
     },
     "metadata": {
      "needs_background": "light"
     },
     "output_type": "display_data"
    }
   ],
   "source": [
    "def plot_results(\n",
    "    dfs=(result_df, results_patient_level_df),\n",
    "    titles=(\"Real-time prediction model\", \"Patient level model\"),\n",
    "    auc_range=(0.75, 0.95),\n",
    "    figsize=(11, 14),\n",
    "):\n",
    "    n_definitions = len(result_df[\"definition\"].unique())\n",
    "    n_dfs = len(dfs)\n",
    "\n",
    "    fig, axs = plt.subplots(n_definitions, n_dfs, figsize=figsize)\n",
    "\n",
    "    def plot_df(df, axs):\n",
    "        for (group_name, df), ax in zip(df.groupby(\"definition\"), axs):\n",
    "            df.set_index(\"T\", inplace=True)\n",
    "            df.groupby(\"x,y\")[\"auc\"].plot(ax=ax, legend=True)\n",
    "\n",
    "            ax.set_ylim(auc_range)\n",
    "            ax.set_ylabel(\"AUC\")\n",
    "            ax.set_title(group_name)\n",
    "            for text in ax.legend().get_texts():\n",
    "                text.set_text(\"x,y: {}\".format(text.get_text()))\n",
    "\n",
    "    for df, axs, title in zip(dfs, axs.T, titles):\n",
    "        axs[0].annotate(\n",
    "            title,\n",
    "            xy=(0.5, 1.12),\n",
    "            xytext=(0, 0),\n",
    "            xycoords=\"axes fraction\",\n",
    "            textcoords=\"offset points\",\n",
    "            size=15,\n",
    "            ha=\"center\",\n",
    "            va=\"baseline\",\n",
    "        )\n",
    "        plot_df(df, axs)\n",
    "\n",
    "    fig.tight_layout()\n",
    "    fig.subplots_adjust(left=0.15, top=0.95)\n",
    "    plt.show()\n",
    "\n",
    "\n",
    "plot_results()"
   ]
  }
 ],
 "metadata": {
  "hide_input": false,
  "kernelspec": {
   "display_name": "Python 3 (ipykernel)",
   "language": "python",
   "name": "python3"
  },
  "language_info": {
   "codemirror_mode": {
    "name": "ipython",
    "version": 3
   },
   "file_extension": ".py",
   "mimetype": "text/x-python",
   "name": "python",
   "nbconvert_exporter": "python",
   "pygments_lexer": "ipython3",
   "version": "3.11.3"
  }
 },
 "nbformat": 4,
 "nbformat_minor": 4
}
