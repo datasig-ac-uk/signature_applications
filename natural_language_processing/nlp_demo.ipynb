{
 "cells": [
  {
   "cell_type": "code",
   "execution_count": 1,
   "metadata": {},
   "outputs": [],
   "source": [
    "from collections import Counter, defaultdict\n",
    "import os\n",
    "from pathlib import Path\n",
    "import pickle\n",
    "import random\n",
    "import string\n",
    "\n",
    "import iisignature\n",
    "import matplotlib.pyplot as plt\n",
    "import matplotlib\n",
    "import numpy as np\n",
    "import numpy.ma as ma\n",
    "import pandas as pd\n",
    "\n",
    "import scipy\n",
    "from sklearn import covariance, ensemble, metrics, random_projection, model_selection, neighbors, neural_network\n",
    "import sklearn.cluster\n",
    "\n",
    "import torch\n",
    "from tqdm import tqdm\n",
    "from transformers import RobertaTokenizer, RobertaModel\n",
    "import umap\n",
    "import zarr\n",
    "\n",
    "plt.rcParams['figure.dpi'] = 200"
   ]
  },
  {
   "cell_type": "markdown",
   "metadata": {},
   "source": [
    "# Path Signatures for Natural Language Processing"
   ]
  },
  {
   "cell_type": "markdown",
   "metadata": {},
   "source": [
    "Written text is an example of a high-dimensional data stream. Highly successful and popular machine learning approaches involving such forms of natural language are neural network architectures called transformers. In this notebook, we showcase how to harness the capabilities of path signatures and transformers. Specifically, we consider the challenge of determining whether a text was written by an author that we have not yet encountered in a corpus of unlabelled texts.\n",
    "\n",
    "At a conceptual level, the approach demonstrated in this notebook uses the following pipeline for processing a stream of text:\n",
    "* Read in the stream of text corresponding to a literary work\n",
    "* Tokenize the text into a stream of integers and split into chunks each consisting of 512 tokens (tokens may correspond to words, but also punctuation marks, word stems (e.g. *analys*-) and affixes (e.g. *re*-, -*ing*, *-ed*)). **Length: 512 observations; dimensionality: approx. 30,000**\n",
    "* Use a pre-trained language model (BERT) to obtain embeddings of token streams. **Length: 512 observations; dimensionality: 1024**\n",
    "* Use UMAP (VAEs) to further reduce dimensionality of stream embeddings. **Length: approx. 256 observations; dimensionality: 4**\n",
    "* Compute path signature. **Dimensionality: 340 (level 4 signature)**\n",
    "\n",
    "We operate on chunks of text, with each chunk consisting of 512 tokens and thus corresponding approximately to one paragraph of written text. At training time, we train an anomaly detection model on path signatures as our feature vectors, thus each path signature corresponds to one chunk of text.\n",
    "\n",
    "Notably, we demonstrate a scoring technique which produces a single anomaly score for the set of multiple chunks that we obtain for a single literary work of interest. This technique relies on comparing the two empirical score distributions that we obtain using the literary work of interest and a subset of training data. By using multiple chunks in this this way, we increase the statistical power of our approach, compared to simply scoring a single chunk of text."
   ]
  },
  {
   "cell_type": "markdown",
   "metadata": {},
   "source": [
    "## Read in Dataset"
   ]
  },
  {
   "cell_type": "markdown",
   "metadata": {},
   "source": [
    "This notebook uses the Standardised Project Gutenberg Corpus (Gerlach and Font-Clos, 2018). To run this notebook, it is necessary that you download a snapshot of the dataset by checking out and running the data extraction code available at https://github.com/pgcorpus/gutenberg. Follow the instructions provided in the Standardised Project Gutenberg Corpus README, making sure to run both *python get_data.py* and *python process_data.py*.\n",
    "\n",
    "Once you have successfully downloaded the dataset, make sure that the value of the following variable **DATASET_PATH** is set to the correct path containing the dataset (it needs to be the path leading up to the directories *metadata* and *data*):"
   ]
  },
  {
   "cell_type": "code",
   "execution_count": 2,
   "metadata": {},
   "outputs": [],
   "source": [
    "# Set this variable to the path containing the dataset\n",
    "DATASET_PATH = '/scratch/fosterp/gutenberg/gutenberg/'"
   ]
  },
  {
   "cell_type": "markdown",
   "metadata": {},
   "source": [
    "Read in table of metadata from CSV file and display final rows in the table:"
   ]
  },
  {
   "cell_type": "code",
   "execution_count": null,
   "metadata": {},
   "outputs": [],
   "source": [
    "df = pd.read_csv(Path(DATASET_PATH, 'metadata', 'metadata.csv'))\n",
    "df.set_index('id', inplace=True, drop=False)\n",
    "df.tail()"
   ]
  },
  {
   "cell_type": "markdown",
   "metadata": {},
   "source": [
    "Each row in the table corresponds to one literary work (e.g. a novel). We consider only works for which the *author* field is defined:"
   ]
  },
  {
   "cell_type": "code",
   "execution_count": null,
   "metadata": {},
   "outputs": [],
   "source": [
    "df = df[df['author'].notnull()]"
   ]
  },
  {
   "cell_type": "code",
   "execution_count": null,
   "metadata": {},
   "outputs": [],
   "source": [
    "len(df)"
   ]
  },
  {
   "cell_type": "markdown",
   "metadata": {},
   "source": [
    "Load the (pre-trained) transformer and determine if CUDA is available, so that we may benefit from using a GPU:"
   ]
  },
  {
   "cell_type": "code",
   "execution_count": null,
   "metadata": {},
   "outputs": [],
   "source": [
    "DEVICE = 'cuda' if torch.cuda.is_available() else 'cpu'\n",
    "\n",
    "tokenizer = RobertaTokenizer.from_pretrained('roberta-large')\n",
    "model = RobertaModel.from_pretrained('roberta-large').to(DEVICE)"
   ]
  },
  {
   "cell_type": "code",
   "execution_count": null,
   "metadata": {},
   "outputs": [],
   "source": [
    "N_CHUNKS = 10\n",
    "CHUNK_SIZE = 512\n",
    "BERT_DIMENSIONALITY = 1024"
   ]
  },
  {
   "cell_type": "markdown",
   "metadata": {},
   "source": [
    "For each work in the dataset, compute stream embeddings. We obtain stream embeddings as follows:\n",
    "* Read in the stream of text\n",
    "* Tokenize the text into a stream of integers\n",
    "* Extract 10 non-overlapping chunks located at the middle of the token stream, with each chunk consisting of 512 tokens\n",
    "* For each of the chunks, compute a stream embedding. The stream embedding is 1024-dimensional and consists of 512 observations."
   ]
  },
  {
   "cell_type": "markdown",
   "metadata": {},
   "source": [
    "## Compute Stream Embeddings"
   ]
  },
  {
   "cell_type": "code",
   "execution_count": null,
   "metadata": {},
   "outputs": [],
   "source": [
    "def compute_embeddings(input_file_path,\n",
    "                       chunk_size=CHUNK_SIZE, max_chunks=N_CHUNKS):\n",
    "    with open(input_file_path, 'r') as f:\n",
    "        # Replace newlines with spaces\n",
    "        text = [line.replace('\\n', ' ') for line in f.readlines()]\n",
    "        # Concatenate all elements into one string\n",
    "        text = ''.join(text)\n",
    "        # Munge repeated spaces into one\n",
    "        text = ' '.join(text.split())\n",
    "        \n",
    "        encoded_input = tokenizer(text, return_tensors='pt').to(DEVICE)\n",
    "        length = len(encoded_input['input_ids'][0])\n",
    "        \n",
    "        if max_chunks is not None:\n",
    "            strt_idx = length // 2 - (chunk_size // 2) * max_chunks\n",
    "            end_idx = length // 2 + (chunk_size // 2) * max_chunks\n",
    "            encoded_input = {k: (v[0][strt_idx:end_idx]).reshape(1, len(v[0][strt_idx:end_idx]))\n",
    "                             for k, v in encoded_input.items()}\n",
    "        \n",
    "        embeddings = []\n",
    "        all_encoded_input = []\n",
    "        while length > 0:\n",
    "            if length > chunk_size:\n",
    "                next_inputs = {k: (v[0][chunk_size:]).reshape(1, len(v[0][chunk_size:]))\n",
    "                               for k, v in encoded_input.items()}\n",
    "                encoded_input = {k: (v[0][:chunk_size]).reshape(1, len(v[0][:chunk_size]))\n",
    "                                 for k, v in encoded_input.items()}\n",
    "            else:\n",
    "                next_inputs = None\n",
    "\n",
    "            all_encoded_input.append(encoded_input['input_ids'].detach().cpu().numpy()[0])\n",
    "            embeddings.append(model(**encoded_input).last_hidden_state.detach().cpu().numpy()[0])\n",
    "            \n",
    "            if next_inputs:\n",
    "                encoded_input = next_inputs\n",
    "            else:\n",
    "                break\n",
    "                                \n",
    "            length = len(encoded_input['input_ids'][0])\n",
    "            \n",
    "        for data in embeddings, all_encoded_input:\n",
    "            assert(all([len(d) == chunk_size for d in data]))\n",
    "            assert(len(data) == max_chunks)\n",
    "\n",
    "        embeddings = np.array(embeddings)\n",
    "        all_encoded_input = np.array(all_encoded_input)\n",
    "            \n",
    "        return embeddings, all_encoded_input"
   ]
  },
  {
   "cell_type": "code",
   "execution_count": null,
   "metadata": {},
   "outputs": [],
   "source": [
    "# Uncomment the following line to delete all stream embeddings.\n",
    "#!rm -r {DATASET_PATH}/data/embeddings"
   ]
  },
  {
   "cell_type": "markdown",
   "metadata": {},
   "source": [
    "Obtain stream embeddings for all works in the dataset:"
   ]
  },
  {
   "cell_type": "code",
   "execution_count": null,
   "metadata": {},
   "outputs": [],
   "source": [
    "def compute_all_embeddings(input_dir=Path(DATASET_PATH, 'data/text'),\n",
    "                           output_dir=Path(DATASET_PATH, 'data/embeddings')):\n",
    "    if os.path.exists(output_dir):\n",
    "        return\n",
    "    \n",
    "    input_files = [f for f in os.listdir(input_dir) if '.txt' in f]\n",
    "    random.shuffle(input_files)\n",
    "    \n",
    "    em, enc = compute_embeddings(Path(input_dir, input_files[0]))\n",
    "    \n",
    "    embeddings = zarr.open(Path(output_dir, 'embeddings'), mode='w',\n",
    "                           shape=(len(input_files),) + em.shape,\n",
    "                           chunks=(1, None, None, None), dtype=em.dtype)\n",
    "    encoded_input = zarr.open(Path(output_dir, 'encoded_input'), mode='w',\n",
    "                              shape=(len(input_files),) + enc.shape,\n",
    "                              chunks=(1, None, None), dtype=enc.dtype)\n",
    "    \n",
    "    successful_embeddings = {}\n",
    "    for n, input_file in enumerate(tqdm(input_files, smoothing=0.001)):\n",
    "        try:\n",
    "            embeddings[n], encoded_input[n] = compute_embeddings(Path(input_dir, input_file))\n",
    "            \n",
    "            successful_embeddings[input_file.replace('_text.txt', '')] = n\n",
    "        except ValueError as e:\n",
    "            print('Error while computing embeddings for {} {}'.format(input_file, e))\n",
    "        except AssertionError:\n",
    "            pass\n",
    "            \n",
    "    successful_embeddings = pd.Series(successful_embeddings)\n",
    "    successful_embeddings.to_csv(Path(output_dir, 'successful_embeddings.csv'))"
   ]
  },
  {
   "cell_type": "code",
   "execution_count": null,
   "metadata": {},
   "outputs": [],
   "source": [
    "compute_all_embeddings()"
   ]
  },
  {
   "cell_type": "markdown",
   "metadata": {},
   "source": [
    "## Partition Dataset"
   ]
  },
  {
   "cell_type": "markdown",
   "metadata": {},
   "source": [
    "Consider only English-language works:"
   ]
  },
  {
   "cell_type": "code",
   "execution_count": null,
   "metadata": {},
   "outputs": [],
   "source": [
    "df = df[df['language'] == \"['en']\"]"
   ]
  },
  {
   "cell_type": "markdown",
   "metadata": {},
   "source": [
    "Consider only works for which we have successfully computed stream embeddings:"
   ]
  },
  {
   "cell_type": "code",
   "execution_count": null,
   "metadata": {},
   "outputs": [],
   "source": [
    "successful_embeddings = pd.read_csv(Path(DATASET_PATH, 'data/embeddings/successful_embeddings.csv'),\n",
    "                                    index_col=0, header=0, names=['embedding_index'])\n",
    "\n",
    "df = df.merge(successful_embeddings, left_index=True, right_index=True)"
   ]
  },
  {
   "cell_type": "markdown",
   "metadata": {},
   "source": [
    "Count the number of works for each author and display the most prolific authors:"
   ]
  },
  {
   "cell_type": "code",
   "execution_count": null,
   "metadata": {
    "scrolled": true
   },
   "outputs": [],
   "source": [
    "df.groupby('author').apply(len).sort_values()"
   ]
  },
  {
   "cell_type": "markdown",
   "metadata": {},
   "source": [
    "Next, we partition the dataset. We consider an anomaly detection task where we are interested in determining if a given text fragment was written by any of the authors associated with text fragments in a training corpus, or if it was written by a hitherto unseen author.\n",
    "\n",
    "To this end, we designate works written by the 19th century Scottish novelist Margaret Oliphant as 'anomalous'. We use all remaining works for the 'normal' training corpus and 'normal' testing subset, where we require that there are at least 9 works by each author in the training corpus, for all authors in the 'normal' testing subset. (That is, there may be authors in the training corpus which are represented with fewer than 9 works. However, such authors do not appear in the 'normal' testing subset.)"
   ]
  },
  {
   "cell_type": "code",
   "execution_count": null,
   "metadata": {},
   "outputs": [],
   "source": [
    "np.random.seed(4)\n",
    "df_impostor = df[df['author'] == 'Oliphant, Mrs. (Margaret)']\n",
    "\n",
    "df_normal = df[df['author'] != 'Oliphant, Mrs. (Margaret)']\n",
    "df_normal_authors = df_normal.groupby('author').apply(lambda g: len(g) >= 10)\n",
    "df_normal_authors = df_normal_authors[df_normal_authors]\n",
    "df_normal_with_multiple_per_author = df_normal[df_normal['author'].apply(lambda author: author in set(df_normal_authors.index))]\n",
    "df_normal_eval = df_normal_with_multiple_per_author.groupby('author').sample(n=1, random_state=8)\n",
    "df_normal_train = df_normal[df_normal['id'].apply(lambda book_id: book_id not in set(df_normal_eval['id']))]"
   ]
  },
  {
   "cell_type": "markdown",
   "metadata": {},
   "source": [
    "## Reduce Dimensionality of Stream Embeddings"
   ]
  },
  {
   "cell_type": "markdown",
   "metadata": {},
   "source": [
    "Implement a class for representing our data. Notably, we implement functionality for taking stream embeddings and deleting all those observations contained in the stream embeddings which do not correspond to frequently occurring tokens. In addition, we implement functionality for reducing the dimensionality of stream embeddings:"
   ]
  },
  {
   "cell_type": "code",
   "execution_count": null,
   "metadata": {},
   "outputs": [],
   "source": [
    "class Dataset:\n",
    "    EMBEDDINGS = zarr.open(Path(DATASET_PATH, 'data/embeddings/embeddings'), mode='r')\n",
    "    ENCODED_INPUT = zarr.open(Path(DATASET_PATH, 'data/embeddings/encoded_input'), mode='r')\n",
    "    \n",
    "    def __init__(self, df_normal_train, df_normal_eval, df_impostor, description, n_most_frequent_tokens=None):\n",
    "        self.df_normal_train = df_normal_train\n",
    "        self.df_normal_eval = df_normal_eval\n",
    "        self.df_impostor = df_impostor\n",
    "        self.description = description\n",
    "        \n",
    "        self.token_ids_normal_train = Dataset._load_tokens_from_storage(df_normal_train)\n",
    "        self.token_ids_normal_eval = Dataset._load_tokens_from_storage(df_normal_eval)\n",
    "        self.token_ids_impostor = Dataset._load_tokens_from_storage(df_impostor)\n",
    "        \n",
    "        if n_most_frequent_tokens:\n",
    "            self.token_frequencies_normal_train = \\\n",
    "                pd.Series(Counter(np.ravel(self.token_ids_normal_train)))\n",
    "            self.token_frequencies_normal_train.sort_values(ascending=False, inplace=True)\n",
    "            self.token_frequencies_normal_train = \\\n",
    "                (self.token_frequencies_normal_train / self.token_frequencies_normal_train.sum()).cumsum()\n",
    "\n",
    "            self.top_n_tokens_normal_train = list(self.token_frequencies_normal_train[:n_most_frequent_tokens].index)\n",
    "\n",
    "            self.token_ids_normal_train = \\\n",
    "            Dataset._mask_tokens(self.token_ids_normal_train, self.top_n_tokens_normal_train)\n",
    "            self.token_ids_normal_eval = \\\n",
    "                Dataset._mask_tokens(self.token_ids_normal_eval, self.top_n_tokens_normal_train)\n",
    "            self.token_ids_impostor = \\\n",
    "                Dataset._mask_tokens(self.token_ids_impostor, self.top_n_tokens_normal_train)\n",
    "\n",
    "    def _load_tokens_from_storage(df):\n",
    "        return Dataset.ENCODED_INPUT.get_orthogonal_selection(df['embedding_index'])\n",
    "    \n",
    "    def _mask_tokens(token_ids, valid_token_set):\n",
    "        mask = ~np.isin(token_ids, np.array(valid_token_set))\n",
    "        token_ids = ma.masked_array(token_ids, mask)\n",
    "            \n",
    "        return token_ids\n",
    "    \n",
    "    def _project_embeddings(df, all_token_ids, projection_function):\n",
    "        projected_embeddings = []\n",
    "        for embedding_index, token_ids in  tqdm(zip(df['embedding_index'], all_token_ids),\n",
    "                                                total=len(all_token_ids)):\n",
    "            embeddings = Dataset.EMBEDDINGS.get_orthogonal_selection(embedding_index)\n",
    "            \n",
    "            embeddings = [em[~tok.mask] for em, tok in zip(embeddings, token_ids)]\n",
    "            \n",
    "            projected_embeddings.append([projection_function(em) for em in embeddings])\n",
    "            \n",
    "        return projected_embeddings\n",
    "    \n",
    "    def compute_mean(self):\n",
    "        local_means = []\n",
    "        num_samples = []\n",
    "        for embedding_index, token_ids in tqdm(zip(self.df_normal_train['embedding_index'],\n",
    "                                                   self.token_ids_normal_train),\n",
    "                                               total=len(self.token_ids_normal_train)):\n",
    "            embeddings = list(Dataset.EMBEDDINGS.get_orthogonal_selection(embedding_index))\n",
    "            embeddings = [em[~tok.mask] for em, tok in zip(embeddings, token_ids)]\n",
    "            \n",
    "            local_means.append(np.array([np.mean(em, axis=0) for em in embeddings]))\n",
    "            num_samples.append(np.array([sum(~tok.mask) for tok in token_ids]))\n",
    "            \n",
    "        local_means = np.array(local_means)\n",
    "        local_means = local_means.reshape(-1, local_means.shape[-1])\n",
    "        num_samples = np.ravel(num_samples).astype(float)\n",
    "        num_samples /= np.sum(num_samples)\n",
    "            \n",
    "        return np.nansum(local_means * np.atleast_2d(num_samples).T, axis=0)\n",
    "    \n",
    "    def project_embeddings(self, projection_function=None):        \n",
    "        self.embeddings_projected_normal_train = Dataset._project_embeddings(self.df_normal_train,\n",
    "                                                                             self.token_ids_normal_train,\n",
    "                                                                             projection_function)\n",
    "        self.embeddings_projected_normal_eval = Dataset._project_embeddings(self.df_normal_eval,\n",
    "                                                                            self.token_ids_normal_eval,\n",
    "                                                                            projection_function)\n",
    "        self.embeddings_projected_impostor = Dataset._project_embeddings(self.df_impostor,\n",
    "                                                                         self.token_ids_impostor,\n",
    "                                                                         projection_function)"
   ]
  },
  {
   "cell_type": "markdown",
   "metadata": {},
   "source": [
    "For each method that we seek to evaluate, instantiate a dataset object.\n",
    "\n",
    "We will contrast two methods for reducing the dimensionality of stream embeddings:\n",
    "* UMAP-based dimensionality reduction\n",
    "* Random projections\n",
    "\n",
    "Prior to projecting stream embeddings, we delete all those observations contained in the stream embeddings which do not correspond to the $K$ most frequent tokens in the training corpus, where we consider $K \\in {100, 250}$. Thus, we have instantiate four dataset objects:"
   ]
  },
  {
   "cell_type": "code",
   "execution_count": null,
   "metadata": {},
   "outputs": [],
   "source": [
    "dataset0 = Dataset(df_normal_train, df_normal_eval, df_impostor,\n",
    "                   'Apply UMAP to stream embeddings only considering 250 most frequent tokens, '\n",
    "                   'then map all token embeddings only for those same tokens', n_most_frequent_tokens=250)"
   ]
  },
  {
   "cell_type": "code",
   "execution_count": null,
   "metadata": {},
   "outputs": [],
   "source": [
    "dataset1 = Dataset(df_normal_train, df_normal_eval, df_impostor,\n",
    "                   'Apply UMAP to stream embeddings only considering 100 most frequent tokens, '\n",
    "                   'then map all token embeddings only for those same tokens', n_most_frequent_tokens=100)"
   ]
  },
  {
   "cell_type": "code",
   "execution_count": null,
   "metadata": {},
   "outputs": [],
   "source": [
    "dataset2 = Dataset(df_normal_train, df_normal_eval, df_impostor,\n",
    "                   'Randomly project stream embeddings only considering 100 most frequent tokens, '\n",
    "                   'then map all token embeddings only for those same tokens', n_most_frequent_tokens=100)"
   ]
  },
  {
   "cell_type": "code",
   "execution_count": null,
   "metadata": {},
   "outputs": [],
   "source": [
    "dataset3 = Dataset(df_normal_train, df_normal_eval, df_impostor,\n",
    "                   'Randomly project stream embeddings only considering 250 most frequent tokens, '\n",
    "                   'then map all token embeddings only for those same tokens', n_most_frequent_tokens=250)"
   ]
  },
  {
   "cell_type": "code",
   "execution_count": null,
   "metadata": {},
   "outputs": [],
   "source": [
    "dataset0.projection_mean_offset = dataset0.compute_mean()\n",
    "dataset1.projection_mean_offset = dataset1.compute_mean()\n",
    "\n",
    "dataset2.projection_mean_offset = dataset1.projection_mean_offset\n",
    "dataset3.projection_mean_offset = dataset0.projection_mean_offset"
   ]
  },
  {
   "cell_type": "markdown",
   "metadata": {},
   "source": [
    "Based on the training corpus, the 250 most frequent tokens account for approx. 57.6% of all observations:"
   ]
  },
  {
   "cell_type": "code",
   "execution_count": null,
   "metadata": {},
   "outputs": [],
   "source": [
    "max(dataset0.token_frequencies_normal_train[:250].values)"
   ]
  },
  {
   "cell_type": "markdown",
   "metadata": {},
   "source": [
    "Plot the cumulative distributions of tokens in the training corpus:"
   ]
  },
  {
   "cell_type": "code",
   "execution_count": null,
   "metadata": {},
   "outputs": [],
   "source": [
    "plt.plot(dataset0.token_frequencies_normal_train[:250].values)"
   ]
  },
  {
   "cell_type": "markdown",
   "metadata": {},
   "source": [
    "Print out the corresponding token values:"
   ]
  },
  {
   "cell_type": "code",
   "execution_count": null,
   "metadata": {
    "scrolled": true
   },
   "outputs": [],
   "source": [
    "print([tokenizer.decode(t) for t in dataset0.top_n_tokens_normal_train])"
   ]
  },
  {
   "cell_type": "code",
   "execution_count": null,
   "metadata": {},
   "outputs": [],
   "source": [
    "print([tokenizer.decode(t) for t in dataset1.top_n_tokens_normal_train])"
   ]
  },
  {
   "cell_type": "markdown",
   "metadata": {},
   "source": [
    "To reduce the dimensionality of stream embeddings, we initially apply UMAP to a subset of the 1024-dimensional feature vectors that comprise the stream embeddings in the training corpus (where we weight samples based on token frequencies).\n",
    "\n",
    "Since it is relatively computationally expensive to apply UMAP to unseen feature vectors, we train a feed-forward network as a function approximator; as the target function we use the aforementioned data before and after applying UMAP.\n",
    "\n",
    "To help assess the fidelity of the described dimensionality reduction, we use K-nearest neighbour classification to predict the token classes of unseen data."
   ]
  },
  {
   "cell_type": "markdown",
   "metadata": {},
   "source": [
    "### Apply UMAP"
   ]
  },
  {
   "cell_type": "code",
   "execution_count": null,
   "metadata": {},
   "outputs": [],
   "source": [
    "def train(dataset):\n",
    "    DOWNSAMPLE_FACTOR = 10\n",
    "    token_ids = dataset.token_ids_normal_train\n",
    "    embedding_index = dataset.df_normal_train['embedding_index']\n",
    "    \n",
    "    np.random.seed(4)\n",
    "    \n",
    "    freqs = Counter(np.ravel(token_ids.compressed()))\n",
    "    inverse_freqs = {k:1/v for k,v in freqs.items()}\n",
    "    \n",
    "    compute_weights = np.vectorize(lambda token_id: inverse_freqs[token_id]\n",
    "                                   if token_id in inverse_freqs.keys() else 0)\n",
    "    weights = compute_weights(token_ids)\n",
    "    \n",
    "    # Split into train and validation sets\n",
    "    # NB: This ensures that we separate at the level of text fragments! (It thus might avoid information leakage)\n",
    "    embedding_index_train, embedding_index_validate, weights_train, weights_validate, token_ids_train, token_ids_validate = model_selection.train_test_split(embedding_index, weights, token_ids, train_size=1000, test_size=1000)\n",
    "    \n",
    "    # Use only the first chunk for training\n",
    "    data_train = Dataset.EMBEDDINGS.get_orthogonal_selection((embedding_index_train, 0))\n",
    "    data_train = data_train.reshape(-1, data_train.shape[-1])\n",
    "    token_ids_train = np.ravel(token_ids_train[:, 0])\n",
    "    weights_train = np.ravel(weights_train[:, 0])\n",
    "    data_train = data_train[~weights_train.mask]\n",
    "    token_ids_train = token_ids_train[~weights_train.mask]\n",
    "    weights_train = weights_train[~weights_train.mask]\n",
    "    # Sample without replacement (this avoids repeated data points), while ensuring approximately balanced sample\n",
    "    I = np.random.choice(len(data_train), size=len(data_train)//DOWNSAMPLE_FACTOR, p=weights_train/sum(weights_train), replace=False)\n",
    "    data_train = data_train[I]\n",
    "    token_ids_train = token_ids_train[I]\n",
    "    \n",
    "    data_validate = Dataset.EMBEDDINGS.get_orthogonal_selection((embedding_index_validate, 0))\n",
    "    data_validate = data_validate.reshape(-1, data_validate.shape[-1])\n",
    "    token_ids_validate = np.ravel(token_ids_validate[:, 0])\n",
    "    weights_validate = np.ravel(weights_validate[:, 0])\n",
    "    data_validate = data_validate[~weights_validate.mask]\n",
    "    token_ids_validate = token_ids_validate[~weights_validate.mask]\n",
    "    weights_validate = weights_validate[~weights_validate.mask]\n",
    "    # Sample with replacement (we don't require that data points are unique), while ensuring approximately balanced sample\n",
    "    I = np.random.choice(len(data_validate), size=len(data_validate)//DOWNSAMPLE_FACTOR, p=weights_validate/sum(weights_validate))\n",
    "    data_validate = data_validate[I]\n",
    "    token_ids_validate = token_ids_validate[I]\n",
    "    \n",
    "    dataset.umap.fit(data_train)\n",
    "    data_train_transformed = dataset.umap.transform(data_train)\n",
    "    \n",
    "    ann = neural_network.MLPRegressor(solver='adam', hidden_layer_sizes=(1024,1024,), verbose=True,\n",
    "                                      early_stopping=True, max_iter=1000, random_state=23)\n",
    "    ann.fit(data_train, data_train_transformed)\n",
    "        \n",
    "    knn = sklearn.neighbors.KNeighborsClassifier(n_neighbors=3)\n",
    "    knn.fit(ann.predict(data_train), token_ids_train)\n",
    "    score = knn.score(ann.predict(data_validate), token_ids_validate)\n",
    "\n",
    "    return score, ann"
   ]
  },
  {
   "cell_type": "markdown",
   "metadata": {},
   "source": [
    "Use UMAP to reduce the dimensionality of stream embeddings from 1024 to 4 dimensions:"
   ]
  },
  {
   "cell_type": "code",
   "execution_count": null,
   "metadata": {
    "scrolled": true
   },
   "outputs": [],
   "source": [
    "dataset0.umap = umap.UMAP(n_components=4, min_dist=0.99, n_neighbors=20, random_state=42, transform_seed=23)\n",
    "dataset0.score, dataset0.ann = train(dataset0)\n",
    "print(dataset0.score)"
   ]
  },
  {
   "cell_type": "markdown",
   "metadata": {},
   "source": [
    "For exploratory purposes, we furthermore use UMAP to reduce the dimensionality of stream embeddings from 1024 to 2 dimensions:"
   ]
  },
  {
   "cell_type": "code",
   "execution_count": null,
   "metadata": {
    "scrolled": true
   },
   "outputs": [],
   "source": [
    "dataset1.umap = umap.UMAP(n_components=2, min_dist=0.99, n_neighbors=20, random_state=42, transform_seed=23)\n",
    "dataset1.score, dataset1.ann = train(dataset1)\n",
    "print(dataset1.score)"
   ]
  },
  {
   "cell_type": "markdown",
   "metadata": {},
   "source": [
    "We observe that we are able to predict the token class of unseen feature vectors with a classification accuracy exceeding 90%. Given that we have 100 (alternatively 250) possible tokens, this result strongly suggests that dimensionality reduction preserves information about input tokens contained in the original stream embeddings."
   ]
  },
  {
   "cell_type": "markdown",
   "metadata": {},
   "source": [
    "Reduce the dimensionality of stream embeddings in the remaining training and testing subsets:"
   ]
  },
  {
   "cell_type": "code",
   "execution_count": null,
   "metadata": {},
   "outputs": [],
   "source": [
    "dataset0.project_embeddings(lambda em: dataset0.ann.predict(em) if len(em) > 0 else np.zeros((0, dataset0.umap.n_components)))\n",
    "dataset1.project_embeddings(lambda em: dataset1.ann.predict(em) if len(em) > 0 else np.zeros((0, dataset1.umap.n_components)))"
   ]
  },
  {
   "cell_type": "markdown",
   "metadata": {},
   "source": [
    "### Apply Random Projections Baseline"
   ]
  },
  {
   "cell_type": "markdown",
   "metadata": {},
   "source": [
    "As a baseline, randomly project the stream embeddings down to 2 (alternatively 4) dimensions:"
   ]
  },
  {
   "cell_type": "code",
   "execution_count": null,
   "metadata": {},
   "outputs": [],
   "source": [
    "np.random.seed(4)\n",
    "dataset2.projection_matrix = np.random.normal(size=(len(dataset2.projection_mean_offset), 2))\n",
    "dataset2.project_embeddings(lambda em: (em-dataset2.projection_mean_offset) @ dataset2.projection_matrix)"
   ]
  },
  {
   "cell_type": "code",
   "execution_count": null,
   "metadata": {},
   "outputs": [],
   "source": [
    "np.random.seed(4)\n",
    "dataset3.projection_matrix = np.random.normal(size=(len(dataset3.projection_mean_offset), 4))\n",
    "dataset3.project_embeddings(lambda em: (em-dataset3.projection_mean_offset) @ dataset3.projection_matrix)"
   ]
  },
  {
   "cell_type": "code",
   "execution_count": null,
   "metadata": {},
   "outputs": [],
   "source": [
    "with open(Path(DATASET_PATH, 'data', 'embedding_datasets.pkl'), 'wb') as f:\n",
    "    pickle.dump((dataset0, dataset1, dataset2, dataset3), f, protocol=pickle.HIGHEST_PROTOCOL)"
   ]
  },
  {
   "cell_type": "markdown",
   "metadata": {},
   "source": [
    "### Explore Dimensionality-Reduced Stream Embeddings"
   ]
  },
  {
   "cell_type": "code",
   "execution_count": null,
   "metadata": {
    "scrolled": false
   },
   "outputs": [],
   "source": [
    "def plot_encodings(dataset1, cluster_label_map=None, n_samples=3*10**5,\n",
    "                   dbscan_max_num_subclusters=3, dbscan_eps=0.3, include_labels=True):\n",
    "    \n",
    "    encodings = np.vstack([np.vstack(encodings) for encodings in dataset1.embeddings_projected_normal_train])\n",
    "    encodings = encodings[:, :2]\n",
    "    \n",
    "    cluster_assignments = np.ravel(dataset1.token_ids_normal_train)\n",
    "    cluster_assignments = cluster_assignments[~cluster_assignments.mask]\n",
    "\n",
    "    I = np.random.choice(len(cluster_assignments), size=n_samples)\n",
    "    cluster_assignments = cluster_assignments[I]\n",
    "    encodings = encodings[I]\n",
    "    \n",
    "    clusters = np.unique(cluster_assignments)\n",
    "    \n",
    "    cmap = matplotlib.cm.get_cmap(name='tab20b')\n",
    "    colors = cmap(np.linspace(0, 1, len(clusters)))\n",
    "    color_map = {k: colors[i] for i, k in enumerate(clusters)}\n",
    "\n",
    "    for c in cluster_assignments:\n",
    "        color_map[c]\n",
    "\n",
    "    scatter = plt.scatter(*encodings.T.tolist(), c=[color_map[c] for c in cluster_assignments],\n",
    "                          label=cluster_assignments, s=0.2, alpha=0.5)\n",
    "    \n",
    "    if include_labels:\n",
    "        for cluster, cluster_label in zip(clusters, range(1, len(clusters)+1)):\n",
    "            cluster_encodings = encodings[cluster_assignments == cluster]\n",
    "\n",
    "            sub_clustering = sklearn.cluster.DBSCAN(min_samples=len(cluster_encodings)//dbscan_max_num_subclusters,\n",
    "                                                    eps=dbscan_eps).fit(cluster_encodings)\n",
    "\n",
    "            for s in np.unique(sub_clustering.labels_):\n",
    "                sub_cluster_encodings = cluster_encodings[sub_clustering.labels_ == s]\n",
    "                plt.text(*np.mean(sub_cluster_encodings, axis=0),\n",
    "                         str(cluster_label), horizontalalignment='center', fontsize=6)\n",
    "            \n",
    "    if cluster_label_map:\n",
    "        props = dict(boxstyle='round', facecolor='wheat', alpha=0.5)\n",
    "        plt.gcf().text(0.92, 1.0, '\\n'.join([' '.join(['{}: {}'.format(n*2+1+i, cluster_label_map[c])\n",
    "                                              for i, c in enumerate(cs)])\n",
    "                                              for n, cs in enumerate(np.reshape(clusters, (-1, 2)))]),\n",
    "                       fontsize=5, verticalalignment='top', horizontalalignment='left', bbox=props)"
   ]
  },
  {
   "cell_type": "markdown",
   "metadata": {},
   "source": [
    "Plot the (2D) feature vectors comprising the dimensionality-reduced stream embeddings. For visualisation purposes, we apply a clustering algorithm to the subset of feature vectors associated with a given token. We then plot a label identifying the token at each cluster centroid. (Colours merely serve to better distinguish between tokens; note that there is a many-to-one mapping between tokens and colours, due to the limited palette.)"
   ]
  },
  {
   "cell_type": "code",
   "execution_count": null,
   "metadata": {
    "scrolled": false
   },
   "outputs": [],
   "source": [
    "plot_encodings(dataset1, cluster_label_map={t:tokenizer.decode(t).replace(' ', '·')\n",
    "                                            for t in dataset1.top_n_tokens_normal_train})"
   ]
  },
  {
   "cell_type": "markdown",
   "metadata": {},
   "source": [
    "As observed, UMAP strongly clusters feature vectors according to their associated input tokens. In addition, we observe some evidence that feature vectors are clustered together based on proximate meaning; from the legend, we see that:\n",
    "* Clusters corresponding to tokens 48 and 45 (*we* and *their*) are adjacent\n",
    "* Clusters corresponding to tokens 54 and 18 (*were* and *was*) are adjacent\n",
    "* Clusters corresponding to tokens 86 and 62 (*him* and *her*) are adjacent\n",
    "\n",
    "etc.\n",
    "\n",
    "By contrast, if we randomly project the stream embeddings, we observe no such clustering behaviour. Thus, UMAP-transformed stream embeddings appear to better preserve meaning compared to random projections."
   ]
  },
  {
   "cell_type": "code",
   "execution_count": null,
   "metadata": {},
   "outputs": [],
   "source": [
    "plot_encodings(dataset2, cluster_label_map={t:tokenizer.decode(t).replace(' ', '·') for t in dataset2.top_n_tokens_normal_train})"
   ]
  },
  {
   "cell_type": "markdown",
   "metadata": {},
   "source": [
    "Exploring the effect of projecting the stream embeddings down to 4 dimensions is slightly more challenging from a visualisation perspective. We adopt the following approach:\n",
    "* Partition the set of 250 tokens into training and testing subsets.\n",
    "* Using the feature vectors associated with the training subset, construct a K-nearest neighbour classifier, taking the tokens as labels.\n",
    "* For each token in the testing subset and for each associated feature vector, predict its token based on the feature vector.\n",
    "* For each token in the testing subset, display the most frequently predicted token alongside the relative number of times it was predicted."
   ]
  },
  {
   "cell_type": "code",
   "execution_count": null,
   "metadata": {},
   "outputs": [],
   "source": [
    "embeddings_projected_normal_train = np.vstack([np.vstack(encodings) for encodings in dataset0.embeddings_projected_normal_train])\n",
    "\n",
    "token_ids_normal_train = np.ravel(dataset0.token_ids_normal_train)\n",
    "token_ids_normal_train = token_ids_normal_train[~token_ids_normal_train.mask]\n",
    "\n",
    "np.random.seed(6)\n",
    "I = np.random.choice(len(token_ids_normal_train), size=10**6)\n",
    "embeddings_projected_normal_train = embeddings_projected_normal_train[I]\n",
    "token_ids_normal_train = token_ids_normal_train[I]\n",
    "\n",
    "token_ids_normal_train_map = {k:v for k, v in Counter(token_ids_normal_train).items()}\n",
    "token_ids_normal_train_map = {k:v for k, v in token_ids_normal_train_map.items() if v >= 100}\n",
    "\n",
    "_, token_ids_test = model_selection.train_test_split(list(token_ids_normal_train_map.keys()), test_size=100)\n",
    "I_train = [t not in set(token_ids_test) for t in token_ids_normal_train]\n",
    "I_test = [t in set(token_ids_test) for t in token_ids_normal_train]\n",
    "\n",
    "freqs = Counter(token_ids_normal_train[I_train])\n",
    "inverse_freqs = {k:1/v for k,v in freqs.items()}\n",
    "weights = np.array([inverse_freqs[c] for c in token_ids_normal_train[I_train]])\n",
    "I = np.random.choice(len(weights), size=len(weights), p=weights/sum(weights))"
   ]
  },
  {
   "cell_type": "code",
   "execution_count": null,
   "metadata": {},
   "outputs": [],
   "source": [
    "knn = sklearn.neighbors.KNeighborsClassifier(n_neighbors=10, weights='distance',\n",
    "                                             n_jobs=4).fit(embeddings_projected_normal_train[I_train][I],\n",
    "                                                           token_ids_normal_train[I_train][I])\n",
    "predicted_tokens = knn.predict(embeddings_projected_normal_train[I_test])"
   ]
  },
  {
   "cell_type": "code",
   "execution_count": null,
   "metadata": {},
   "outputs": [],
   "source": [
    "def display_predicted_tokens():\n",
    "    np.random.seed(5)\n",
    "    \n",
    "    predicted_tokens_map = {t: Counter(predicted_tokens[token_ids_normal_train[I_test] == t])\n",
    "                            for t in token_ids_test}\n",
    "    total_counts = {k: sum(v.values()) for k, v in predicted_tokens_map.items()}\n",
    "    \n",
    "    predicted_tokens_map = {tokenizer.decode(k).replace(' ', '·'): [(tokenizer.decode(t).replace(' ', '·'),\n",
    "                                                                     np.round(count/total_counts[k], 3))\n",
    "                                                                    for t, count in v.most_common(1)]\n",
    "                            for k, v, in predicted_tokens_map.items()}\n",
    "    \n",
    "    return predicted_tokens_map\n",
    "    \n",
    "predicted_tokens_map = display_predicted_tokens()"
   ]
  },
  {
   "cell_type": "code",
   "execution_count": null,
   "metadata": {
    "scrolled": false
   },
   "outputs": [],
   "source": [
    "df_nearest_neighbours = pd.DataFrame(predicted_tokens_map).T\n",
    "df_nearest_neighbours['Top Prediction'] = df_nearest_neighbours[0].apply(lambda t: t[0])\n",
    "df_nearest_neighbours['Score'] = df_nearest_neighbours[0].apply(lambda t: t[1])\n",
    "del df_nearest_neighbours[0]\n",
    "df_nearest_neighbours.sort_values(by='Score', inplace=True, ascending=False)\n",
    "\n",
    "pd.set_option('display.max_rows', df_nearest_neighbours.shape[0]+1)\n",
    "df_nearest_neighbours.index.name = 'Actual Label'\n",
    "df_nearest_neighbours[df_nearest_neighbours['Score'] > 0.5]"
   ]
  },
  {
   "cell_type": "markdown",
   "metadata": {},
   "source": [
    "From the preceding table, we observe additional evidence that when we apply UMAP, feature vectors whose associated tokens are distinct but share similar meaning are close in Euclidean space."
   ]
  },
  {
   "cell_type": "markdown",
   "metadata": {},
   "source": [
    "## Compute Path Signatures and Evaluate Anomaly Detection Performance"
   ]
  },
  {
   "cell_type": "markdown",
   "metadata": {},
   "source": [
    "Finally, we evaluate the performance of training an anomaly detector, where we represent each dimensionality-reduced stream embedding using its path signature. (As a preprocessing step, we apply the cumulative sum transformation to each dimensionality-reduced stream embedding.)\n",
    "\n",
    "Recall that we operate on chunks of text, each consisting of 512 tokens. To obtain a single anomaly score for a given work of interest $W$ (represented as multiple text chunks), we proceed as follows:\n",
    "* Compute signatures for all available dimensionality-reduced stream embeddings (with one signature for each chunk).\n",
    "* Use a random subset of signatures in the training corpus to train an anomaly detection model (isolation forest).\n",
    "* Use the remaining subset of signatures in the training corpus to calibrate the anomaly detector. Calibration is achieved by scoring each of the signatures and computing the empirical cumulative distribution of anomaly scores $F_1$.\n",
    "* Compute anomaly scores for each of the signatures corresponding to the work of interest $W$. The set of scores specifies an empirical cumulative distribution of anomaly scores $F_2$.\n",
    "* Apply a (one-sided) Kolmogorov-Smirnoff test to distributions $F_1$, $F_2$. Use the resulting p value to decide whether to treat the work of interest $W$ as anomalous."
   ]
  },
  {
   "cell_type": "code",
   "execution_count": null,
   "metadata": {},
   "outputs": [],
   "source": [
    "class IFScorer():\n",
    "    NAME = 'IsoFor'\n",
    "    def __init__(self):\n",
    "        self.model = ensemble.IsolationForest()\n",
    "\n",
    "    def fit(self, normal_signatures_train):        \n",
    "        self.model.fit(normal_signatures_train)\n",
    "        \n",
    "    def score_samples(self, signatures):\n",
    "        return self.model.score_samples(signatures)"
   ]
  },
  {
   "cell_type": "code",
   "execution_count": null,
   "metadata": {},
   "outputs": [],
   "source": [
    "def compute_signature(path, truncation_level=2, cumsum_transform=True):\n",
    "    path = np.vstack((np.zeros((2, path.shape[1])), path))\n",
    "        \n",
    "    if cumsum_transform:\n",
    "        path = np.cumsum(path, axis=0)\n",
    "\n",
    "    signature = iisignature.sig(path, truncation_level)\n",
    "        \n",
    "    return signature\n",
    "\n",
    "def compute_signatures(paths, truncation_level):\n",
    "    signatures = {i: np.atleast_2d([compute_signature(q, truncation_level) for q in p])\n",
    "                      for i, p in enumerate(paths)}\n",
    "    \n",
    "    return pd.Series(signatures)"
   ]
  },
  {
   "cell_type": "code",
   "execution_count": null,
   "metadata": {},
   "outputs": [],
   "source": [
    "def compute_anomaly_scores(truncation_level=1,\n",
    "                           random_seed=4,\n",
    "                           scoring_classes=(IFScorer,),\n",
    "                           normal_paths_train=None,\n",
    "                           normal_paths_test=None,\n",
    "                           anomalous_paths={'fr': None,\n",
    "                                            'de': None},\n",
    "                           max_train_size=100,\n",
    "                           max_test_size=100):\n",
    "\n",
    "    def _compute_signatures(paths):\n",
    "        return compute_signatures(paths, truncation_level)\n",
    "\n",
    "    np.random.seed(random_seed)\n",
    "\n",
    "    def random_sample(paths, max_size):\n",
    "        N = len(paths)\n",
    "        I = np.random.choice(N, size=min([N, max_size]), replace=False)\n",
    "        \n",
    "        return [paths[i] for i in I if len(paths[i]) > 0]\n",
    "    \n",
    "    normal_paths_train = random_sample(normal_paths_train, max_train_size)\n",
    "    \n",
    "    normal_paths_test = random_sample(normal_paths_test, max_test_size)    \n",
    "    anomalous_paths = {lang: random_sample(paths, max_test_size) for lang, paths in anomalous_paths.items()}\n",
    "    \n",
    "    normal_signatures_train = _compute_signatures(normal_paths_train)\n",
    "    normal_signatures_train = np.array(normal_signatures_train.values.tolist())\n",
    "        \n",
    "    normal_signatures_test = np.array(_compute_signatures(normal_paths_test).values.tolist())\n",
    "    normal_signatures_test, normal_signatures_test__score_calibration = \\\n",
    "        model_selection.train_test_split(normal_signatures_test, train_size=0.5)\n",
    "    anomalous_signatures = {lang: _compute_signatures(paths) for lang, paths in anomalous_paths.items()}\n",
    "        \n",
    "    scores_normal = {}\n",
    "    scores_anomalous = {}\n",
    "    for score_class in scoring_classes:\n",
    "        model = score_class()\n",
    "        model.fit(normal_signatures_train.reshape(-1, normal_signatures_train.shape[-1]))\n",
    "        \n",
    "        raw_scorer = lambda samples: model.score_samples(samples.reshape(-1, normal_signatures_train.shape[-1])).reshape(-1, 10)\n",
    "        calibration_scores = sorted(np.ravel(raw_scorer(normal_signatures_test__score_calibration)))\n",
    "        probability_scorer = lambda samples: [scipy.stats.ks_2samp(calibration_scores, score_block, mode='exact', alternative='less').pvalue for score_block in raw_scorer(samples)]\n",
    "        \n",
    "        scores_normal[score_class.NAME] = probability_scorer(normal_signatures_test)\n",
    "        scores_anomalous[score_class.NAME] = \\\n",
    "            {'_'.join((model.NAME, lang)): probability_scorer(np.array(sigs.values.tolist()))\n",
    "                            for lang, sigs in anomalous_signatures.items()}\n",
    "    \n",
    "    return scores_normal, scores_anomalous, normal_signatures_train.shape[-1]"
   ]
  },
  {
   "cell_type": "markdown",
   "metadata": {},
   "source": [
    "Apply UMAP to stream embeddings (considering 250 most frequent tokens) to obtain 4-dimensional stream embeddings, then compute signatures up to level 4:"
   ]
  },
  {
   "cell_type": "code",
   "execution_count": null,
   "metadata": {},
   "outputs": [],
   "source": [
    "def evaluate_anomaly_scores_vs_signature_length(normal_paths_train, normal_paths_test, anomalous_paths,\n",
    "                                                truncation_level=range(1, 5), n_repetitions=1):\n",
    "    results = defaultdict(dict)\n",
    "    for l in truncation_level:\n",
    "        print('Computing scores for signature level {}'.format(l))\n",
    "        results['no_projection'][l] = [compute_anomaly_scores(truncation_level=l,\n",
    "                                                              normal_paths_train=normal_paths_train,\n",
    "                                                              normal_paths_test=normal_paths_test,\n",
    "                                                              anomalous_paths=anomalous_paths,\n",
    "                                                              max_train_size=10**8, max_test_size=1000)\n",
    "                                                              for i in range(n_repetitions)]\n",
    "\n",
    "    return results\n",
    "\n",
    "dataset0.results = evaluate_anomaly_scores_vs_signature_length(dataset0.embeddings_projected_normal_train,\n",
    "                                                               dataset0.embeddings_projected_normal_eval,\n",
    "                                                             {'impostor': dataset0.embeddings_projected_impostor})\n",
    "\n",
    "with open('results0.pkl', 'wb') as f:\n",
    "    pickle.dump(dataset0.results, f)"
   ]
  },
  {
   "cell_type": "markdown",
   "metadata": {},
   "source": [
    "Quantify performance using receiver operating characteristic area under the curve (ROCAUC):"
   ]
  },
  {
   "cell_type": "code",
   "execution_count": null,
   "metadata": {
    "scrolled": false
   },
   "outputs": [],
   "source": [
    "def plot_roc(results):\n",
    "    def _plot_results(ax, normal_scores, anomalous_scores):\n",
    "        \n",
    "        for scoring_method in anomalous_scores.keys():\n",
    "            all_labels, all_scores = list(zip(*list(anomalous_scores[scoring_method].items())))\n",
    "\n",
    "            for label, anomalous_scores_subset in zip(all_labels, all_scores):\n",
    "                tpr_all = []; roc_all = []\n",
    "                base_fpr = np.linspace(0, 1, 101)\n",
    "\n",
    "                fpr, tpr, _ = metrics.roc_curve([False] * len(normal_scores[scoring_method]) + [True] * len(anomalous_scores_subset),\n",
    "                                                 -1 * np.append(normal_scores[scoring_method], anomalous_scores_subset))\n",
    "                roc = metrics.auc(fpr, tpr)\n",
    "                tpr = np.interp(base_fpr, fpr, tpr)\n",
    "\n",
    "                tpr_all.append(tpr)\n",
    "                roc_all.append(roc)\n",
    "\n",
    "                ax.plot(base_fpr, np.mean(tpr_all, axis=0), lw=2,\n",
    "                        label='{} AUC M {:.4f}'.format(label, np.mean(roc_all)))\n",
    "        ax.legend()\n",
    "    \n",
    "    levels = results.keys()\n",
    "        \n",
    "    _, axs = plt.subplots(nrows=len(set(levels)), ncols=1, figsize=(8, 25), sharey=True)\n",
    "    \n",
    "    for j, level in zip(range(len(set(levels))), sorted(set(levels))):\n",
    "        _plot_results(axs[j], results[level][0][0], results[level][0][1])\n",
    "        axs[j].set_title('Level {}\\n(Mean ROC)'.format(level))\n",
    "\n",
    "plot_roc(dataset0.results['no_projection'])"
   ]
  },
  {
   "cell_type": "markdown",
   "metadata": {},
   "source": [
    "As observed, using signatures truncated at level 4, we obtain an ROCAUC of 92%."
   ]
  },
  {
   "cell_type": "markdown",
   "metadata": {},
   "source": [
    "Next, evaluate the alternative approach of applying UMAP to stream embeddings (but considering 100 most frequent tokens) to obtain 2-dimensional stream embeddings, then computing signatures up to level 4:"
   ]
  },
  {
   "cell_type": "code",
   "execution_count": null,
   "metadata": {},
   "outputs": [],
   "source": [
    "dataset1.results = evaluate_anomaly_scores_vs_signature_length(dataset1.embeddings_projected_normal_train,\n",
    "                                                               dataset1.embeddings_projected_normal_eval,\n",
    "                                                             {'impostor': dataset1.embeddings_projected_impostor})"
   ]
  },
  {
   "cell_type": "code",
   "execution_count": null,
   "metadata": {
    "scrolled": false
   },
   "outputs": [],
   "source": [
    "plot_roc(dataset1.results['no_projection'])"
   ]
  },
  {
   "cell_type": "markdown",
   "metadata": {},
   "source": [
    "As observed, performance using 250 most frequent tokens is superior to that when using 100 most frequent tokens (92% vs. 69% ROCAUC)."
   ]
  },
  {
   "cell_type": "markdown",
   "metadata": {},
   "source": [
    "Finally, compare results using UMAP to the random projections baseline (considering 250 most frequent tokens):"
   ]
  },
  {
   "cell_type": "code",
   "execution_count": null,
   "metadata": {},
   "outputs": [],
   "source": [
    "dataset3.results = evaluate_anomaly_scores_vs_signature_length(dataset3.embeddings_projected_normal_train,\n",
    "                                                               dataset3.embeddings_projected_normal_eval,\n",
    "                                                             {'impostor': dataset3.embeddings_projected_impostor})"
   ]
  },
  {
   "cell_type": "code",
   "execution_count": null,
   "metadata": {
    "scrolled": false
   },
   "outputs": [],
   "source": [
    "plot_roc(dataset3.results['no_projection'])"
   ]
  }
 ],
 "metadata": {
  "kernelspec": {
   "display_name": "Python 3 (ipykernel)",
   "language": "python",
   "name": "python3"
  },
  "language_info": {
   "codemirror_mode": {
    "name": "ipython",
    "version": 3
   },
   "file_extension": ".py",
   "mimetype": "text/x-python",
   "name": "python",
   "nbconvert_exporter": "python",
   "pygments_lexer": "ipython3",
   "version": "3.9.7"
  }
 },
 "nbformat": 4,
 "nbformat_minor": 4
}
